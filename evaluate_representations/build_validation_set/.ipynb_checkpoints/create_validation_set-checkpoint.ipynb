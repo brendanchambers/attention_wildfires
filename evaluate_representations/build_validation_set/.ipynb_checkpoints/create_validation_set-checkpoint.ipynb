{
 "cells": [
  {
   "cell_type": "markdown",
   "metadata": {},
   "source": [
    "# Create a subset of the pubmed dataset\n",
    "## to validate latent semantic representations\n"
   ]
  },
  {
   "cell_type": "code",
   "execution_count": 14,
   "metadata": {},
   "outputs": [],
   "source": [
    "# load modules\n",
    "\n",
    "import mysql.connector as mysql\n",
    "import time\n",
    "import csv"
   ]
  },
  {
   "cell_type": "code",
   "execution_count": 15,
   "metadata": {},
   "outputs": [],
   "source": [
    "# define some distinct journals to use as labeled validation data\n",
    "\n",
    "path = '/project2/jevans/brendan/pubmed_data/processing/validation_sets/'\n",
    "\n",
    "journals = ['J. Neurophysiol.', 'Neuroimage']  # journals = ['Brain Res.', 'J. Virol.']\n",
    "validation_set_name = path + 'jneurophysiol_vs_neuroimage.csv'"
   ]
  },
  {
   "cell_type": "code",
   "execution_count": 16,
   "metadata": {},
   "outputs": [],
   "source": [
    "# configure mysql\n",
    "\n",
    "client_config = {'unix_socket':'/home/brendanchambers/.sql.sock',\n",
    "                            'database':'test_pubmed',\n",
    "                            'use_pure':True}"
   ]
  },
  {
   "cell_type": "markdown",
   "metadata": {},
   "source": [
    "# gather the (pmid, title, abstract) tuples"
   ]
  },
  {
   "cell_type": "code",
   "execution_count": null,
   "metadata": {},
   "outputs": [
    {
     "name": "stdout",
     "output_type": "stream",
     "text": [
      "SELECT abstracts.pmid, abstracts.title, abstracts.abstract\n",
      "            FROM metadata\n",
      "            JOIN abstracts ON metadata.pmid=abstracts.pmid\n",
      "            WHERE metadata.journal = 'J. Neurophysiol.' \n",
      "journals enumerated in 0.6019093990325928 s\n",
      "SELECT abstracts.pmid, abstracts.title, abstracts.abstract\n",
      "            FROM metadata\n",
      "            JOIN abstracts ON metadata.pmid=abstracts.pmid\n",
      "            WHERE metadata.journal = 'Neuroimage' \n"
     ]
    }
   ],
   "source": [
    "db = mysql.connect(**client_config)\n",
    "data_chunk = []\n",
    "for i_journal, journal in enumerate(journals):\n",
    "\n",
    "    start_time = time.time()\n",
    "\n",
    "    sql = '''SELECT abstracts.pmid, abstracts.title, abstracts.abstract\n",
    "            FROM metadata\n",
    "            JOIN abstracts ON metadata.pmid=abstracts.pmid\n",
    "            WHERE metadata.journal = '{}' '''.format(journal)\n",
    "    print(sql)\n",
    "\n",
    "    cursor = db.cursor()\n",
    "    cursor.execute(sql)\n",
    "    results = cursor.fetchall()\n",
    "    cursor.close()\n",
    "    \n",
    "    for row in results:\n",
    "        data_chunk.append(row)\n",
    "\n",
    "    end_time = time.time()\n",
    "    print(\"journals enumerated in {} s\".format(end_time - start_time))\n",
    "        \n",
    "db.close()\n",
    "\n",
    "WARN_LIMIT = 600000  # if the csv file is really big, warn\n",
    "if len(data_chunk) > WARN_LIMIT:\n",
    "    print('WARNING MORTAL--your data subset is quite large')"
   ]
  },
  {
   "cell_type": "markdown",
   "metadata": {},
   "source": [
    "# write to CSV"
   ]
  },
  {
   "cell_type": "code",
   "execution_count": null,
   "metadata": {},
   "outputs": [],
   "source": [
    "print('writing chunk to file...')\n",
    "\n",
    "with open(validation_set_name,'w') as f:\n",
    "    csv_out = csv.writer(f, delimiter=' ')\n",
    "    csv_out.writerow(['pmid','title','abstract'])\n",
    "    for row_ in data_chunk:\n",
    "        csv_out.writerow(row_)\n",
    "\n",
    "print('elapsed time: {}'.format(time.time() - start_time))"
   ]
  },
  {
   "cell_type": "code",
   "execution_count": null,
   "metadata": {},
   "outputs": [],
   "source": []
  },
  {
   "cell_type": "code",
   "execution_count": null,
   "metadata": {},
   "outputs": [],
   "source": []
  }
 ],
 "metadata": {
  "kernelspec": {
   "display_name": "Python 3",
   "language": "python",
   "name": "python3"
  },
  "language_info": {
   "codemirror_mode": {
    "name": "ipython",
    "version": 3
   },
   "file_extension": ".py",
   "mimetype": "text/x-python",
   "name": "python",
   "nbconvert_exporter": "python",
   "pygments_lexer": "ipython3",
   "version": "3.7.3"
  }
 },
 "nbformat": 4,
 "nbformat_minor": 2
}

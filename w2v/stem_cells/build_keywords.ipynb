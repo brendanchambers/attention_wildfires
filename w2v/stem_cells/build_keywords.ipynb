{
 "cells": [
  {
   "cell_type": "code",
   "execution_count": 1,
   "metadata": {},
   "outputs": [],
   "source": [
    "\n",
    "\n",
    "\n",
    "# crawl outward to build a keyword list for stem cell papers"
   ]
  },
  {
   "cell_type": "code",
   "execution_count": 1,
   "metadata": {},
   "outputs": [],
   "source": [
    "import gensim\n",
    "import spacy\n",
    "\n",
    "import csv\n",
    "import time\n",
    "import numpy as np"
   ]
  },
  {
   "cell_type": "code",
   "execution_count": 2,
   "metadata": {},
   "outputs": [],
   "source": [
    "run_locally = True  # set this switch for RCC vs laptop mode\n",
    "\n",
    "if run_locally:\n",
    "    path2bin = '~/Dropbox/Data/w2v/'\n",
    "    pubmed_w2v = path2bin + 'PubMed-and-PMC-w2v.bin'\n",
    "else:\n",
    "    path2bin = '/project2/jevans/brendan/w2v/pretrained/'\n",
    "    #pubmed_w2v = path2bin + 'PubMed-w2v.bin'\n",
    "    #pubmed_w2v = path2bin + 'PubMed-and-PMC-w2v.bin'\n",
    "    pubmed_w2v = path2bin + 'wikipedia-pubmed-and-PMC-w2v.bin'\n",
    "    \n",
    "    "
   ]
  },
  {
   "cell_type": "code",
   "execution_count": 4,
   "metadata": {},
   "outputs": [],
   "source": [
    "# load the pretrained word vectors (trained on biomedical data)\n",
    "model = gensim.models.KeyedVectors.load_word2vec_format(\n",
    "    pubmed_w2v, binary=True)\n",
    "\n",
    "# prepare a tokenizer to process the abstracts\n",
    "nlp = spacy.load(\"en_core_web_sm\")\n",
    "#nlp = spacy.load(\"en_core_sci_sm\")  # load scispacy\n",
    "#tokenizer = nlp.Defaults.create_tokenizer(nlp)  # ideally would want to use the scispacy version\n"
   ]
  },
  {
   "cell_type": "code",
   "execution_count": 10,
   "metadata": {},
   "outputs": [
    {
     "name": "stdout",
     "output_type": "stream",
     "text": [
      "\"word 'stem cell' not in vocabulary\"\n",
      "['stem', 'cell', 'pluripotent']\n",
      "200\n"
     ]
    }
   ],
   "source": [
    "\n",
    "words2try = ['stem', 'cell', 'stem cell', 'pluripotent']\n",
    "in_vocab = []\n",
    "for word in words2try:\n",
    "    \n",
    "    try:\n",
    "        v = model.word_vec(word)\n",
    "        in_vocab.append(word)\n",
    "    except Exception as e:\n",
    "        print(e)\n",
    "    \n",
    "print(in_vocab)\n",
    "    \n",
    "\n",
    "\n",
    "\n",
    "# get dimensionality\n",
    "D = np.shape(model.word_vec('cell'))[0]\n",
    "print(D)\n",
    "\n",
    "\n",
    "# find neighbors\n",
    "\n"
   ]
  },
  {
   "cell_type": "code",
   "execution_count": 2,
   "metadata": {},
   "outputs": [],
   "source": [
    "\n",
    "\n",
    "# step 2 build a list of papers  by filtering on keywords in title/abstracts\n",
    "\n",
    "\n"
   ]
  },
  {
   "cell_type": "code",
   "execution_count": 3,
   "metadata": {},
   "outputs": [],
   "source": [
    "# step 3  build the neighborhood of cited and citing work\n",
    "\n",
    "\n"
   ]
  },
  {
   "cell_type": "code",
   "execution_count": null,
   "metadata": {},
   "outputs": [],
   "source": [
    "# step 4 map retractions into the network, and score nodes based on closeness"
   ]
  }
 ],
 "metadata": {
  "kernelspec": {
   "display_name": "Python 3",
   "language": "python",
   "name": "python3"
  },
  "language_info": {
   "codemirror_mode": {
    "name": "ipython",
    "version": 3
   },
   "file_extension": ".py",
   "mimetype": "text/x-python",
   "name": "python",
   "nbconvert_exporter": "python",
   "pygments_lexer": "ipython3",
   "version": "3.7.1"
  }
 },
 "nbformat": 4,
 "nbformat_minor": 2
}

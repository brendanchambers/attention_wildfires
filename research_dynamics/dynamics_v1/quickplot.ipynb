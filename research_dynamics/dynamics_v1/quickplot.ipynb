{
 "cells": [
  {
   "cell_type": "code",
   "execution_count": null,
   "metadata": {},
   "outputs": [],
   "source": [
    "year_pubs_path = 'year_pubs_test.json'"
   ]
  },
  {
   "cell_type": "code",
   "execution_count": null,
   "metadata": {},
   "outputs": [],
   "source": []
  },
  {
   "cell_type": "code",
   "execution_count": 1,
   "metadata": {},
   "outputs": [
    {
     "ename": "NameError",
     "evalue": "name 'start_year' is not defined",
     "output_type": "error",
     "traceback": [
      "\u001b[0;31m---------------------------------------------------------------------------\u001b[0m",
      "\u001b[0;31mNameError\u001b[0m                                 Traceback (most recent call last)",
      "\u001b[0;32m<ipython-input-1-f7f1165a8035>\u001b[0m in \u001b[0;36m<module>\u001b[0;34m\u001b[0m\n\u001b[1;32m      5\u001b[0m                        figsize=(4,12))\n\u001b[1;32m      6\u001b[0m \u001b[0;34m\u001b[0m\u001b[0m\n\u001b[0;32m----> 7\u001b[0;31m \u001b[0;32mfor\u001b[0m \u001b[0mi_year\u001b[0m\u001b[0;34m,\u001b[0m \u001b[0myear\u001b[0m \u001b[0;32min\u001b[0m \u001b[0menumerate\u001b[0m\u001b[0;34m(\u001b[0m\u001b[0mrange\u001b[0m\u001b[0;34m(\u001b[0m\u001b[0mstart_year\u001b[0m\u001b[0;34m,\u001b[0m \u001b[0mend_year\u001b[0m\u001b[0;34m+\u001b[0m\u001b[0;36m1\u001b[0m\u001b[0;34m)\u001b[0m\u001b[0;34m)\u001b[0m\u001b[0;34m:\u001b[0m\u001b[0;34m\u001b[0m\u001b[0;34m\u001b[0m\u001b[0m\n\u001b[0m\u001b[1;32m      8\u001b[0m \u001b[0;34m\u001b[0m\u001b[0m\n\u001b[1;32m      9\u001b[0m     \u001b[0mprint\u001b[0m\u001b[0;34m(\u001b[0m\u001b[0mi_year\u001b[0m\u001b[0;34m,\u001b[0m \u001b[0myear\u001b[0m\u001b[0;34m)\u001b[0m\u001b[0;34m\u001b[0m\u001b[0;34m\u001b[0m\u001b[0m\n",
      "\u001b[0;31mNameError\u001b[0m: name 'start_year' is not defined"
     ]
    }
   ],
   "source": [
    "def plot_pubs_and_cites(start_year, end_year):\n",
    "    (f, ax) = plt.subplots(end_year - start_year + 1,\n",
    "                       2,\n",
    "                       sharex='all', sharey='all',\n",
    "                       figsize=(4,12))\n",
    "\n",
    "for i_year, year in enumerate(range(start_year, end_year+1)):\n",
    "    \n",
    "    print(i_year, year)\n",
    "\n",
    "    sns.kdeplot(year_pubs[year][:,0],\n",
    "                year_pubs[year][:,1],\n",
    "                ax=ax[i_year,0],\n",
    "                shade=True,\n",
    "                cmap='Blues')\n",
    "    ax[i_year,0].set_title('published: year {}'.format(year))\n",
    "    \n",
    "    \n",
    "    sns.kdeplot(year_cites[year][:,0],\n",
    "                year_cites[year][:,1],\n",
    "                ax=ax[i_year,1],\n",
    "                shade=True,\n",
    "                cmap='Reds')\n",
    "    ax[i_year,1].set_title('cited: {}'.format(year))\n",
    "    \n",
    "plt.savefig('publications and citations prototype {} - {}.png'.format(start_year, end_year))\n",
    "plt.savefig('publications and citations prototype {} - {}.svg'.format(start_year, end_year))\n",
    "plt.show()"
   ]
  },
  {
   "cell_type": "code",
   "execution_count": null,
   "metadata": {},
   "outputs": [],
   "source": [
    "plot_pubs_and_cites(2000,2000)"
   ]
  }
 ],
 "metadata": {
  "kernelspec": {
   "display_name": "Python 3",
   "language": "python",
   "name": "python3"
  }
 },
 "nbformat": 4,
 "nbformat_minor": 2
}

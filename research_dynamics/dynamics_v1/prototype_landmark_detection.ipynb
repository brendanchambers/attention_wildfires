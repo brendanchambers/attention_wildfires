{
 "cells": [
  {
   "cell_type": "code",
   "execution_count": 1,
   "metadata": {},
   "outputs": [
    {
     "name": "stderr",
     "output_type": "stream",
     "text": [
      "/home/brendanchambers/.conda/envs/embedding-base/lib/python3.7/site-packages/sklearn/externals/six.py:31: DeprecationWarning: The module is deprecated in version 0.21 and will be removed in version 0.23 since we've dropped support for Python 2.7. Please rely on the official version of six (https://pypi.org/project/six/).\n",
      "  \"(https://pypi.org/project/six/).\", DeprecationWarning)\n",
      "/home/brendanchambers/.conda/envs/embedding-base/lib/python3.7/site-packages/sklearn/externals/joblib/__init__.py:15: DeprecationWarning: sklearn.externals.joblib is deprecated in 0.21 and will be removed in 0.23. Please import this functionality directly from joblib, which can be installed with: pip install joblib. If this warning is raised when loading pickled models, you may need to re-serialize those models with scikit-learn 0.21+.\n",
      "  warnings.warn(msg, category=DeprecationWarning)\n"
     ]
    }
   ],
   "source": [
    "# check year 1975, unpack the density blossom\n",
    "\n",
    "\n",
    "import json\n",
    "import mysql.connector as mysql\n",
    "import pickle\n",
    "\n",
    "import numpy as np\n",
    "#import umap  # oh no this won't play well with mysqlclient (MySQLdb)\n",
    "\n",
    "from scipy import spatial\n",
    "import matplotlib.pyplot as plt\n",
    "import seaborn as sns\n",
    "\n",
    "import time\n",
    "import hdbscan"
   ]
  },
  {
   "cell_type": "code",
   "execution_count": 2,
   "metadata": {},
   "outputs": [],
   "source": [
    "top_level_path = '/project2/jevans/brendan/pubmed_data_processing/year_pmids/'\n",
    "pubs_dir = top_level_path + 'publication_embeddings/'\n",
    "cites_dir = top_level_path + 'citation_embeddings/'"
   ]
  },
  {
   "cell_type": "markdown",
   "metadata": {},
   "source": [
    "# load the embeddings for a single year\n",
    "  these are in csv files for convenience \\\n",
    "  but the files get really huge for recent years"
   ]
  },
  {
   "cell_type": "code",
   "execution_count": 3,
   "metadata": {},
   "outputs": [
    {
     "name": "stdout",
     "output_type": "stream",
     "text": [
      "1989\n",
      "dict_keys(['pmids', 'embeddings'])\n",
      "dict_keys(['pmids', 'embeddings'])\n"
     ]
    }
   ],
   "source": [
    "\n",
    "\n",
    "year = 1989\n",
    "print(year)\n",
    "\n",
    "pubs_path = pubs_dir + str(year) + '.json'\n",
    "cites_path = cites_dir + str(year) + '.json'\n",
    "\n",
    "with open(pubs_path, 'r') as f:\n",
    "    pub_data = json.load(f)   \n",
    "    \n",
    "print(pub_data.keys())\n",
    "\n",
    "with open(cites_path, 'r') as f:\n",
    "    cite_data = json.load(f)\n",
    "print(cite_data.keys())"
   ]
  },
  {
   "cell_type": "markdown",
   "metadata": {},
   "source": [
    "# take a sample"
   ]
  },
  {
   "cell_type": "code",
   "execution_count": 6,
   "metadata": {},
   "outputs": [
    {
     "name": "stdout",
     "output_type": "stream",
     "text": [
      "full data (pubs, cites): 268430 741188\n",
      "sample size (pubs, cites): 10000 25000\n",
      "\n",
      "cleaning up...\n"
     ]
    }
   ],
   "source": [
    "K_pubs = 10000 # k samples\n",
    "K_cites = 25000\n",
    "\n",
    "L_pubs = np.shape(pub_data['embeddings'])[0]\n",
    "# sample publications\n",
    "P_idxs = np.random.choice(L_pubs, K_pubs, replace=False)\n",
    "P_embeddings = np.array(pub_data['embeddings'])[P_idxs, :]\n",
    "P_pmids = np.array(pub_data['pmids'])[P_idxs]\n",
    "\n",
    "L_cites = np.shape(cite_data['embeddings'])[0]\n",
    "# sample citations\n",
    "C_idxs = np.random.choice(L_cites, K_cites, replace=False)\n",
    "C_embeddings = np.array(cite_data['embeddings'])[C_idxs, :]\n",
    "C_pmids = np.array(cite_data['pmids'])[C_idxs]\n",
    "\n",
    "print(\"full data (pubs, cites): {} {}\".format(L_pubs, L_cites))\n",
    "print(\"sample size (pubs, cites): {} {}\".format(K_pubs, K_cites))\n",
    "print()\n",
    "\n",
    "print('cleaning up...')\n",
    "del pub_data\n",
    "del cite_data"
   ]
  },
  {
   "cell_type": "markdown",
   "metadata": {},
   "source": [
    "# plot the densities \n",
    "\n",
    "for reference and for fun"
   ]
  },
  {
   "cell_type": "code",
   "execution_count": 7,
   "metadata": {},
   "outputs": [],
   "source": [
    "# load pretrained umap--\n",
    "\n",
    "umap_path = \"/project2/jevans/brendan/pubmed_data_processing/\"+\\\n",
    "            \"dimensionality_reduction_models/umap2D/umap_model0.pkl\" # expects 768 D vectors\n",
    " \n",
    "with open(umap_path, 'rb') as file:\n",
    "    umap_model = pickle.load(file)\n"
   ]
  },
  {
   "cell_type": "code",
   "execution_count": 8,
   "metadata": {
    "scrolled": true
   },
   "outputs": [
    {
     "name": "stderr",
     "output_type": "stream",
     "text": [
      "/home/brendanchambers/.conda/envs/embedding-base/lib/python3.7/site-packages/numba/compiler.py:602: NumbaPerformanceWarning: \n",
      "The keyword argument 'parallel=True' was specified but no transformation for parallel execution was possible.\n",
      "\n",
      "To find out why, try turning on parallel diagnostics, see http://numba.pydata.org/numba-doc/latest/user/parallel.html#diagnostics for help.\n",
      "\n",
      "File \"../../../../.conda/envs/embedding-base/lib/python3.7/site-packages/umap/nndescent.py\", line 124:\n",
      "    @numba.njit(parallel=True)\n",
      "    def init_from_random(n_neighbors, data, query_points, heap, rng_state):\n",
      "    ^\n",
      "\n",
      "  self.func_ir.loc))\n",
      "/home/brendanchambers/.conda/envs/embedding-base/lib/python3.7/site-packages/numba/compiler.py:602: NumbaPerformanceWarning: \n",
      "The keyword argument 'parallel=True' was specified but no transformation for parallel execution was possible.\n",
      "\n",
      "To find out why, try turning on parallel diagnostics, see http://numba.pydata.org/numba-doc/latest/user/parallel.html#diagnostics for help.\n",
      "\n",
      "File \"../../../../.conda/envs/embedding-base/lib/python3.7/site-packages/umap/nndescent.py\", line 135:\n",
      "    @numba.njit(parallel=True)\n",
      "    def init_from_tree(tree, data, query_points, heap, rng_state):\n",
      "    ^\n",
      "\n",
      "  self.func_ir.loc))\n"
     ]
    },
    {
     "data": {
      "text/plain": [
       "Text(0.5, 1.0, 'sample, cited: year 1989')"
      ]
     },
     "execution_count": 8,
     "metadata": {},
     "output_type": "execute_result"
    },
    {
     "data": {
      "image/png": "[encoded data removed]",
      "text/plain": [
       "<Figure size 720x288 with 2 Axes>"
      ]
     },
     "metadata": {
      "needs_background": "light"
     },
     "output_type": "display_data"
    }
   ],
   "source": [
    "# transform the sample publications and citations\n",
    "\n",
    "um_pubs = umap_model.transform(P_embeddings)\n",
    "um_cites = umap_model.transform(C_embeddings)\n",
    "\n",
    "# plot\n",
    "(f, ax) = plt.subplots(1,\n",
    "                       2,\n",
    "                       sharex='all', sharey='all',\n",
    "                       figsize=(10,4))\n",
    "\n",
    "sns.kdeplot(um_pubs[:,0], # these are pca'd\n",
    "            um_pubs[:,1],\n",
    "            ax=ax[0],\n",
    "            shade=True,\n",
    "            cmap='Blues')\n",
    "ax[0].set_title('sample, published: year {}'.format(year))\n",
    "\n",
    "\n",
    "sns.kdeplot(um_cites[:,0], # these are pca'd\n",
    "            um_cites[:,1],\n",
    "            ax=ax[1],\n",
    "            shade=True,\n",
    "            cmap='Reds')\n",
    "ax[1].set_title('sample, cited: year {}'.format(year))\n"
   ]
  },
  {
   "cell_type": "markdown",
   "metadata": {},
   "source": [
    "# test hdbscan on publications"
   ]
  },
  {
   "cell_type": "code",
   "execution_count": 20,
   "metadata": {},
   "outputs": [
    {
     "name": "stdout",
     "output_type": "stream",
     "text": [
      "num clusters: 7\n"
     ]
    }
   ],
   "source": [
    "clusterer = hdbscan.HDBSCAN(min_cluster_size=200,\n",
    "                            min_samples=30,\n",
    "                            cluster_selection_method='leaf')  # euclidean distance\n",
    "clusterer.fit(um_pubs)  # samples x features\n",
    "\n",
    "# number of clusters\n",
    "print('num clusters: {}'.format(clusterer.labels_.max()))\n"
   ]
  },
  {
   "cell_type": "code",
   "execution_count": 18,
   "metadata": {},
   "outputs": [
    {
     "data": {
      "image/png": "[encoded data removed]",
      "text/plain": [
       "<Figure size 288x216 with 2 Axes>"
      ]
     },
     "metadata": {
      "needs_background": "light"
     },
     "output_type": "display_data"
    },
    {
     "data": {
      "image/png": "[encoded data removed]",
      "text/plain": [
       "<Figure size 288x216 with 2 Axes>"
      ]
     },
     "metadata": {
      "needs_background": "light"
     },
     "output_type": "display_data"
    }
   ],
   "source": [
    "\n",
    "# plot clusters\n",
    "plt.figure(figsize=(4,3))\n",
    "plt.scatter(um_pubs[:,0],\n",
    "           um_pubs[:,1],\n",
    "           c=clusterer.labels_)\n",
    "plt.colorbar()\n",
    "plt.show()\n",
    "\n",
    "# plot clusters using probabilities_ estimate  (todo combine plots)\n",
    "rgba = np.zeros( (np.shape(um_pubs)[0], 4) )\n",
    "rgba[:,3] = clusterer.probabilities_\n",
    "plt.figure(figsize=(4,3))\n",
    "plt.scatter(um_pubs[:,0],\n",
    "           um_pubs[:,1],\n",
    "           c=rgba)\n",
    "plt.colorbar()\n",
    "plt.show()"
   ]
  },
  {
   "cell_type": "code",
   "execution_count": null,
   "metadata": {},
   "outputs": [],
   "source": [
    "# try the networkx export\n",
    "import networkx as nx\n",
    "\n",
    "G_clustering = clusterer.condensed_tree_.to_networkx()\n",
    "print(G_clustering.number_of_nodes())\n",
    "\n",
    "# this looks convenient for finding parents of parents"
   ]
  },
  {
   "cell_type": "code",
   "execution_count": 127,
   "metadata": {},
   "outputs": [
    {
     "name": "stdout",
     "output_type": "stream",
     "text": [
      "[10007]\n"
     ]
    }
   ],
   "source": [
    "# \n",
    "print([x for x in G_clustering.predecessors(10010)])\n",
    "#print([x for x in G_clustering.successors(10010)])"
   ]
  },
  {
   "cell_type": "code",
   "execution_count": 123,
   "metadata": {},
   "outputs": [
    {
     "data": {
      "text/plain": [
       "<matplotlib.axes._subplots.AxesSubplot at 0x7f5949691940>"
      ]
     },
     "execution_count": 123,
     "metadata": {},
     "output_type": "execute_result"
    },
    {
     "data": {
      "image/png": "[encoded data removed]",
      "text/plain": [
       "<Figure size 288x288 with 2 Axes>"
      ]
     },
     "metadata": {
      "needs_background": "light"
     },
     "output_type": "display_data"
    }
   ],
   "source": [
    "# viz the condensed tree\n",
    "plt.figure(figsize=(4,4))\n",
    "clusterer.condensed_tree_.plot(select_clusters=True,\n",
    "                               selection_palette=sns.color_palette('deep', 8))\n"
   ]
  },
  {
   "cell_type": "code",
   "execution_count": 45,
   "metadata": {},
   "outputs": [
    {
     "name": "stdout",
     "output_type": "stream",
     "text": [
      "   parent  child  lambda_val  child_size\n",
      "0   10000   5944    0.545643           1\n",
      "1   10000   7907    0.563226           1\n",
      "2   10000   2094    0.564847           1\n",
      "3   10000   1113    0.581292           1\n",
      "4   10000   2082    0.611293           1\n",
      "parent        10014.000000\n",
      "child         10014.000000\n",
      "lambda_val        7.543242\n",
      "child_size     8215.000000\n",
      "dtype: float64\n",
      "      parent  child  lambda_val  child_size\n",
      "1470   10000  10001    2.764936         315\n",
      "1471   10000  10002    2.764936        8215\n",
      "1519   10002  10003    2.782965         946\n",
      "1520   10002  10004    2.782965        7246\n",
      "4142   10004  10005    3.865884         204\n",
      "4143   10004  10006    3.865884        5658\n",
      "5424   10006  10007    4.663996        4059\n",
      "5425   10006  10008    4.663996         523\n",
      "5561   10007  10009    4.704698        1567\n",
      "5562   10007  10010    4.704698        2424\n",
      "6996   10009  10011    5.184895         709\n",
      "6997   10009  10012    5.184895         331\n",
      "9081   10010  10013    6.724153         683\n",
      "9082   10010  10014    6.724153         248\n",
      "      parent  child  lambda_val  child_size\n",
      "1472   10001   7299    2.768787           1\n",
      "1474   10001   1633    2.773965           1\n",
      "1476   10001   5970    2.779296           1\n",
      "1478   10001   1717    2.781174           1\n",
      "1480   10001   1743    2.783610           1\n",
      "...      ...    ...         ...         ...\n",
      "2014   10001   9270    4.147775           1\n",
      "2015   10001   7736    4.147775           1\n",
      "2016   10001   8474    4.147775           1\n",
      "2017   10001   4353    4.147775           1\n",
      "2018   10001   4159    4.147775           1\n",
      "\n",
      "[315 rows x 4 columns]\n"
     ]
    }
   ],
   "source": [
    "# try the pandas export\n",
    "import pandas as pd\n",
    "\n",
    "df_clustering = clusterer.condensed_tree_.to_pandas()\n",
    "print(df_clustering.head())\n",
    "\n",
    "# sanity check:   max parent / child value\n",
    "print(df_clustering.max())\n",
    "\n",
    "#print(df_clustering.loc[df_clustering['parent'] > 9999])\n",
    "\n",
    "print(df_clustering.loc[df_clustering['child_size']>1])\n",
    "\n",
    "\n",
    "print(df_clustering.loc[df_clustering['parent'] == 10001])"
   ]
  },
  {
   "cell_type": "code",
   "execution_count": null,
   "metadata": {},
   "outputs": [],
   "source": [
    "# simplest recipe"
   ]
  },
  {
   "cell_type": "code",
   "execution_count": 46,
   "metadata": {},
   "outputs": [],
   "source": [
    "# generate an adjmat according to \n",
    "# https://www.nature.com/articles/s41598-019-44892-y\n",
    "\n",
    "# method 1 - ignore the hierarchical information for now\n",
    "\n",
    "N_nodes = np.shape(um_pubs)[0]\n",
    "N_clusters = clusterer.labels_.max()  # this counts clusters at the leaf level\n",
    "\n",
    "W_induced = np.zeros( (N_nodes, N_nodes) ) # init\n",
    "\n",
    "# for each pre-node\n",
    "  # for each post-node\n",
    "    # for each cluster\n",
    "    \n",
    "      # numerator: cluster membership weight pre*post\n",
    "    \n",
    "      # denominator: total weight across all clusters, pre * post\n",
    "        \n",
    "      # (for hard cluster memberships this will = 1)\n",
    "\n",
    "\n",
    "\n",
    "\n"
   ]
  },
  {
   "cell_type": "code",
   "execution_count": 214,
   "metadata": {},
   "outputs": [],
   "source": [
    "# helper function for constructing hieararchical membership bipartite graph\n",
    "\n",
    "def get_membership(node_id):\n",
    "    '''\n",
    "    for a given cluster_node_id, return the bottom-level\n",
    "      nodes belonging to this cluster\n",
    "    '''\n",
    "    if node_id < N_nodes:  # actual leaf node\n",
    "        return node_id\n",
    "    else:\n",
    "        successors = G_clustering.successors(node_id)\n",
    "        membership_list = []\n",
    "        for successor in successors:\n",
    "            if successor < N_nodes:\n",
    "                membership_list.append(successor)\n",
    "            else:\n",
    "                membership = get_membership(successor)\n",
    "                for member in membership:\n",
    "                    membership_list.append(member)\n",
    "        return membership_list\n",
    "    \n",
    "def get_lambda_value(cluster_node_id, child_id):\n",
    "    has_lambda_val = False\n",
    "    while not(has_lambda_val):\n",
    "        if child_id==N_nodes:  # no cluster except the trivial cluster\n",
    "            return 0\n",
    "        try:   # check current level\n",
    "            lambda_val = df_clustering.loc[ (df_clustering['parent']==cluster_node_id)\\\n",
    "                                        & (df_clustering['child']==child_id)]['lambda_val'].values[0]\n",
    "            return lambda_val\n",
    "        except:   # move up a level, check for membership\n",
    "            child_id = [x for x in G_clustering.predecessors(child_id)][0] # this is a list of length 1"
   ]
  },
  {
   "cell_type": "code",
   "execution_count": null,
   "metadata": {},
   "outputs": [
    {
     "name": "stdout",
     "output_type": "stream",
     "text": [
      "number of non-singleton clusters, including hierarchy: 15\n",
      "\n"
     ]
    }
   ],
   "source": [
    "# more complex recipe\n",
    "\n",
    "# scale the cluster membership bipartite graph according to hierarchy\n",
    "#   use lambda value instead of number of splits?\n",
    "\n",
    "N_nodes = np.shape(um_pubs)[0]\n",
    "N_clusters = df_clustering.shape[0] - (N_nodes-1)  # non-singleton clusters at all hiearchical levels\n",
    "print(\"number of non-singleton clusters, including hierarchy: {}\".format(N_clusters))\n",
    "print()\n",
    "\n",
    "W_bipartite = np.zeros((N_nodes, N_clusters))\n",
    "\n",
    "# generate list of children for each cluster\n",
    "for i_cluster in range(N_clusters):    \n",
    "    print(i_cluster)\n",
    "    clusterer_node_id = N_nodes + i_cluster\n",
    "    children = get_membership(clusterer_node_id)\n",
    "    \n",
    "    for child_id in children:\n",
    "        lambda_val = get_lambda_value(clusterer_node_id, child_id)\n",
    "        W_bipartite[child_id, i_cluster] += lambda_val\n",
    "        \n",
    "plt.figure()\n",
    "plt.imshow(W_bipartite, aspect='auto')\n",
    "plt.colorbar()\n",
    "plt.show()\n",
    "\n",
    "# todo is this fast enough?\n",
    "# next - make the pairwise affinity network\n",
    "    "
   ]
  },
  {
   "cell_type": "code",
   "execution_count": null,
   "metadata": {},
   "outputs": [],
   "source": [
    "print(np.shape(um_pubs))"
   ]
  },
  {
   "cell_type": "markdown",
   "metadata": {},
   "source": [
    "# unit test\n",
    "\n",
    "def get_membership(node_id):\n",
    "    if node_id < N_nodes:  # actual leaf node\n",
    "        return node_id\n",
    "    else:\n",
    "        successors = G_clustering.successors(node_id)\n",
    "        membership_list = []\n",
    "        for successor in successors:\n",
    "            if successor < N_nodes:\n",
    "                membership_list.append(successor)\n",
    "            else:\n",
    "                membership = get_membership(successor)\n",
    "                for member in membership:\n",
    "                    membership_list.append(member)\n",
    "        return membership_list\n",
    "    \n",
    "test = get_membership(10002)\n",
    "print(np.shape(test))\n",
    "for i in test:\n",
    "    if i > 10000:\n",
    "        print('FAILURE')"
   ]
  },
  {
   "cell_type": "code",
   "execution_count": 196,
   "metadata": {},
   "outputs": [
    {
     "name": "stdout",
     "output_type": "stream",
     "text": [
      "2.768787479781378\n",
      "2.7739653271044817\n",
      "2.7792958969300705\n",
      "2.781173957202445\n",
      "2.7836104383911473\n",
      "2.786355270560832\n",
      "2.78670725279823\n",
      "2.7967851159290524\n",
      "2.811017890123406\n",
      "2.8136943550095\n",
      "2.8375156356547464\n",
      "2.8477445834141166\n",
      "2.851407842762792\n",
      "2.851407842762792\n",
      "2.85559300047656\n",
      "2.8585980536919435\n",
      "2.862584043404037\n",
      "2.8819113519662247\n",
      "2.8903295001425375\n",
      "2.8947114308011495\n",
      "2.9030639023721183\n",
      "2.909554286184348\n",
      "2.9261744763703006\n",
      "2.926256119670991\n",
      "2.933220655205233\n",
      "2.9407477516827862\n",
      "2.96999808227882\n",
      "3.027644274316536\n",
      "3.0364246984625733\n",
      "3.037688605866625\n",
      "3.041204122090915\n",
      "3.0414484418805543\n",
      "3.051332492219519\n",
      "3.069440936344398\n",
      "3.069513291440485\n",
      "3.074092304281321\n",
      "3.117413816802262\n",
      "3.1225262751096694\n",
      "3.1361347280389453\n",
      "3.142554560793323\n",
      "3.1551865059002666\n",
      "3.1588684251274315\n",
      "3.16402030409938\n",
      "3.19654245440846\n",
      "3.202654475603112\n",
      "3.2221407292286686\n",
      "3.228782934200393\n",
      "3.2383901367495884\n",
      "3.2652704056303166\n",
      "3.2670630471319457\n",
      "3.2687760610735404\n",
      "3.2712518659279217\n",
      "3.2787527292718632\n",
      "3.3308090492603313\n",
      "3.356798749357857\n",
      "3.3632421264567487\n",
      "3.369527472256525\n",
      "3.378263850505728\n",
      "3.394079725367044\n",
      "3.4212355823178675\n",
      "3.422754194027603\n",
      "3.4328219030628038\n",
      "3.441197655188173\n",
      "3.4543160927106222\n",
      "3.4605466085070358\n",
      "3.4781715925555665\n",
      "3.5037313700531763\n",
      "3.5291999430542798\n",
      "3.530084934126964\n",
      "3.560420624497077\n",
      "3.576139670050287\n",
      "3.582867684172726\n",
      "3.5921033205560557\n",
      "3.5971525226631202\n",
      "3.6217832132624275\n",
      "3.627194211361494\n",
      "3.636973250988602\n",
      "3.6409463989858466\n",
      "3.6468323908662454\n",
      "3.6764884647473424\n",
      "3.6912400514839927\n",
      "3.6913381906278686\n",
      "3.713968455725021\n",
      "3.7314486291762634\n",
      "3.7896005645587185\n",
      "3.793858883413737\n",
      "3.808614926844112\n",
      "3.8116469510513085\n",
      "3.8215879076931727\n",
      "3.8219090216999074\n",
      "3.8313621106578255\n",
      "3.8341208773351068\n",
      "3.8384237723607777\n",
      "3.83948383805332\n",
      "3.84421265031791\n",
      "3.8451009781181695\n",
      "3.8807030396966895\n",
      "3.8919584182930853\n",
      "3.895864225078694\n",
      "3.9365877950479726\n",
      "3.9397116257373486\n",
      "3.966590951659679\n",
      "3.9941272658148597\n",
      "4.006575098049735\n",
      "4.022899095173534\n",
      "4.02972593481185\n",
      "4.053332411313942\n",
      "4.062593603971904\n",
      "4.075009058762262\n",
      "4.094549476017875\n",
      "4.112527382377733\n",
      "4.120974451414581\n",
      "4.124827994392822\n",
      "4.133356266381079\n",
      "4.140972968128071\n",
      "4.147775260744018\n",
      "4.147775260744018\n",
      "4.147775260744018\n",
      "4.147775260744018\n",
      "4.147775260744018\n",
      "4.147775260744018\n",
      "4.147775260744018\n",
      "4.147775260744018\n",
      "4.147775260744018\n",
      "4.147775260744018\n",
      "4.147775260744018\n",
      "4.147775260744018\n",
      "4.147775260744018\n",
      "4.147775260744018\n",
      "4.147775260744018\n",
      "4.147775260744018\n",
      "4.147775260744018\n",
      "4.147775260744018\n",
      "4.147775260744018\n",
      "4.147775260744018\n",
      "4.147775260744018\n",
      "4.147775260744018\n",
      "4.147775260744018\n",
      "4.147775260744018\n",
      "4.147775260744018\n",
      "4.147775260744018\n",
      "4.147775260744018\n",
      "4.147775260744018\n",
      "4.147775260744018\n",
      "4.147775260744018\n",
      "4.147775260744018\n",
      "4.147775260744018\n",
      "4.147775260744018\n",
      "4.147775260744018\n",
      "4.147775260744018\n",
      "4.147775260744018\n",
      "4.147775260744018\n",
      "4.147775260744018\n",
      "4.147775260744018\n",
      "4.147775260744018\n",
      "4.147775260744018\n",
      "4.147775260744018\n",
      "4.147775260744018\n",
      "4.147775260744018\n",
      "4.147775260744018\n",
      "4.147775260744018\n",
      "4.147775260744018\n",
      "4.147775260744018\n",
      "4.147775260744018\n",
      "4.147775260744018\n",
      "4.147775260744018\n",
      "4.147775260744018\n",
      "4.147775260744018\n",
      "4.147775260744018\n",
      "4.147775260744018\n",
      "4.147775260744018\n",
      "4.147775260744018\n",
      "4.147775260744018\n",
      "4.147775260744018\n",
      "4.147775260744018\n",
      "4.147775260744018\n",
      "4.147775260744018\n",
      "4.147775260744018\n",
      "4.147775260744018\n",
      "4.147775260744018\n",
      "4.147775260744018\n",
      "4.147775260744018\n",
      "4.147775260744018\n",
      "4.147775260744018\n",
      "4.147775260744018\n",
      "4.147775260744018\n",
      "4.147775260744018\n",
      "4.147775260744018\n",
      "4.147775260744018\n",
      "4.147775260744018\n",
      "4.147775260744018\n",
      "4.147775260744018\n",
      "4.147775260744018\n",
      "4.147775260744018\n",
      "4.147775260744018\n",
      "4.147775260744018\n",
      "4.147775260744018\n",
      "4.147775260744018\n",
      "4.147775260744018\n",
      "4.147775260744018\n",
      "4.147775260744018\n",
      "4.147775260744018\n",
      "4.147775260744018\n",
      "4.147775260744018\n",
      "4.147775260744018\n",
      "4.147775260744018\n",
      "4.147775260744018\n",
      "4.147775260744018\n",
      "4.147775260744018\n",
      "4.147775260744018\n",
      "4.147775260744018\n",
      "4.147775260744018\n",
      "4.147775260744018\n",
      "4.147775260744018\n",
      "4.147775260744018\n",
      "4.147775260744018\n",
      "4.147775260744018\n",
      "4.147775260744018\n",
      "4.147775260744018\n",
      "4.147775260744018\n",
      "4.147775260744018\n",
      "4.147775260744018\n",
      "4.147775260744018\n",
      "4.147775260744018\n",
      "4.147775260744018\n",
      "4.147775260744018\n",
      "4.147775260744018\n",
      "4.147775260744018\n",
      "4.147775260744018\n",
      "4.147775260744018\n",
      "4.147775260744018\n",
      "4.147775260744018\n",
      "4.147775260744018\n",
      "4.147775260744018\n",
      "4.147775260744018\n",
      "4.147775260744018\n",
      "4.147775260744018\n",
      "4.147775260744018\n",
      "4.147775260744018\n",
      "4.147775260744018\n",
      "4.147775260744018\n",
      "4.147775260744018\n",
      "4.147775260744018\n",
      "4.147775260744018\n",
      "4.147775260744018\n",
      "4.147775260744018\n",
      "4.147775260744018\n",
      "4.147775260744018\n",
      "4.147775260744018\n",
      "4.147775260744018\n",
      "4.147775260744018\n",
      "4.147775260744018\n",
      "4.147775260744018\n",
      "4.147775260744018\n",
      "4.147775260744018\n",
      "4.147775260744018\n",
      "4.147775260744018\n",
      "4.147775260744018\n",
      "4.147775260744018\n",
      "4.147775260744018\n",
      "4.147775260744018\n",
      "4.147775260744018\n",
      "4.147775260744018\n",
      "4.147775260744018\n",
      "4.147775260744018\n",
      "4.147775260744018\n",
      "4.147775260744018\n",
      "4.147775260744018\n",
      "4.147775260744018\n",
      "4.147775260744018\n",
      "4.147775260744018\n",
      "4.147775260744018\n",
      "4.147775260744018\n",
      "4.147775260744018\n",
      "4.147775260744018\n",
      "4.147775260744018\n",
      "4.147775260744018\n",
      "4.147775260744018\n",
      "4.147775260744018\n",
      "4.147775260744018\n",
      "4.147775260744018\n",
      "4.147775260744018\n",
      "4.147775260744018\n",
      "4.147775260744018\n",
      "4.147775260744018\n",
      "4.147775260744018\n",
      "4.147775260744018\n",
      "4.147775260744018\n",
      "4.147775260744018\n",
      "4.147775260744018\n",
      "4.147775260744018\n",
      "4.147775260744018\n",
      "4.147775260744018\n",
      "4.147775260744018\n",
      "4.147775260744018\n",
      "4.147775260744018\n",
      "4.147775260744018\n",
      "4.147775260744018\n",
      "4.147775260744018\n",
      "4.147775260744018\n",
      "4.147775260744018\n",
      "4.147775260744018\n",
      "4.147775260744018\n",
      "4.147775260744018\n",
      "4.147775260744018\n",
      "4.147775260744018\n",
      "4.147775260744018\n",
      "4.147775260744018\n",
      "4.147775260744018\n",
      "4.147775260744018\n",
      "4.147775260744018\n",
      "4.147775260744018\n",
      "4.147775260744018\n",
      "4.147775260744018\n",
      "4.147775260744018\n"
     ]
    }
   ],
   "source": [
    "# for a cluster and it's bottom-level children, get the corresponding lambda-values (linkage strength)\n",
    "\n",
    "cluster_id = 1\n",
    "cluster_node_id = cluster_id + N_nodes\n",
    "children = get_membership(cluster_node_id)\n",
    "\n",
    "for child in children:\n",
    "    \n",
    "    has_lambda_val = False\n",
    "    \n",
    "    child_id = child\n",
    "    while not(has_lambda_val):\n",
    "        \n",
    "        if child_id==N_nodes:  # no cluster except the trivial cluster\n",
    "            lambda_val = 0\n",
    "            break\n",
    "        try:\n",
    "            lambda_val = df_clustering.loc[ (df_clustering['parent']==cluster_node_id)\\\n",
    "                                           & (df_clustering['child']==child_id) ]\\\n",
    "                                        ['lambda_val'].values[0]\n",
    "            has_lambda_val = True\n",
    "        except:\n",
    "            child_id = [x for x in G_clustering.predecessors(child_id)][0]\n",
    "        \n",
    "    print(lambda_val)"
   ]
  },
  {
   "cell_type": "code",
   "execution_count": null,
   "metadata": {},
   "outputs": [],
   "source": []
  },
  {
   "cell_type": "code",
   "execution_count": null,
   "metadata": {},
   "outputs": [],
   "source": []
  },
  {
   "cell_type": "code",
   "execution_count": null,
   "metadata": {},
   "outputs": [],
   "source": []
  }
 ],
 "metadata": {
  "kernelspec": {
   "display_name": "Python 3",
   "language": "python",
   "name": "python3"
  },
  "language_info": {
   "codemirror_mode": {
    "name": "ipython",
    "version": 3
   },
   "file_extension": ".py",
   "mimetype": "text/x-python",
   "name": "python",
   "nbconvert_exporter": "python",
   "pygments_lexer": "ipython3",
   "version": "3.7.3"
  }
 },
 "nbformat": 4,
 "nbformat_minor": 2
}

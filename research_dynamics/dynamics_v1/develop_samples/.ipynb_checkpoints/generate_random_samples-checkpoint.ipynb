{
 "cells": [
  {
   "cell_type": "markdown",
   "metadata": {},
   "source": [
    "# get some random samples of pmids from the pubmed database\n",
    "#   write the pmids to json files\n",
    "\n",
    "out of curiosity, how contiguous are the pmids?"
   ]
  },
  {
   "cell_type": "code",
   "execution_count": 1,
   "metadata": {},
   "outputs": [],
   "source": [
    "\n",
    "\n",
    "import json\n",
    "import mysql.connector as mysql\n",
    "\n",
    "from pyspark import SparkConf, SparkContext\n",
    "from pyspark.sql import SQLContext, SparkSession\n",
    "from pyspark.sql.types import Row, StructType, StructField, IntegerType, StringType\n",
    "\n",
    "import os\n",
    "import time\n",
    "import random\n",
    "import numpy as np\n",
    "\n",
    "import matplotlib.pyplot as plt\n",
    "#import cairocffi as cairo\n"
   ]
  },
  {
   "cell_type": "code",
   "execution_count": 2,
   "metadata": {},
   "outputs": [],
   "source": [
    "SUBMIT_ARGS = \"--driver-class-path file:///home/brendanchambers/my_resources/mysql-connector-java-8.0.16/mysql-connector-java-8.0.16.jar --jars file:///home/brendanchambers/my_resources/mysql-connector-java-8.0.16/mysql-connector-java-8.0.16.jar pyspark-shell\"\n",
    "os.environ[\"PYSPARK_SUBMIT_ARGS\"] = SUBMIT_ARGS\n",
    "\n",
    "db_name = 'test_pubmed'  # db name collisons? https://stackoverflow.com/questions/14011968/user-cant-access-a-database\n",
    "url = \"jdbc:mysql://localhost:3306/{}?useUnicode=true&useJDBCCompliantTimezoneShift=true&useLegacyDatetimeCode=false&serverTimezone=America/Chicago\".format(db_name)  # mysql runs on port 3306\n",
    "client_config = {'unix_socket':'/home/brendanchambers/.sql.sock',\n",
    "                'database': db_name}  # for python connector"
   ]
  },
  {
   "cell_type": "code",
   "execution_count": 3,
   "metadata": {},
   "outputs": [
    {
     "name": "stdout",
     "output_type": "stream",
     "text": [
      "initializing spark\n",
      "[('spark.driver.host', 'midway2-0157.rcc.local'), ('spark.repl.local.jars', 'file:///home/brendanchambers/my_resources/mysql-connector-java-8.0.16/mysql-connector-java-8.0.16.jar'), ('spark.jars', '/home/brendanchambers/my_resources/mysql-connector-java-8.0.16/mysql-connector-java-8.0.16.jar'), ('spark.driver.port', '39139'), ('spark.executor.id', 'driver'), ('spark.app.name', 'pyspark-shell'), ('spark.app.id', 'local-1568056696828'), ('spark.rdd.compress', 'True'), ('spark.driver.extraClassPath', 'file:///home/brendanchambers/my_resources/mysql-connector-java-8.0.16/mysql-connector-java-8.0.16.jar'), ('spark.serializer.objectStreamReset', '100'), ('spark.master', 'local[*]'), ('spark.driver.memory', '60G'), ('spark.submit.deployMode', 'client'), ('spark.ui.showConsoleProgress', 'true')]\n"
     ]
    }
   ],
   "source": [
    "print('initializing spark')\n",
    "# init spark\n",
    "conf = SparkConf()\n",
    "conf = (conf.setMaster('local[*]')\n",
    "       .set('spark.driver.memory','60G')\n",
    "       .set(\"spark.jars\", \"/home/brendanchambers/my_resources/mysql-connector-java-8.0.16/mysql-connector-java-8.0.16.jar\"))        \n",
    "'''\n",
    ".set('spark.executor.memory','1G')  # 20\n",
    ".set('spark.driver.memory','1G')   # 40\n",
    ".set('spark.driver.maxResultSize','500M')  #.set('spark.storage.memoryFraction',0))  # this setting is now a legacy option\n",
    ".set('spark.python.worker.reuse', 'false')\n",
    ".set('spark.python.worker.memory','512m')\n",
    ".set('spark.executor.cores','1'))\n",
    "'''\n",
    "sc = SparkContext(conf=conf)\n",
    "#sc.addJar('home/brendanchambers/my_resources/mysql-connector-java-8.0.16/mysql-connector-java-8.0.16.jar')  # temp\n",
    "spark = SparkSession(sc)  # don't need this for vanilla RDDs\n",
    "\n",
    "print(sc._conf.getAll())"
   ]
  },
  {
   "cell_type": "markdown",
   "metadata": {},
   "source": [
    "## load in full list of pmids"
   ]
  },
  {
   "cell_type": "code",
   "execution_count": 5,
   "metadata": {},
   "outputs": [
    {
     "name": "stdout",
     "output_type": "stream",
     "text": [
      "(SELECT pmid, year, journal FROM metadata) AS t\n",
      "dataframe loaded in 0.07427811622619629 s\n",
      "25\n"
     ]
    }
   ],
   "source": [
    "tablename_ = 'metadata'\n",
    "\n",
    "sql = \"(SELECT pmid, year, journal FROM {}) AS t\".format(tablename_)\n",
    "print(sql)\n",
    "\n",
    "start_time = time.time()\n",
    "df_pmids = spark.read.format('jdbc').option(\"url\", url)\\\n",
    "                              .option(\"dbtable\", sql)\\\n",
    "                              .load().repartition(25).cache()\n",
    "end_time = time.time()\n",
    "print(\"dataframe loaded in {} s\".format(end_time - start_time))\n",
    "\n",
    "print(df_pmids.rdd.getNumPartitions())"
   ]
  },
  {
   "cell_type": "markdown",
   "metadata": {},
   "source": [
    "## get samples of pmids\n",
    "\n",
    "(target ~100,000 samples)"
   ]
  },
  {
   "cell_type": "code",
   "execution_count": 22,
   "metadata": {},
   "outputs": [
    {
     "name": "stdout",
     "output_type": "stream",
     "text": [
      "\n",
      "[(25970969, 2015, 'Rev Med Chir Soc Med Nat Iasi'), (18005910, 2007, 'Explore (NY)'), (944382, 1976, 'Nature'), (15443245, 1950, 'Veska'), (14172513, 1964, 'Percept Mot Skills'), (20581438, 2010, 'Cell Cycle'), (7265613, 1981, 'Kardiol Pol'), (11043898, 2000, 'J Sports Sci'), (1470424, 1992, 'Nucl Med Commun'), (19033446, 2009, 'J. Biol. Chem.')]\n",
      "\n",
      "elapsed: 0.6016771793365479\n",
      "\n",
      "[(16250618, 2005, 'Rozhl Chir'), (8639363, 1996, 'Br Dent J'), (19816302, 2009, 'J Craniofac Surg'), (11314480, 2000, 'J Dent Hyg'), (2015784, 1991, 'Dtsch. Med. Wochenschr.'), (5061526, 1972, 'Nouv Presse Med'), (10644766, 2000, 'J. Biol. Chem.'), (16119464, 2005, 'Bioorg. Khim.'), (1463049, 1992, 'Am. J. Ophthalmol.'), (8293755, 1993, 'Eur. Heart J.')]\n",
      "\n",
      "elapsed: 0.6313433647155762\n",
      "\n",
      "[(7087672, 1982, 'Life Sci.'), (944382, 1976, 'Nature'), (8653311, 1996, 'Br J Urol'), (6861627, 1983, 'Drug Intell Clin Pharm'), (8206086, 1994, 'Eur. J. Immunol.'), (1553711, 1992, 'Tidsskr. Nor. Laegeforen.'), (18414555, 2008, 'Opt Lett'), (2646020, 1989, 'Carcinog Compr Surv'), (20104850, 2010, 'J. Med. Chem.'), (20048031, 2010, 'Cleve Clin J Med')]\n",
      "\n",
      "elapsed: 0.5766916275024414\n",
      "\n",
      "[(30255419, 2019, 'J. Thromb. Thrombolysis'), (18300796, 2008, 'Am. J. Surg. Pathol.'), (30491884, 1805, 'Med Phys J'), (13678991, 2003, 'Lancet'), (25773273, 2015, 'Nephrology (Carlton)'), (5756097, 1968, 'Kumamoto Igakkai Zasshi'), (5294727, 1965, 'AMRL TR'), (19992102, 1939, 'Proc. R. Soc. Med.'), (10224643, 1999, 'Vopr Pitan'), (14142907, 1964, 'Invest Urol')]\n",
      "\n",
      "elapsed: 0.5539412498474121\n",
      "\n",
      "[(1540138, 1992, 'Biochem. J.'), (27419643, 2017, 'Spectrochim Acta A Mol Biomol Spectrosc'), (10288633, 1988, 'Hosp Health Serv Adm'), (24779684, 2015, 'Eur J Dent Educ'), (25342747, 2014, 'J. Biol. Chem.'), (26638138, 2016, 'Bioresour. Technol.'), (17339589, 2007, 'Neurology'), (17684541, 2006, 'Neurosci Bull'), (23723218, 2013, 'Science'), (26710314, 2015, 'PLoS ONE')]\n",
      "\n",
      "elapsed: 0.6952426433563232\n",
      "\n",
      "[(3125591, 1987, 'Rev Pediatr Obstet Ginecol Pediatr'), (21165487, 2011, 'Mol Biosyst'), (27566506, 2017, 'Am. J. Med.'), (6520883, 1984, 'J Toxicol Environ Health'), (1113659, 1975, 'Med Welt'), (28195248, 2016, 'Pathologica'), (6795314, 1981, 'J. Neuropathol. Exp. Neurol.'), (28203556, 2017, 'Ann Surg Treat Res'), (3132771, 1988, 'Transplant. Proc.'), (28660993, 2017, 'Endokrynol Pol')]\n",
      "\n",
      "elapsed: 0.5877952575683594\n",
      "\n",
      "[(29969583, 2018, 'Anal. Biochem.'), (13201359, 1954, 'J Am Med Assoc'), (21535430, 2011, 'Acta Obstet Gynecol Scand'), (16685725, 2006, 'Am. J. Phys. Anthropol.'), (4583839, 1973, 'Cas. Lek. Cesk.'), (26648660, 2015, 'Behav Neurol'), (17349361, 2007, 'Ann Vasc Surg'), (3260347, 1988, 'Mt. Sinai J. Med.'), (1178229, 1975, 'Pathol Microbiol (Basel)'), (15917053, 2005, 'Prev Med')]\n",
      "\n",
      "elapsed: 0.6199045181274414\n",
      "\n",
      "[(14926365, 1952, 'Czas Stomatol'), (4905632, 1970, 'DDZ'), (14527957, 2004, 'J. Biol. Chem.'), (19035377, 2009, 'Chemistry'), (7111388, 1982, 'Pharmacology'), (3394714, 1988, 'Am. J. Hematol.'), (24246909, 2014, 'Pharmacol. Biochem. Behav.'), (1233467, 1975, 'Prakt Anaesth'), (3555298, 1987, 'Annu. Rev. Med.'), (3332233, 1987, 'Zhonghua Yi Xue Za Zhi (Taipei)')]\n",
      "\n",
      "elapsed: 0.6037402153015137\n",
      "\n",
      "[(13971128, 1963, 'Lancet'), (20004301, 2010, 'J Psychosom Res'), (12638773, 2003, 'J Esthet Restor Dent'), (29554177, 2018, 'JAMA Pediatr'), (16088294, 2005, 'J Clin Hypertens (Greenwich)'), (3032501, 1987, 'Diabet. Med.'), (20756508, 1896, 'Br Med J'), (14752889, 2004, 'J. Glaucoma'), (23096594, 2013, 'J. Sci. Food Agric.'), (16255483, 2005, 'Nurs Stand')]\n",
      "\n",
      "elapsed: 0.7003085613250732\n",
      "\n",
      "[(21984007, 2013, 'Acta Diabetol'), (12594404, 2003, 'Mayo Clin Womens Healthsource'), (26402097, 2015, 'J. Alzheimers Dis.'), (22766062, 2012, 'Med Clin (Barc)'), (25263219, 2014, 'Cell Host Microbe'), (26930669, 2016, 'PLoS ONE'), (5190288, 1968, 'Q Rev DC Nurses Assoc'), (19992102, 1939, 'Proc. R. Soc. Med.'), (10952142, 2000, 'Spectrochim Acta A Mol Biomol Spectrosc'), (5061526, 1972, 'Nouv Presse Med')]\n",
      "\n",
      "elapsed: 0.5885915756225586\n"
     ]
    }
   ],
   "source": [
    "N_samples = 10\n",
    "sample_bank = []\n",
    "\n",
    "do_resample = False\n",
    "sample_fraction = 0.0033333   # target sample size ~100k\n",
    "\n",
    "for i_sam in range(N_samples):\n",
    "    \n",
    "    start_time = time.time()\n",
    "\n",
    "    sample_rows = df_pmids.sample(do_resample, sample_fraction)\\\n",
    "                .rdd.map(lambda row: (row[0],row[1],row[2]) )\n",
    "    \n",
    "    new_sample = sample_rows.collect() # todo reformat for serialization?\n",
    "    sample_bank.append(new_sample)\n",
    "    \n",
    "    print()\n",
    "    print(new_sample[:10])\n",
    "    print()\n",
    "\n",
    "    end_time = time.time()\n",
    "    print(\"elapsed: {}\".format(end_time - start_time))\n",
    "\n"
   ]
  },
  {
   "cell_type": "code",
   "execution_count": 23,
   "metadata": {},
   "outputs": [
    {
     "data": {
      "image/png": "[encoded data removed]",
      "text/plain": [
       "<Figure size 432x288 with 1 Axes>"
      ]
     },
     "metadata": {
      "needs_background": "light"
     },
     "output_type": "display_data"
    }
   ],
   "source": [
    "plt.figure()\n",
    "\n",
    "for i_sam in range(N_samples):\n",
    "    \n",
    "    year_contents = [row[1] for row in sample_bank[i_sam]]\n",
    "    \n",
    "    plt.hist(year_contents, histtype='step',\n",
    "            density=True, bins=np.arange(1940,2020))\n",
    "    \n",
    "    \n",
    "plt.title('year distribution for samples')\n",
    "plt.xlabel('year')\n",
    "plt.ylabel('count')\n",
    "plt.show()"
   ]
  },
  {
   "cell_type": "code",
   "execution_count": 24,
   "metadata": {},
   "outputs": [],
   "source": [
    "for i_sam in range(N_samples):\n",
    "    \n",
    "    outpath = '/project2/jevans/brendan/pubmed_data_processing/sample_pmids/'\n",
    "    filename = outpath + 'sample' + str(i_sam) + '.json'\n",
    "    \n",
    "    save_obj = {'sample_fraction': sample_fraction,\n",
    "               'do_resample': do_resample,\n",
    "               'sample_rows': sample_bank[i_sam]}\n",
    "    \n",
    "    with open(filename, 'w') as f:\n",
    "        json.dump(save_obj, f)"
   ]
  },
  {
   "cell_type": "code",
   "execution_count": null,
   "metadata": {},
   "outputs": [],
   "source": []
  },
  {
   "cell_type": "code",
   "execution_count": null,
   "metadata": {},
   "outputs": [],
   "source": [
    "\n",
    "# look at distribution of years"
   ]
  }
 ],
 "metadata": {
  "kernelspec": {
   "display_name": "Python 3",
   "language": "python",
   "name": "python3"
  },
  "language_info": {
   "codemirror_mode": {
    "name": "ipython",
    "version": 3
   },
   "file_extension": ".py",
   "mimetype": "text/x-python",
   "name": "python",
   "nbconvert_exporter": "python",
   "pygments_lexer": "ipython3",
   "version": "3.7.3"
  }
 },
 "nbformat": 4,
 "nbformat_minor": 2
}

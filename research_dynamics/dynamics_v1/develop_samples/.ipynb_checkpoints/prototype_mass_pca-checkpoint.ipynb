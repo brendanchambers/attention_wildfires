{
 "cells": [
  {
   "cell_type": "code",
   "execution_count": 1,
   "metadata": {},
   "outputs": [],
   "source": [
    "# take some big samples of papers and generate reduced dimensional spaces suitable for use with\n",
    "#   the entire dataset\n",
    "\n",
    "import mysql.connector as mysql\n",
    "\n",
    "import time\n",
    "import numpy as np\n",
    "\n",
    "import matplotlib.pyplot as plt\n",
    "from sklearn.decomposition import PCA\n",
    "\n",
    "import json\n",
    "plt.rcParams['svg.fonttype'] = 'none'"
   ]
  },
  {
   "cell_type": "code",
   "execution_count": 2,
   "metadata": {},
   "outputs": [],
   "source": [
    "\n",
    "\n",
    "db_name = 'test_pubmed'  # db name collisons? https://stackoverflow.com/questions/14011968/user-cant-access-a-database\n",
    "client_config = {'unix_socket':'/home/brendanchambers/.sql.sock',\n",
    "                'database': db_name,\n",
    "                'use_pure': True}  # for python connector\n",
    "\n",
    "db = mysql.connect(**client_config)"
   ]
  },
  {
   "cell_type": "markdown",
   "metadata": {},
   "source": [
    "## grab a sample of pmids from file "
   ]
  },
  {
   "cell_type": "code",
   "execution_count": 3,
   "metadata": {},
   "outputs": [
    {
     "name": "stdout",
     "output_type": "stream",
     "text": [
      "overview:\n",
      "sample fraction: 0.0033333\n",
      "resample? False \n",
      "n samples: 98470\n",
      "25970969, 18005910, 944382, 15443245, 14172513, 20581438, 7265613, 11043898, 1470424, 19033446, 19965538, 1432871, 6795314, 2991764, 15844742, 17455947, 5049147, 6276105, 23645090, 18840511, 22433935, 7980431, 16654737, 28506381, 16942084, 24885873, 8053439, 21696614, 11721178, 9051560, 19332208, 24507326, 11978660, 30608698, 17632460, 5489778, 3774734, 3362706, 15599500, 25109710, 25057884, 26316076, 1332890, 1595720, 29589334, 19249655, 30749983, 14298960, 25957335, 27737104, 23583020, 29425040, 1186362, 20185778, 930247, 16787112, 29719396, 14180133, 3046483, 24766168, 17379427, 2292202, 8519173, 16336911, 24509284, 19820396, 17575863, 12098520, 28238793, 25903339, 24106947, 24685065, 28381729, 15493442, 26414051, 13805695, 24484909, 11880454, 19438644, 16125780, 13940566, 977543, 19284012, 8506673, 23051066, 28775526, 28191975, 8849822, 18164217, 14342219, 28407634, 12533011, 5079491, 17938627, 30368345, 4898387, 15542137, 11766390, 12087126, 5690909, 19675465, 1701488, 20261925, 5\n"
     ]
    }
   ],
   "source": [
    "sampleset_id = 0\n",
    "path2dir = '/project2/jevans/brendan/pubmed_data_processing/sample_pmids/'\n",
    "filename = 'sample{}.json'.format(sampleset_id)\n",
    "path2pmids = path2dir + filename\n",
    "with open(path2pmids,'r') as f:\n",
    "    data = json.load(f)\n",
    "\n",
    "print('overview:')\n",
    "print('sample fraction: {}'.format(data['sample_fraction']))\n",
    "print('resample? {} '.format(data['do_resample']))\n",
    "sample_pmids = [row[0] for row in data['sample_rows']]  # ignore year and journal info here\n",
    "print(\"n samples: {}\".format(len(sample_pmids)))\n",
    "\n",
    "\n",
    "#sample_pmids = sample_pmids[:10000]\n",
    "str_fmt = ', '.join([str(pmid) for pmid in sample_pmids])\n",
    "del sample_pmids\n",
    "del data  # wondering if we're short on RAM on the broadwl partition...so try deleting\n",
    "\n",
    "print(str_fmt[:1000])"
   ]
  },
  {
   "cell_type": "markdown",
   "metadata": {},
   "source": []
  },
  {
   "cell_type": "markdown",
   "metadata": {},
   "source": [
    "## join associated embeddings on pmid"
   ]
  },
  {
   "cell_type": "code",
   "execution_count": 4,
   "metadata": {},
   "outputs": [
    {
     "name": "stdout",
     "output_type": "stream",
     "text": [
      "sql join executed in 3064.9576065540314 s\n",
      "\n"
     ]
    }
   ],
   "source": [
    "sql = '''SELECT E.pmid, E.embedding\n",
    "            FROM scibert_mean_embedding as E\n",
    "            WHERE E.pmid IN ({})'''.format(str_fmt)\n",
    "start_time = time.time()\n",
    "cursor = db.cursor()\n",
    "cursor.execute(sql)\n",
    "output = cursor.fetchall()\n",
    "cursor.close()\n",
    "\n",
    "end_time = time.time()\n",
    "elapsed = end_time - start_time\n",
    "print(\"sql join executed in {} s\".format(elapsed))\n",
    "print()"
   ]
  },
  {
   "cell_type": "markdown",
   "metadata": {},
   "source": [
    "## translate blobs to np float64 array"
   ]
  },
  {
   "cell_type": "code",
   "execution_count": 5,
   "metadata": {},
   "outputs": [
    {
     "name": "stdout",
     "output_type": "stream",
     "text": [
      "(94188, 768)\n"
     ]
    }
   ],
   "source": [
    "sample_embeddings = np.array([np.frombuffer(row[1],dtype='float64') for row in output])\n",
    "print(np.shape(sample_embeddings))"
   ]
  },
  {
   "cell_type": "code",
   "execution_count": null,
   "metadata": {},
   "outputs": [],
   "source": []
  },
  {
   "cell_type": "code",
   "execution_count": null,
   "metadata": {},
   "outputs": [],
   "source": []
  },
  {
   "cell_type": "code",
   "execution_count": 8,
   "metadata": {},
   "outputs": [
    {
     "name": "stdout",
     "output_type": "stream",
     "text": [
      "sample 1...\n"
     ]
    },
    {
     "data": {
      "image/png": "[encoded data removed]",
      "text/plain": [
       "<Figure size 72x72 with 1 Axes>"
      ]
     },
     "metadata": {
      "needs_background": "light"
     },
     "output_type": "display_data"
    },
    {
     "name": "stdout",
     "output_type": "stream",
     "text": [
      "elapsed: 22.439595222473145\n"
     ]
    }
   ],
   "source": [
    "# run pca  (todo update with new workflow)\n",
    "\n",
    "print('sample 1...')\n",
    "\n",
    "start_time = time.time()\n",
    "\n",
    "D = 728\n",
    "D_pca = 728\n",
    "#L = len(sample1)\n",
    "#sample_embeddings = np.zeros(L, D)\n",
    "#for i,sample in enumerate(sample1):\n",
    "#    sample_embeddlings[i,:] = sample\n",
    "    \n",
    "pca = PCA(n_components=D_pca)\n",
    "pc = pca.fit_transform(sample_embeddings)\n",
    "\n",
    "\n",
    "# var explained\n",
    "plt.figure(figsize=(1,1))\n",
    "plt.plot(np.cumsum(pca.explained_variance_ratio_))\n",
    "plt.title('PCA component var explained')  \n",
    "plt.show()\n",
    "\n",
    "end_time = time.time()\n",
    "print(\"elapsed: {}\".format(end_time - start_time))\n",
    "\n"
   ]
  },
  {
   "cell_type": "code",
   "execution_count": null,
   "metadata": {},
   "outputs": [],
   "source": [
    "# save the pca model\n",
    "\n",
    "save_obj = {'sample_pmids': [row[0] for row in sample1]}\n",
    "\n",
    "with open('mass_pca_samples1.json','w') as f:\n",
    "    json.dump(save_obj, f)\n",
    "    \n",
    "# Save to file in the current working directory\n",
    "pkl_filename = \"pca_model1.pkl\"\n",
    "with open(pkl_filename, 'wb') as file:\n",
    "    pickle.dump(pca, file)\n",
    "\n",
    "# Load from file\n",
    "#with open(pkl_filename, 'rb') as file:\n",
    "#    pickle_model = pickle.load(file)"
   ]
  },
  {
   "cell_type": "code",
   "execution_count": 10,
   "metadata": {},
   "outputs": [
    {
     "data": {
      "text/plain": [
       "Text(0.5, 1.0, 'first 2 PCs')"
      ]
     },
     "execution_count": 10,
     "metadata": {},
     "output_type": "execute_result"
    },
    {
     "data": {
      "image/png": "[encoded data removed]",
      "text/plain": [
       "<Figure size 432x288 with 1 Axes>"
      ]
     },
     "metadata": {
      "needs_background": "light"
     },
     "output_type": "display_data"
    }
   ],
   "source": [
    "import seaborn as sns\n",
    "\n",
    "plt.figure()\n",
    "sns.kdeplot(pc[:,0],pc[:,1])\n",
    "plt.title('first 2 PCs')\n"
   ]
  },
  {
   "cell_type": "code",
   "execution_count": null,
   "metadata": {},
   "outputs": [],
   "source": [
    "import umap\n",
    "\n",
    "D_umap = 2\n",
    "reducer = umap.UMAP(n_components=D_umap)\n",
    "um = reducer.fit_transform(sample_embeddings)    # concatenated\n",
    "\n",
    "plt.figure()\n",
    "sns.kdeplot(um[:,0],um[:,1])\n",
    "plt.title('umap 2D')"
   ]
  },
  {
   "cell_type": "code",
   "execution_count": null,
   "metadata": {},
   "outputs": [],
   "source": []
  },
  {
   "cell_type": "code",
   "execution_count": null,
   "metadata": {},
   "outputs": [],
   "source": []
  },
  {
   "cell_type": "code",
   "execution_count": 6,
   "metadata": {},
   "outputs": [],
   "source": [
    "db.close()"
   ]
  },
  {
   "cell_type": "code",
   "execution_count": null,
   "metadata": {},
   "outputs": [],
   "source": []
  }
 ],
 "metadata": {
  "kernelspec": {
   "display_name": "Python 3",
   "language": "python",
   "name": "python3"
  },
  "language_info": {
   "codemirror_mode": {
    "name": "ipython",
    "version": 3
   },
   "file_extension": ".py",
   "mimetype": "text/x-python",
   "name": "python",
   "nbconvert_exporter": "python",
   "pygments_lexer": "ipython3",
   "version": "3.7.3"
  }
 },
 "nbformat": 4,
 "nbformat_minor": 2
}

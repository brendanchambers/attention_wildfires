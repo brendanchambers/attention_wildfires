{
 "cells": [
  {
   "cell_type": "code",
   "execution_count": 1,
   "metadata": {},
   "outputs": [],
   "source": [
    "# get a list of ~100k pmids from a file\n",
    "\n",
    "\n",
    "# select embeddings using the list of pmids\n",
    "\n",
    "\n",
    "# time"
   ]
  },
  {
   "cell_type": "code",
   "execution_count": 20,
   "metadata": {},
   "outputs": [],
   "source": [
    "\n",
    "import mysql.connector as mysql\n",
    "import json\n",
    "\n",
    "import os\n",
    "import time\n",
    "import random\n",
    "import numpy as np\n",
    "\n",
    "import matplotlib.pyplot as plt\n",
    "plt.rcParams['svg.fonttype'] = 'none'  # magic for exporting editable text"
   ]
  },
  {
   "cell_type": "code",
   "execution_count": 110,
   "metadata": {},
   "outputs": [],
   "source": [
    "db_name = 'test_pubmed'  # db name collisons? https://stackoverflow.com/questions/14011968/user-cant-access-a-database\n",
    "client_config = {'unix_socket':'/home/brendanchambers/.sql.sock',\n",
    "                'database': db_name,\n",
    "                'use_pure': True}  # for python connector\n",
    "db = mysql.connect(**client_config)\n"
   ]
  },
  {
   "cell_type": "code",
   "execution_count": 12,
   "metadata": {},
   "outputs": [
    {
     "name": "stdout",
     "output_type": "stream",
     "text": [
      "dict_keys(['publications', 'citations'])\n"
     ]
    }
   ],
   "source": []
  },
  {
   "cell_type": "code",
   "execution_count": 13,
   "metadata": {},
   "outputs": [],
   "source": [
    "L = 1000\n",
    "test_pmids = data['publications'][:L]\n",
    "\n",
    "\n",
    "\n"
   ]
  },
  {
   "cell_type": "markdown",
   "metadata": {},
   "source": []
  },
  {
   "cell_type": "code",
   "execution_count": null,
   "metadata": {},
   "outputs": [],
   "source": []
  },
  {
   "cell_type": "markdown",
   "metadata": {},
   "source": [
    "# benchmarking\n",
    "### (no file lookup)\n",
    "+ test lookup by directly fetching rows by year instead of file access to year pmid lists\n",
    "+ this looks great until things get big (presumably because of RAM limits on the BLOB rows?)"
   ]
  },
  {
   "cell_type": "code",
   "execution_count": 104,
   "metadata": {},
   "outputs": [
    {
     "name": "stdout",
     "output_type": "stream",
     "text": [
      "SELECT M.pmid, E.embedding\n",
      "                FROM metadata as M\n",
      "                INNER JOIN scibert_mean_embedding as E\n",
      "                ON M.pmid = E.pmid\n",
      "                WHERE M.year=1958 LIMIT 100\n",
      "sql join executed in 0.013736724853515625 s\n",
      "SELECT E.pmid, E.embedding\n",
      "                FROM scibert_mean_embedding as E\n",
      "                LIMIT 100\n",
      "sql baseline executed in 0.01859736442565918 s\n",
      "SELECT M.pmid, M.year\n",
      "                FROM metadata as M\n",
      "                WHERE M.year=1958\n",
      "                LIMIT 100\n",
      "sql baseline executed in 0.0020792484283447266 s\n",
      "SELECT M.pmid, E.embedding\n",
      "                FROM metadata as M\n",
      "                INNER JOIN scibert_mean_embedding as E\n",
      "                ON M.pmid = E.pmid\n",
      "                WHERE M.year=1958 LIMIT 1000\n",
      "sql join executed in 0.1535811424255371 s\n",
      "SELECT E.pmid, E.embedding\n",
      "                FROM scibert_mean_embedding as E\n",
      "                LIMIT 1000\n",
      "sql baseline executed in 0.08496260643005371 s\n",
      "SELECT M.pmid, M.year\n",
      "                FROM metadata as M\n",
      "                WHERE M.year=1958\n",
      "                LIMIT 1000\n",
      "sql baseline executed in 0.008229732513427734 s\n",
      "SELECT M.pmid, E.embedding\n",
      "                FROM metadata as M\n",
      "                INNER JOIN scibert_mean_embedding as E\n",
      "                ON M.pmid = E.pmid\n",
      "                WHERE M.year=1958 LIMIT 10000\n",
      "sql join executed in 0.9041786193847656 s\n",
      "SELECT E.pmid, E.embedding\n",
      "                FROM scibert_mean_embedding as E\n",
      "                LIMIT 10000\n",
      "sql baseline executed in 1.0541086196899414 s\n",
      "SELECT M.pmid, M.year\n",
      "                FROM metadata as M\n",
      "                WHERE M.year=1958\n",
      "                LIMIT 10000\n",
      "sql baseline executed in 0.09361839294433594 s\n",
      "SELECT M.pmid, E.embedding\n",
      "                FROM metadata as M\n",
      "                INNER JOIN scibert_mean_embedding as E\n",
      "                ON M.pmid = E.pmid\n",
      "                WHERE M.year=1958 LIMIT 100000\n"
     ]
    },
    {
     "ename": "KeyboardInterrupt",
     "evalue": "",
     "output_type": "error",
     "traceback": [
      "\u001b[0;31m---------------------------------------------------------------------------\u001b[0m",
      "\u001b[0;31mKeyboardInterrupt\u001b[0m                         Traceback (most recent call last)",
      "\u001b[0;32m<ipython-input-104-2b53f88615c5>\u001b[0m in \u001b[0;36m<module>\u001b[0;34m\u001b[0m\n\u001b[1;32m     18\u001b[0m     \u001b[0mcursor\u001b[0m \u001b[0;34m=\u001b[0m \u001b[0mdb\u001b[0m\u001b[0;34m.\u001b[0m\u001b[0mcursor\u001b[0m\u001b[0;34m(\u001b[0m\u001b[0;34m)\u001b[0m\u001b[0;34m\u001b[0m\u001b[0;34m\u001b[0m\u001b[0m\n\u001b[1;32m     19\u001b[0m     \u001b[0mcursor\u001b[0m\u001b[0;34m.\u001b[0m\u001b[0mexecute\u001b[0m\u001b[0;34m(\u001b[0m\u001b[0msql\u001b[0m\u001b[0;34m)\u001b[0m\u001b[0;34m\u001b[0m\u001b[0;34m\u001b[0m\u001b[0m\n\u001b[0;32m---> 20\u001b[0;31m     \u001b[0moutput\u001b[0m \u001b[0;34m=\u001b[0m \u001b[0mcursor\u001b[0m\u001b[0;34m.\u001b[0m\u001b[0mfetchall\u001b[0m\u001b[0;34m(\u001b[0m\u001b[0;34m)\u001b[0m\u001b[0;34m\u001b[0m\u001b[0;34m\u001b[0m\u001b[0m\n\u001b[0m\u001b[1;32m     21\u001b[0m     \u001b[0mcursor\u001b[0m\u001b[0;34m.\u001b[0m\u001b[0mclose\u001b[0m\u001b[0;34m(\u001b[0m\u001b[0;34m)\u001b[0m\u001b[0;34m\u001b[0m\u001b[0;34m\u001b[0m\u001b[0m\n\u001b[1;32m     22\u001b[0m \u001b[0;34m\u001b[0m\u001b[0m\n",
      "\u001b[0;32m~/.conda/envs/embedding-base/lib/python3.7/site-packages/mysql/connector/cursor.py\u001b[0m in \u001b[0;36mfetchall\u001b[0;34m(self)\u001b[0m\n\u001b[1;32m    894\u001b[0m         \u001b[0;32mif\u001b[0m \u001b[0;32mnot\u001b[0m \u001b[0mself\u001b[0m\u001b[0;34m.\u001b[0m\u001b[0m_have_unread_result\u001b[0m\u001b[0;34m(\u001b[0m\u001b[0;34m)\u001b[0m\u001b[0;34m:\u001b[0m\u001b[0;34m\u001b[0m\u001b[0;34m\u001b[0m\u001b[0m\n\u001b[1;32m    895\u001b[0m             \u001b[0;32mraise\u001b[0m \u001b[0merrors\u001b[0m\u001b[0;34m.\u001b[0m\u001b[0mInterfaceError\u001b[0m\u001b[0;34m(\u001b[0m\u001b[0;34m\"No result set to fetch from.\"\u001b[0m\u001b[0;34m)\u001b[0m\u001b[0;34m\u001b[0m\u001b[0;34m\u001b[0m\u001b[0m\n\u001b[0;32m--> 896\u001b[0;31m         \u001b[0;34m(\u001b[0m\u001b[0mrows\u001b[0m\u001b[0;34m,\u001b[0m \u001b[0meof\u001b[0m\u001b[0;34m)\u001b[0m \u001b[0;34m=\u001b[0m \u001b[0mself\u001b[0m\u001b[0;34m.\u001b[0m\u001b[0m_connection\u001b[0m\u001b[0;34m.\u001b[0m\u001b[0mget_rows\u001b[0m\u001b[0;34m(\u001b[0m\u001b[0;34m)\u001b[0m\u001b[0;34m\u001b[0m\u001b[0;34m\u001b[0m\u001b[0m\n\u001b[0m\u001b[1;32m    897\u001b[0m         \u001b[0;32mif\u001b[0m \u001b[0mself\u001b[0m\u001b[0;34m.\u001b[0m\u001b[0m_nextrow\u001b[0m\u001b[0;34m[\u001b[0m\u001b[0;36m0\u001b[0m\u001b[0;34m]\u001b[0m\u001b[0;34m:\u001b[0m\u001b[0;34m\u001b[0m\u001b[0;34m\u001b[0m\u001b[0m\n\u001b[1;32m    898\u001b[0m             \u001b[0mrows\u001b[0m\u001b[0;34m.\u001b[0m\u001b[0minsert\u001b[0m\u001b[0;34m(\u001b[0m\u001b[0;36m0\u001b[0m\u001b[0;34m,\u001b[0m \u001b[0mself\u001b[0m\u001b[0;34m.\u001b[0m\u001b[0m_nextrow\u001b[0m\u001b[0;34m[\u001b[0m\u001b[0;36m0\u001b[0m\u001b[0;34m]\u001b[0m\u001b[0;34m)\u001b[0m\u001b[0;34m\u001b[0m\u001b[0;34m\u001b[0m\u001b[0m\n",
      "\u001b[0;32m~/.conda/envs/embedding-base/lib/python3.7/site-packages/mysql/connector/connection.py\u001b[0m in \u001b[0;36mget_rows\u001b[0;34m(self, count, binary, columns, raw)\u001b[0m\n\u001b[1;32m    497\u001b[0m                 rows = self._protocol.read_text_result(self._socket,\n\u001b[1;32m    498\u001b[0m                                                        \u001b[0mself\u001b[0m\u001b[0;34m.\u001b[0m\u001b[0m_server_version\u001b[0m\u001b[0;34m,\u001b[0m\u001b[0;34m\u001b[0m\u001b[0;34m\u001b[0m\u001b[0m\n\u001b[0;32m--> 499\u001b[0;31m                                                        count=count)\n\u001b[0m\u001b[1;32m    500\u001b[0m         \u001b[0;32mexcept\u001b[0m \u001b[0merrors\u001b[0m\u001b[0;34m.\u001b[0m\u001b[0mError\u001b[0m \u001b[0;32mas\u001b[0m \u001b[0merr\u001b[0m\u001b[0;34m:\u001b[0m\u001b[0;34m\u001b[0m\u001b[0;34m\u001b[0m\u001b[0m\n\u001b[1;32m    501\u001b[0m             \u001b[0mself\u001b[0m\u001b[0;34m.\u001b[0m\u001b[0munread_result\u001b[0m \u001b[0;34m=\u001b[0m \u001b[0;32mFalse\u001b[0m\u001b[0;34m\u001b[0m\u001b[0;34m\u001b[0m\u001b[0m\n",
      "\u001b[0;32m~/.conda/envs/embedding-base/lib/python3.7/site-packages/mysql/connector/protocol.py\u001b[0m in \u001b[0;36mread_text_result\u001b[0;34m(self, sock, version, count)\u001b[0m\n\u001b[1;32m    335\u001b[0m             \u001b[0;32mif\u001b[0m \u001b[0meof\u001b[0m \u001b[0;32mor\u001b[0m \u001b[0mi\u001b[0m \u001b[0;34m==\u001b[0m \u001b[0mcount\u001b[0m\u001b[0;34m:\u001b[0m\u001b[0;34m\u001b[0m\u001b[0;34m\u001b[0m\u001b[0m\n\u001b[1;32m    336\u001b[0m                 \u001b[0;32mbreak\u001b[0m\u001b[0;34m\u001b[0m\u001b[0;34m\u001b[0m\u001b[0m\n\u001b[0;32m--> 337\u001b[0;31m             \u001b[0mpacket\u001b[0m \u001b[0;34m=\u001b[0m \u001b[0msock\u001b[0m\u001b[0;34m.\u001b[0m\u001b[0mrecv\u001b[0m\u001b[0;34m(\u001b[0m\u001b[0;34m)\u001b[0m\u001b[0;34m\u001b[0m\u001b[0;34m\u001b[0m\u001b[0m\n\u001b[0m\u001b[1;32m    338\u001b[0m             \u001b[0;32mif\u001b[0m \u001b[0mpacket\u001b[0m\u001b[0;34m.\u001b[0m\u001b[0mstartswith\u001b[0m\u001b[0;34m(\u001b[0m\u001b[0;34mb'\\xff\\xff\\xff'\u001b[0m\u001b[0;34m)\u001b[0m\u001b[0;34m:\u001b[0m\u001b[0;34m\u001b[0m\u001b[0;34m\u001b[0m\u001b[0m\n\u001b[1;32m    339\u001b[0m                 \u001b[0mdatas\u001b[0m \u001b[0;34m=\u001b[0m \u001b[0;34m[\u001b[0m\u001b[0mpacket\u001b[0m\u001b[0;34m[\u001b[0m\u001b[0;36m4\u001b[0m\u001b[0;34m:\u001b[0m\u001b[0;34m]\u001b[0m\u001b[0;34m]\u001b[0m\u001b[0;34m\u001b[0m\u001b[0;34m\u001b[0m\u001b[0m\n",
      "\u001b[0;32m~/.conda/envs/embedding-base/lib/python3.7/site-packages/mysql/connector/network.py\u001b[0m in \u001b[0;36mrecv_plain\u001b[0;34m(self)\u001b[0m\n\u001b[1;32m    268\u001b[0m             \u001b[0mpacket_view\u001b[0m \u001b[0;34m=\u001b[0m \u001b[0mpacket_view\u001b[0m\u001b[0;34m[\u001b[0m\u001b[0;36m4\u001b[0m\u001b[0;34m:\u001b[0m\u001b[0;34m]\u001b[0m\u001b[0;34m\u001b[0m\u001b[0;34m\u001b[0m\u001b[0m\n\u001b[1;32m    269\u001b[0m             \u001b[0;32mwhile\u001b[0m \u001b[0mrest\u001b[0m\u001b[0;34m:\u001b[0m\u001b[0;34m\u001b[0m\u001b[0;34m\u001b[0m\u001b[0m\n\u001b[0;32m--> 270\u001b[0;31m                 \u001b[0mread\u001b[0m \u001b[0;34m=\u001b[0m \u001b[0mself\u001b[0m\u001b[0;34m.\u001b[0m\u001b[0msock\u001b[0m\u001b[0;34m.\u001b[0m\u001b[0mrecv_into\u001b[0m\u001b[0;34m(\u001b[0m\u001b[0mpacket_view\u001b[0m\u001b[0;34m,\u001b[0m \u001b[0mrest\u001b[0m\u001b[0;34m)\u001b[0m\u001b[0;34m\u001b[0m\u001b[0;34m\u001b[0m\u001b[0m\n\u001b[0m\u001b[1;32m    271\u001b[0m                 \u001b[0;32mif\u001b[0m \u001b[0mread\u001b[0m \u001b[0;34m==\u001b[0m \u001b[0;36m0\u001b[0m \u001b[0;32mand\u001b[0m \u001b[0mrest\u001b[0m \u001b[0;34m>\u001b[0m \u001b[0;36m0\u001b[0m\u001b[0;34m:\u001b[0m\u001b[0;34m\u001b[0m\u001b[0;34m\u001b[0m\u001b[0m\n\u001b[1;32m    272\u001b[0m                     \u001b[0;32mraise\u001b[0m \u001b[0merrors\u001b[0m\u001b[0;34m.\u001b[0m\u001b[0mInterfaceError\u001b[0m\u001b[0;34m(\u001b[0m\u001b[0merrno\u001b[0m\u001b[0;34m=\u001b[0m\u001b[0;36m2013\u001b[0m\u001b[0;34m)\u001b[0m\u001b[0;34m\u001b[0m\u001b[0;34m\u001b[0m\u001b[0m\n",
      "\u001b[0;31mKeyboardInterrupt\u001b[0m: "
     ]
    }
   ],
   "source": [
    "year = 1958\n",
    "\n",
    "K_list = [100,1000,10000, 100000]\n",
    "records = []\n",
    "records_baseline = []\n",
    "records_smallbaseline = []\n",
    "\n",
    "for K in K_list:\n",
    "\n",
    "    sql = '''SELECT M.pmid, E.embedding\n",
    "                FROM metadata as M\n",
    "                INNER JOIN scibert_mean_embedding as E\n",
    "                ON M.pmid = E.pmid\n",
    "                WHERE M.year={} LIMIT {}'''.format(year, K)\n",
    "    print(sql)\n",
    "\n",
    "    start_time = time.time()\n",
    "    cursor = db.cursor()\n",
    "    cursor.execute(sql)\n",
    "    output = cursor.fetchall()\n",
    "    cursor.close()\n",
    "\n",
    "    end_time = time.time()\n",
    "    elapsed = end_time - start_time\n",
    "    records.append(elapsed)\n",
    "    print(\"sql join executed in {} s\".format(elapsed))\n",
    "    \n",
    "### check baseline without any join operation (large table)\n",
    "\n",
    "    sql = '''SELECT E.pmid, E.embedding\n",
    "                FROM scibert_mean_embedding as E\n",
    "                LIMIT {}'''.format(K)\n",
    "    print(sql)\n",
    "\n",
    "    start_time = time.time()\n",
    "    cursor = db.cursor()\n",
    "    cursor.execute(sql)\n",
    "    output = cursor.fetchall()\n",
    "    cursor.close()\n",
    "\n",
    "    end_time = time.time()\n",
    "    elapsed = end_time - start_time\n",
    "    records_baseline.append(elapsed)\n",
    "    print(\"sql baseline executed in {} s\".format(elapsed))\n",
    "    \n",
    "### check baseline without any join operation (small table with WHERE)\n",
    "\n",
    "    sql = '''SELECT M.pmid, M.year\n",
    "                FROM metadata as M\n",
    "                WHERE M.year={}\n",
    "                LIMIT {}'''.format(year,K)\n",
    "    print(sql)\n",
    "\n",
    "    start_time = time.time()\n",
    "    cursor = db.cursor()\n",
    "    cursor.execute(sql)\n",
    "    output = cursor.fetchall()\n",
    "    cursor.close()\n",
    "\n",
    "    end_time = time.time()\n",
    "    elapsed = end_time - start_time\n",
    "    records_smallbaseline.append(elapsed)\n",
    "    print(\"sql baseline executed in {} s\".format(elapsed))"
   ]
  },
  {
   "cell_type": "code",
   "execution_count": 92,
   "metadata": {},
   "outputs": [
    {
     "data": {
      "text/plain": [
       "Text(0.5, 1.0, 'running time for large SQL JOIN and component operations')"
      ]
     },
     "execution_count": 92,
     "metadata": {},
     "output_type": "execute_result"
    },
    {
     "data": {
      "image/png": "[encoded data removed]",
      "text/plain": [
       "<Figure size 432x288 with 1 Axes>"
      ]
     },
     "metadata": {
      "needs_background": "light"
     },
     "output_type": "display_data"
    }
   ],
   "source": [
    "plt.figure()\n",
    "\n",
    "plt.loglog(K_list, records, color=[0,0.5,0.75],alpha=0.25,linestyle='--')\n",
    "plt.loglog(K_list, records,'x',color=[0.05, 0.75, 0.75])\n",
    "\n",
    "plt.loglog(K_list, records_baseline, color='k',alpha=0.25,linestyle='--')\n",
    "plt.loglog(K_list, records_baseline,'x',color='k')\n",
    "\n",
    "plt.loglog(K_list, records_smallbaseline, color='k',alpha=0.25,linestyle='-.')\n",
    "plt.loglog(K_list, records_smallbaseline,'x',color='k')\n",
    "\n",
    "plt.xlabel('number of pmids')\n",
    "plt.ylabel('running time (s)')\n",
    "plt.title('running time for large SQL JOIN and component operations')"
   ]
  },
  {
   "cell_type": "markdown",
   "metadata": {},
   "source": [
    "# benchmarking\n",
    "### (with file lookup)"
   ]
  },
  {
   "cell_type": "code",
   "execution_count": 113,
   "metadata": {},
   "outputs": [
    {
     "name": "stdout",
     "output_type": "stream",
     "text": [
      "sql join executed in 0.06144404411315918 s\n",
      "\n",
      "sql join executed in 0.07614803314208984 s\n",
      "\n",
      "sql join executed in 0.7716941833496094 s\n",
      "\n",
      "sql join executed in 11.88233470916748 s\n",
      "\n"
     ]
    }
   ],
   "source": [
    "year = 1958\n",
    "\n",
    "path2dir = '/project2/jevans/brendan/pubmed_data_processing/year_pmids/'\n",
    "filename = 'pubmed_state_{}'.format(year)\n",
    "path2pmids = path2dir + filename\n",
    "with open(path2pmids,'r') as f:\n",
    "    data = json.load(f)\n",
    "\n",
    "K_list = [100,1000,10000, 100000]\n",
    "records = []\n",
    "\n",
    "for K in K_list:\n",
    "    \n",
    "    target_pmids = data['publications'][:K] # for benchmarking\n",
    "    str_fmt = ', '.join([str(pmid) for pmid in target_pmids])\n",
    "\n",
    "    sql = '''SELECT E.pmid, E.embedding\n",
    "                FROM scibert_mean_embedding as E\n",
    "                WHERE E.pmid IN ({})'''.format(str_fmt)\n",
    "    #print(sql[:500])\n",
    "\n",
    "    start_time = time.time()\n",
    "    cursor = db.cursor()\n",
    "    cursor.execute(sql)\n",
    "    output = cursor.fetchall()\n",
    "    cursor.close()\n",
    "\n",
    "    end_time = time.time()\n",
    "    elapsed = end_time - start_time\n",
    "    records.append(elapsed)\n",
    "    print(\"sql join executed in {} s\".format(elapsed))\n",
    "    print()\n"
   ]
  },
  {
   "cell_type": "code",
   "execution_count": 114,
   "metadata": {},
   "outputs": [
    {
     "data": {
      "text/plain": [
       "Text(0.5, 1.0, 'running time for large SQL IN lookup')"
      ]
     },
     "execution_count": 114,
     "metadata": {},
     "output_type": "execute_result"
    },
    {
     "data": {
      "image/png": "[encoded data removed]",
      "text/plain": [
       "<Figure size 432x288 with 1 Axes>"
      ]
     },
     "metadata": {
      "needs_background": "light"
     },
     "output_type": "display_data"
    }
   ],
   "source": [
    "plt.figure()\n",
    "\n",
    "plt.loglog(K_list, records, color=[0,0.5,0.75],alpha=0.25,linestyle='--')\n",
    "plt.loglog(K_list, records,'x',color=[0.05, 0.75, 0.75])\n",
    "\n",
    "plt.xlabel('number of pmids')\n",
    "plt.ylabel('running time (s)')\n",
    "plt.title('running time for large SQL IN lookup')"
   ]
  },
  {
   "cell_type": "code",
   "execution_count": null,
   "metadata": {},
   "outputs": [],
   "source": []
  },
  {
   "cell_type": "code",
   "execution_count": 109,
   "metadata": {},
   "outputs": [],
   "source": [
    "db.close()"
   ]
  },
  {
   "cell_type": "code",
   "execution_count": null,
   "metadata": {},
   "outputs": [],
   "source": []
  },
  {
   "cell_type": "code",
   "execution_count": null,
   "metadata": {},
   "outputs": [],
   "source": []
  },
  {
   "cell_type": "code",
   "execution_count": null,
   "metadata": {},
   "outputs": [],
   "source": []
  }
 ],
 "metadata": {
  "kernelspec": {
   "display_name": "Python 3",
   "language": "python",
   "name": "python3"
  },
  "language_info": {
   "codemirror_mode": {
    "name": "ipython",
    "version": 3
   },
   "file_extension": ".py",
   "mimetype": "text/x-python",
   "name": "python",
   "nbconvert_exporter": "python",
   "pygments_lexer": "ipython3",
   "version": "3.7.3"
  }
 },
 "nbformat": 4,
 "nbformat_minor": 2
}

{
 "cells": [
  {
   "cell_type": "code",
   "execution_count": 1,
   "metadata": {},
   "outputs": [],
   "source": [
    "#  step through years and visualize in PCA space\n",
    "\n",
    "import mysql.connector as mysql\n",
    "import pickle\n",
    "import json\n",
    "\n",
    "import numpy as np\n",
    "from sklearn.decomposition import PCA\n",
    "\n",
    "import matplotlib.pyplot as plt\n",
    "import seaborn as sns\n",
    "plt.rcParams['svg.fonttype'] = 'none'\n",
    "\n",
    "import time"
   ]
  },
  {
   "cell_type": "markdown",
   "metadata": {},
   "source": [
    "### mysql client"
   ]
  },
  {
   "cell_type": "code",
   "execution_count": 2,
   "metadata": {},
   "outputs": [],
   "source": [
    "db_name = 'test_pubmed'  # db name collisons? https://stackoverflow.com/questions/14011968/user-cant-access-a-database\n",
    "client_config = {'unix_socket':'/home/brendanchambers/.sql.sock',\n",
    "                'database': db_name,\n",
    "                'use_pure': True}  # for python connector\n",
    "output_path = '/project2/jevans/brendan/pubmed_data_processing/year_pmids/'"
   ]
  },
  {
   "cell_type": "code",
   "execution_count": null,
   "metadata": {},
   "outputs": [],
   "source": []
  },
  {
   "cell_type": "markdown",
   "metadata": {},
   "source": [
    "## load pre-fit pca model"
   ]
  },
  {
   "cell_type": "code",
   "execution_count": 3,
   "metadata": {},
   "outputs": [],
   "source": [
    "pca_path = 'develop_samples/pca_model1.pkl'  # more located at /project2...\n",
    "with open(pca_path, 'rb') as file:\n",
    "    pca_model = pickle.load(file)"
   ]
  },
  {
   "cell_type": "markdown",
   "metadata": {},
   "source": [
    "# load year publication pmids  & join to embeddings \n",
    "\n",
    "(todo join to text as well)"
   ]
  },
  {
   "cell_type": "code",
   "execution_count": null,
   "metadata": {},
   "outputs": [
    {
     "name": "stdout",
     "output_type": "stream",
     "text": [
      "2003...\n",
      "N pubs: 583939\n",
      "SQL join executed in 1.2565925121307373 s\n",
      "fetched 100000 rows...\n",
      "fetched 100000 rows...\n",
      "fetched 100000 rows...\n",
      "fetched 100000 rows...\n",
      "fetched 100000 rows...\n",
      "fetched 100000 rows...\n",
      "SQL results fetched and cast in 537.6811707019806 s\n",
      "pca transform finished in 4.76837158203125e-07 s\n"
     ]
    }
   ],
   "source": [
    "start_year = 2003\n",
    "end_year = 2018\n",
    "D_truncate = 300\n",
    "path2dir = '/project2/jevans/brendan/pubmed_data_processing/year_pmids/'\n",
    "\n",
    "year_pubs = {}\n",
    "for year in range(start_year, end_year+1):\n",
    "    \n",
    "    print('{}...'.format(year))\n",
    "    \n",
    "    db = mysql.connect(**client_config)\n",
    "\n",
    "    filename = 'pubmed_state_{}'.format(year)\n",
    "    path2pmids = path2dir + filename\n",
    "    with open(path2pmids,'r') as f:\n",
    "        data = json.load(f)\n",
    "    \n",
    "    year_pub_pmids = data['publications']\n",
    "    N_pubs = len(year_pub_pmids)\n",
    "    print(\"N pubs: {}\".format(N_pubs))\n",
    "    del data # clean up\n",
    "    \n",
    "    str_fmt = ', '.join([str(pmid) for pmid in year_pub_pmids])\n",
    "    \n",
    "    sql = '''SELECT E.pmid, E.embedding\n",
    "            FROM scibert_mean_embedding as E\n",
    "            WHERE E.pmid IN ({})'''.format(str_fmt)\n",
    "    \n",
    "    start_time = time.time()\n",
    "    cursor = db.cursor(buffered=False)\n",
    "    cursor.execute(sql)\n",
    "    end_time = time.time()\n",
    "    elapsed = end_time - start_time\n",
    "    print(\"SQL join executed in {} s\".format(elapsed))\n",
    "\n",
    "    start_time = time.time()\n",
    "    pub_embeddings = []\n",
    "    pub_pmids = []\n",
    "    for i,row in enumerate(cursor):\n",
    "        print_block_len = 100000\n",
    "        if i % print_block_len == 0:\n",
    "            print('fetched {} rows...'.format(print_block_len))\n",
    "        pub_pmids.append(row[0])\n",
    "        pub_embeddings.append(np.frombuffer(row[1],dtype='float64').tolist())\n",
    "    cursor.close()\n",
    "    end_time = time.time()\n",
    "    elapsed = end_time - start_time\n",
    "    print(\"SQL results fetched and cast in {} s\".format(elapsed))\n",
    "    \n",
    "    start_time = time.time()\n",
    "    #year_pubs[year] = pca_model.transform(pub_embeddings)[:,:D_truncate]\n",
    "    end_time = time.time()\n",
    "    elapsed = end_time - start_time\n",
    "    print(\"pca transform finished in {} s\".format(elapsed))\n",
    "    \n",
    "    start_time = time.time()\n",
    "    path = output_path + 'publication_embeddings/' + str(year) + '.json'\n",
    "    save_obj = {'pmids': pub_pmids,\n",
    "                'embeddings': pub_embeddings}\n",
    "    with open(path,'w') as f:\n",
    "        json.dump(save_obj, f)\n",
    "    end_time = time.time()\n",
    "    elapsed = end_time - start_time\n",
    "    print('finished writing output file in {} s...'.format(elapsed))\n",
    "        \n",
    "    print()"
   ]
  },
  {
   "cell_type": "markdown",
   "metadata": {},
   "source": [
    "# load year citation pmids, join to embeddings"
   ]
  },
  {
   "cell_type": "code",
   "execution_count": null,
   "metadata": {},
   "outputs": [],
   "source": [
    "year_cites = {}\n",
    "\n",
    "for year in range(start_year, end_year+1):\n",
    "    \n",
    "    print('{}...'.format(year))\n",
    "    \n",
    "    db = mysql.connect(**client_config)\n",
    "\n",
    "    filename = 'pubmed_state_{}'.format(year)\n",
    "    path2pmids = path2dir + filename\n",
    "    with open(path2pmids,'r') as f:\n",
    "        data = json.load(f)\n",
    "    \n",
    "    year_cite_pmids = data['citations']\n",
    "    del data # clean up\n",
    "    N_citations = len(year_cite_pmids)\n",
    "    print(\"N citations: {}\".format(N_citations))\n",
    "    \n",
    "    str_fmt = ', '.join([str(pmid) for pmid in year_cite_pmids])\n",
    "    \n",
    "    sql = '''SELECT E.pmid, E.embedding\n",
    "            FROM scibert_mean_embedding as E\n",
    "            WHERE E.pmid IN ({})'''.format(str_fmt)\n",
    "    \n",
    "    start_time = time.time()\n",
    "    cursor = db.cursor(buffered=False)\n",
    "    cursor.execute(sql)\n",
    "    end_time = time.time()\n",
    "    elapsed = end_time - start_time\n",
    "    print(\"SQL join executed in {} s\".format(elapsed))\n",
    "\n",
    "    start_time = time.time()\n",
    "    cite_embeddings = []\n",
    "    cite_pmids = []\n",
    "    for i,row in enumerate(cursor):\n",
    "        print_block_len = 100000\n",
    "        if i % print_block_len == 0:\n",
    "            print('fetched {} rows...'.format(print_block_len))\n",
    "        cite_pmids.append(row[0])\n",
    "        cite_embeddings.append(np.frombuffer(row[1],dtype='float64').tolist())\n",
    "\n",
    "    cursor.close()\n",
    "    print('fetched')\n",
    "\n",
    "    end_time = time.time()\n",
    "    elapsed = end_time - start_time\n",
    "    print(\"SQL results fetched and cast in {} s\".format(elapsed))\n",
    "\n",
    "    start_time = time.time()\n",
    "    #year_cites[year] = pca_model.transform(cite_embeddings)[:,:D_truncate]\n",
    "    end_time = time.time()\n",
    "    elapsed = end_time - start_time\n",
    "    print(\"pca transform finished in {} s\".format(elapsed))\n",
    "        \n",
    "    start_time = time.time()\n",
    "    path = output_path + 'citation_embeddings/' + str(year) + '.json'\n",
    "    save_obj = {'pmids': cite_pmids,\n",
    "                'embeddings': cite_embeddings}\n",
    "    with open(path,'w') as f:\n",
    "        json.dump(save_obj, f)\n",
    "    end_time = time.time()\n",
    "    elapsed = end_time - start_time\n",
    "    print('finished writing output file in {} s'.format(elapsed))\n",
    "    \n",
    "    db.close()\n",
    "    print()\n",
    "    "
   ]
  },
  {
   "cell_type": "code",
   "execution_count": null,
   "metadata": {},
   "outputs": [],
   "source": []
  },
  {
   "cell_type": "code",
   "execution_count": null,
   "metadata": {},
   "outputs": [],
   "source": []
  },
  {
   "cell_type": "markdown",
   "metadata": {},
   "source": [
    "### plot publications and citations"
   ]
  },
  {
   "cell_type": "code",
   "execution_count": null,
   "metadata": {},
   "outputs": [],
   "source": []
  },
  {
   "cell_type": "code",
   "execution_count": null,
   "metadata": {},
   "outputs": [],
   "source": []
  },
  {
   "cell_type": "code",
   "execution_count": null,
   "metadata": {},
   "outputs": [],
   "source": []
  },
  {
   "cell_type": "code",
   "execution_count": null,
   "metadata": {},
   "outputs": [],
   "source": []
  },
  {
   "cell_type": "code",
   "execution_count": null,
   "metadata": {},
   "outputs": [],
   "source": []
  },
  {
   "cell_type": "code",
   "execution_count": null,
   "metadata": {},
   "outputs": [],
   "source": []
  },
  {
   "cell_type": "code",
   "execution_count": null,
   "metadata": {},
   "outputs": [],
   "source": []
  },
  {
   "cell_type": "code",
   "execution_count": null,
   "metadata": {},
   "outputs": [],
   "source": []
  },
  {
   "cell_type": "code",
   "execution_count": null,
   "metadata": {},
   "outputs": [],
   "source": []
  },
  {
   "cell_type": "code",
   "execution_count": null,
   "metadata": {},
   "outputs": [],
   "source": [
    "# todo - use this as raw material for a separate plotting script\n",
    "\n",
    "def plot_pubs_and_cites(start_year, end_year):\n",
    "    (f, ax) = plt.subplots(end_year - start_year + 1,\n",
    "                       2,\n",
    "                       sharex='all', sharey='all',\n",
    "                       figsize=(4,4))\n",
    "\n",
    "    for i_year, year in enumerate(range(start_year, end_year+1)):\n",
    "\n",
    "        print(i_year, year)\n",
    "\n",
    "        sns.kdeplot(year_pubs[year][:,0],\n",
    "                    year_pubs[year][:,1],\n",
    "                    ax=ax[i_year,0],\n",
    "                    shade=True,\n",
    "                    cmap='Blues')\n",
    "        ax[i_year,0].set_title('published: year {}'.format(year))\n",
    "\n",
    "\n",
    "        sns.kdeplot(year_cites[year][:,0],\n",
    "                    year_cites[year][:,1],\n",
    "                    ax=ax[i_year,1],\n",
    "                    shade=True,\n",
    "                    cmap='Reds')\n",
    "        ax[i_year,1].set_title('cited: {}'.format(year))\n",
    "\n",
    "    plt.savefig('publications and citations prototype {} - {}.png'.format(start_year, end_year))\n",
    "    plt.savefig('publications and citations prototype {} - {}.svg'.format(start_year, end_year))\n",
    "    plt.show()"
   ]
  },
  {
   "cell_type": "code",
   "execution_count": null,
   "metadata": {},
   "outputs": [],
   "source": [
    "for i_year in range(start_year, end_year):\n",
    "    plot_pubs_and_cites(i_year, i_year+1)"
   ]
  },
  {
   "cell_type": "code",
   "execution_count": null,
   "metadata": {},
   "outputs": [],
   "source": []
  }
 ],
 "metadata": {
  "kernelspec": {
   "display_name": "Python 3",
   "language": "python",
   "name": "python3"
  },
  "language_info": {
   "codemirror_mode": {
    "name": "ipython",
    "version": 3
   },
   "file_extension": ".py",
   "mimetype": "text/x-python",
   "name": "python",
   "nbconvert_exporter": "python",
   "pygments_lexer": "ipython3",
   "version": "3.7.3"
  }
 },
 "nbformat": 4,
 "nbformat_minor": 2
}

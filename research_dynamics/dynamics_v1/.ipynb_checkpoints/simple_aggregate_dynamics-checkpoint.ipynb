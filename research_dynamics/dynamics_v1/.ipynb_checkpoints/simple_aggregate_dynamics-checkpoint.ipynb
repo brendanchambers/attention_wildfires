{
 "cells": [
  {
   "cell_type": "code",
   "execution_count": 1,
   "metadata": {},
   "outputs": [],
   "source": [
    "# try looking at dynamics from year to year"
   ]
  },
  {
   "cell_type": "code",
   "execution_count": 21,
   "metadata": {},
   "outputs": [],
   "source": [
    "import time\n",
    "import mysql.connector as mysql\n",
    "\n",
    "from pyspark import SparkConf, SparkContext\n",
    "from pyspark.sql import SQLContext, SparkSession\n",
    "from pyspark.sql.types import Row, StructType, StructField, IntegerType, StringType\n",
    "\n",
    "import os\n",
    "import time\n",
    "import random\n",
    "\n",
    "#import igraph\n",
    "\n",
    "import time\n",
    "import numpy as np\n",
    "\n",
    "import matplotlib.pyplot as plt\n",
    "#import cairocffi as cairo\n",
    "\n",
    "import seaborn as sns\n",
    "import umap\n",
    "import statsmodels.api as sm  # for kdemultivariate \n",
    "\n",
    "import json\n",
    "\n",
    "#import matplotlib as mpl\n",
    "#mpl.rcParams['pdf.fonttype'] = 42  # for vector graphics export\n",
    "plt.rcParams['svg.fonttype'] = 'none'"
   ]
  },
  {
   "cell_type": "code",
   "execution_count": null,
   "metadata": {},
   "outputs": [],
   "source": [
    "# get a big sample to train a pca reduction / umap reduction\n",
    "#    todo ultimately probably want a better method here...var autoencoder?\n",
    "#       graph embedding?\n"
   ]
  },
  {
   "cell_type": "code",
   "execution_count": 3,
   "metadata": {},
   "outputs": [],
   "source": [
    "SUBMIT_ARGS = \"--driver-class-path file:///home/brendanchambers/my_resources/mysql-connector-java-8.0.16/mysql-connector-java-8.0.16.jar --jars file:///home/brendanchambers/my_resources/mysql-connector-java-8.0.16/mysql-connector-java-8.0.16.jar pyspark-shell\"\n",
    "os.environ[\"PYSPARK_SUBMIT_ARGS\"] = SUBMIT_ARGS\n",
    "\n",
    "db_name = 'test_pubmed'  # db name collisons? https://stackoverflow.com/questions/14011968/user-cant-access-a-database\n",
    "url = \"jdbc:mysql://localhost:3306/{}?useUnicode=true&useJDBCCompliantTimezoneShift=true&useLegacyDatetimeCode=false&serverTimezone=America/Chicago\".format(db_name)  # mysql runs on port 3306\n",
    "client_config = {'unix_socket':'/home/brendanchambers/.sql.sock',\n",
    "                'database': db_name}  # for python connector"
   ]
  },
  {
   "cell_type": "code",
   "execution_count": 4,
   "metadata": {},
   "outputs": [
    {
     "name": "stdout",
     "output_type": "stream",
     "text": [
      "initializing spark\n",
      "[('spark.repl.local.jars', 'file:///home/brendanchambers/my_resources/mysql-connector-java-8.0.16/mysql-connector-java-8.0.16.jar'), ('spark.jars', '/home/brendanchambers/my_resources/mysql-connector-java-8.0.16/mysql-connector-java-8.0.16.jar'), ('spark.driver.host', 'midway2-bigmem01.rcc.local'), ('spark.app.id', 'local-1567618262197'), ('spark.executor.id', 'driver'), ('spark.app.name', 'pyspark-shell'), ('spark.rdd.compress', 'True'), ('spark.driver.extraClassPath', 'file:///home/brendanchambers/my_resources/mysql-connector-java-8.0.16/mysql-connector-java-8.0.16.jar'), ('spark.driver.port', '46524'), ('spark.serializer.objectStreamReset', '100'), ('spark.master', 'local[*]'), ('spark.submit.deployMode', 'client'), ('spark.ui.showConsoleProgress', 'true'), ('spark.driver.memory', '100G')]\n"
     ]
    }
   ],
   "source": [
    "print('initializing spark')\n",
    "# init spark\n",
    "conf = SparkConf()\n",
    "conf = (conf.setMaster('local[*]')\n",
    "       .set('spark.driver.memory','100G')\n",
    "       .set(\"spark.jars\", \"/home/brendanchambers/my_resources/mysql-connector-java-8.0.16/mysql-connector-java-8.0.16.jar\"))        \n",
    "'''\n",
    ".set('spark.executor.memory','1G')  # 20\n",
    ".set('spark.driver.memory','1G')   # 40\n",
    ".set('spark.driver.maxResultSize','500M')  #.set('spark.storage.memoryFraction',0))  # this setting is now a legacy option\n",
    ".set('spark.python.worker.reuse', 'false')\n",
    ".set('spark.python.worker.memory','512m')\n",
    ".set('spark.executor.cores','1'))\n",
    "'''\n",
    "sc = SparkContext(conf=conf)\n",
    "#sc.addJar('home/brendanchambers/my_resources/mysql-connector-java-8.0.16/mysql-connector-java-8.0.16.jar')  # temp\n",
    "spark = SparkSession(sc)  # don't need this for vanilla RDDs\n",
    "\n",
    "print(sc._conf.getAll())"
   ]
  },
  {
   "cell_type": "markdown",
   "metadata": {},
   "source": []
  },
  {
   "cell_type": "code",
   "execution_count": null,
   "metadata": {},
   "outputs": [],
   "source": []
  },
  {
   "cell_type": "markdown",
   "metadata": {},
   "source": [
    "# summarize temporal citation dynamics in aggregate"
   ]
  },
  {
   "cell_type": "code",
   "execution_count": 30,
   "metadata": {},
   "outputs": [],
   "source": [
    "# todo figure: # publications, # citations, # unique citations\n",
    "\n",
    "year_basepath = '/project2/jevans/brendan/pubmed_data_processing/year_pmids/'\n",
    "\n",
    "tt = []\n",
    "n_pubs = []\n",
    "n_cite = []\n",
    "n_unq_cite = []\n",
    "\n",
    "start_year = 1958\n",
    "end_year = 2018\n",
    "for year in range(start_year, end_year+1):\n",
    "    year_path = year_basepath + 'pubmed_state_' + str(year)\n",
    "    \n",
    "    with open(year_path, 'r') as f:\n",
    "        year_state = json.load(f)\n",
    "    \n",
    "    tt.append(year)\n",
    "    n_pubs.append(np.shape(year_state['publications'])[0])\n",
    "    n_cite.append(np.shape(year_state['citations'])[0])\n",
    "    \n",
    "    unique_citations = np.unique(year_state['citations'])\n",
    "    n_unq_cite.append(np.shape(unique_citations)[0])    \n",
    "    "
   ]
  },
  {
   "cell_type": "code",
   "execution_count": 31,
   "metadata": {},
   "outputs": [
    {
     "data": {
      "image/png": "[encoded data removed]",
      "text/plain": [
       "<Figure size 864x288 with 3 Axes>"
      ]
     },
     "metadata": {
      "needs_background": "light"
     },
     "output_type": "display_data"
    }
   ],
   "source": [
    "(f, ax) = plt.subplots(1, 3, sharex='all', figsize=(12,4))\n",
    "\n",
    "ax[0].plot(tt, n_pubs, color='k')\n",
    "ax[0].set_title('publication count')\n",
    "ax[0].set_xlabel('time')\n",
    "ax[0].set_ylabel('count')\n",
    "\n",
    "ax[1].plot(tt, n_cite, color='k')\n",
    "ax[1].set_title('raw citation count')\n",
    "ax[1].set_xlabel('time')\n",
    "ax[1].set_ylabel('count')\n",
    "\n",
    "ax[2].plot(tt, n_unq_cite, color='k')\n",
    "ax[2].set_title('unique citation count')\n",
    "ax[2].set_xlabel('time')\n",
    "ax[2].set_ylabel('count')\n",
    "\n",
    "plt.savefig('dataset basic stats.png')\n",
    "plt.savefig('dataset basic stats.svg')"
   ]
  },
  {
   "cell_type": "code",
   "execution_count": 45,
   "metadata": {},
   "outputs": [
    {
     "data": {
      "image/png": "[encoded data removed]",
      "text/plain": [
       "<Figure size 864x288 with 3 Axes>"
      ]
     },
     "metadata": {
      "needs_background": "light"
     },
     "output_type": "display_data"
    }
   ],
   "source": [
    "avg_citations = []\n",
    "avg_unq_citations = []\n",
    "rpt_ratio = []\n",
    "\n",
    "for i, year in enumerate(range(start_year, end_year+1)):\n",
    "    avg = 1.0*n_cite[i] / n_pubs[i]\n",
    "    avg_citations.append(avg)\n",
    "    \n",
    "    avg_unq = 1.0*n_unq_cite[i] / n_pubs[i]\n",
    "    avg_unq_citations.append(avg_unq)\n",
    "    \n",
    "    rpt = 1.0*n_cite[i] / n_unq_cite[i]\n",
    "    rpt_ratio.append(rpt)\n",
    "\n",
    "(f, ax) = plt.subplots(1, 3, sharex='all', figsize=(12,4))\n",
    "\n",
    "ax[0].semilogy(tt, avg_citations, color=[0.1, 0.4, 0.8])\n",
    "ax[0].set_title('citations per publication')\n",
    "ax[0].set_xlabel('time')\n",
    "ax[0].set_ylabel('count')\n",
    "\n",
    "ax[1].semilogy(tt, rpt_ratio, color=[0.4, 0.8, 0.1])\n",
    "ax[1].set_title('average appearances per citation')\n",
    "ax[1].set_xlabel('time')\n",
    "ax[1].set_ylabel('count')\n",
    "\n",
    "ax[2].semilogy(tt, avg_unq_citations, color=[0.4, 0.1, 0.8])\n",
    "ax[2].set_title('unique citations per pub')\n",
    "ax[2].set_xlabel('time')\n",
    "ax[2].set_ylabel('count')\n",
    "\n",
    "plt.savefig('dataset ratio stats.png')\n",
    "plt.savefig('dataset ratio stats.svg')\n",
    "\n",
    "\n",
    "#### merged figure\n",
    "\n",
    "(f, ax) = plt.subplots(1, 1, figsize=(5,5))\n",
    "\n",
    "ax[0].semilogy(tt, avg_citations, color=[0.1, 0.4, 0.8])\n",
    "ax[0].set_title('citations per publication')\n",
    "ax[0].set_xlabel('time')\n",
    "ax[0].set_ylabel('count')\n",
    "\n",
    "ax[1].semilogy(tt, rpt_ratio, color=[0.4, 0.8, 0.1])\n",
    "ax[1].set_title('average appearances per citation')\n",
    "ax[1].set_xlabel('time')\n",
    "ax[1].set_ylabel('count')\n",
    "\n",
    "ax[2].semilogy(tt, avg_unq_citations, color=[0.4, 0.1, 0.8])\n",
    "ax[2].set_title('unique citations per pub')\n",
    "ax[2].set_xlabel('time')\n",
    "ax[2].set_ylabel('count')\n",
    "\n",
    "plt.savefig('dataset ratio merged stats.png')\n",
    "plt.savefig('dataset ratio merged stats.svg')"
   ]
  },
  {
   "cell_type": "code",
   "execution_count": null,
   "metadata": {},
   "outputs": [],
   "source": []
  },
  {
   "cell_type": "markdown",
   "metadata": {},
   "source": [
    "### viz a single year"
   ]
  },
  {
   "cell_type": "code",
   "execution_count": null,
   "metadata": {},
   "outputs": [],
   "source": [
    "year = 2004\n",
    "year_basepath = '/project2/jevans/brendan/pubmed_data_processing/year_pmids/'\n",
    "year_path = year_basepath + 'pubmed_state_' + str(year)\n",
    "print(year_path)\n",
    "\n",
    "with open(year_path, 'r') as f:\n",
    "    year_state = json.load(f)\n",
    "    \n",
    "print(year_state.keys())\n",
    "print(np.shape(year_state['publications']))  # ~400k , 600k, 1.2M (1990, 2004, 2018)\n",
    "print(np.shape(year_state['citations']))     # 3M , 9.8M, 27.9M\n",
    "\n",
    "unique_citations = np.unique(year_state['citations'])\n",
    "print(np.shape(unique_citations))   # citation list includes duplicates (by design)"
   ]
  },
  {
   "cell_type": "code",
   "execution_count": null,
   "metadata": {},
   "outputs": [],
   "source": []
  },
  {
   "cell_type": "code",
   "execution_count": null,
   "metadata": {},
   "outputs": [],
   "source": []
  },
  {
   "cell_type": "code",
   "execution_count": null,
   "metadata": {},
   "outputs": [],
   "source": []
  },
  {
   "cell_type": "code",
   "execution_count": null,
   "metadata": {},
   "outputs": [],
   "source": []
  },
  {
   "cell_type": "code",
   "execution_count": null,
   "metadata": {},
   "outputs": [],
   "source": []
  },
  {
   "cell_type": "code",
   "execution_count": null,
   "metadata": {},
   "outputs": [],
   "source": []
  },
  {
   "cell_type": "markdown",
   "metadata": {},
   "source": [
    "# old code for reference"
   ]
  },
  {
   "cell_type": "code",
   "execution_count": 5,
   "metadata": {},
   "outputs": [
    {
     "name": "stdout",
     "output_type": "stream",
     "text": [
      "(SELECT * FROM metadata) AS t\n",
      "dataframe loaded in 10.087861061096191 s\n",
      "9\n"
     ]
    }
   ],
   "source": [
    "# test one year\n",
    "\n",
    "tablename_ = 'metadata'\n",
    "\n",
    "sql = \"(SELECT * FROM {}) AS t\".format(tablename_)\n",
    "print(sql)\n",
    "\n",
    "start_time = time.time()\n",
    "df_meta = spark.read.format('jdbc').option(\"url\", url)\\\n",
    "                              .option(\"dbtable\", sql)\\\n",
    "                              .load().repartition(9).cache()\n",
    "end_time = time.time()\n",
    "print(\"dataframe loaded in {} s\".format(end_time - start_time))\n",
    "\n",
    "print(df_meta.rdd.getNumPartitions())"
   ]
  },
  {
   "cell_type": "code",
   "execution_count": 6,
   "metadata": {},
   "outputs": [
    {
     "name": "stdout",
     "output_type": "stream",
     "text": [
      "['2008']\n",
      "elapsed: 1.2285223007202148\n"
     ]
    },
    {
     "name": "stderr",
     "output_type": "stream",
     "text": [
      "ERROR:root:Internal Python error in the inspect module.\n",
      "Below is the traceback from this internal error.\n",
      "\n"
     ]
    },
    {
     "name": "stdout",
     "output_type": "stream",
     "text": [
      "Traceback (most recent call last):\n",
      "  File \"/home/brendanchambers/.conda/envs/embedding-base/lib/python3.7/site-packages/IPython/core/interactiveshell.py\", line 3296, in run_code\n",
      "    exec(code_obj, self.user_global_ns, self.user_ns)\n",
      "  File \"<ipython-input-6-d8c1f02ea5ac>\", line 19, in <module>\n",
      "    N_papers = papers_for_year.count()\n",
      "  File \"/software/spark-2.3.2-el7-x86_64/python/pyspark/sql/dataframe.py\", line 455, in count\n",
      "    return int(self._jdf.count())\n",
      "  File \"/home/brendanchambers/.conda/envs/embedding-base/lib/python3.7/site-packages/py4j/java_gateway.py\", line 1255, in __call__\n",
      "    answer = self.gateway_client.send_command(command)\n",
      "  File \"/home/brendanchambers/.conda/envs/embedding-base/lib/python3.7/site-packages/py4j/java_gateway.py\", line 985, in send_command\n",
      "    response = connection.send_command(command)\n",
      "  File \"/home/brendanchambers/.conda/envs/embedding-base/lib/python3.7/site-packages/py4j/java_gateway.py\", line 1152, in send_command\n",
      "    answer = smart_decode(self.stream.readline()[:-1])\n",
      "  File \"/home/brendanchambers/.conda/envs/embedding-base/lib/python3.7/socket.py\", line 589, in readinto\n",
      "    return self._sock.recv_into(b)\n",
      "KeyboardInterrupt\n",
      "\n",
      "During handling of the above exception, another exception occurred:\n",
      "\n",
      "Traceback (most recent call last):\n",
      "  File \"/home/brendanchambers/.conda/envs/embedding-base/lib/python3.7/site-packages/IPython/core/interactiveshell.py\", line 2033, in showtraceback\n",
      "    stb = value._render_traceback_()\n",
      "AttributeError: 'KeyboardInterrupt' object has no attribute '_render_traceback_'\n",
      "\n",
      "During handling of the above exception, another exception occurred:\n",
      "\n",
      "Traceback (most recent call last):\n",
      "  File \"/home/brendanchambers/.conda/envs/embedding-base/lib/python3.7/site-packages/IPython/core/ultratb.py\", line 1095, in get_records\n",
      "    return _fixed_getinnerframes(etb, number_of_lines_of_context, tb_offset)\n",
      "  File \"/home/brendanchambers/.conda/envs/embedding-base/lib/python3.7/site-packages/IPython/core/ultratb.py\", line 313, in wrapped\n",
      "    return f(*args, **kwargs)\n",
      "  File \"/home/brendanchambers/.conda/envs/embedding-base/lib/python3.7/site-packages/IPython/core/ultratb.py\", line 347, in _fixed_getinnerframes\n",
      "    records = fix_frame_records_filenames(inspect.getinnerframes(etb, context))\n",
      "  File \"/home/brendanchambers/.conda/envs/embedding-base/lib/python3.7/inspect.py\", line 1502, in getinnerframes\n",
      "    frameinfo = (tb.tb_frame,) + getframeinfo(tb, context)\n",
      "  File \"/home/brendanchambers/.conda/envs/embedding-base/lib/python3.7/inspect.py\", line 1460, in getframeinfo\n",
      "    filename = getsourcefile(frame) or getfile(frame)\n",
      "  File \"/home/brendanchambers/.conda/envs/embedding-base/lib/python3.7/inspect.py\", line 696, in getsourcefile\n",
      "    if getattr(getmodule(object, filename), '__loader__', None) is not None:\n",
      "  File \"/home/brendanchambers/.conda/envs/embedding-base/lib/python3.7/inspect.py\", line 739, in getmodule\n",
      "    f = getabsfile(module)\n",
      "  File \"/home/brendanchambers/.conda/envs/embedding-base/lib/python3.7/inspect.py\", line 708, in getabsfile\n",
      "    _filename = getsourcefile(object) or getfile(object)\n",
      "  File \"/home/brendanchambers/.conda/envs/embedding-base/lib/python3.7/inspect.py\", line 693, in getsourcefile\n",
      "    if os.path.exists(filename):\n",
      "  File \"/home/brendanchambers/.conda/envs/embedding-base/lib/python3.7/genericpath.py\", line 19, in exists\n",
      "    os.stat(path)\n",
      "KeyboardInterrupt\n"
     ]
    },
    {
     "ename": "KeyboardInterrupt",
     "evalue": "",
     "output_type": "error",
     "traceback": [
      "\u001b[0;31m---------------------------------------------------------------------------\u001b[0m"
     ]
    }
   ],
   "source": [
    "# for a single year\n",
    "\n",
    "START_YEAR = 2008  # inclusive\n",
    "END_YEAR = 2009  # exclusive\n",
    "year_set = []\n",
    "for year in range(START_YEAR, END_YEAR):\n",
    "    year_set.append(str(year))\n",
    "print(year_set)\n",
    "\n",
    "start_time = time.time()\n",
    "\n",
    "papers_for_year = df_meta.filter(df_meta.year.isin(year_set)).cache()\n",
    "\n",
    "end_time = time.time()\n",
    "print(\"elapsed: {}\".format(end_time - start_time))\n",
    "\n",
    "\n",
    "start_time = time.time()\n",
    "N_papers = papers_for_year.count()\n",
    "print(\"N papers: {}\".format(N_papers))\n",
    "end_time = time.time()\n",
    "print(\"elapsed: {}\".format(end_time - start_time))\n",
    "\n",
    "start_time = time.time()\n",
    "output = papers_for_year.collect()\n",
    "for idx, row in enumerate(output):\n",
    "    print(row)\n",
    "    print()\n",
    "    if idx > 15:\n",
    "        break\n",
    "end_time = time.time()\n",
    "print(\"elapsed: {}\".format(end_time - start_time))"
   ]
  },
  {
   "cell_type": "code",
   "execution_count": null,
   "metadata": {},
   "outputs": [],
   "source": [
    "# try the same query with python mysql connector\n",
    "\n",
    "# RESULTS this is slower than the pyspark dataframe method\n",
    "#   suggesting that the indexed columns are being used smartly by pyspark\n",
    "#   while also utilizing parallelization\n",
    "\n",
    "\n",
    "year_ = 2008\n",
    "sql = 'SELECT pmid, title, year FROM metadata WHERE year = {};'.format(year_)\n",
    "\n",
    "db = mysql.connect(**client_config)\n",
    "cursor = db.cursor()\n",
    "start_time = time.time()\n",
    "cursor.execute(sql)\n",
    "print('elapsed time: {}'.format(time.time() - start_time))\n",
    "\n",
    "start_time = time.time()\n",
    "output = cursor.fetchall()\n",
    "for idx,row in enumerate(output):\n",
    "    print(row)\n",
    "    print()\n",
    "    if idx > 15:\n",
    "        break\n",
    "print('elapsed time: {}'.format(time.time() - start_time))\n",
    "\n",
    "\n",
    "cursor.close()"
   ]
  },
  {
   "cell_type": "code",
   "execution_count": null,
   "metadata": {},
   "outputs": [],
   "source": []
  }
 ],
 "metadata": {
  "kernelspec": {
   "display_name": "Python 3",
   "language": "python",
   "name": "python3"
  },
  "language_info": {
   "codemirror_mode": {
    "name": "ipython",
    "version": 3
   },
   "file_extension": ".py",
   "mimetype": "text/x-python",
   "name": "python",
   "nbconvert_exporter": "python",
   "pygments_lexer": "ipython3",
   "version": "3.7.3"
  }
 },
 "nbformat": 4,
 "nbformat_minor": 2
}

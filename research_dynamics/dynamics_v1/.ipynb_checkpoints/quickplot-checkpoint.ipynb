{
 "cells": [
  {
   "cell_type": "code",
   "execution_count": null,
   "metadata": {},
   "outputs": [],
   "source": []
  },
  {
   "cell_type": "code",
   "execution_count": 3,
   "metadata": {},
   "outputs": [],
   "source": [
    "#  step through years and visualize in PCA space\n",
    "\n",
    "import mysql.connector as mysql\n",
    "import pickle\n",
    "import json\n",
    "\n",
    "import numpy as np\n",
    "from sklearn.decomposition import PCA\n",
    "\n",
    "import matplotlib.pyplot as plt\n",
    "import seaborn as sns\n",
    "plt.rcParams['svg.fonttype'] = 'none'\n",
    "\n",
    "import time"
   ]
  },
  {
   "cell_type": "code",
   "execution_count": null,
   "metadata": {},
   "outputs": [],
   "source": []
  },
  {
   "cell_type": "code",
   "execution_count": 4,
   "metadata": {},
   "outputs": [],
   "source": [
    "top_level_path = '/project2/jevans/brendan/pubmed_data_processing/year_pmids/'\n",
    "pubs_dir = top_level_path + 'publication_embeddings/'\n",
    "cites_dir = top_level_path + 'citation_embeddings/'\n",
    "\n"
   ]
  },
  {
   "cell_type": "markdown",
   "metadata": {},
   "source": [
    "### prefit pca model (todo generate more and place them at /project2/...)"
   ]
  },
  {
   "cell_type": "code",
   "execution_count": 5,
   "metadata": {},
   "outputs": [],
   "source": [
    "pca_path = 'develop_samples/pca_model1.pkl'  # more located at /project2...\n",
    "with open(pca_path, 'rb') as file:\n",
    "    pca_model = pickle.load(file)"
   ]
  },
  {
   "cell_type": "markdown",
   "metadata": {},
   "source": [
    "## helper function"
   ]
  },
  {
   "cell_type": "code",
   "execution_count": 6,
   "metadata": {},
   "outputs": [
    {
     "data": {
      "text/plain": [
       "\"\\ndef plot_pubs_and_cites_multiyear(start_year, end_year): \\n    (f, ax) = plt.subplots(end_year - start_year + 1,\\n                       2,\\n                       sharex='all', sharey='all',\\n                       figsize=(4,12))\\n\\n    for i_year, year in enumerate(range(start_year, end_year+1)):\\n\\n        print(i_year, year)\\n\\n        sns.kdeplot(pub_data['embeddings'][:,0], # these are pca'd\\n                    pub_data['embeddings'][:,1],\\n                    ax=ax[i_year,0],\\n                    shade=True,\\n                    cmap='Blues')\\n        ax[i_year,0].set_title('published: year {}'.format(year))\\n\\n\\n        sns.kdeplot(cite_data['embeddings'][:,0],\\n                    cite_data['embeddings'][:,1],\\n                    ax=ax[i_year,1],\\n                    shade=True,\\n                    cmap='Reds')\\n        ax[i_year,1].set_title('cited: {}'.format(year))\\n\\n    plt.savefig('yearsteps/publications and citations prototype {} - {}.png'.format(start_year, end_year))\\n    plt.savefig('yearsteps/publications and citations prototype {} - {}.svg'.format(start_year, end_year))\\n    plt.show()\\n\""
      ]
     },
     "execution_count": 6,
     "metadata": {},
     "output_type": "execute_result"
    }
   ],
   "source": [
    "# simplified version - for one year\n",
    "def plot_pubs_and_cites(): \n",
    "    (f, ax) = plt.subplots(1,\n",
    "                       2,\n",
    "                       sharex='all', sharey='all',\n",
    "                       figsize=(10,4))\n",
    "\n",
    "    sns.kdeplot(pub_data['embeddings'][:,0], # these are pca'd\n",
    "                pub_data['embeddings'][:,1],\n",
    "                ax=ax[0],\n",
    "                shade=True,\n",
    "                cmap='Blues')\n",
    "    ax[0].set_title('published: year {}'.format(year))\n",
    "\n",
    "\n",
    "    sns.kdeplot(cite_data['embeddings'][:,0],\n",
    "                cite_data['embeddings'][:,1],\n",
    "                ax=ax[1],\n",
    "                shade=True,\n",
    "                cmap='Reds')\n",
    "    ax[1].set_title('cited: {}'.format(year))\n",
    "\n",
    "    plt.savefig('yearsteps/publications and citations prototype {} - {}.png'.format(start_year, end_year))\n",
    "    plt.savefig('yearsteps/publications and citations prototype {} - {}.svg'.format(start_year, end_year))\n",
    "    plt.show()\n",
    "\n",
    "\n",
    "\n",
    "# old version - for multiple years\n",
    "'''\n",
    "def plot_pubs_and_cites_multiyear(start_year, end_year): \n",
    "    (f, ax) = plt.subplots(end_year - start_year + 1,\n",
    "                       2,\n",
    "                       sharex='all', sharey='all',\n",
    "                       figsize=(4,12))\n",
    "\n",
    "    for i_year, year in enumerate(range(start_year, end_year+1)):\n",
    "\n",
    "        print(i_year, year)\n",
    "\n",
    "        sns.kdeplot(pub_data['embeddings'][:,0], # these are pca'd\n",
    "                    pub_data['embeddings'][:,1],\n",
    "                    ax=ax[i_year,0],\n",
    "                    shade=True,\n",
    "                    cmap='Blues')\n",
    "        ax[i_year,0].set_title('published: year {}'.format(year))\n",
    "\n",
    "\n",
    "        sns.kdeplot(cite_data['embeddings'][:,0],\n",
    "                    cite_data['embeddings'][:,1],\n",
    "                    ax=ax[i_year,1],\n",
    "                    shade=True,\n",
    "                    cmap='Reds')\n",
    "        ax[i_year,1].set_title('cited: {}'.format(year))\n",
    "\n",
    "    plt.savefig('yearsteps/publications and citations prototype {} - {}.png'.format(start_year, end_year))\n",
    "    plt.savefig('yearsteps/publications and citations prototype {} - {}.svg'.format(start_year, end_year))\n",
    "    plt.show()\n",
    "'''"
   ]
  },
  {
   "cell_type": "markdown",
   "metadata": {},
   "source": []
  },
  {
   "cell_type": "markdown",
   "metadata": {},
   "source": [
    "# plot year state"
   ]
  },
  {
   "cell_type": "code",
   "execution_count": null,
   "metadata": {},
   "outputs": [
    {
     "name": "stdout",
     "output_type": "stream",
     "text": [
      "1958\n"
     ]
    },
    {
     "data": {
      "image/png": "[encoded data removed]",
      "text/plain": [
       "<Figure size 720x288 with 2 Axes>"
      ]
     },
     "metadata": {
      "needs_background": "light"
     },
     "output_type": "display_data"
    },
    {
     "name": "stdout",
     "output_type": "stream",
     "text": [
      "1959\n"
     ]
    },
    {
     "data": {
      "image/png": "[encoded data removed]",
      "text/plain": [
       "<Figure size 720x288 with 2 Axes>"
      ]
     },
     "metadata": {
      "needs_background": "light"
     },
     "output_type": "display_data"
    },
    {
     "name": "stdout",
     "output_type": "stream",
     "text": [
      "1960\n"
     ]
    }
   ],
   "source": [
    "start_year = 1965\n",
    "end_year = 1966\n",
    "\n",
    "for year in range(start_year, end_year+1):-\n",
    "    print(year)\n",
    "    \n",
    "    pubs_path = pubs_dir + str(year) + '.json'\n",
    "    cites_path = cites_dir + str(year) + '.json'\n",
    "    \n",
    "    with open(pubs_path, 'r') as f:\n",
    "        pub_data = json.load(f)   \n",
    "    pub_data['embeddings'] = np.array(pub_data['embeddings'])\n",
    "    #print(np.shape(pub_data['embeddings']))\n",
    "    \n",
    "    \n",
    "    with open(cites_path, 'r') as f:\n",
    "        cite_data = json.load(f)\n",
    "    cite_data['embeddings'] = np.array(cite_data['embeddings'])\n",
    "    \n",
    "    plot_pubs_and_cites()\n",
    "    "
   ]
  },
  {
   "cell_type": "code",
   "execution_count": null,
   "metadata": {},
   "outputs": [],
   "source": []
  },
  {
   "cell_type": "code",
   "execution_count": null,
   "metadata": {},
   "outputs": [],
   "source": []
  }
 ],
 "metadata": {
  "kernelspec": {
   "display_name": "Python 3",
   "language": "python",
   "name": "python3"
  },
  "language_info": {
   "codemirror_mode": {
    "name": "ipython",
    "version": 3
   },
   "file_extension": ".py",
   "mimetype": "text/x-python",
   "name": "python",
   "nbconvert_exporter": "python",
   "pygments_lexer": "ipython3",
   "version": "3.7.3"
  }
 },
 "nbformat": 4,
 "nbformat_minor": 2
}

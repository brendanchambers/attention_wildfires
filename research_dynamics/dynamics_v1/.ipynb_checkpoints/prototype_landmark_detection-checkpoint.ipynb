{
 "cells": [
  {
   "cell_type": "code",
   "execution_count": 16,
   "metadata": {},
   "outputs": [],
   "source": [
    "# check year 1975, unpack the density blossom\n",
    "\n",
    "import json\n",
    "#import mysql.connector as mysql import pymysql\n",
    "import pickle\n",
    "\n",
    "import numpy as np\n",
    "import math\n",
    "import umap\n",
    "\n",
    "from scipy import spatial\n",
    "import matplotlib.pyplot as plt\n",
    "import seaborn as sns\n",
    "\n",
    "import time\n",
    "import hdbscan\n",
    "\n"
   ]
  },
  {
   "cell_type": "code",
   "execution_count": 2,
   "metadata": {},
   "outputs": [],
   "source": [
    "top_level_path = '/project2/jevans/brendan/pubmed_data_processing/year_pmids/'\n",
    "pubs_dir = top_level_path + 'publication_embeddings/'\n",
    "cites_dir = top_level_path + 'citation_embeddings/'"
   ]
  },
  {
   "cell_type": "markdown",
   "metadata": {},
   "source": [
    "# load the embeddings for a single year\n",
    "  these are in csv files for convenience \\\n",
    "  but the files get really huge for recent years"
   ]
  },
  {
   "cell_type": "code",
   "execution_count": 3,
   "metadata": {},
   "outputs": [
    {
     "name": "stdout",
     "output_type": "stream",
     "text": [
      "1989\n",
      "dict_keys(['pmids', 'embeddings'])\n",
      "dict_keys(['pmids', 'embeddings'])\n"
     ]
    }
   ],
   "source": [
    "\n",
    "year = 1989\n",
    "print(year)\n",
    "\n",
    "pubs_path = pubs_dir + str(year) + '.json'\n",
    "cites_path = cites_dir + str(year) + '.json'\n",
    "\n",
    "with open(pubs_path, 'r') as f:\n",
    "    pub_data = json.load(f)   \n",
    "    \n",
    "print(pub_data.keys())\n",
    "\n",
    "with open(cites_path, 'r') as f:\n",
    "    cite_data = json.load(f)\n",
    "print(cite_data.keys())"
   ]
  },
  {
   "cell_type": "markdown",
   "metadata": {},
   "source": [
    "# take a sample"
   ]
  },
  {
   "cell_type": "code",
   "execution_count": 4,
   "metadata": {},
   "outputs": [
    {
     "name": "stdout",
     "output_type": "stream",
     "text": [
      "full data (pubs, cites): 268430 741188\n",
      "sample size (pubs, cites): 10000 25000\n",
      "\n",
      "cleaning up...\n"
     ]
    }
   ],
   "source": [
    "K_pubs = 10000 # k samples\n",
    "K_cites = 25000\n",
    "\n",
    "L_pubs = np.shape(pub_data['embeddings'])[0]\n",
    "# sample publications\n",
    "P_idxs = np.random.choice(L_pubs, K_pubs, replace=False)\n",
    "P_embeddings = np.array(pub_data['embeddings'])[P_idxs, :]\n",
    "P_pmids = np.array(pub_data['pmids'])[P_idxs]\n",
    "\n",
    "L_cites = np.shape(cite_data['embeddings'])[0]\n",
    "# sample citations\n",
    "C_idxs = np.random.choice(L_cites, K_cites, replace=False)\n",
    "C_embeddings = np.array(cite_data['embeddings'])[C_idxs, :]\n",
    "C_pmids = np.array(cite_data['pmids'])[C_idxs]\n",
    "\n",
    "print(\"full data (pubs, cites): {} {}\".format(L_pubs, L_cites))\n",
    "print(\"sample size (pubs, cites): {} {}\".format(K_pubs, K_cites))\n",
    "print()\n",
    "\n",
    "print('cleaning up...')\n",
    "del pub_data\n",
    "del cite_data"
   ]
  },
  {
   "cell_type": "markdown",
   "metadata": {},
   "source": [
    "# plot the densities \n",
    "\n",
    "for reference and for fun"
   ]
  },
  {
   "cell_type": "code",
   "execution_count": 5,
   "metadata": {},
   "outputs": [],
   "source": [
    "# load pretrained umap--\n",
    "\n",
    "umap_path = \"/project2/jevans/brendan/pubmed_data_processing/\"+\\\n",
    "            \"dimensionality_reduction_models/umap2D/umap_model0.pkl\" # expects 768 D vectors\n",
    " \n",
    "with open(umap_path, 'rb') as file:\n",
    "    umap_model = pickle.load(file)\n"
   ]
  },
  {
   "cell_type": "code",
   "execution_count": 6,
   "metadata": {
    "scrolled": true
   },
   "outputs": [
    {
     "name": "stderr",
     "output_type": "stream",
     "text": [
      "/home/brendanchambers/.conda/envs/embedding-base/lib/python3.7/site-packages/numba/compiler.py:602: NumbaPerformanceWarning: \n",
      "The keyword argument 'parallel=True' was specified but no transformation for parallel execution was possible.\n",
      "\n",
      "To find out why, try turning on parallel diagnostics, see http://numba.pydata.org/numba-doc/latest/user/parallel.html#diagnostics for help.\n",
      "\n",
      "File \"../../../../.conda/envs/embedding-base/lib/python3.7/site-packages/umap/nndescent.py\", line 124:\n",
      "    @numba.njit(parallel=True)\n",
      "    def init_from_random(n_neighbors, data, query_points, heap, rng_state):\n",
      "    ^\n",
      "\n",
      "  self.func_ir.loc))\n",
      "/home/brendanchambers/.conda/envs/embedding-base/lib/python3.7/site-packages/numba/compiler.py:602: NumbaPerformanceWarning: \n",
      "The keyword argument 'parallel=True' was specified but no transformation for parallel execution was possible.\n",
      "\n",
      "To find out why, try turning on parallel diagnostics, see http://numba.pydata.org/numba-doc/latest/user/parallel.html#diagnostics for help.\n",
      "\n",
      "File \"../../../../.conda/envs/embedding-base/lib/python3.7/site-packages/umap/nndescent.py\", line 135:\n",
      "    @numba.njit(parallel=True)\n",
      "    def init_from_tree(tree, data, query_points, heap, rng_state):\n",
      "    ^\n",
      "\n",
      "  self.func_ir.loc))\n"
     ]
    },
    {
     "data": {
      "text/plain": [
       "Text(0.5, 1.0, 'sample, cited: year 1989')"
      ]
     },
     "execution_count": 6,
     "metadata": {},
     "output_type": "execute_result"
    },
    {
     "data": {
      "image/png": "[encoded data removed]",
      "text/plain": [
       "<Figure size 720x288 with 2 Axes>"
      ]
     },
     "metadata": {
      "needs_background": "light"
     },
     "output_type": "display_data"
    }
   ],
   "source": [
    "# transform the sample publications and citations\n",
    "\n",
    "um_pubs = umap_model.transform(P_embeddings)\n",
    "um_cites = umap_model.transform(C_embeddings)\n",
    "\n",
    "# plot\n",
    "(f, ax) = plt.subplots(1,\n",
    "                       2,\n",
    "                       sharex='all', sharey='all',\n",
    "                       figsize=(10,4))\n",
    "\n",
    "sns.kdeplot(um_pubs[:,0], # these are pca'd\n",
    "            um_pubs[:,1],\n",
    "            ax=ax[0],\n",
    "            shade=True,\n",
    "            cmap='Blues')\n",
    "ax[0].set_title('sample, published: year {}'.format(year))\n",
    "\n",
    "\n",
    "sns.kdeplot(um_cites[:,0], # these are pca'd\n",
    "            um_cites[:,1],\n",
    "            ax=ax[1],\n",
    "            shade=True,\n",
    "            cmap='Reds')\n",
    "ax[1].set_title('sample, cited: year {}'.format(year))\n"
   ]
  },
  {
   "cell_type": "markdown",
   "metadata": {},
   "source": [
    "# test hdbscan on publications"
   ]
  },
  {
   "cell_type": "code",
   "execution_count": 7,
   "metadata": {},
   "outputs": [
    {
     "name": "stdout",
     "output_type": "stream",
     "text": [
      "num clusters: 5\n"
     ]
    }
   ],
   "source": [
    "clusterer = hdbscan.HDBSCAN(min_cluster_size=200,\n",
    "                            min_samples=30,\n",
    "                            cluster_selection_method='leaf')  # euclidean distance\n",
    "clusterer.fit(um_pubs)  # samples x features\n",
    "\n",
    "# number of clusters\n",
    "print('num clusters: {}'.format(clusterer.labels_.max()))\n"
   ]
  },
  {
   "cell_type": "code",
   "execution_count": 8,
   "metadata": {},
   "outputs": [
    {
     "data": {
      "image/png": "[encoded data removed]",
      "text/plain": [
       "<Figure size 288x216 with 2 Axes>"
      ]
     },
     "metadata": {
      "needs_background": "light"
     },
     "output_type": "display_data"
    },
    {
     "data": {
      "image/png": "[encoded data removed]",
      "text/plain": [
       "<Figure size 288x216 with 2 Axes>"
      ]
     },
     "metadata": {
      "needs_background": "light"
     },
     "output_type": "display_data"
    }
   ],
   "source": [
    "\n",
    "# plot clusters\n",
    "plt.figure(figsize=(4,3))\n",
    "plt.scatter(um_pubs[:,0],\n",
    "           um_pubs[:,1],\n",
    "           c=clusterer.labels_)\n",
    "plt.colorbar()\n",
    "plt.show()\n",
    "\n",
    "# plot clusters using probabilities_ estimate  (todo combine plots)\n",
    "rgba = np.zeros( (np.shape(um_pubs)[0], 4) )\n",
    "rgba[:,3] = clusterer.probabilities_\n",
    "plt.figure(figsize=(4,3))\n",
    "plt.scatter(um_pubs[:,0],\n",
    "           um_pubs[:,1],\n",
    "           c=rgba)\n",
    "plt.colorbar()\n",
    "plt.show()"
   ]
  },
  {
   "cell_type": "code",
   "execution_count": 9,
   "metadata": {},
   "outputs": [
    {
     "name": "stdout",
     "output_type": "stream",
     "text": [
      "10011\n"
     ]
    }
   ],
   "source": [
    "# try the networkx export\n",
    "import networkx as nx\n",
    "\n",
    "G_clustering = clusterer.condensed_tree_.to_networkx()\n",
    "print(G_clustering.number_of_nodes())\n",
    "\n",
    "# this looks convenient for finding parents of parents"
   ]
  },
  {
   "cell_type": "code",
   "execution_count": 10,
   "metadata": {},
   "outputs": [
    {
     "name": "stdout",
     "output_type": "stream",
     "text": [
      "[10008]\n"
     ]
    }
   ],
   "source": [
    "# \n",
    "print([x for x in G_clustering.predecessors(10010)])\n",
    "#print([x for x in G_clustering.successors(10010)])"
   ]
  },
  {
   "cell_type": "code",
   "execution_count": 11,
   "metadata": {},
   "outputs": [
    {
     "data": {
      "text/plain": [
       "<matplotlib.axes._subplots.AxesSubplot at 0x7f41eb61c6a0>"
      ]
     },
     "execution_count": 11,
     "metadata": {},
     "output_type": "execute_result"
    },
    {
     "data": {
      "image/png": "[encoded data removed]",
      "text/plain": [
       "<Figure size 288x288 with 2 Axes>"
      ]
     },
     "metadata": {
      "needs_background": "light"
     },
     "output_type": "display_data"
    }
   ],
   "source": [
    "# viz the condensed tree\n",
    "plt.figure(figsize=(4,4))\n",
    "clusterer.condensed_tree_.plot(select_clusters=True,\n",
    "                               selection_palette=sns.color_palette('deep', 8))\n"
   ]
  },
  {
   "cell_type": "code",
   "execution_count": 12,
   "metadata": {},
   "outputs": [
    {
     "name": "stdout",
     "output_type": "stream",
     "text": [
      "   parent  child  lambda_val  child_size\n",
      "0   10000   4150    0.563701           1\n",
      "1   10000   5824    0.589638           1\n",
      "2   10000   4746    0.592793           1\n",
      "3   10000   7802    0.598854           1\n",
      "4   10000   4190    0.648098           1\n",
      "parent        10010.000000\n",
      "child         10010.000000\n",
      "lambda_val        8.068882\n",
      "child_size     7882.000000\n",
      "dtype: float64\n",
      "      parent  child  lambda_val  child_size\n",
      "1109   10000  10001    2.666675        1009\n",
      "1110   10000  10002    2.666675        7882\n",
      "1800   10002  10003    2.848125         309\n",
      "1801   10002  10004    2.848125        7147\n",
      "5183   10004  10005    4.519825        1685\n",
      "5184   10004  10006    4.519825        3136\n",
      "6561   10006  10007    5.122030         255\n",
      "6562   10006  10008    5.122030        2251\n",
      "9075   10008  10009    6.677390         470\n",
      "9076   10008  10010    6.677390         463\n",
      "      parent  child  lambda_val  child_size\n",
      "1111   10001   5568    2.666675           1\n",
      "1113   10001   2961    2.669489           1\n",
      "1115   10001   9489    2.671416           1\n",
      "1117   10001   7415    2.671436           1\n",
      "1119   10001   9668    2.674326           1\n",
      "...      ...    ...         ...         ...\n",
      "3410   10001   8209    4.560414           1\n",
      "3411   10001   3830    4.560414           1\n",
      "3412   10001   9826    4.560414           1\n",
      "3413   10001   6884    4.560414           1\n",
      "3414   10001    749    4.560414           1\n",
      "\n",
      "[1009 rows x 4 columns]\n"
     ]
    }
   ],
   "source": [
    "# try the pandas export\n",
    "import pandas as pd\n",
    "\n",
    "df_clustering = clusterer.condensed_tree_.to_pandas()\n",
    "print(df_clustering.head())\n",
    "\n",
    "# sanity check:   max parent / child value\n",
    "print(df_clustering.max())\n",
    "\n",
    "#print(df_clustering.loc[df_clustering['parent'] > 9999])\n",
    "\n",
    "print(df_clustering.loc[df_clustering['child_size']>1])\n",
    "\n",
    "\n",
    "print(df_clustering.loc[df_clustering['parent'] == 10001])"
   ]
  },
  {
   "cell_type": "code",
   "execution_count": null,
   "metadata": {},
   "outputs": [],
   "source": [
    "# simplest recipe"
   ]
  },
  {
   "cell_type": "code",
   "execution_count": 20,
   "metadata": {},
   "outputs": [],
   "source": [
    "# generate an adjmat according to \n",
    "# https://www.nature.com/articles/s41598-019-44892-y\n",
    "\n",
    "# method 1 - ignore the hierarchical information for now\n",
    "\n",
    "N_nodes = np.shape(um_pubs)[0]\n",
    "N_clusters = clusterer.labels_.max()  # this counts clusters at the leaf level\n",
    "\n",
    "W_induced = np.zeros( (N_nodes, N_nodes) ) # init\n",
    "\n",
    "# for each pre-node\n",
    "  # for each post-node\n",
    "    # for each cluster\n",
    "    \n",
    "      # numerator: cluster membership weight pre*post\n",
    "    \n",
    "      # denominator: total weight across all clusters, pre * post\n",
    "        \n",
    "      # (for hard cluster memberships this will = 1)\n",
    "\n",
    "\n",
    "\n",
    "\n"
   ]
  },
  {
   "cell_type": "code",
   "execution_count": 13,
   "metadata": {},
   "outputs": [],
   "source": [
    "# helper function for constructing hieararchical membership bipartite graph\n",
    "\n",
    "def get_membership(node_id):\n",
    "    '''\n",
    "    for a given cluster_node_id, return the bottom-level\n",
    "      nodes belonging to this cluster\n",
    "    '''\n",
    "    if node_id < N_nodes:  # actual leaf node\n",
    "        return node_id\n",
    "    else:\n",
    "        successors = G_clustering.successors(node_id)\n",
    "        membership_list = []\n",
    "        for successor in successors:\n",
    "            if successor < N_nodes:\n",
    "                membership_list.append(successor)\n",
    "            else:\n",
    "                membership = get_membership(successor)\n",
    "                for member in membership:\n",
    "                    membership_list.append(member)\n",
    "        return membership_list\n",
    "    \n",
    "def get_lambda_value(cluster_node_id, child_id):\n",
    "    has_lambda_val = False\n",
    "    while not(has_lambda_val):\n",
    "        if child_id==N_nodes:  # no cluster except the trivial cluster\n",
    "            return 0\n",
    "        try:   # check current level\n",
    "            lambda_val = df_clustering.loc[ (df_clustering['parent']==cluster_node_id)\\\n",
    "                                        & (df_clustering['child']==child_id)]['lambda_val'].values[0]\n",
    "            return lambda_val\n",
    "        except:   # move up a level, check for membership\n",
    "            child_id = [x for x in G_clustering.predecessors(child_id)][0] # this is a list of length 1"
   ]
  },
  {
   "cell_type": "code",
   "execution_count": null,
   "metadata": {},
   "outputs": [],
   "source": [
    "# experimenting with using lambda value"
   ]
  },
  {
   "cell_type": "code",
   "execution_count": null,
   "metadata": {},
   "outputs": [],
   "source": [
    "# more complex recipe\n",
    "\n",
    "# scale the cluster membership bipartite graph according to hierarchy\n",
    "#   use lambda value instead of number of splits?\n",
    "\n",
    "N_nodes = np.shape(um_pubs)[0]\n",
    "N_clusters = df_clustering.shape[0] - (N_nodes-1)  # non-singleton clusters at all hiearchical levels\n",
    "print(\"number of non-singleton clusters, including hierarchy: {}\".format(N_clusters))\n",
    "print()\n",
    "\n",
    "W_bipartite = np.zeros((N_nodes, N_clusters))\n",
    "\n",
    "# generate list of children for each cluster\n",
    "for i_cluster in range(N_clusters):    \n",
    "    print(i_cluster)\n",
    "    clusterer_node_id = N_nodes + i_cluster\n",
    "    children = get_membership(clusterer_node_id)\n",
    "    \n",
    "    for child_id in children:\n",
    "        lambda_val = get_lambda_value(clusterer_node_id, child_id)\n",
    "        W_bipartite[child_id, i_cluster] += lambda_val\n",
    "        \n",
    "plt.figure()\n",
    "plt.imshow(W_bipartite, aspect='auto')\n",
    "plt.colorbar()\n",
    "plt.show()\n",
    "\n",
    "# todo is this fast enough?  maybe not\n",
    "# todo next - make the pairwise affinity network\n",
    "    "
   ]
  },
  {
   "cell_type": "code",
   "execution_count": null,
   "metadata": {},
   "outputs": [],
   "source": [
    "# get number of hops to top level hierarchy instead of using lambda value"
   ]
  },
  {
   "cell_type": "code",
   "execution_count": 17,
   "metadata": {},
   "outputs": [
    {
     "name": "stderr",
     "output_type": "stream",
     "text": [
      "/home/brendanchambers/.conda/envs/embedding-base/lib/python3.7/site-packages/ipykernel_launcher.py:10: DeprecationWarning: The truth value of an empty array is ambiguous. Returning False, but in future this will result in an error. Use `array.size > 0` to check that an array is not empty.\n",
      "  # Remove the CWD from sys.path while we load stuff.\n"
     ]
    },
    {
     "name": "stdout",
     "output_type": "stream",
     "text": [
      "6.0\n"
     ]
    }
   ],
   "source": [
    "\n",
    "N_nodes = np.shape(um_pubs)[0]\n",
    "N_clusters = df_clustering.shape[0] - (N_nodes-1)  # non-singleton clusters at all hiearchical levels\n",
    "\n",
    "W_level = np.zeros( (N_nodes, N_clusters) )  # init\n",
    "\n",
    "for node_id in range(N_nodes):\n",
    "    cur_distance = 1\n",
    "    parent_clusters = G_clustering.predecessors(node_id)\n",
    "    \n",
    "    while parent_clusters:  # is not empty\n",
    "        \n",
    "        next_level_clusters = []\n",
    "            \n",
    "        for cluster_node_id in parent_clusters:\n",
    "            cluster_id = cluster_node_id - N_nodes\n",
    "            W_level[node_id, cluster_id] = cur_distance\n",
    "            \n",
    "            grandparents = G_clustering.predecessors(cluster_node_id)\n",
    "            for gp in grandparents:\n",
    "                next_level_clusters.append(gp)\n",
    "            \n",
    "        next_level_clusters = np.unique(next_level_clusters)\n",
    "        parent_clusters = next_level_clusters\n",
    "        cur_distance += 1\n",
    "        \n",
    "# normalize onto [0,1]\n",
    "max_level = np.max(W_level.flatten())\n",
    "print(max_level)\n",
    "W_level = np.divide(W_level, max_level)\n",
    "\n",
    "# invert range for non-zero entries\n",
    "for i_row in range(N_nodes):\n",
    "    for i_col in range(N_clusters):\n",
    "        \n",
    "        raw_val = W_level[i_row, i_col]\n",
    "        if raw_val > 0:\n",
    "            W_level[i_row, i_col] = 1 - W_level[i_row, i_col]\n",
    "\n",
    "# rescale to emphasize or de-emphasize hierarchical organization\n",
    "R_hierarchy = 2\n",
    "for i_row in range(N_nodes):\n",
    "    for i_col in range(N_clusters):\n",
    "        \n",
    "        l = W_level[i_row, i_col]\n",
    "        if l > 0:\n",
    "            W_level[i_row, i_col] = math.exp(R_hierarchy*l)"
   ]
  },
  {
   "cell_type": "code",
   "execution_count": 18,
   "metadata": {},
   "outputs": [
    {
     "data": {
      "image/png": "[encoded data removed]",
      "text/plain": [
       "<Figure size 432x288 with 2 Axes>"
      ]
     },
     "metadata": {
      "needs_background": "light"
     },
     "output_type": "display_data"
    }
   ],
   "source": [
    "plt.figure()\n",
    "plt.imshow(W_level, aspect='auto')\n",
    "plt.colorbar()\n",
    "plt.show()"
   ]
  },
  {
   "cell_type": "markdown",
   "metadata": {},
   "source": [
    "# get some intuition for the scaling procedure from  https://www.nature.com/articles/s41598-019-44892-y\n",
    "\n",
    "import math\n",
    "\n",
    "r = 2\n",
    "\n",
    "for i in range(10):\n",
    "    l = 1.0*i / 10\n",
    "    print(x, math.exp(r*l))"
   ]
  },
  {
   "cell_type": "code",
   "execution_count": null,
   "metadata": {},
   "outputs": [
    {
     "name": "stdout",
     "output_type": "stream",
     "text": [
      "0\n",
      "1\n",
      "2\n",
      "3\n",
      "4\n",
      "5\n",
      "6\n",
      "7\n",
      "8\n",
      "9\n",
      "10\n",
      "11\n",
      "12\n",
      "13\n",
      "14\n",
      "15\n",
      "16\n",
      "17\n",
      "18\n",
      "19\n",
      "20\n",
      "21\n",
      "22\n",
      "23\n",
      "24\n",
      "25\n",
      "26\n",
      "27\n",
      "28\n",
      "29\n",
      "30\n",
      "31\n",
      "32\n",
      "33\n",
      "34\n",
      "35\n",
      "36\n",
      "37\n",
      "38\n",
      "39\n",
      "40\n",
      "41\n",
      "42\n",
      "43\n",
      "44\n",
      "45\n",
      "46\n",
      "47\n",
      "48\n",
      "49\n",
      "50\n",
      "51\n",
      "52\n",
      "53\n",
      "54\n"
     ]
    }
   ],
   "source": [
    "# construct affinity network\n",
    "#   this is too slow currently\n",
    "\n",
    "W_bipartite = W_level  # rename for clarity\n",
    "W_induced = np.zeros( (N_nodes, N_nodes) )\n",
    "\n",
    "for i in range(N_nodes):\n",
    "    print(i)\n",
    "    for j in range(N_nodes):\n",
    "        \n",
    "        term = 0\n",
    "        for i_cluster in range(N_clusters):\n",
    "            \n",
    "            numerator = W_bipartite[i, i_cluster] * W_bipartite[j, i_cluster]\n",
    "            if numerator > 0:  # otherwise no need to proceed\n",
    "                \n",
    "                otherClustersWeight = np.sum(W_bipartite[i,:])\n",
    "                otherNodesWeight = np.sum(W_bipartite[:,i_cluster])\n",
    "                denominator = otherClustersWeight * otherNodesWeight\n",
    "                term += 1.0*numerator / denominator\n",
    "        \n",
    "        W_induced[i,j] = term\n",
    "\n"
   ]
  },
  {
   "cell_type": "code",
   "execution_count": 35,
   "metadata": {},
   "outputs": [
    {
     "name": "stdout",
     "output_type": "stream",
     "text": [
      "13.75417381466693\n",
      "15.149786239753018\n",
      "13.75417381466693\n",
      "2451.348893367624\n",
      "25182.478162533203\n",
      "10517.630032258905\n"
     ]
    }
   ],
   "source": [
    "print(np.sum(W_level[1000,:]))\n",
    "print(np.sum(W_level[0,:]))\n",
    "print(np.sum(W_level[2000,:]))\n",
    "\n",
    "print(np.sum(W_level[:,10]))\n",
    "print(np.sum(W_level[:,0]))\n",
    "print(np.sum(W_level[:,8]))"
   ]
  },
  {
   "cell_type": "code",
   "execution_count": null,
   "metadata": {},
   "outputs": [],
   "source": [
    "plt.figure()\n",
    "plt.imshow(W_induced)\n",
    "plt.colorbar()\n",
    "plt.show()"
   ]
  },
  {
   "cell_type": "code",
   "execution_count": null,
   "metadata": {},
   "outputs": [],
   "source": []
  },
  {
   "cell_type": "code",
   "execution_count": null,
   "metadata": {},
   "outputs": [],
   "source": []
  },
  {
   "cell_type": "code",
   "execution_count": null,
   "metadata": {},
   "outputs": [],
   "source": []
  },
  {
   "cell_type": "markdown",
   "metadata": {},
   "source": [
    "# unit test\n",
    "\n",
    "def get_membership(node_id):\n",
    "    if node_id < N_nodes:  # actual leaf node\n",
    "        return node_id\n",
    "    else:\n",
    "        successors = G_clustering.successors(node_id)\n",
    "        membership_list = []\n",
    "        for successor in successors:\n",
    "            if successor < N_nodes:\n",
    "                membership_list.append(successor)\n",
    "            else:\n",
    "                membership = get_membership(successor)\n",
    "                for member in membership:\n",
    "                    membership_list.append(member)\n",
    "        return membership_list\n",
    "    \n",
    "test = get_membership(10002)\n",
    "print(np.shape(test))\n",
    "for i in test:\n",
    "    if i > 10000:\n",
    "        print('FAILURE')"
   ]
  },
  {
   "cell_type": "markdown",
   "metadata": {},
   "source": [
    "# for a cluster and it's bottom-level children, get the corresponding lambda-values (linkage strength)\n",
    "\n",
    "# unit test\n",
    "\n",
    "cluster_id = 1\n",
    "cluster_node_id = cluster_id + N_nodes\n",
    "children = get_membership(cluster_node_id)\n",
    "\n",
    "for child in children:\n",
    "    \n",
    "    has_lambda_val = False\n",
    "    \n",
    "    child_id = child\n",
    "    while not(has_lambda_val):\n",
    "        \n",
    "        if child_id==N_nodes:  # no cluster except the trivial cluster\n",
    "            lambda_val = 0\n",
    "            break\n",
    "        try:\n",
    "            lambda_val = df_clustering.loc[ (df_clustering['parent']==cluster_node_id)\\\n",
    "                                           & (df_clustering['child']==child_id) ]\\\n",
    "                                        ['lambda_val'].values[0]\n",
    "            has_lambda_val = True\n",
    "        except:\n",
    "            child_id = [x for x in G_clustering.predecessors(child_id)][0]\n",
    "        \n",
    "    print(lambda_val)"
   ]
  },
  {
   "cell_type": "code",
   "execution_count": null,
   "metadata": {},
   "outputs": [],
   "source": []
  },
  {
   "cell_type": "code",
   "execution_count": null,
   "metadata": {},
   "outputs": [],
   "source": []
  },
  {
   "cell_type": "code",
   "execution_count": null,
   "metadata": {},
   "outputs": [],
   "source": []
  }
 ],
 "metadata": {
  "kernelspec": {
   "display_name": "Python 3",
   "language": "python",
   "name": "python3"
  },
  "language_info": {
   "codemirror_mode": {
    "name": "ipython",
    "version": 3
   },
   "file_extension": ".py",
   "mimetype": "text/x-python",
   "name": "python",
   "nbconvert_exporter": "python",
   "pygments_lexer": "ipython3",
   "version": "3.7.3"
  }
 },
 "nbformat": 4,
 "nbformat_minor": 2
}

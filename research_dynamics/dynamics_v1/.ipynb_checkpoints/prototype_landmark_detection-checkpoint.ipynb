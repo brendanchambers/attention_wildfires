{
 "cells": [
  {
   "cell_type": "code",
   "execution_count": 1,
   "metadata": {},
   "outputs": [],
   "source": [
    "# check year 1975, unpack the density blossom\n",
    "\n",
    "\n",
    "import json\n",
    "import mysql.connector as mysql\n",
    "import pickle\n",
    "\n",
    "import numpy as np\n",
    "#import umap  # oh no this won't play well with mysqlclient (MySQLdb)\n",
    "\n",
    "from scipy import spatial\n",
    "import matplotlib.pyplot as plt\n",
    "import seaborn as sns\n",
    "\n",
    "import time"
   ]
  },
  {
   "cell_type": "code",
   "execution_count": 2,
   "metadata": {},
   "outputs": [],
   "source": [
    "top_level_path = '/project2/jevans/brendan/pubmed_data_processing/year_pmids/'\n",
    "pubs_dir = top_level_path + 'publication_embeddings/'\n",
    "cites_dir = top_level_path + 'citation_embeddings/'"
   ]
  },
  {
   "cell_type": "markdown",
   "metadata": {},
   "source": [
    "# load the embeddings for a single year\n",
    "  these are in csv files for convenience \\\n",
    "  but the files get really huge for recent years"
   ]
  },
  {
   "cell_type": "code",
   "execution_count": 3,
   "metadata": {},
   "outputs": [
    {
     "name": "stdout",
     "output_type": "stream",
     "text": [
      "1989\n",
      "dict_keys(['pmids', 'embeddings'])\n",
      "dict_keys(['pmids', 'embeddings'])\n"
     ]
    },
    {
     "data": {
      "text/plain": [
       "\"\\npub_data['embeddings'] = np.array(pub_data['embeddings'])\\n#print(np.shape(pub_data['embeddings']))\\n\\ncite_data['embeddings'] = np.array(cite_data['embeddings'])\\n\\nplot_pubs_and_cites()\\n\""
      ]
     },
     "execution_count": 3,
     "metadata": {},
     "output_type": "execute_result"
    }
   ],
   "source": [
    "\n",
    "\n",
    "year = 1989\n",
    "print(year)\n",
    "\n",
    "pubs_path = pubs_dir + str(year) + '.json'\n",
    "cites_path = cites_dir + str(year) + '.json'\n",
    "\n",
    "with open(pubs_path, 'r') as f:\n",
    "    pub_data = json.load(f)   \n",
    "    \n",
    "print(pub_data.keys())\n",
    "\n",
    "with open(cites_path, 'r') as f:\n",
    "    cite_data = json.load(f)\n",
    "print(cite_data.keys())\n"
   ]
  },
  {
   "cell_type": "markdown",
   "metadata": {},
   "source": [
    "# take a sample"
   ]
  },
  {
   "cell_type": "code",
   "execution_count": 8,
   "metadata": {},
   "outputs": [
    {
     "name": "stdout",
     "output_type": "stream",
     "text": [
      "full data (pubs, cites): 268430 741188\n",
      "sample size (pubs, cites): 10000 25000\n"
     ]
    }
   ],
   "source": [
    "K_pubs = 10000 # k samples\n",
    "K_cites = 25000\n",
    "\n",
    "L_pubs = np.shape(pub_data['embeddings'])[0]\n",
    "# sample publications\n",
    "P_idxs = np.random.choice(L_pubs, K_pubs, replace=False)\n",
    "P_embeddings = np.array(pub_data['embeddings'])[P_idxs, :]\n",
    "P_pmids = np.array(pub_data['pmids'])[P_idxs]\n",
    "\n",
    "L_cites = np.shape(cite_data['embeddings'])[0]\n",
    "# sample citations\n",
    "C_idxs = np.random.choice(L_cites, K_cites, replace=False)\n",
    "C_embeddings = np.array(cite_data['embeddings'])[C_idxs, :]\n",
    "C_pmids = np.array(cite_data['pmids'])[C_idxs]\n",
    "\n",
    "print(\"full data (pubs, cites): {} {}\".format(L_pubs, L_cites))\n",
    "print(\"sample size (pubs, cites): {} {}\".format(K_pubs, K_cites))"
   ]
  },
  {
   "cell_type": "markdown",
   "metadata": {},
   "source": [
    "# plot the densities \n",
    "\n",
    "for reference and for fun"
   ]
  },
  {
   "cell_type": "code",
   "execution_count": 10,
   "metadata": {},
   "outputs": [],
   "source": [
    "# load pretrained umap--\n",
    "\n",
    "umap_path = \"/project2/jevans/brendan/pubmed_data_processing/\"+\\\n",
    "            \"dimensionality_reduction_models/umap2D/umap_model0.pkl\" # expects 768 D vectors\n",
    " \n",
    "with open(umap_path, 'rb') as file:\n",
    "    umap_model = pickle.load(file)\n"
   ]
  },
  {
   "cell_type": "code",
   "execution_count": null,
   "metadata": {},
   "outputs": [],
   "source": [
    "# transform the sample publications and citations\n",
    "\n",
    "um_pubs = umap_model.transform(P_embeddings)\n",
    "um_cites = umap_model.transform(C_embeddings)\n",
    "\n",
    "# plot\n",
    "(f, ax) = plt.subplots(1,\n",
    "                       2,\n",
    "                       sharex='all', sharey='all',\n",
    "                       figsize=(10,4))\n",
    "\n",
    "sns.kdeplot(um_pubs[:,0], # these are pca'd\n",
    "            um_pubs[:,1],\n",
    "            ax=ax[0],\n",
    "            shade=True,\n",
    "            cmap='Blues')\n",
    "ax[0].set_title('sample, published: year {}'.format(year))\n",
    "\n",
    "\n",
    "sns.kdeplot(um_cites[:,0], # these are pca'd\n",
    "            um_cites[:,1],\n",
    "            ax=ax[1],\n",
    "            shade=True,\n",
    "            cmap='Reds')\n",
    "ax[1].set_title('sample, cited: year {}'.format(year))\n"
   ]
  }
 ],
 "metadata": {
  "kernelspec": {
   "display_name": "Python 3",
   "language": "python",
   "name": "python3"
  },
  "language_info": {
   "codemirror_mode": {
    "name": "ipython",
    "version": 3
   },
   "file_extension": ".py",
   "mimetype": "text/x-python",
   "name": "python",
   "nbconvert_exporter": "python",
   "pygments_lexer": "ipython3",
   "version": "3.7.3"
  }
 },
 "nbformat": 4,
 "nbformat_minor": 2
}

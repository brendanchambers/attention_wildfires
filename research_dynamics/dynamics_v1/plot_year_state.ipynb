{
 "cells": [
  {
   "cell_type": "code",
   "execution_count": 1,
   "metadata": {},
   "outputs": [],
   "source": [
    "# temp - use this to build working code:\n",
    "# todo - use this as raw material for a separate plotting script\n",
    "\n",
    "def plot_pubs_and_cites(start_year, end_year):\n",
    "    (f, ax) = plt.subplots(end_year - start_year + 1,\n",
    "                       2,\n",
    "                       sharex='all', sharey='all',\n",
    "                       figsize=(4,4))\n",
    "\n",
    "    for i_year, year in enumerate(range(start_year, end_year+1)):\n",
    "\n",
    "        print(i_year, year)\n",
    "\n",
    "        sns.kdeplot(year_pubs[year][:,0],\n",
    "                    year_pubs[year][:,1],\n",
    "                    ax=ax[i_year,0],\n",
    "                    shade=True,\n",
    "                    cmap='Blues')\n",
    "        ax[i_year,0].set_title('published: year {}'.format(year))\n",
    "\n",
    "\n",
    "        sns.kdeplot(year_cites[year][:,0],\n",
    "                    year_cites[year][:,1],\n",
    "                    ax=ax[i_year,1],\n",
    "                    shade=True,\n",
    "                    cmap='Reds')\n",
    "        ax[i_year,1].set_title('cited: {}'.format(year))\n",
    "\n",
    "    plt.savefig('publications and citations prototype {} - {}.png'.format(start_year, end_year))\n",
    "    plt.savefig('publications and citations prototype {} - {}.svg'.format(start_year, end_year))\n",
    "    plt.show()\n",
    "    "
   ]
  },
  {
   "cell_type": "code",
   "execution_count": 2,
   "metadata": {},
   "outputs": [
    {
     "ename": "NameError",
     "evalue": "name 'start_year' is not defined",
     "output_type": "error",
     "traceback": [
      "\u001b[0;31m---------------------------------------------------------------------------\u001b[0m",
      "\u001b[0;31mNameError\u001b[0m                                 Traceback (most recent call last)",
      "\u001b[0;32m<ipython-input-2-c53455bf2144>\u001b[0m in \u001b[0;36m<module>\u001b[0;34m\u001b[0m\n\u001b[0;32m----> 1\u001b[0;31m \u001b[0;32mfor\u001b[0m \u001b[0mi_year\u001b[0m \u001b[0;32min\u001b[0m \u001b[0mrange\u001b[0m\u001b[0;34m(\u001b[0m\u001b[0mstart_year\u001b[0m\u001b[0;34m,\u001b[0m \u001b[0mend_year\u001b[0m\u001b[0;34m)\u001b[0m\u001b[0;34m:\u001b[0m\u001b[0;34m\u001b[0m\u001b[0;34m\u001b[0m\u001b[0m\n\u001b[0m\u001b[1;32m      2\u001b[0m     \u001b[0mplot_pubs_and_cites\u001b[0m\u001b[0;34m(\u001b[0m\u001b[0mi_year\u001b[0m\u001b[0;34m,\u001b[0m \u001b[0mi_year\u001b[0m\u001b[0;34m+\u001b[0m\u001b[0;36m1\u001b[0m\u001b[0;34m)\u001b[0m\u001b[0;34m\u001b[0m\u001b[0;34m\u001b[0m\u001b[0m\n",
      "\u001b[0;31mNameError\u001b[0m: name 'start_year' is not defined"
     ]
    }
   ],
   "source": [
    "for i_year in range(start_year, end_year):\n",
    "    plot_pubs_and_cites(i_year, i_year+1)"
   ]
  },
  {
   "cell_type": "code",
   "execution_count": null,
   "metadata": {},
   "outputs": [],
   "source": [
    "# imports - todo weed these\n",
    "\n",
    "import mysql.connector as mysql\n",
    "import pickle\n",
    "import json\n",
    "\n",
    "import numpy as np\n",
    "from sklearn.decomposition import PCA\n",
    "\n",
    "import matplotlib.pyplot as plt\n",
    "import seaborn as sns\n",
    "plt.rcParams['svg.fonttype'] = 'none'\n",
    "\n",
    "import time"
   ]
  }
 ],
 "metadata": {
  "kernelspec": {
   "display_name": "Python 3",
   "language": "python",
   "name": "python3"
  },
  "language_info": {
   "codemirror_mode": {
    "name": "ipython",
    "version": 3
   },
   "file_extension": ".py",
   "mimetype": "text/x-python",
   "name": "python",
   "nbconvert_exporter": "python",
   "pygments_lexer": "ipython3",
   "version": "3.7.5"
  }
 },
 "nbformat": 4,
 "nbformat_minor": 2
}

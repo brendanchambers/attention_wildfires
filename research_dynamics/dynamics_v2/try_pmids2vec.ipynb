{
 "cells": [
  {
   "cell_type": "code",
   "execution_count": 1,
   "metadata": {},
   "outputs": [],
   "source": [
    "import pymysql\n",
    "import pickle\n",
    "import json\n",
    "\n",
    "import numpy as np\n",
    "from sklearn.decomposition import PCA\n",
    "\n",
    "import matplotlib.pyplot as plt\n",
    "import seaborn as sns\n",
    "plt.rcParams['svg.fonttype'] = 'none'\n",
    "\n",
    "import time\n",
    "import hdbscan\n",
    "\n",
    "import spacy\n",
    "from gensim.models import Word2Vec"
   ]
  },
  {
   "cell_type": "code",
   "execution_count": 2,
   "metadata": {},
   "outputs": [
    {
     "name": "stdout",
     "output_type": "stream",
     "text": [
      "N PMIDs: 100000\n"
     ]
    }
   ],
   "source": [
    "PMIDs_dir = '/home/brendan/FastData/pubmed2019/pubmed_data_processing/year_pmids/'\n",
    "PMIDs_name = 'pubmed_state_2008'  # these should have a .json postfix\n",
    "PMIDs_path = PMIDs_dir + PMIDs_name\n",
    "\n",
    "with open(PMIDs_path, 'r') as f:\n",
    "    data = json.load(f)\n",
    "\n",
    "K = 100000  #  for testing - number of pmids to subselect\n",
    "PMIDs = data['publications'][:K] # testing, just grab the first K non-randomly\n",
    "print(\"N PMIDs: {}\".format(len(PMIDs)))"
   ]
  },
  {
   "cell_type": "markdown",
   "metadata": {},
   "source": [
    "### mysql control parameters"
   ]
  },
  {
   "cell_type": "code",
   "execution_count": 3,
   "metadata": {},
   "outputs": [],
   "source": [
    "db_name = 'test_pubmed'  # db name collisons? https://stackoverflow.com/questions/14011968/user-cant-access-a-database\n",
    "config_path = '/home/brendan/Projects/AttentionWildfires/attention_wildfires/mysql_config.json'\n",
    "\n",
    "with open(config_path, 'r') as f:\n",
    "    config_data = json.load(f)\n",
    "    \n",
    "client_config = {'database': db_name,\n",
    "                'user': config_data['user'],\n",
    "                 'password': config_data['lock']}\n",
    "\n",
    "db = pymysql.connect(**client_config)"
   ]
  },
  {
   "cell_type": "markdown",
   "metadata": {},
   "source": [
    "##  build a training set from selected pmids"
   ]
  },
  {
   "cell_type": "code",
   "execution_count": 4,
   "metadata": {},
   "outputs": [
    {
     "name": "stdout",
     "output_type": "stream",
     "text": [
      "SQL join executed in 71.5970196723938 s\n",
      "SQL results fetched and cast in 0.10697603225708008 s\n"
     ]
    }
   ],
   "source": [
    "str_fmt = ', '.join([str(pmid) for pmid in PMIDs])\n",
    "\n",
    "sql = '''SELECT A.title, A.abstract\n",
    "        FROM abstracts as A\n",
    "        WHERE A.pmid IN ({})'''.format(str_fmt)\n",
    "\n",
    "start_time = time.time()\n",
    "cursor = db.cursor()\n",
    "cursor.execute(sql)\n",
    "end_time = time.time()\n",
    "elapsed = end_time - start_time\n",
    "print(\"SQL join executed in {} s\".format(elapsed))\n",
    "\n",
    "start_time = time.time()\n",
    "titles = []\n",
    "abstracts = []\n",
    "for i,row in enumerate(cursor):\n",
    "    print_block_len = 100000\n",
    "    if (i+1) % print_block_len == 0:\n",
    "        print('fetched {} rows...'.format(print_block_len))\n",
    "    titles.append(row[0])\n",
    "    abstracts.append(row[1])\n",
    "cursor.close()\n",
    "end_time = time.time()\n",
    "elapsed = end_time - start_time\n",
    "print(\"SQL results fetched and cast in {} s\".format(elapsed))\n"
   ]
  },
  {
   "cell_type": "code",
   "execution_count": 5,
   "metadata": {},
   "outputs": [
    {
     "data": {
      "text/plain": [
       "'\\nlang = \"en\"\\npipeline = [\"tagger\", \"parser\", \"ner\"]\\ndata_path = \"path/to/en_core_web_sm/en_core_web_sm-2.0.0\"\\n\\nnlp = PyTT_Language(pytt_name=name, meta={\"lang\": \"en\"})\\nnlp.add_pipe(nlp.create_pipe(\"sentencizer\"))\\n\\nabstracts_sentencized = nlp(abstracts)\\n\\nprint(abstracts_sentencized[:10])\\n'"
      ]
     },
     "execution_count": 5,
     "metadata": {},
     "output_type": "execute_result"
    }
   ],
   "source": [
    "'''\n",
    "lang = \"en\"\n",
    "pipeline = [\"tagger\", \"parser\", \"ner\"]\n",
    "data_path = \"path/to/en_core_web_sm/en_core_web_sm-2.0.0\"\n",
    "\n",
    "nlp = PyTT_Language(pytt_name=name, meta={\"lang\": \"en\"})\n",
    "nlp.add_pipe(nlp.create_pipe(\"sentencizer\"))\n",
    "\n",
    "abstracts_sentencized = nlp(abstracts)\n",
    "\n",
    "print(abstracts_sentencized[:10])\n",
    "'''\n",
    "# todo do this with scispacy"
   ]
  },
  {
   "cell_type": "code",
   "execution_count": 6,
   "metadata": {},
   "outputs": [
    {
     "name": "stdout",
     "output_type": "stream",
     "text": [
      "[['editorial', '']]\n",
      "99388\n"
     ]
    }
   ],
   "source": [
    "# how should the corpus be formatted?\n",
    "import random\n",
    "import re\n",
    "\n",
    "corpus = []\n",
    "for t,a in zip(titles, abstracts):\n",
    "    \n",
    "    P_ = t +  ' ' + a   # note, there is already a period at the end of the title\n",
    "    # todo consider segmenting sentences - currently title and abstract are one long sample\n",
    "    \n",
    "    p_ = P_.lower()\n",
    "    p = re.sub(r'[^\\w\\s]','',p_)  # todo check this\n",
    "        #  todo entities? lemmatization? other preprocessing?\n",
    "    # todo number string matching\n",
    "    #   todo use significant digits to decide on the mask\n",
    "    p_clean = re.sub(r'[ ][+-]?[\\d]+',' <NUM>', p) # '^[-+]?[\\d]$\",\"\\n\",p) #  substitute numbers\n",
    "    \n",
    "    words_clean = str.split(p_clean,' ')\n",
    "    corpus.append(words_clean)\n",
    "    \n",
    "print(corpus[:1])\n",
    "print(len(corpus))\n",
    "\n"
   ]
  },
  {
   "cell_type": "code",
   "execution_count": 7,
   "metadata": {},
   "outputs": [
    {
     "data": {
      "text/plain": [
       "' \\n# todo modify this code to take the title + abstract paragraphs into sentences\\n'"
      ]
     },
     "execution_count": 7,
     "metadata": {},
     "output_type": "execute_result"
    }
   ],
   "source": [
    "# todo split into sentences first--\n",
    "''' \n",
    "# todo modify this code to take the title + abstract paragraphs into sentences\n",
    "'''\n",
    "#name = \"scibert-scivocab-uncased\"\n",
    "#path = \"/project2/jevans/brendan/pretrained_transformers/scibert-scivocab-uncased\"  # todo bring to k-g\n",
    "#path = \"/home/brendan/FastData/pretrained_transformers/scibert-scivocab-uncased\"\n",
    "# https://github.com/allenai/scibert\n",
    "#  https://arxiv.org/abs/1903.10676\n",
    "\n",
    "#nlp = PyTT_Language(pytt_name=name, meta={\"lang\": \"en\"})\n",
    "#nlp.add_pipe(nlp.create_pipe(\"sentencizer\"))\n",
    "#nlp.add_pipe(PyTT_WordPiecer.from_pretrained(nlp.vocab, path))  # consider using the vocabulary-set of the scibert model?\n"
   ]
  },
  {
   "cell_type": "code",
   "execution_count": 8,
   "metadata": {},
   "outputs": [
    {
     "name": "stdout",
     "output_type": "stream",
     "text": [
      "elapsed: 60.69626307487488\n"
     ]
    }
   ],
   "source": [
    "# train word2vec components\n",
    "\n",
    "start_time = time.time()\n",
    "\n",
    "model = Word2Vec(corpus, size=20, window=5, min_count=10, workers=4)\n",
    "\n",
    "end_time = time.time()\n",
    "print(\"elapsed: {}\".format(end_time - start_time))\n"
   ]
  },
  {
   "cell_type": "code",
   "execution_count": null,
   "metadata": {},
   "outputs": [],
   "source": []
  },
  {
   "cell_type": "code",
   "execution_count": 9,
   "metadata": {},
   "outputs": [],
   "source": [
    "# save the word2vec networks\n",
    "\n",
    "model.save(\"test_word2vec.model\")   # could just save the .kv file instead"
   ]
  },
  {
   "cell_type": "code",
   "execution_count": 10,
   "metadata": {},
   "outputs": [
    {
     "name": "stdout",
     "output_type": "stream",
     "text": [
      "49715 20\n"
     ]
    }
   ],
   "source": [
    "# load the model and test\n",
    "\n",
    "model_test = Word2Vec.load(\"test_word2vec.model\")\n",
    "\n",
    "\n",
    "#  get params\n",
    "vocab_size = len(model_test.wv.vocab)\n",
    "D = np.shape(model_test.wv['and'])[0]\n",
    "print(vocab_size, D)\n"
   ]
  },
  {
   "cell_type": "code",
   "execution_count": 11,
   "metadata": {},
   "outputs": [],
   "source": [
    "#  try to visualize the wordnet"
   ]
  },
  {
   "cell_type": "code",
   "execution_count": 12,
   "metadata": {},
   "outputs": [
    {
     "data": {
      "text/plain": [
       "<matplotlib.colorbar.Colorbar at 0x7f0d65f5b650>"
      ]
     },
     "execution_count": 12,
     "metadata": {},
     "output_type": "execute_result"
    },
    {
     "data": {
      "image/png": "[encoded data removed]",
      "text/plain": [
       "<Figure size 432x288 with 2 Axes>"
      ]
     },
     "metadata": {
      "needs_background": "light"
     },
     "output_type": "display_data"
    },
    {
     "data": {
      "image/png": "[encoded data removed]",
      "text/plain": [
       "<Figure size 432x288 with 2 Axes>"
      ]
     },
     "metadata": {
      "needs_background": "light"
     },
     "output_type": "display_data"
    }
   ],
   "source": [
    "# step 1 populate matrix with normalized coordinates\n",
    "\n",
    "word_matrix_raw = np.zeros((vocab_size, D))\n",
    "word_list = []\n",
    "\n",
    "for idx,word in enumerate(model_test.wv.vocab):\n",
    "    word_list.append(word)\n",
    "    word_matrix_raw[idx,:] = model_test.wv[word]\n",
    "\n",
    "plt.figure()\n",
    "plt.imshow(word_matrix_raw, aspect='auto')\n",
    "plt.colorbar()\n",
    "\n",
    "# normalize rows of the matrix\n",
    "word_matrix = word_matrix_raw\n",
    "row_norms = np.linalg.norm(word_matrix_raw, ord=2, axis=1)\n",
    "for i_row, row_norm in enumerate(row_norms):\n",
    "    word_matrix[i_row,:] /= row_norm\n",
    "\n",
    "plt.figure()\n",
    "plt.imshow(word_matrix, aspect='auto')\n",
    "plt.colorbar()\n"
   ]
  },
  {
   "cell_type": "code",
   "execution_count": 13,
   "metadata": {},
   "outputs": [],
   "source": [
    "# determine a threshold for word similarity\n",
    "\n",
    "full_similarity_matrix = np.matmul(word_matrix, word_matrix.T)\n"
   ]
  },
  {
   "cell_type": "code",
   "execution_count": 14,
   "metadata": {},
   "outputs": [
    {
     "data": {
      "text/plain": [
       "(array([2.0000000e+00, 0.0000000e+00, 1.8000000e+01, 6.2000000e+01,\n",
       "        2.4000000e+02, 7.3800000e+02, 1.6000000e+03, 3.5960000e+03,\n",
       "        7.6440000e+03, 1.3994000e+04, 2.4858000e+04, 4.1634000e+04,\n",
       "        6.6408000e+04, 1.0350800e+05, 1.5447400e+05, 2.2663000e+05,\n",
       "        3.2300000e+05, 4.4749600e+05, 6.1081800e+05, 8.1779400e+05,\n",
       "        1.0753420e+06, 1.3905180e+06, 1.7776180e+06, 2.2404320e+06,\n",
       "        2.7895700e+06, 3.4455400e+06, 4.1960700e+06, 5.0705340e+06,\n",
       "        6.0644880e+06, 7.1944980e+06, 8.4536360e+06, 9.8851620e+06,\n",
       "        1.1454484e+07, 1.3163764e+07, 1.5025702e+07, 1.7037258e+07,\n",
       "        1.9171502e+07, 2.1431534e+07, 2.3804892e+07, 2.6268272e+07,\n",
       "        2.8824412e+07, 3.1396040e+07, 3.4001714e+07, 3.6612354e+07,\n",
       "        3.9194420e+07, 4.1733902e+07, 4.4187004e+07, 4.6565992e+07,\n",
       "        4.8838116e+07, 5.0943944e+07, 5.2935362e+07, 5.4780548e+07,\n",
       "        5.6442912e+07, 5.7962178e+07, 5.9293070e+07, 6.0426448e+07,\n",
       "        6.1394546e+07, 6.2149568e+07, 6.2769412e+07, 6.3147494e+07,\n",
       "        6.3396920e+07, 6.3420258e+07, 6.3258784e+07, 6.2917114e+07,\n",
       "        6.2421140e+07, 6.1713512e+07, 6.0820044e+07, 5.9751570e+07,\n",
       "        5.8508274e+07, 5.7099438e+07, 5.5538254e+07, 5.3762952e+07,\n",
       "        5.1843978e+07, 4.9770050e+07, 4.7534218e+07, 4.5156764e+07,\n",
       "        4.2654384e+07, 4.0016178e+07, 3.7315048e+07, 3.4479316e+07,\n",
       "        3.1577570e+07, 2.8652290e+07, 2.5691548e+07, 2.2757042e+07,\n",
       "        1.9868002e+07, 1.7053582e+07, 1.4346650e+07, 1.1799212e+07,\n",
       "        9.4277180e+06, 7.2718540e+06, 5.3853160e+06, 3.7699200e+06,\n",
       "        2.4658220e+06, 1.4641300e+06, 7.6425600e+05, 3.3389400e+05,\n",
       "        1.1121800e+05, 2.4766000e+04, 3.3920000e+03, 5.0081000e+04]),\n",
       " array([-9.23253758e-01, -9.04021220e-01, -8.84788683e-01, -8.65556145e-01,\n",
       "        -8.46323608e-01, -8.27091070e-01, -8.07858533e-01, -7.88625995e-01,\n",
       "        -7.69393457e-01, -7.50160920e-01, -7.30928382e-01, -7.11695845e-01,\n",
       "        -6.92463307e-01, -6.73230770e-01, -6.53998232e-01, -6.34765694e-01,\n",
       "        -6.15533157e-01, -5.96300619e-01, -5.77068082e-01, -5.57835544e-01,\n",
       "        -5.38603006e-01, -5.19370469e-01, -5.00137931e-01, -4.80905394e-01,\n",
       "        -4.61672856e-01, -4.42440319e-01, -4.23207781e-01, -4.03975243e-01,\n",
       "        -3.84742706e-01, -3.65510168e-01, -3.46277631e-01, -3.27045093e-01,\n",
       "        -3.07812555e-01, -2.88580018e-01, -2.69347480e-01, -2.50114943e-01,\n",
       "        -2.30882405e-01, -2.11649868e-01, -1.92417330e-01, -1.73184792e-01,\n",
       "        -1.53952255e-01, -1.34719717e-01, -1.15487180e-01, -9.62546421e-02,\n",
       "        -7.70221045e-02, -5.77895669e-02, -3.85570294e-02, -1.93244918e-02,\n",
       "        -9.19541926e-05,  1.91405834e-02,  3.83731210e-02,  5.76056585e-02,\n",
       "         7.68381961e-02,  9.60707337e-02,  1.15303271e-01,  1.34535809e-01,\n",
       "         1.53768346e-01,  1.73000884e-01,  1.92233422e-01,  2.11465959e-01,\n",
       "         2.30698497e-01,  2.49931034e-01,  2.69163572e-01,  2.88396110e-01,\n",
       "         3.07628647e-01,  3.26861185e-01,  3.46093722e-01,  3.65326260e-01,\n",
       "         3.84558797e-01,  4.03791335e-01,  4.23023873e-01,  4.42256410e-01,\n",
       "         4.61488948e-01,  4.80721485e-01,  4.99954023e-01,  5.19186560e-01,\n",
       "         5.38419098e-01,  5.57651636e-01,  5.76884173e-01,  5.96116711e-01,\n",
       "         6.15349248e-01,  6.34581786e-01,  6.53814324e-01,  6.73046861e-01,\n",
       "         6.92279399e-01,  7.11511936e-01,  7.30744474e-01,  7.49977011e-01,\n",
       "         7.69209549e-01,  7.88442087e-01,  8.07674624e-01,  8.26907162e-01,\n",
       "         8.46139699e-01,  8.65372237e-01,  8.84604775e-01,  9.03837312e-01,\n",
       "         9.23069850e-01,  9.42302387e-01,  9.61534925e-01,  9.80767462e-01,\n",
       "         1.00000000e+00]),\n",
       " <a list of 1 Patch objects>)"
      ]
     },
     "execution_count": 14,
     "metadata": {},
     "output_type": "execute_result"
    },
    {
     "data": {
      "image/png": "[encoded data removed]",
      "text/plain": [
       "<Figure size 432x288 with 1 Axes>"
      ]
     },
     "metadata": {
      "needs_background": "light"
     },
     "output_type": "display_data"
    }
   ],
   "source": [
    "plt.figure()\n",
    "plt.hist(full_similarity_matrix.flatten(), bins=100, histtype='step')"
   ]
  },
  {
   "cell_type": "code",
   "execution_count": 15,
   "metadata": {},
   "outputs": [
    {
     "name": "stdout",
     "output_type": "stream",
     "text": [
      "0.8683108306438085 -0.5466990303550286\n"
     ]
    }
   ],
   "source": [
    "word_similarity_scores = full_similarity_matrix.flatten()\n",
    "upper_thresh = np.percentile(word_similarity_scores,99.9)\n",
    "lower_thresh = np.percentile(word_similarity_scores,0.1)\n",
    "del word_similarity_scores\n",
    "\n",
    "print(upper_thresh, lower_thresh)"
   ]
  },
  {
   "cell_type": "code",
   "execution_count": 18,
   "metadata": {},
   "outputs": [],
   "source": [
    "edges = []\n",
    "\n",
    "for i_row, row in enumerate(full_similarity_matrix):\n",
    "    for i_col, score in enumerate(row):\n",
    "        if score > upper_thresh or score <= lower_thresh:\n",
    "            row_word = word_list[i_row]\n",
    "            col_word = word_list[i_col]\n",
    "            edges.append( (row_word, col_word, score))\n"
   ]
  },
  {
   "cell_type": "code",
   "execution_count": 19,
   "metadata": {},
   "outputs": [
    {
     "name": "stdout",
     "output_type": "stream",
     "text": [
      "4943165\n"
     ]
    }
   ],
   "source": [
    "print(len(edges))"
   ]
  },
  {
   "cell_type": "code",
   "execution_count": 21,
   "metadata": {},
   "outputs": [],
   "source": [
    "with open('data_processing/test_edgelist.json','w') as f:\n",
    "    json.dump(edges, f)"
   ]
  },
  {
   "cell_type": "code",
   "execution_count": null,
   "metadata": {},
   "outputs": [],
   "source": []
  }
 ],
 "metadata": {
  "kernelspec": {
   "display_name": "Python 3",
   "language": "python",
   "name": "python3"
  },
  "language_info": {
   "codemirror_mode": {
    "name": "ipython",
    "version": 3
   },
   "file_extension": ".py",
   "mimetype": "text/x-python",
   "name": "python",
   "nbconvert_exporter": "python",
   "pygments_lexer": "ipython3",
   "version": "3.7.5"
  }
 },
 "nbformat": 4,
 "nbformat_minor": 2
}

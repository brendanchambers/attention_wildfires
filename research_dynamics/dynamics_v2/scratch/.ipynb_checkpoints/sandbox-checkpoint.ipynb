{
 "cells": [
  {
   "cell_type": "code",
   "execution_count": 3,
   "metadata": {},
   "outputs": [],
   "source": [
    "# check year 1975, unpack the density blossom\n",
    "\n",
    "\n",
    "import json\n",
    "import pymysql\n",
    "import pickle\n",
    "\n",
    "import numpy as np\n",
    "import umap\n",
    "\n",
    "from scipy import spatial\n",
    "import matplotlib.pyplot as plt\n",
    "import seaborn as sns\n",
    "\n",
    "import time\n",
    "import os"
   ]
  },
  {
   "cell_type": "code",
   "execution_count": 8,
   "metadata": {
    "scrolled": true
   },
   "outputs": [
    {
     "name": "stdout",
     "output_type": "stream",
     "text": [
      "/project2/jevans/brendan/pubmed_data_processing/year_pmids/pubmed_state_1989\n"
     ]
    }
   ],
   "source": [
    "top_level_path = '/project2/jevans/brendan/pubmed_data_processing/year_pmids'\n",
    "\n",
    "year = 1989\n",
    "prefix = 'pubmed_state_{}'.format(year) # note: these are json files\n",
    "                # they are simply missing the .json postfix\n",
    "\n",
    "path = os.path.join(top_level_path, prefix)\n",
    "print(path)"
   ]
  },
  {
   "cell_type": "code",
   "execution_count": null,
   "metadata": {},
   "outputs": [],
   "source": [
    "# configure db"
   ]
  },
  {
   "cell_type": "code",
   "execution_count": null,
   "metadata": {},
   "outputs": [],
   "source": [
    "db_name = 'test_pubmed'  # db name collisons? https://stackoverflow.com/questions/14011968/user-cant-access-a-database\n",
    "client_config = {'unix_socket':'/home/brendanchambers/.sql.sock',\n",
    "                'database': db_name}"
   ]
  },
  {
   "cell_type": "code",
   "execution_count": 9,
   "metadata": {},
   "outputs": [],
   "source": [
    "# load pmids and sample"
   ]
  },
  {
   "cell_type": "code",
   "execution_count": 11,
   "metadata": {},
   "outputs": [
    {
     "name": "stdout",
     "output_type": "stream",
     "text": [
      "(402283,)\n"
     ]
    }
   ],
   "source": [
    "with open(path, 'r') as f:\n",
    "    data = json.load(f)\n",
    "    \n",
    "print(np.shape(data['publications']))\n"
   ]
  },
  {
   "cell_type": "code",
   "execution_count": null,
   "metadata": {},
   "outputs": [],
   "source": [
    "# filter for just those pmids with corresponding abstract_and_title in db\n",
    "\n",
    "db = pymysql.connect(**client_config)\n",
    "\n",
    "str_fmt = ', '.join([str(pmid) for pmid in data['publications']])\n",
    "\n",
    "sql = '''SELECT E.pmid, E.embedding\n",
    "        FROM scibert_mean_embedding as E\n",
    "        WHERE E.pmid IN ({})'''.format(str_fmt)\n",
    "\n",
    "start_time = time.time()\n",
    "cursor = db.cursor()\n",
    "cursor.execute(sql)\n",
    "end_time = time.time()\n",
    "elapsed = end_time - start_time\n",
    "print(\"SQL join executed in {} s\".format(elapsed))"
   ]
  }
 ],
 "metadata": {
  "kernelspec": {
   "display_name": "Python 3",
   "language": "python",
   "name": "python3"
  },
  "language_info": {
   "codemirror_mode": {
    "name": "ipython",
    "version": 3
   },
   "file_extension": ".py",
   "mimetype": "text/x-python",
   "name": "python",
   "nbconvert_exporter": "python",
   "pygments_lexer": "ipython3",
   "version": "3.7.3"
  }
 },
 "nbformat": 4,
 "nbformat_minor": 2
}

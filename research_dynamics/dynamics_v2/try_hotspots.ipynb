{
 "cells": [
  {
   "cell_type": "code",
   "execution_count": 1,
   "metadata": {},
   "outputs": [
    {
     "data": {
      "text/plain": [
       "\"\\n# TRY HOTSPOTS\\n\\nTake a time-flattened sample of papers and identify clusters\\n\\nWithin the spatial extent of ID'd clusters, track the dynamics of publications and citations over time\\n\\n\\n\""
      ]
     },
     "execution_count": 1,
     "metadata": {},
     "output_type": "execute_result"
    }
   ],
   "source": [
    "'''\n",
    "# TRY HOTSPOTS\n",
    "\n",
    "Take a time-flattened sample of papers and identify clusters\n",
    "\n",
    "Within the spatial extent of ID'd clusters, track the dynamics of publications and citations over time\n",
    "\n",
    "\n",
    "'''"
   ]
  },
  {
   "cell_type": "code",
   "execution_count": 2,
   "metadata": {},
   "outputs": [],
   "source": [
    "import pymysql\n",
    "import pickle\n",
    "import json\n",
    "\n",
    "import numpy as np\n",
    "from sklearn.decomposition import PCA\n",
    "\n",
    "import matplotlib.pyplot as plt\n",
    "import seaborn as sns\n",
    "plt.rcParams['svg.fonttype'] = 'none'\n",
    "\n",
    "import time\n",
    "import hdbscan"
   ]
  },
  {
   "cell_type": "code",
   "execution_count": 4,
   "metadata": {},
   "outputs": [
    {
     "name": "stdout",
     "output_type": "stream",
     "text": [
      "pop open pickle jar: umap model...\n",
      "/home/brendan/FastData/pubmed2019/pubmed_data_processing/sample_pmids/sample0.json\n"
     ]
    }
   ],
   "source": [
    "db_name = 'test_pubmed'  # db name collisons? https://stackoverflow.com/questions/14011968/user-cant-access-a-database\n",
    "config_path = '/home/brendan/Projects/AttentionWildfires/attention_wildfires/mysql_config.json'\n",
    "\n",
    "with open(config_path, 'r') as f:\n",
    "    config_data = json.load(f)\n",
    "    \n",
    "client_config = {'database': db_name,\n",
    "                'user': config_data['user'],\n",
    "                 'password': config_data['lock']}\n",
    "\n",
    "db = pymysql.connect(**client_config)\n",
    "\n",
    "########################\n",
    "## load pre-fit dimensionality reduction models\n",
    "\n",
    "print('pop open pickle jar: umap model...')\n",
    "umap_path = \"/home/brendan/FastData/pubmed2019/pubmed_data_processing/dimensionality_reduction_models/umap2D/umap_model0.pkl\"\n",
    "with open(umap_path, 'rb') as file:\n",
    "    umap_model = pickle.load(file)\n",
    "    \n",
    "#########################\n",
    "## control params\n",
    "\n",
    "sample_id = 0\n",
    "path2dir = '/home/brendan/FastData/pubmed2019/pubmed_data_processing/sample_pmids/'  # knowledge-garden\n",
    "path2sample = path2dir + 'sample{}.json'.format(sample_id)\n",
    "print(path2sample)"
   ]
  },
  {
   "cell_type": "code",
   "execution_count": null,
   "metadata": {},
   "outputs": [],
   "source": [
    "# get sample pmids"
   ]
  },
  {
   "cell_type": "code",
   "execution_count": 16,
   "metadata": {},
   "outputs": [
    {
     "name": "stdout",
     "output_type": "stream",
     "text": [
      "N pubs: 98470\n",
      "N sampled: 10000\n"
     ]
    }
   ],
   "source": [
    "with open(path2sample,'r') as f:\n",
    "    data = json.load(f)\n",
    "\n",
    "#print(data.keys())\n",
    "#print(data['sample_fraction'])\n",
    "#print(data['do_resample'])\n",
    "#print(data['sample_rows'][0])  # pmid, year, journal\n",
    "N_pubs = len(data['sample_rows'])\n",
    "print(\"N pubs: {}\".format(N_pubs))\n",
    "\n",
    "# todo could filter by year here...\n",
    "\n",
    "K_sample = 10000\n",
    "sample = {}\n",
    "sample['pmids'] = np.random.choice([row[0] for row in data['sample_rows']], K_sample)\n",
    "del data\n",
    "\n",
    "print(\"N sampled: {}\".format(len(sample['pmids'])))"
   ]
  },
  {
   "cell_type": "code",
   "execution_count": 17,
   "metadata": {},
   "outputs": [],
   "source": [
    "# helper function for selecting the embedding vectors\n",
    "\n",
    "def get_embedding_vectors(sample_pmids):\n",
    "    str_fmt = ', '.join([str(pmid) for pmid in sample_pmids])\n",
    "\n",
    "    sql = '''SELECT E.pmid, E.embedding\n",
    "            FROM scibert_mean_embedding as E\n",
    "            WHERE E.pmid IN ({})'''.format(str_fmt)\n",
    "\n",
    "    start_time = time.time()\n",
    "    cursor = db.cursor()\n",
    "    cursor.execute(sql)\n",
    "    end_time = time.time()\n",
    "    elapsed = end_time - start_time\n",
    "    print(\"SQL join executed in {} s\".format(elapsed))\n",
    "    \n",
    "    start_time = time.time()\n",
    "    pub_embeddings = []\n",
    "    pub_pmids = []\n",
    "    for i,row in enumerate(cursor):\n",
    "        print_block_len = 100000\n",
    "        if (i+1) % print_block_len == 0:\n",
    "            print('fetched {} rows...'.format(print_block_len))\n",
    "        pub_pmids.append(row[0])\n",
    "        pub_embeddings.append(np.frombuffer(row[1],dtype='float16').tolist())\n",
    "    cursor.close()\n",
    "    end_time = time.time()\n",
    "    elapsed = end_time - start_time\n",
    "    print(\"SQL results fetched and cast in {} s\".format(elapsed))\n",
    "    \n",
    "    return pub_pmids, pub_embeddings"
   ]
  },
  {
   "cell_type": "code",
   "execution_count": 21,
   "metadata": {},
   "outputs": [
    {
     "name": "stdout",
     "output_type": "stream",
     "text": [
      "SQL join executed in 2.685482978820801 s\n",
      "SQL results fetched and cast in 0.17948675155639648 s\n",
      "N samples with embedding: 5865\n",
      "compressing...\n"
     ]
    },
    {
     "name": "stderr",
     "output_type": "stream",
     "text": [
      "/home/brendan/anaconda3/envs/embedding-base/lib/python3.7/site-packages/numba/typed_passes.py:271: NumbaPerformanceWarning: \n",
      "The keyword argument 'parallel=True' was specified but no transformation for parallel execution was possible.\n",
      "\n",
      "To find out why, try turning on parallel diagnostics, see http://numba.pydata.org/numba-doc/latest/user/parallel.html#diagnostics for help.\n",
      "\n",
      "File \"../../../../../../brendanchambers/.conda/envs/embedding-base/lib/python3.7/site-packages/umap/nndescent.py\", line 123:\n",
      "<source missing, REPL/exec in use?>\n",
      "\n",
      "  state.func_ir.loc))\n",
      "/home/brendan/anaconda3/envs/embedding-base/lib/python3.7/site-packages/numba/typed_passes.py:271: NumbaPerformanceWarning: \n",
      "The keyword argument 'parallel=True' was specified but no transformation for parallel execution was possible.\n",
      "\n",
      "To find out why, try turning on parallel diagnostics, see http://numba.pydata.org/numba-doc/latest/user/parallel.html#diagnostics for help.\n",
      "\n",
      "File \"../../../../../../brendanchambers/.conda/envs/embedding-base/lib/python3.7/site-packages/umap/nndescent.py\", line 134:\n",
      "<source missing, REPL/exec in use?>\n",
      "\n",
      "  state.func_ir.loc))\n"
     ]
    }
   ],
   "source": [
    "\n",
    "pmids, embeddings = get_embedding_vectors(sample['pmids'])\n",
    "print(\"N samples with embedding: {}\".format(len(embeddings)))\n",
    "sample['pmids'] = pmids  # remove pmids with no corresponding embedding (e.g. no abstract)\n",
    "sample['raw_coordinates'] = embeddings\n",
    "print('compressing...')\n",
    "sample['umap2D'] = umap_model.transform(embeddings)"
   ]
  },
  {
   "cell_type": "code",
   "execution_count": 23,
   "metadata": {},
   "outputs": [
    {
     "data": {
      "text/plain": [
       "Text(0.5, 1.0, 'published: time-flattened')"
      ]
     },
     "execution_count": 23,
     "metadata": {},
     "output_type": "execute_result"
    },
    {
     "data": {
      "image/png": "[encoded data removed]",
      "text/plain": [
       "<Figure size 720x288 with 2 Axes>"
      ]
     },
     "metadata": {
      "needs_background": "light"
     },
     "output_type": "display_data"
    }
   ],
   "source": [
    "# sanity check - umap plot of the sample\n",
    "\n",
    "(f, ax) = plt.subplots(1,\n",
    "                       2,\n",
    "                       sharex='all', sharey='all',\n",
    "                       figsize=(10,4))\n",
    "\n",
    "sns.kdeplot(sample['umap2D'][:,0], # these are pca'd\n",
    "            sample['umap2D'][:,1],\n",
    "            ax=ax[0],\n",
    "            shade=True,\n",
    "    shade_lowest=False,\n",
    "            cmap='Blues')\n",
    "ax[0].set_title('published: time-flattened')\n"
   ]
  },
  {
   "cell_type": "code",
   "execution_count": 24,
   "metadata": {},
   "outputs": [],
   "source": [
    "# identify hotspots using hdbscan\n"
   ]
  },
  {
   "cell_type": "code",
   "execution_count": 27,
   "metadata": {},
   "outputs": [
    {
     "name": "stdout",
     "output_type": "stream",
     "text": [
      "num clusters: 16\n"
     ]
    },
    {
     "data": {
      "image/png": "[encoded data removed]",
      "text/plain": [
       "<Figure size 288x216 with 2 Axes>"
      ]
     },
     "metadata": {
      "needs_background": "light"
     },
     "output_type": "display_data"
    },
    {
     "data": {
      "image/png": "[encoded data removed]",
      "text/plain": [
       "<Figure size 288x216 with 2 Axes>"
      ]
     },
     "metadata": {
      "needs_background": "light"
     },
     "output_type": "display_data"
    }
   ],
   "source": [
    "\n",
    "    clusterer = hdbscan.HDBSCAN(min_cluster_size=50,  # 50\n",
    "                            min_samples=50,   # 100\n",
    "                            cluster_selection_method='leaf')  # euclidean distance\n",
    "    clusterer.fit(sample['umap2D'])  # samples x features\n",
    "\n",
    "    # number of clusters\n",
    "    print('num clusters: {}'.format(clusterer.labels_.max()+1))\n",
    "    \n",
    "    # plot clusters\n",
    "    plt.figure(figsize=(4,3))\n",
    "    plt.scatter(sample['umap2D'][:,0],\n",
    "               sample['umap2D'][:,1],\n",
    "               c=clusterer.labels_)\n",
    "    plt.colorbar()\n",
    "    plt.show()\n",
    "\n",
    "    # plot clusters using probabilities_ estimate  (todo combine plots)\n",
    "    rgba = np.zeros( (np.shape(sample['umap2D'])[0], 4) )\n",
    "    rgba[:,3] = clusterer.probabilities_\n",
    "    plt.figure(figsize=(4,3))\n",
    "    plt.scatter(sample['umap2D'][:,0],\n",
    "               sample['umap2D'][:,1],\n",
    "               c=rgba)\n",
    "    plt.colorbar()\n",
    "    plt.show()\n"
   ]
  },
  {
   "cell_type": "code",
   "execution_count": null,
   "metadata": {},
   "outputs": [],
   "source": []
  },
  {
   "cell_type": "code",
   "execution_count": null,
   "metadata": {},
   "outputs": [],
   "source": []
  }
 ],
 "metadata": {
  "kernelspec": {
   "display_name": "Python 3",
   "language": "python",
   "name": "python3"
  },
  "language_info": {
   "codemirror_mode": {
    "name": "ipython",
    "version": 3
   },
   "file_extension": ".py",
   "mimetype": "text/x-python",
   "name": "python",
   "nbconvert_exporter": "python",
   "pygments_lexer": "ipython3",
   "version": "3.7.5"
  }
 },
 "nbformat": 4,
 "nbformat_minor": 2
}

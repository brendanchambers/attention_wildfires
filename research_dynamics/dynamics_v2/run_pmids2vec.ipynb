{
 "cells": [
  {
   "cell_type": "code",
   "execution_count": 1,
   "metadata": {},
   "outputs": [],
   "source": [
    "import matplotlib as mpl\n",
    "\n",
    "import matplotlib.pyplot as plt\n",
    "#import seaborn as sns\n",
    "plt.rcParams['svg.fonttype'] = 'none'\n",
    "plt.rcParams['pdf.fonttype'] = 42\n",
    "plt.rcParams['ps.fonttype'] = 42\n",
    "\n",
    "import networkx as nx\n",
    "\n",
    "import pymysql\n",
    "import pickle\n",
    "import json\n",
    "\n",
    "import numpy as np\n",
    "from sklearn.decomposition import PCA\n",
    "\n",
    "import time\n",
    "import hdbscan\n",
    "import umap\n",
    "\n",
    "import spacy\n",
    "from gensim.models import Word2Vec\n",
    "\n",
    "import random\n",
    "import re\n",
    "from pmids2vec import pmids2vec, pmids2vec_titlesOnly\n",
    "from pmids2corpus import pmids2corpus    #  todo integrate this into pmids2vec"
   ]
  },
  {
   "cell_type": "markdown",
   "metadata": {},
   "source": [
    "### control parameters"
   ]
  },
  {
   "cell_type": "code",
   "execution_count": 2,
   "metadata": {},
   "outputs": [],
   "source": [
    "path2clusteredPMIDs = 'data_processing_feb2020/pmids_2018_250k.json'\n",
    "model_export_prefix = '2018_250k'\n",
    "embed_titles_text = True\n",
    "embed_abstracts_text = False\n"
   ]
  },
  {
   "cell_type": "markdown",
   "metadata": {},
   "source": [
    "### get metadata"
   ]
  },
  {
   "cell_type": "code",
   "execution_count": 3,
   "metadata": {},
   "outputs": [],
   "source": [
    "with open(path2clusteredPMIDs, 'r') as f:\n",
    "    data = json.load(f)\n",
    "\n",
    "N_samples = len(data['pmids'])"
   ]
  },
  {
   "cell_type": "code",
   "execution_count": 4,
   "metadata": {},
   "outputs": [],
   "source": [
    "### embed abstract text"
   ]
  },
  {
   "cell_type": "code",
   "execution_count": 5,
   "metadata": {},
   "outputs": [],
   "source": [
    "# todo force samples to have the same size, test impact of vocabulary ? \n",
    "#    or maybe just test variance over multiple samplesets to check for effects of sample size asymmetry\n",
    "\n",
    "# load pmids\n",
    "\n",
    "if embed_abstracts_text:\n",
    "\n",
    "    for sample_id in range(N_samples):\n",
    "        model_names = []\n",
    "\n",
    "        with open(path2clusteredPMIDs, 'r') as f:\n",
    "            data = json.load(f)\n",
    "\n",
    "        #print(data['pmids'])   # i_sample, i_cluster\n",
    "        sample_pmids = []\n",
    "\n",
    "        clustered_pmids = data['pmids'][str(sample_id)]\n",
    "        for cluster_id_str, pmids_list in clustered_pmids.items():\n",
    "\n",
    "            model_export_path = 'data_processing_feb2020/abstracts_{}_cluster{}_{}.model'.format(\n",
    "                                    sample_id, cluster_id_str, model_export_prefix)\n",
    "            model_names.append(model_export_path)\n",
    "\n",
    "            print('calling pmids2vec...')\n",
    "            pmids2vec(pmids_list, model_export_path)\n",
    "            \n",
    "    print('--------------')\n",
    "    "
   ]
  },
  {
   "cell_type": "code",
   "execution_count": 6,
   "metadata": {},
   "outputs": [],
   "source": [
    "# recreate & save the corpus for good measure\n",
    "\n",
    "if embed_abstracts_text:\n",
    "\n",
    "    for sample_id in range(N_samples):\n",
    "        model_names = []\n",
    "\n",
    "        with open(path2clusteredPMIDs, 'r') as f:\n",
    "            data = json.load(f)\n",
    "        sample_pmids = []\n",
    "\n",
    "        clustered_pmids = data['pmids'][str(sample_id)]\n",
    "        for cluster_id_str, pmids_list in clustered_pmids.items():\n",
    "\n",
    "            corpus_export_path = 'data_processing_feb2020/abstracts_{}_cluster{}_{}_corpus.json'.format(\n",
    "                                    sample_id, cluster_id_str, model_export_prefix)\n",
    "            model_names.append(corpus_export_path)\n",
    "\n",
    "            print('calling pmids2corpus...')\n",
    "            pmids2corpus(pmids_list, corpus_export_path)\n",
    "            \n",
    "    print('---------------')\n"
   ]
  },
  {
   "cell_type": "code",
   "execution_count": 7,
   "metadata": {},
   "outputs": [],
   "source": [
    "### embed titles only"
   ]
  },
  {
   "cell_type": "code",
   "execution_count": 8,
   "metadata": {
    "scrolled": false
   },
   "outputs": [
    {
     "name": "stdout",
     "output_type": "stream",
     "text": [
      "calling pmids2vec...\n",
      "SQL join executed in 34.89790368080139 s\n",
      "SQL results fetched and cast in 0.016139507293701172 s\n",
      "saving corpus of titles to data_processing_feb2020/titles_0_cluster0_2018_250k_titles__corpus.json\n",
      "training word2vec model...\n",
      "params: 20 dimensions, 5 window size, 21 min count\n",
      "elapsed: 0.9231293201446533\n",
      "calling pmids2vec...\n",
      "SQL join executed in 25.339730739593506 s\n",
      "SQL results fetched and cast in 0.035263776779174805 s\n",
      "saving corpus of titles to data_processing_feb2020/titles_0_cluster1_2018_250k_titles__corpus.json\n",
      "training word2vec model...\n",
      "params: 20 dimensions, 5 window size, 51 min count\n",
      "elapsed: 1.6284728050231934\n",
      "calling pmids2vec...\n",
      "SQL join executed in 26.25014877319336 s\n",
      "SQL results fetched and cast in 0.043778181076049805 s\n",
      "saving corpus of titles to data_processing_feb2020/titles_0_cluster2_2018_250k_titles__corpus.json\n",
      "training word2vec model...\n",
      "params: 20 dimensions, 5 window size, 63 min count\n",
      "elapsed: 2.1473028659820557\n",
      "---------------------------------\n",
      "calling pmids2vec...\n",
      "SQL join executed in 26.616809606552124 s\n",
      "SQL results fetched and cast in 0.0235595703125 s\n",
      "saving corpus of titles to data_processing_feb2020/titles_1_cluster0_2018_250k_titles__corpus.json\n",
      "training word2vec model...\n",
      "params: 20 dimensions, 5 window size, 31 min count\n",
      "elapsed: 1.1166927814483643\n",
      "calling pmids2vec...\n",
      "SQL join executed in 26.080705404281616 s\n",
      "SQL results fetched and cast in 0.033240556716918945 s\n",
      "saving corpus of titles to data_processing_feb2020/titles_1_cluster1_2018_250k_titles__corpus.json\n",
      "training word2vec model...\n",
      "params: 20 dimensions, 5 window size, 49 min count\n",
      "elapsed: 1.6292226314544678\n",
      "calling pmids2vec...\n",
      "SQL join executed in 25.8647038936615 s\n",
      "SQL results fetched and cast in 0.04984569549560547 s\n",
      "saving corpus of titles to data_processing_feb2020/titles_1_cluster2_2018_250k_titles__corpus.json\n",
      "training word2vec model...\n",
      "params: 20 dimensions, 5 window size, 72 min count\n",
      "elapsed: 2.3909614086151123\n",
      "---------------------------------\n",
      "calling pmids2vec...\n",
      "SQL join executed in 25.88513708114624 s\n",
      "SQL results fetched and cast in 0.014389753341674805 s\n",
      "saving corpus of titles to data_processing_feb2020/titles_2_cluster0_2018_250k_titles__corpus.json\n",
      "training word2vec model...\n",
      "params: 20 dimensions, 5 window size, 21 min count\n",
      "elapsed: 0.9003915786743164\n",
      "calling pmids2vec...\n",
      "SQL join executed in 26.557160139083862 s\n",
      "SQL results fetched and cast in 0.033339738845825195 s\n",
      "saving corpus of titles to data_processing_feb2020/titles_2_cluster1_2018_250k_titles__corpus.json\n",
      "training word2vec model...\n",
      "params: 20 dimensions, 5 window size, 48 min count\n",
      "elapsed: 1.5303349494934082\n",
      "calling pmids2vec...\n",
      "SQL join executed in 26.76583766937256 s\n",
      "SQL results fetched and cast in 0.04185223579406738 s\n",
      "saving corpus of titles to data_processing_feb2020/titles_2_cluster2_2018_250k_titles__corpus.json\n",
      "training word2vec model...\n",
      "params: 20 dimensions, 5 window size, 63 min count\n",
      "elapsed: 2.1573903560638428\n",
      "---------------------------------\n"
     ]
    }
   ],
   "source": [
    "# titles only (saves the corpus while training the titles-only models)\n",
    "\n",
    "# todo force samples to have the same size, test impact of vocabulary ? \n",
    "#    or maybe just test variance over multiple samplesets to check for effects of sample size asymmetry\n",
    "\n",
    "# load pmids\n",
    "\n",
    "if embed_titles_text:\n",
    "    \n",
    "    for sample_id in range(N_samples):\n",
    "        model_names = []\n",
    "\n",
    "                                 #  todo need much larger set of pmids since this is titles only\n",
    "        with open(path2clusteredPMIDs, 'r') as f:\n",
    "            data = json.load(f)\n",
    "\n",
    "        #print(data['pmids'])   # i_sample, i_cluster\n",
    "        sample_pmids = []\n",
    "        clustered_pmids = data['pmids'][str(sample_id)]\n",
    "        for cluster_id_str, pmids_list in clustered_pmids.items():\n",
    "\n",
    "            model_export_path = 'data_processing_feb2020/titles_{}_cluster{}_{}'.format(\n",
    "                    sample_id, cluster_id_str, model_export_prefix)\n",
    "\n",
    "            print('calling pmids2vec...')\n",
    "            pmids2vec_titlesOnly(pmids_list, model_export_path)\n",
    "            \n",
    "        print('---------------------------------')\n"
   ]
  },
  {
   "cell_type": "code",
   "execution_count": null,
   "metadata": {},
   "outputs": [],
   "source": []
  }
 ],
 "metadata": {
  "kernelspec": {
   "display_name": "Python 3",
   "language": "python",
   "name": "python3"
  },
  "language_info": {
   "codemirror_mode": {
    "name": "ipython",
    "version": 3
   },
   "file_extension": ".py",
   "mimetype": "text/x-python",
   "name": "python",
   "nbconvert_exporter": "python",
   "pygments_lexer": "ipython3",
   "version": "3.7.6"
  }
 },
 "nbformat": 4,
 "nbformat_minor": 2
}

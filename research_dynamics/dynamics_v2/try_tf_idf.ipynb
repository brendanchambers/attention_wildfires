{
 "cells": [
  {
   "cell_type": "code",
   "execution_count": 1,
   "metadata": {},
   "outputs": [],
   "source": [
    "import os\n",
    "import json\n",
    "\n",
    "import numpy as np\n",
    "\n",
    "from collections import defaultdict\n",
    "from gensim.corpora import Dictionary\n",
    "from gensim.models import TfidfModel"
   ]
  },
  {
   "cell_type": "code",
   "execution_count": null,
   "metadata": {},
   "outputs": [],
   "source": []
  },
  {
   "cell_type": "code",
   "execution_count": 2,
   "metadata": {},
   "outputs": [],
   "source": [
    "path2dir = 'data_processing_feb2020/abstracts_2018_200k/'\n",
    "outfile='tfidf_results.json'\n",
    "N_samples = 3\n",
    "    "
   ]
  },
  {
   "cell_type": "code",
   "execution_count": null,
   "metadata": {},
   "outputs": [],
   "source": []
  },
  {
   "cell_type": "code",
   "execution_count": 3,
   "metadata": {},
   "outputs": [],
   "source": [
    "### list the paths to the respective corpus in a standardized order"
   ]
  },
  {
   "cell_type": "code",
   "execution_count": 4,
   "metadata": {},
   "outputs": [
    {
     "name": "stdout",
     "output_type": "stream",
     "text": [
      "[['abstracts_0_cluster0_2018_200k_corpus.json', 'abstracts_0_cluster1_2018_200k_corpus.json', 'abstracts_0_cluster2_2018_200k_corpus.json', 'abstracts_0_cluster3_2018_200k_corpus.json', 'abstracts_0_cluster4_2018_200k_corpus.json', 'abstracts_0_cluster5_2018_200k_corpus.json', 'abstracts_0_cluster6_2018_200k_corpus.json', 'abstracts_0_cluster7_2018_200k_corpus.json', 'abstracts_0_cluster8_2018_200k_corpus.json'], ['abstracts_1_cluster0_2018_200k_corpus.json', 'abstracts_1_cluster1_2018_200k_corpus.json', 'abstracts_1_cluster2_2018_200k_corpus.json', 'abstracts_1_cluster3_2018_200k_corpus.json', 'abstracts_1_cluster4_2018_200k_corpus.json', 'abstracts_1_cluster5_2018_200k_corpus.json', 'abstracts_1_cluster6_2018_200k_corpus.json', 'abstracts_1_cluster7_2018_200k_corpus.json', 'abstracts_1_cluster8_2018_200k_corpus.json'], ['abstracts_2_cluster0_2018_200k_corpus.json', 'abstracts_2_cluster1_2018_200k_corpus.json', 'abstracts_2_cluster2_2018_200k_corpus.json', 'abstracts_2_cluster3_2018_200k_corpus.json', 'abstracts_2_cluster4_2018_200k_corpus.json', 'abstracts_2_cluster5_2018_200k_corpus.json', 'abstracts_2_cluster6_2018_200k_corpus.json', 'abstracts_2_cluster7_2018_200k_corpus.json', 'abstracts_2_cluster8_2018_200k_corpus.json']]\n"
     ]
    }
   ],
   "source": [
    "corpus_paths = []\n",
    "\n",
    "files_list = [f for f in os.listdir(path2dir) if 'corpus.json' in f]\n",
    "\n",
    "for i_sample in range(N_samples):\n",
    "    \n",
    "    # NOTE this switch for titles vs abstracts (todo clean this up)\n",
    "    #corpus_sublist = [f for f in files_list if 'titles_{}_'.format(i_sample) in f]\n",
    "    corpus_sublist = [f for f in files_list if 'abstracts_{}_'.format(i_sample) in f]\n",
    "    \n",
    "    N_communities = len(corpus_sublist)\n",
    "    \n",
    "    corpus_paths.append([])\n",
    "    for i_community in range(N_communities):\n",
    "        \n",
    "        for j_path in corpus_sublist:\n",
    "            if 'cluster{}'.format(i_community) in j_path:\n",
    "                this_path = j_path\n",
    "        corpus_paths[i_sample].append(this_path)\n",
    "  \n",
    "'''\n",
    "KEY:\n",
    "sample 0\n",
    "    community 0\n",
    "    community 1\n",
    "    etc\n",
    "sample 1\n",
    "    community 0\n",
    "    community 1\n",
    "    etc\n",
    "etc\n",
    "'''\n",
    "\n",
    "print(corpus_paths)"
   ]
  },
  {
   "cell_type": "code",
   "execution_count": 5,
   "metadata": {},
   "outputs": [],
   "source": [
    "# tfidf on cluster text"
   ]
  },
  {
   "cell_type": "code",
   "execution_count": 6,
   "metadata": {},
   "outputs": [],
   "source": [
    "### merge articles into one large document per community\n",
    "###   run tfidf to distinguish these communities"
   ]
  },
  {
   "cell_type": "code",
   "execution_count": 7,
   "metadata": {},
   "outputs": [
    {
     "name": "stdout",
     "output_type": "stream",
     "text": [
      "4462612 words in sample 0 cluster 0\n",
      "\n",
      "1845120 words in sample 0 cluster 1\n",
      "\n",
      "1246692 words in sample 0 cluster 2\n",
      "\n",
      "563895 words in sample 0 cluster 3\n",
      "\n",
      "827687 words in sample 0 cluster 4\n",
      "\n",
      "605475 words in sample 0 cluster 5\n",
      "\n",
      "2587533 words in sample 0 cluster 6\n",
      "\n",
      "1263811 words in sample 0 cluster 7\n",
      "\n",
      "697911 words in sample 0 cluster 8\n",
      "\n",
      "score threshold: 0.016992374053535493\n",
      "['mir', 'akt', 'erk', 'mscs', 'autophagy', 'mice', 'jnk', 'knockdown', 'κb', 'inflammation', 'hfd', 'lps', 'ampk', 'apoptotic', 'nrf', 'downregulated', 'caspase', 'wnt', 'macrophages', 'blotting', 'bcl', 'tlr', 'nlrp', 'β', 'hmgb', 'oxidative', 'apoptosis', 'catenin', 'phosphorylation', 'mitochondrial', 'mrna', 'mesenchymal', 'bax', 'smad', 'inflammasome', 'sirna', 'sirt', 'rats', 'tgf', 'endothelial', 'reperfusion', 'invasion', 'cxcl', 'blot', 'cd', 'mapk', 'hcc', 'microglia', 'transcriptional', 'yap', 'bbb', 'resveratrol', 'fibroblasts', 'upregulated', 'ko', 'exosomes', 'overexpression', 'tnf', 'transfected', 'microbiota', 'genes', 'chondrocytes', 'autophagic', 'hdac', 'klf', 'monocytes', 'ang', 'mirna', 'pathogenesis', 'foxo', 'nk', 'mirnas', 'enos', 'ppar', 'tgfβ', 'carcinoma', 'transwell', 'reporter', 'cisplatin', 'bmscs', 'trpv', 'ros', 'microglial', 'silencing', 'upregulation', 'eae', 'proteins', 'mtor', 'transfection', 'notch', 'ipscs', 'curcumin', 'vsmcs', 'ifn', 'stromal', 'knockout', 'cytotoxicity', 'ischemia', 'lncrnas', 'osteoclast']\n",
      "\n",
      "score threshold: 0.021246762464983172\n",
      "['nanoparticles', 'graphene', 'adsorption', 'doped', 'perovskite', 'films', 'electrochemical', 'photocatalytic', 'polymer', 'interfacial', 'chitosan', 'nanocrystals', 'nanosheets', 'functionalized', 'fe', 'hydrogels', 'mesoporous', 'aqueous', 'hydrogen', 'rgo', 'mofs', 'porous', 'nanowires', 'nanocomposites', 'nanotubes', 'cellulose', 'catalyst', 'zno', 'diffraction', 'ions', 'nanostructures', 'electron', 'nanocomposite', 'plasmonic', 'catalysts', 'sers', 'tio', 'feo', 'xrd', 'aptamer', 'photoluminescence', 'silica', 'zif', 'fabricated', 'doping', 'nanorods', 'heterostructures', 'dox', 'nanoclusters', 'conductivity', 'atoms', 'facile', 'micelles', 'oer', 'qds', 'nanofibers', 'ultrathin', 'photoelectron', 'aunps', 'raman', 'tunable', 'nanoparticle', 'sio', 'electrocatalysts', 'fabrication', 'polymeric', 'monolayer', 'electrocatalytic', 'polymers', 'cu', 'oxide', 'phonon', 'nanoscale', 'nano', 'xps', 'π', 'quantum', 'nitride', 'copolymer', 'coatings', 'biocompatibility', 'batteries', 'atomic', 'pore', 'cationic', 'shell', 'alloy', 'hydrophobic', 'solubility', 'ftir', 'supercapacitors', 'liposomes', 'supramolecular', 'polymerization', 'plga', 'cds', 'crystalline', 'agnps', 'copolymers', 'photothermal']\n",
      "\n",
      "score threshold: 0.022237403901784265\n",
      "['soil', 'soils', 'sediments', 'wastewater', 'anthropogenic', 'biochar', 'pahs', 'sludge', 'benthic', 'ecosystem', 'biomass', 'waters', 'groundwater', 'denitrification', 'dispersal', 'ecosystems', 'dissolved', 'salinity', 'reefs', 'sediment', 'metals', 'predation', 'phytoplankton', 'assemblages', 'reactor', 'biogas', 'estuary', 'prey', 'marine', 'coastal', 'grassland', 'coral', 'microbial', 'fertilizer', 'nitrification', 'diversification', 'interspecific', 'pollution', 'reef', 'vegetation', 'rice', 'freshwater', 'concentrations', 'cod', 'pollinator', 'habitat', 'zn', 'rainfall', 'wetland', 'methane', 'anammox', 'nitrogen', 'ocean', 'landfill', 'pollutants', 'cu', 'river', 'mercury', 'seawater', 'habitats', 'runoff', 'fe', 'emissions', 'foraging', 'ecological', 'coal', 'pfass', 'nitrate', 'predator', 'rivers', 'abiotic', 'sewage', 'riparian', 'turtles', 'wetlands', 'manure', 'floral', 'algal', 'intraspecific', 'trophic', 'basin', 'effluent', 'grasslands', 'oil', 'aeration', 'canopy', 'lake', 'phylogenetic', 'beetles', 'biotic', 'biota', 'ammonium', 'leaching', 'composting', 'clades', 'dom', 'speciation', 'predators', 'fauna', 'mehg']\n",
      "\n",
      "score threshold: 0.029779597109907525\n",
      "['regularization', 'convolutional', 'denoising', 'cnn', 'segmentation', 'github', 'dictionary', 'python', 'lstm', 'kalman', 'iot', 'rnn', 'semantic', 'svm', 'classifiers', 'gpu', 'regularized', 'routing', 'initialization', 'wavelet', 'convolution', 'embeddings', 'lyapunov', 'saliency', 'dbn', 'convex', 'noisy', 'snr', 'phantom', 'noise', 'preprocessing', 'experiments', 'cloud', 'fault', 'voting', 'wsn', 'lidar', 'nns', 'sparsity', 'ensemble', 'kernels', 'deblurring', 'generative', 'osem', 'computation', 'cnns', 'classifier', 'bioinformatics', 'graph', 'variational', 'eeg', 'subspace', 'multiview', 'vqa', 'phantoms', 'gnss', 'kernel', 'elm', 'learn', 'gaussian', 'hashing', 'hmm', 'quaternion', 'dice', 'voxel', 'seq', 'motion', 'benchmarker', 'nlos', 'semisupervised', 'wsns', 'pareto', 'sensor', 'computational', 'mlc', 'autoencoder', 'unlabeled', 'markovian', 'scenes', 'metadata', 'dti', 'scalability', 'wss', 'slam', 'vlc', 'identifiability', 'pixel', 'tensor', 'finite', 'visualizations', 'fmri', 'tracking', 'robustness', 'stochastic', 'outperforms', 'imu', 'backstepping', 'ekf', 'fpga', 'gmm']\n",
      "\n",
      "score threshold: 0.03180326610335681\n",
      "['amygdala', 'fmri', 'attentional', 'emotion', 'perceptual', 'phonological', 'speech', 'listeners', 'cognitive', 'ofc', 'dyslexia', 'semantic', 'tdcs', 'lexical', 'emotional', 'cortical', 'distractor', 'autobiographical', 'gyrus', 'precuneus', 'reho', 'erp', 'erps', 'connectivity', 'cingulate', 'mdd', 'bilingual', 'cortices', 'executive', 'parietal', 'bilinguals', 'dmn', 'dti', 'judgments', 'saccade', 'dlpfc', 'illusory', 'multisensory', 'distractors', 'limbic', 'insula', 'schizophrenia', 'phonetic', 'sway', 'saccades', 'adults', 'mpfc', 'vowel', 'voxel', 'orbitofrontal', 'stimuli', 'medial', 'consonants', 'flanker', 'intelligibility', 'prosodic', 'speakers', 'musical', 'wm', 'listening', 'postural', 'linguistic', 'reward', 'kinematic', 'thalamic', 'gmv', 'orthographic', 'eeg', 'interoceptive', 'cue', 'lateralization', 'vowels', 'gaze', 'audiovisual', 'somatosensory', 'verb', 'pfc', 'stroop', 'musicians', 'oddball', 'masker', 'language', 'premotor', 'taping', 'excitability', 'sentences', 'deviant', 'theta', 'cued', 'binaural', 'visuomotor', 'moral', 'oscillations', 'auditory', 'stg', 'stuttering', 'wmc', 'scenes', 'vocabulary', 'experiment']\n",
      "\n",
      "score threshold: 0.035751818063434374\n",
      "['nurses', 'students', 'perceptions', 'leadership', 'interviews', 'interprofessional', 'facilitators', 'undergraduate', 'attitudes', 'pharmacists', 'providers', 'staff', 'competencies', 'aboriginal', 'nurse', 'educators', 'semistructured', 'thematic', 'youth', 'curriculum', 'violence', 'mentoring', 'carers', 'teamwork', 'palliative', 'empowerment', 'education', 'workforce', 'managers', 'mentors', 'midwives', 'subthemes', 'nursing', 'leaders', 'parents', 'graduate', 'midwifery', 'policy', 'pharmacy', 'spiritual', 'stigma', 'organisations', 'mental', 'dementia', 'professionals', 'chws', 'informal', 'stakeholder', 'roma', 'themes', 'responsibilities', 'culturally', 'ethnographic', 'moral', 'thematically', 'prep', 'ipv', 'purposive', 'caring', 'hcps', 'teaching', 'breastfeeding', 'transgender', 'ehealth', 'professionalism', 'policies', 'clients', 'residents', 'curricula', 'participatory', 'māori', 'schools', 'organizational', 'competency', 'nvivo', 'partnerships', 'workshops', 'senior', 'delphi', 'postgraduate', 'mhealth', 'initiatives', 'experiential', 'verbatim', 'income', 'respondents', 'rehabilitation', 'professions', 'enablers', 'psychosocial', 'telephone', 'learners', 'realist', 'ipe', 'clerkship', 'practitioners', 'teachers', 'trust', 'profession', 'lgbt']\n",
      "\n",
      "score threshold: 0.026591047399176056\n",
      "['aor', 'readmission', 'icu', 'rcts', 'aki', 'hrqol', 'admission', 'readmissions', 'surgery', 'atrial', 'embase', 'ohca', 'respondents', 'qol', 'wmd', 'insurance', 'adults', 'income', 'pci', 'vte', 'stemi', 'medicaid', 'cabg', 'outpatient', 'vitamin', 'anxiety', 'medicare', 'pneumonia', 'ckd', 'students', 'cochrane', 'dispensed', 'ventricular', 'statin', 'charlson', 'copd', 'admitted', 'beneficiaries', 'myocardial', 'bariatric', 'hospitalization', 'randomized', 'men', 'tavr', 'intubation', 'prophylaxis', 'rankin', 'retrospective', 'tka', 'ors', 'nationwide', 'iqr', 'nstemi', 'ahr', 'fibrillation', 'macce', 'attitudes', 'mvpa', 'perioperative', 'infarction', 'dementia', 'sociodemographic', 'arr', 'nurses', 'prehospital', 'comorbidities', 'revascularization', 'anticoagulants', 'eligible', 'hysterectomy', 'evar', 'ehr', 'pubmed', 'births', 'insured', 'breast', 'breastfeeding', 'satisfaction', 'ecmo', 'hpv', 'adherence', 'delirium', 'education', 'meier', 'thromboembolism', 'expenditures', 'polypharmacy', 'quintile', 'residents', 'hispanic', 'i2', 'endovascular', 'physician', 'statins', 'ischemic', 'hospitalizations', 'icd', 'questionnaire', 'pharmacist', 'smoking']\n",
      "\n"
     ]
    },
    {
     "name": "stdout",
     "output_type": "stream",
     "text": [
      "score threshold: 0.029057829589973768\n",
      "['os', 'carcinoma', 'lymph', 'adjuvant', 'dfs', 'neoadjuvant', 'chemotherapy', 'meier', 'woman', 'gy', 'metastases', 'radiotherapy', 'surgery', 'imrt', 'nsclc', 'resection', 'cyst', 'nivolumab', 'hcc', 'gastric', 'ipilimumab', 'tnm', 'tumors', 'wbrt', 'seer', 'trastuzumab', 'breast', 'boy', 'clinicopathological', 'adenocarcinoma', 'metastasis', 'thrombocytopenia', 'chop', 'cisplatin', 'kaplan', 'bevacizumab', 'chest', 'ccrt', 'nlr', 'ajcc', 'melanoma', 'pembrolizumab', 'relapsed', 'malignant', 'debulking', 'chemoradiotherapy', 'rituximab', 'recist', 'lenalidomide', 'mg', 'apatinib', 'sbrt', 'paclitaxel', 'stereotactic', 'iiic', 'invasion', 'mucinous', 'anemia', 'papillary', 'carboplatin', 'brachytherapy', 'gastrectomy', 'mediastinal', 'chemoradiation', 'gemcitabine', 'node', 'neutropenia', 'clinicopathologic', 'unresectable', 'anaplastic', 'orr', 'histologically', 'eribulin', 'asct', 'rfa', 'lymphadenectomy', 'hipec', 'braf', 'hepatocellular', 'egfr', 'pericardial', 'renal', 'multifocal', 'cyclophosphamide', 'hematoma', 'vasculitis', 'cystic', 'endocarditis', 'axillary', 'abscess', 'slnb', 'benign', 'escalation', 'pfs', 'resected', 'appendiceal', 'hemoptysis', 'nomogram', 'pni', 'gefitinib']\n",
      "\n",
      "score threshold: 0.036420793225912705\n",
      "['hla', 'rs', 'mutations', 'missense', 'clinicopathological', 'carcinoma', 'snps', 'allele', 'cyp', 'promoter', 'genes', 'variants', 'genotypes', 'immunohistochemistry', 'fgfr', 'hcc', 'haplotype', 'alleles', 'cfdna', 'mthfr', 'polymorphisms', 'wes', 'gwas', 'cd', 'mmr', 'carcinomas', 'methylation', 'braf', 'tcga', 'breast', 'vntr', 'genotype', 'mlh', 'allelic', 'drb', 'mir', 'exons', 'cnvs', 'myc', 'tumors', 'mlpa', 'heterozygous', 'ihc', 'tils', 'haplotypes', 'exon', 'hpv', 'polymorphism', 'meier', 'cdkn', 'mutant', 'lymph', 'pten', 'crc', 'aldh', 'oscc', 'egfr', 'ret', 'catenin', 'loci', 'dfs', 'homozygous', 'pathogenic', 'dqb', 'myb', 'nsclc', 'adenocarcinoma', 'atrx', 'tnm', 'mrna', 'ercc', 'familial', 'mgmt', 'cpg', 'idh', 'lncrnas', 'sox', 'genotyped', 'gastric', 'germline', 'ffpe', 'mets', 'fads', 'hotair', 'bcl', 'ctdna', 'chchd', 'kras', 'ki', 'mtdna', 'pik', 'proband', 'os', 'akt', 'gg', 'immunohistochemical', 'msh', 'endometrial', 'ezh', 'slco']\n",
      "\n",
      "4328181 words in sample 1 cluster 0\n",
      "\n",
      "1838655 words in sample 1 cluster 1\n",
      "\n",
      "1353222 words in sample 1 cluster 2\n",
      "\n",
      "536161 words in sample 1 cluster 3\n",
      "\n",
      "1040189 words in sample 1 cluster 4\n",
      "\n",
      "845845 words in sample 1 cluster 5\n",
      "\n",
      "2934485 words in sample 1 cluster 6\n",
      "\n",
      "1236000 words in sample 1 cluster 7\n",
      "\n",
      "845834 words in sample 1 cluster 8\n",
      "\n",
      "score threshold: 0.01576167257339168\n",
      "['cells', 'mir', 'akt', 'hfd', 'knockdown', 'mice', 'tlr', 'κb', 'lps', 'mscs', 'catenin', 'caspase', 'autophagy', 'bcl', 'hif', 'downregulated', 'wnt', 'il', 'sirna', 'tgf', 'blot', 'erk', 'overexpression', 'sirt', 'ampk', 'apoptotic', 'oxidative', 'apoptosis', 'nlrp', 'inflammasome', 'nrf', 'kinase', 'mtor', 'rats', 'proliferation', 'luciferase', 'bax', 'smad', 'hmgb', 'epithelial', 'hcc', 'mapk', 'macrophages', 'jnk', 'gsk', 'emt', 'transwell', 'reperfusion', 'knockout', 'cadherin', 'upregulated', 'tnf', 'mmp', 'interleukin', 'ovx', 'transfection', 'metastasis', 'osteogenic', 'hdac', 'mcf', 'vitro', 'stz', 'lncrnas', 'mesenchymal', 'sham', 'epcs', 'reporter', 'vegf', 'adipocyte', 'cardiomyocytes', 'ros', 'bmscs', 'phosphorylation', 'mirnas', 'carcinoma', 'pparγ', 'mitochondria', 'jak', 'ko', 'angiogenesis', 'ifn', 'regulates', 'tumorigenesis', 'proteins', 'microglia', 'cxcl', 'mirna', 'tissues', 'nafld', 'ogd', 'curcumin', 'resveratrol', 'mouse', 'integrin', 'lentivirus', 'cyclin', 'cxcr', 'nk', 'microglial', 'eae']\n",
      "\n",
      "score threshold: 0.0216382687495043\n",
      "['nanoparticles', 'graphene', 'adsorption', 'electrochemical', 'perovskite', 'tio', 'catalysts', 'polymers', 'nanosheets', 'porous', 'nanocomposite', 'hydrogels', 'photocatalytic', 'functionalized', 'polymer', 'rgo', 'chitosan', 'aunps', 'oxide', 'mesoporous', 'micelles', 'plga', 'zno', 'mofs', 'photoluminescence', 'nanowires', 'doped', 'feo', 'cellulose', 'nanostructures', 'coating', 'nanocomposites', 'nanotubes', 'conductivity', 'dox', 'ultrathin', 'mno', 'oxidation', 'solubility', 'catalyst', 'capacitance', 'electrocatalytic', 'supramolecular', 'facile', 'ionic', 'biocompatibility', 'nanoclusters', 'aqueous', 'heterostructures', 'sio', 'hydrogen', 'photoelectron', 'quantum', 'π', 'mah', 'transistors', 'nanomaterials', 'photocatalysts', 'hydrophobic', 'nanocrystals', 'cathode', 'qds', 'biocompatible', 'interfacial', 'solar', 'mof', 'diffraction', 'plasmonic', 'nanofibers', 'tunable', 'doping', 'hydrogel', 'photothermal', 'interlayer', 'catalytic', 'vacancies', 'atoms', 'nps', 'solvent', 'fabricate', 'liposomes', 'perovskites', 'polymeric', 'xrd', 'sers', 'microscopy', 'heterojunction', 'ferroelectric', 'dielectric', 'pore', 'cells', 'amorphous', 'coatings', 'photocatalyst', 'copolymers', 'atom', 'energies', 'microspheres', 'xps', 'zn']\n",
      "\n",
      "score threshold: 0.019562112502478718\n",
      "['soil', 'soils', 'wastewater', 'sludge', 'sediments', 'biochar', 'habitat', 'groundwater', 'manure', 'predation', 'reef', 'sediment', 'benthic', 'ecosystems', 'dispersal', 'grassland', 'habitats', 'zn', 'nitrogen', 'wetlands', 'anammox', 'wetland', 'lake', 'coral', 'compost', 'climatic', 'paddy', 'trophic', 'phytoplankton', 'vegetation', 'sorption', 'pb', 'ecosystem', 'terrestrial', 'canopy', 'lakes', 'pahs', 'nitrification', 'seagrass', 'denitrification', 'concentrations', 'interspecific', 'salinity', 'reactor', 'freshwater', 'river', 'rainfall', 'dissolved', 'predator', 'sewage', 'plants', 'karst', 'assemblages', 'drought', 'prey', 'ecological', 'predators', 'fishes', 'leaching', 'ghg', 'hydrological', 'effluent', 'herbivore', 'intraspecific', 'μg', 'nitrate', 'algal', 'microplastics', 'reefs', 'dom', 'introgression', 'mehg', 'waters', 'bioaccumulation', 'rivers', 'composting', 'coastal', 'temperate', 'inbreeding', 'nectar', 'basin', 'speciation', 'fertilizer', 'pollination', 'emissions', 'humic', 'biogas', 'pollution', 'args', 'aquifer', 'urban', 'phenology', 'phosphorus', 'organic', 'straw', 'monsoon', 'pelagic', 'pfass', 'seawater', 'meadow']\n",
      "\n",
      "score threshold: 0.03491868543980786\n",
      "['regularization', 'cnn', 'convolutional', 'fuzzy', 'elm', 'github', 'hashing', 'ensemble', 'outperforms', 'saliency', 'controller', 'hash', 'gaussian', 'pixels', 'gpu', 'pixel', 'fault', 'lyapunov', 'phantoms', 'sparsity', 'embeddings', 'bioinformatics', 'convolution', 'gnss', 'rgb', 'denoising', 'segmentation', 'subspace', 'phantom', 'wavelet', 'iot', 'svm', 'kalman', 'estimator', 'dice', 'ontology', 'truth', 'nonconvex', 'noise', 'annotations', 'uav', 'genomes', 'omics', 'segmentations', 'classifier', 'noisy', 'generative', 'sinogram', 'variational', 'semg', 'actuator', 'graph', 'cnns', 'spline', 'kernel', 'computational', 'camera', 'bounding', 'autoencoder', 'pareto', 'admm', 'autoencoders', 'linux', 'radiomics', 'riemannian', 'annotation', 'authentication', 'factorization', 'backstepping', 'filter', 'batch', 'dictionary', 'lidar', 'dmri', 'docker', 'encrypted', 'xml', 'hyperspectral', 'regularized', 'encryption', 'adversarial', 'affine', 'hlle', 'wsns', 'python', 'cartesian', 'voxels', 'ontologies', 'stochastic', 'cameras', 'mlp', 'runtime', 'isotropic', 'aliasing', 'dnn', 'skeletonization', 'wsn', 'seq', 'semantic', 'matlab']\n",
      "\n",
      "score threshold: 0.03226385756215438\n",
      "['dmn', 'attentional', 'cingulate', 'insula', 'participants', 'saccade', 'executive', 'fmri', 'parietal', 'phonological', 'orbitofrontal', 'lexical', 'cortical', 'listeners', 'tdcs', 'distractors', 'gyrus', 'vowel', 'perceptual', 'emotion', 'stroop', 'distractor', 'saccades', 'reward', 'frontal', 'amygdala', 'judgments', 'cortex', 'alff', 'fluency', 'gmv', 'wm', 'vowels', 'illusion', 'speech', 'talker', 'cues', 'dlpfc', 'flexion', 'saccadic', 'prefrontal', 'sentence', 'visuospatial', 'flanker', 'sensorimotor', 'spoken', 'precuneus', 'binaural', 'arousal', 'moral', 'striatal', 'representations', 'tasks', 'speakers', 'incongruent', 'prosody', 'tactile', 'theta', 'hippocampal', 'cingulum', 'ptsd', 'kinematics', 'erp', 'orthographic', 'treadmill', 'sway', 'hamstring', 'rsfc', 'squat', 'visuomotor', 'gesture', 'cmj', 'phonetic', 'premotor', 'audiovisual', 'ankle', 'gaze', 'musicians', 'phoneme', 'fronto', 'verb', 'vwm', 'sounds', 'gambling', 'sham', 'pupil', 'reho', 'vmpfc', 'kinematic', 'bilingual', 'voxel', 'stride', 'cued', 'somatosensory', 'torque', 'overground', 'linguistic', 'rtms', 'sentences', 'isokinetic']\n",
      "\n"
     ]
    },
    {
     "name": "stdout",
     "output_type": "stream",
     "text": [
      "score threshold: 0.03163436749366373\n",
      "['nurses', 'leadership', 'pharmacists', 'perceptions', 'attitudes', 'interviews', 'curriculum', 'nursing', 'thematic', 'interprofessional', 'respondents', 'students', 'facilitators', 'trainees', 'competencies', 'participants', 'nurse', 'semistructured', 'education', 'violence', 'workforce', 'carers', 'undergraduate', 'staff', 'palliative', 'graduates', 'physicians', 'themes', 'residency', 'graduate', 'residents', 'educators', 'midwives', 'curricula', 'moral', 'caregivers', 'scoping', 'leaders', 'pharmacy', 'mental', 'chws', 'mentorship', 'pharmacist', 'engagement', 'beliefs', 'rural', 'midwifery', 'doctors', 'organizations', 'stakeholders', 'youth', 'teaching', 'literacy', 'informal', 'mentoring', 'mentors', 'stakeholder', 'prep', 'subthemes', 'participatory', 'stigma', 'empowerment', 'aboriginal', 'psychosocial', 'professionalism', 'sexual', 'organisations', 'preparedness', 'interviewed', 'satisfaction', 'thematically', 'organisational', 'accreditation', 'career', 'skills', 'classroom', 'purposive', 'programme', 'enablers', 'refugees', 'feelings', 'providers', 'competency', 'ipe', 'wards', 'suicide', 'poverty', 'ehealth', 'feel', 'attitude', 'mothers', 'professionals', 'teachers', 'transgender', 'teamwork', 'clerkship', 'interviewing', 'partnerships', 'managers', 'parenting']\n",
      "\n",
      "score threshold: 0.024565068803686044\n",
      "['aor', 'aki', 'rcts', 'readmission', 'hospitalization', 'stemi', 'inpatient', 'participants', 'insurance', 'vte', 'atrial', 'medicaid', 'medicare', 'tavi', 'admission', 'readmissions', 'cochrane', 'tavr', 'admissions', 'ecmo', 'hospitalizations', 'ohca', 'frailty', 'embase', 'icu', 'nationwide', 'transfusion', 'hrqol', 'irr', 'respondents', 'randomised', 'multivariable', 'mace', 'older', 'fibrillation', 'sepsis', 'preterm', 'anticoagulation', 'enrolled', 'admitted', 'savr', 'retrospective', 'outpatient', 'decedents', 'nsqip', 'qsofa', 'revascularization', 'nihss', 'ethiopia', 'depression', 'cabg', 'beneficiaries', 'hispanic', 'noac', 'elective', 'placebo', 'coronary', 'nurses', 'payment', 'qol', 'pharmacist', 'ems', 'multimorbidity', 'charlson', 'vasc', 'pharmacists', 'comorbidity', 'i2', 'statin', 'eligible', 'comorbidities', 'prep', 'extubation', 'cvd', 'pregnancies', 'nstemi', 'obesity', 'reoperation', 'rop', 'lbw', 'evar', 'postoperative', 'pwid', 'suicide', 'transcatheter', 'rural', 'prehospital', 'palliative', 'overweight', 'tka', 'intubation', 'chads', 'birth', 'ich', 'hba', 'pfo', 'education', 'frail', 'angina', 'hfpef']\n",
      "\n",
      "score threshold: 0.03032310487731082\n",
      "['carcinoma', 'sbrt', 'lymph', 'dfs', 'metastasis', 'neoadjuvant', 'os', 'imrt', 'hcc', 'meier', 'unresectable', 'tnm', 'nivolumab', 'bclc', 'she', 'abscess', 'adenocarcinoma', 'paclitaxel', 'relapsed', 'tace', 'rituximab', 'cysts', 'kaplan', 'clinicopathological', 'neutropenia', 'pembrolizumab', 'epithelioid', 'gemcitabine', 'seer', 'ipilimumab', 'nsclc', 'neuroendocrine', 'stereotactic', 'chemoradiotherapy', 'thyroid', 'ypn', 'hematoma', 'metastases', 'remission', 'mediastinal', 'salvage', 'clinicopathologic', 'hepatocellular', 'sarcoma', 'sorafenib', 'chemoembolization', 'nlr', 'lnr', 'egfr', 'papillary', 'gy', 'relapse', 'staging', 'cisplatin', 'lymphadenectomy', 'carboplatin', 'recist', 'thrombocytopenia', 'dcrt', 'pfs', 'pemetrexed', 'orr', 'amyloidosis', 'gastrectomy', 'node', 'lvsi', 'resectable', 'gland', 'nomogram', 'ajcc', 'pneumonitis', 'granulomatous', 'angiosarcoma', 'ebrt', 'locoregional', 'pancreatitis', 'teratoma', 'eribulin', 'biopsy', 'tki', 'adjuvant', 'hsct', 'enrolled', 'nact', 'escalation', 'girl', 'appendicitis', 'asct', 'docetaxel', 'braf', 'vasculitis', 'crt', 'lesion', 'ductal', 'rcc', 'bevacizumab', 'sarcoidosis', 'hypercalcemia', 'hypofractionated', 'toxicities']\n",
      "\n",
      "score threshold: 0.034924123392226857\n",
      "['hla', 'carcinoma', 'clinicopathological', 'missense', 'snps', 'germline', 'heterozygous', 'cdkn', 'cells', 'haplotype', 'braf', 'cadherin', 'carcinomas', 'alk', 'crc', 'polymorphisms', 'escc', 'myc', 'idh', 'lymph', 'tils', 'metastasis', 'mir', 'oscc', 'brca', 'immunohistochemical', 'allele', 'genotypes', 'hcc', 'endometrial', 'exon', 'aldh', 'del', 'gwas', 'recessive', 'haplotypes', 'pten', 'foxp', 'bcl', 'homozygous', 'dqb', 'mutant', 'cyp', 'polymorphism', 'smad', 'hpv', 'ihc', 'kcnq', 'intron', 'ctcs', 'sanger', 'genotyped', 'drb', 'adenocarcinoma', 'alleles', 'arg', 'erap', 'overexpression', 'tissues', 'mtdna', 'ebv', 'methylation', 'tnm', 'intronic', 'col', 'sox', 'egfr', 'ctdna', 'wes', 'gstm', 'genome', 'ptc', 'nsclc', 'nonsense', 'pdac', 'vscc', 'han', 'hnscc', 'dnmt', 'hnf', 'mthfr', 'mlh', 'kras', 'pcr', 'hypermethylation', 'vdr', 'nkx', 'kir', 'merle', 'exome', 'vash', 'utr', 'erbb', 'tnbc', 'autosomal', 'mutational', 'progranulin', 'icca', 'gba', 'wnt']\n",
      "\n",
      "4575657 words in sample 2 cluster 0\n",
      "\n",
      "1698441 words in sample 2 cluster 1\n",
      "\n",
      "1086488 words in sample 2 cluster 2\n",
      "\n",
      "609439 words in sample 2 cluster 3\n",
      "\n",
      "855559 words in sample 2 cluster 4\n",
      "\n",
      "560273 words in sample 2 cluster 5\n",
      "\n",
      "3108381 words in sample 2 cluster 6\n",
      "\n",
      "1351715 words in sample 2 cluster 7\n",
      "\n",
      "796218 words in sample 2 cluster 8\n",
      "\n",
      "score threshold: 0.01548118328557498\n",
      "['cells', 'mir', 'κb', 'mscs', 'autophagy', 'akt', 'wnt', 'knockdown', 'hfd', 'catenin', 'lps', 'upregulated', 'erk', 'microglia', 'vitro', 'sirt', 'caspase', 'nlrp', 'hif', 'il', 'tgf', 'jnk', 'tumor', 'hcc', 'oxidative', 'ampk', 'overexpression', 'downregulated', 'inflammasome', 'mitochondrial', 'phosphorylation', 'apoptotic', 'apoptosis', 'stz', 'bcl', 'rats', 'ang', 'endothelial', 'smad', 'epithelial', 'sirna', 'blotting', 'α', 'tlr', 'nrf', 'intestinal', 'streptozotocin', 'invasion', 'lncrna', 'lncrnas', 'blot', 'receptor', 'mapk', 'fibroblasts', 'nf', 'vegf', 'foxo', 'resveratrol', 'downregulation', 'luciferase', 'ovx', 'macrophages', 'notch', 'linc', 'cardiomyocytes', 'microenvironment', 'inflammation', 'hdac', 'metastasis', 'cyclin', 'neuroinflammation', 'mirnas', 'tnf', 'reperfusion', 'mesenchymal', 'exosomes', 'egfr', 'silencing', 'inhibition', 'autophagic', 'nafld', 'hmgb', 'integrin', 'pparγ', 'pten', 'ros', 'bax', 'ifn', 'mitophagy', 'cx', 'jak', 'knockout', 'upregulation', 'cadherin', 'regeneration', 'aβ', 'vivo', 'yap', 'bdnf', 'dox']\n",
      "\n",
      "score threshold: 0.02241572428833053\n",
      "['nanoparticles', 'graphene', 'adsorption', 'perovskite', 'electrochemical', 'photocatalytic', 'nanosheets', 'chitosan', 'electron', 'fabricated', 'hydrogels', 'dox', 'catalysts', 'polymers', 'functionalized', 'nanocomposite', 'porous', 'zno', 'photoelectron', 'rgo', 'ionic', 'nanocrystals', 'facile', 'films', 'hydrogel', 'nanocomposites', 'aqueous', 'nano', 'aunps', 'interfacial', 'micelles', 'doped', 'supramolecular', 'nanostructures', 'fabrication', 'diffraction', 'qds', 'nanotubes', 'mesoporous', 'xrd', 'perovskites', 'hydrogen', 'heterostructures', 'mofs', 'nanowires', 'tio', 'polymer', 'monolayer', 'halide', 'agnps', 'cellulose', 'oer', 'ni', 'nanofibers', 'cu', 'conductivity', 'oxide', 'heterojunction', 'photoluminescence', 'dissolution', 'nanoparticle', 'photothermal', 'dielectric', 'tunable', 'electrocatalysts', 'exciton', 'nitride', 'feo', 'plasmonic', 'alloy', 'infrared', 'solubility', 'catalyst', 'atoms', 'nanomaterials', 'biocompatibility', 'thermoelectric', 'plga', 'vibrational', 'liposomes', 'electrostatic', 'photocurrent', 'xps', 'polymerization', 'ftir', 'copolymer', 'cells', 'cnts', 'nanorods', 'coatings', 'raman', 'mah', 'cnt', 'silica', 'optoelectronic', 'interlayer', 'nanospheres', 'shell', 'cyclodextrin', 'anode']\n",
      "\n",
      "score threshold: 0.021481890163609407\n",
      "['sediments', 'soil', 'sludge', 'soils', 'biochar', 'grassland', 'wetland', 'ecosystems', 'wastewater', 'habitats', 'climatic', 'runoff', 'pahs', 'drought', 'wetlands', 'habitat', 'plant', 'freshwater', 'trophic', 'groundwater', 'denitrification', 'estuary', 'predation', 'benthic', 'effluent', 'reef', 'anthropogenic', 'metals', 'foraging', 'coral', 'vegetation', 'prey', 'pfass', 'climate', 'phytoplankton', 'coastal', 'microbial', 'fertilizer', 'leaching', 'δn', 'river', 'nitrification', 'microplastic', 'manure', 'biota', 'litter', 'temperate', 'salinity', 'rivers', 'lake', 'δc', 'dissolved', 'precipitation', 'methane', 'microplastics', 'terrestrial', 'clades', 'aboveground', 'sediment', 'sewage', 'clade', 'biomass', 'assemblages', 'reefs', 'arctic', 'marine', 'riparian', 'emissions', 'estuarine', 'intraspecific', 'dispersal', 'composting', 'grasslands', 'ni', 'ecosystem', 'abiotic', 'snow', 'cu', 'biotic', 'herbivore', 'peat', 'phenology', 'pleistocene', 'rainfall', 'zn', 'breeding', 'waste', 'canopy', 'fauna', 'miocene', 'predator', 'lakes', 'fossil', 'fluxes', 'mehg', 'alpine', 'marsh', 'ocean', 'phylogenetic', 'ponds']\n",
      "\n"
     ]
    },
    {
     "name": "stdout",
     "output_type": "stream",
     "text": [
      "score threshold: 0.030074030351911155\n",
      "['segmentation', 'cnn', 'convolutional', 'denoising', 'github', 'saliency', 'iot', 'subspace', 'phantom', 'gpu', 'hashing', 'dictionary', 'pixels', 'elm', 'kalman', 'regularization', 'wavelet', 'speckle', 'phantoms', 'dice', 'adversarial', 'packet', 'eeg', 'backstepping', 'snr', 'controller', 'beamforming', 'generative', 'sparsity', 'classifiers', 'lyapunov', 'snomed', 'wsns', 'fault', 'graph', 'cnns', 'cbct', 'svm', 'detruncation', 'gaussian', 'learns', 'autoencoder', 'semantic', 'reconstructed', 'acquisitions', 'hyperspectral', 'python', 'experiments', 'routing', 'regularized', 'noisy', 'observability', 'wsn', 'cest', 'convex', 'actuator', 'gnss', 'multiobjective', 'rois', 'voxels', 'motion', 'stochastic', 'nmf', 'computational', 'boolean', 'bioinformatics', 'imgt', 'ontologies', 'quantization', 'voxel', 'interpolation', 'adjacency', 'lstm', 'superpixel', 'priors', 'overfitting', 'adaboost', 'biclustering', 'entropy', 'factorization', 'computing', 'cpu', 'encoder', 'multilabel', 'topology', 'fuzzy', 'sensors', 'bci', 'annotation', 'decomposition', 'seq', 'synchronization', 'pareto', 'decoder', 'rri', 'thresholding', 'truth', 'convolution', 'mlp', 'segmenting']\n",
      "\n",
      "score threshold: 0.03684036758097618\n",
      "['listeners', 'attentional', 'participants', 'cingulate', 'prefrontal', 'fmri', 'insula', 'phonological', 'gyrus', 'perceptual', 'sensorimotor', 'affective', 'vowels', 'gait', 'dlpfc', 'erp', 'vowel', 'executive', 'listening', 'amygdala', 'parietal', 'bilinguals', 'tdcs', 'binaural', 'orbitofrontal', 'dmn', 'eeg', 'musical', 'alff', 'precuneus', 'lexical', 'mdd', 'distractors', 'semantic', 'distractor', 'gaze', 'amci', 'gmv', 'saccade', 'cues', 'deficits', 'saccades', 'speech', 'articulatory', 'oddball', 'premotor', 'reward', 'subcortical', 'theta', 'music', 'emotion', 'visuospatial', 'moral', 'musicians', 'dyslexia', 'autism', 'tasks', 'cortices', 'cortical', 'phonetic', 'autobiographical', 'illusion', 'loudness', 'verbs', 'tom', 'ankle', 'fluency', 'anodal', 'mpfc', 'sz', 'voice', 'noun', 'vmpfc', 'language', 'hippocampal', 'valence', 'linguistic', 'bilateral', 'cueing', 'masker', 'auditory', 'lateralization', 'dacc', 'stroop', 'emotions', 'pitch', 'verbal', 'judgments', 'erps', 'rsns', 'verb', 'cued', 'somatosensory', 'interoceptive', 'psychosis', 'experiment', 'mental', 'fear', 'spoken', 'syntactic']\n",
      "\n",
      "score threshold: 0.031980253890802564\n",
      "['nurses', 'students', 'interviews', 'interprofessional', 'professionals', 'carers', 'leadership', 'attitudes', 'violence', 'workforce', 'thematic', 'mental', 'nurse', 'curriculum', 'facilitators', 'participants', 'aboriginal', 'informal', 'teamwork', 'scoping', 'competencies', 'midwives', 'semistructured', 'education', 'services', 'residents', 'respondents', 'nursing', 'debriefing', 'organisational', 'palliative', 'participatory', 'educators', 'subthemes', 'teaching', 'supervisors', 'stakeholders', 'professions', 'barriers', 'undergraduate', 'ipe', 'empowerment', 'satisfaction', 'transgender', 'spiritual', 'midwifery', 'breastfeeding', 'youth', 'profession', 'stakeholder', 'literacy', 'themes', 'mentoring', 'realist', 'racism', 'competency', 'managers', 'skills', 'interviewed', 'thematically', 'rural', 'professional', 'preparedness', 'verbatim', 'leaders', 'clerkship', 'empathy', 'consultation', 'cultural', 'staff', 'psychosocial', 'mindfulness', 'providers', 'clients', 'mentors', 'pharmacists', 'moral', 'physicians', 'beliefs', 'instructors', 'ipv', 'caregivers', 'administrators', 'supervisor', 'slps', 'faculty', 'equity', 'perceptions', 'graduates', 'student', 'refugees', 'professionalism', 'therapists', 'mentorship', 'stigmatization', 'interview', 'trainees', 'phenomenological', 'interviewing', 'experiential']\n",
      "\n",
      "score threshold: 0.023526225779740007\n",
      "['icu', 'rcts', 'medicare', 'aor', 'participants', 'hospitalization', 'hrqol', 'cochrane', 'respondents', 'readmission', 'score', 'admission', 'medicaid', 'inpatient', 'mvpa', 'satisfaction', 'bmi', 'embase', 'hospitalizations', 'postoperative', 'mental', 'irr', 'admissions', 'opioid', 'students', 'prep', 'overweight', 'tka', 'hiv', 'outpatient', 'statin', 'aspirin', 'stemi', 'residents', 'nurses', 'insurance', 'readmissions', 'placebo', 'ckd', 'hispanic', 'sarcopenia', 'bleeding', 'frailty', 'enrolled', 'attitudes', 'aki', 'pci', 'smd', 'prehospital', 'nsqip', 'ohca', 'breastfeeding', 'iqr', 'vte', 'literacy', 'education', 'sociodemographic', 'pharmacist', 'registry', 'admitted', 'ecmo', 'wmd', 'warfarin', 'sex', 'postpartum', 'eligible', 'sga', 'qol', 'youth', 'physicians', 'lvad', 'counseling', 'caregiver', 'pubmed', 'questionnaire', 'marijuana', 'qsofa', 'srh', 'violence', 'rural', 'copd', 'randomised', 'cbt', 'mothers', 'depressive', 'rivaroxaban', 'mets', 'quintile', 'ahr', 'charlson', 'services', 'atrial', 'frail', 'adl', 'sleep', 'perioperative', 'vitamin', 'inr', 'reoperation', 'ems']\n",
      "\n",
      "score threshold: 0.030229469827454974\n",
      "['tumor', 'neoadjuvant', 'adenocarcinoma', 'metastatic', 'metastasis', 'imrt', 'dfs', 'metastases', 'pfs', 'hcc', 'sarcoma', 'carcinoma', 'nsclc', 'nivolumab', 'tace', 'adjuvant', 'lymphoma', 'resected', 'nlr', 'rituximab', 'egfr', 'chemoradiotherapy', 'clinicopathological', 'tumors', 'sbrt', 'postoperative', 'cyst', 'excision', 'relapsed', 'ibrutinib', 'woman', 'salvage', 'kaplan', 'meier', 'remission', 'diagnosed', 'lnr', 'gy', 'tki', 'ypn', 'vasculitis', 'neutropenia', 'lymphadenectomy', 'lymph', 'ebrt', 'hsct', 'pancreatic', 'bilateral', 'pathologic', 'oligometastatic', 'lesions', 'abscess', 'radiotherapy', 'wbrt', 'alk', 'asct', 'allogeneic', 'carcinomas', 'dcrt', 'chemoradiation', 'unresectable', 'gemcitabine', 'papillary', 'ccrt', 'relapse', 'cyclophosphamide', 'sarcoidosis', 'invasion', 'bevacizumab', 'seer', 'ypt', 'sabr', 'splenic', 'granulomatous', 'monotherapy', 'sclc', 'folfirinox', 'endoscopic', 'tnm', 'docetaxel', 'immunocompetent', 'plr', 'melanoma', 'locoregional', 'lenalidomide', 'crizotinib', 'hepatocellular', 'necrotizing', 'regorafenib', 'enrolled', 'transarterial', 'axillary', 'crt', 'choriocarcinoma', 'neuroendocrine', 'stereotactic', 'she', 'everolimus', 'nomogram', 'biopsy']\n",
      "\n",
      "score threshold: 0.034802271800788986\n",
      "['hla', 'hcc', 'clinicopathological', 'tumor', 'carcinomas', 'vdr', 'adenocarcinoma', 'immunohistochemical', 'crc', 'haplotype', 'cyp', 'egfr', 'mutated', 'heterozygous', 'cells', 'braf', 'alk', 'lncrnas', 'oscc', 'polymorphisms', 'mir', 'missense', 'pten', 'hpv', 'sanger', 'tumors', 'drb', 'proband', 'haplotypes', 'exon', 'gwas', 'methylation', 'wes', 'nsclc', 'wnt', 'polymorphism', 'carcinoma', 'idh', 'exome', 'smad', 'allele', 'metastasis', 'degs', 'immunohistochemistry', 'genotypes', 'mutational', 'kir', 'lncrna', 'endometrial', 'tissues', 'snps', 'dys', 'alleles', 'intron', 'tils', 'mthfr', 'cfdna', 'promoter', 'receptor', 'lynch', 'delg', 'splicing', 'tcga', 'utr', 'escc', 'genome', 'overexpression', 'sirt', 'staining', 'allelic', 'ptc', 'kras', 'gln', 'polymerase', 'genotyped', 'ki', 'pcr', 'fgfr', 'exons', 'mirnas', 'arg', 'ctcs', 'ihc', 'adenocarcinomas', 'dlbcl', 'urothelial', 'hypermethylation', 'cyclin', 'nonsense', 'pax', 'mtdna', 'serous', 'val', 'gstm', 'germline', 'slc', 'cnvs', 'tubb', 'sarcoma', 'cdkn']\n",
      "\n"
     ]
    }
   ],
   "source": [
    "# populate list of top tfidf words for each sample, over each cluster\n",
    "\n",
    "d = []\n",
    "for i_sample in range(N_samples):\n",
    "    \n",
    "    N_communities = len(corpus_paths[i_sample])\n",
    "    sample_texts = []\n",
    "    for i_community in range(N_communities):\n",
    "\n",
    "        cluster_text = []\n",
    "        full_path = path2dir + corpus_paths[i_sample][i_community]\n",
    "        with open(full_path,'r') as f:\n",
    "            documents = json.load(f)\n",
    "\n",
    "        N_words = 0\n",
    "        for doc_text in documents:  # list of e.g. titles\n",
    "            for word in doc_text:   #   list of words\n",
    "                \n",
    "                cluster_text.append(word)\n",
    "\n",
    "        print(\"{} words in sample {} cluster {}\".format(\n",
    "                    len(cluster_text),\n",
    "                    i_sample,\n",
    "                    i_community))\n",
    "        print()\n",
    "        \n",
    "        # here - optionally, stopwords\n",
    "        # here - optionally, filter based on wordfrequency\n",
    "        sample_texts.append(cluster_text)\n",
    "        \n",
    "    sample_dictionary = Dictionary(sample_texts)\n",
    "    sample_corpus = [sample_dictionary.doc2bow(t) for t in sample_texts]\n",
    "    sample_tfidf_model = TfidfModel(sample_corpus)   # computes idf\n",
    "    sample_tfidf = sample_tfidf_model[sample_corpus]  # applies tfidf\n",
    "    \n",
    "    d.append([])  # list of dicts for this sample\n",
    "    for i_community, community_doc in enumerate(sample_tfidf):\n",
    "        \n",
    "        scores = [t[1] for t in community_doc]\n",
    "        P_thresh = 99\n",
    "        thresh = np.percentile(scores, P_thresh)\n",
    "        print(\"score threshold: {}\".format(thresh))\n",
    "        subset = [t for t in community_doc if t[1] >= thresh]\n",
    "        d_tfidf = {}\n",
    "        for (w_id, score) in subset:\n",
    "            w = sample_dictionary[w_id]\n",
    "            d_tfidf[w] = score\n",
    "        d[i_sample].append( d_tfidf )\n",
    "        \n",
    "        print(sorted(d[i_sample][i_community],\n",
    "                     key=d[i_sample][i_community].get,\n",
    "                     reverse=True)[:100])\n",
    "        print()\n",
    "        "
   ]
  },
  {
   "cell_type": "code",
   "execution_count": 8,
   "metadata": {},
   "outputs": [],
   "source": [
    "### save results"
   ]
  },
  {
   "cell_type": "code",
   "execution_count": 9,
   "metadata": {},
   "outputs": [],
   "source": [
    "\n",
    "path = path2dir + outfile\n",
    "with open(path, 'w') as f:\n",
    "    json.dump(d, f)\n",
    "    "
   ]
  },
  {
   "cell_type": "code",
   "execution_count": null,
   "metadata": {},
   "outputs": [],
   "source": []
  },
  {
   "cell_type": "code",
   "execution_count": null,
   "metadata": {},
   "outputs": [],
   "source": []
  }
 ],
 "metadata": {
  "kernelspec": {
   "display_name": "Python 3",
   "language": "python",
   "name": "python3"
  },
  "language_info": {
   "codemirror_mode": {
    "name": "ipython",
    "version": 3
   },
   "file_extension": ".py",
   "mimetype": "text/x-python",
   "name": "python",
   "nbconvert_exporter": "python",
   "pygments_lexer": "ipython3",
   "version": "3.7.6"
  }
 },
 "nbformat": 4,
 "nbformat_minor": 4
}

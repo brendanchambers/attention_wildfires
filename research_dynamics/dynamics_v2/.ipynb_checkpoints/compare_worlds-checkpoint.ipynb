{
 "cells": [
  {
   "cell_type": "code",
   "execution_count": 1,
   "metadata": {},
   "outputs": [],
   "source": [
    "#  take a set of pmid-clusters and build word2vec models for each\n",
    "\n",
    "#     sample 1    cluster a, b, c, d\n",
    "\n",
    "# todo think about how to do statistics on these  (using the other samples perhaps?)"
   ]
  },
  {
   "cell_type": "code",
   "execution_count": 26,
   "metadata": {},
   "outputs": [],
   "source": [
    "import pymysql\n",
    "import pickle\n",
    "import json\n",
    "\n",
    "import numpy as np\n",
    "from sklearn.decomposition import PCA\n",
    "\n",
    "import matplotlib.pyplot as plt\n",
    "import seaborn as sns\n",
    "plt.rcParams['svg.fonttype'] = 'none'\n",
    "\n",
    "import time\n",
    "import hdbscan\n",
    "\n",
    "import spacy\n",
    "from gensim.models import Word2Vec\n",
    "\n",
    "import random\n",
    "import re"
   ]
  },
  {
   "cell_type": "code",
   "execution_count": 27,
   "metadata": {},
   "outputs": [],
   "source": [
    "# mysql control parameters\n",
    "\n",
    "db_name = 'test_pubmed'  # db name collisons? https://stackoverflow.com/questions/14011968/user-cant-access-a-database\n",
    "config_path = '/home/brendan/Projects/AttentionWildfires/attention_wildfires/mysql_config.json'\n",
    "\n",
    "with open(config_path, 'r') as f:\n",
    "    config_data = json.load(f)\n",
    "    \n",
    "client_config = {'database': db_name,\n",
    "                'user': config_data['user'],\n",
    "                 'password': config_data['lock']}\n",
    "\n",
    "db = pymysql.connect(**client_config)"
   ]
  },
  {
   "cell_type": "code",
   "execution_count": 28,
   "metadata": {},
   "outputs": [
    {
     "name": "stdout",
     "output_type": "stream",
     "text": [
      "building corpus...\n",
      "SQL join executed in 28.264872312545776 s\n",
      "SQL results fetched and cast in 0.00030493736267089844 s\n",
      "[['altered', 'fatty', 'acidbinding', 'protein', '<NUM>', 'fabp4', 'expression', 'and', 'function', 'in', 'human', 'and', 'animal', 'models', 'of', 'hepatocellular', 'carcinoma', 'hepatocellular', 'carcinoma', 'hcc', 'is', 'the', 'third', 'leading', 'cause', 'of', 'cancerrelated', 'mortality', 'risk', 'factors', 'for', 'developing', 'hcc', 'include', 'viral', 'hepatitis', 'alcohol', 'and', 'obesity', 'fatty', 'acidbinding', 'proteins', 'fabps', 'bind', 'longchain', 'free', 'fatty', 'acids', 'ffas', 'and', 'are', 'expressed', 'in', 'a', 'tissuespecific', 'pattern', 'fabp1', 'being', 'the', 'predominant', 'hepatic', 'form', 'and', 'fabp4', 'the', 'predominant', 'adipocyte', 'form', 'the', 'aims', 'of', 'this', 'study', 'were', 'to', 'investigate', 'the', 'expression', 'and', 'function', 'of', 'fabps19', 'in', 'human', 'and', 'animal', 'models', 'of', 'obesityrelated', 'hcc', 'fabp19', 'expression', 'was', 'determined', 'in', 'a', 'mouse', 'model', 'of', 'obesitypromoted', 'hcc', 'based', 'on', 'these', 'data', 'expression', 'and', 'function', 'of', 'fabp4', 'was', 'determined', 'in', 'human', 'hcc', 'cells', 'hepg2', 'and', 'huh7', 'in', 'vitro', 'serum', 'from', 'patients', 'with', 'different', 'underlying', 'hepatic', 'pathologies', 'was', 'analysed', 'for', 'circulating', 'fabp4', 'levels', 'livers', 'from', 'obese', 'mice', 'independent', 'of', 'tumour', 'status', 'exhibited', 'increased', 'fabp4', 'mrna', 'and', 'protein', 'expression', 'concomitant', 'with', 'elevated', 'serum', 'fabp4', 'in', 'vitro', 'fabp4', 'expression', 'was', 'induced', 'in', 'human', 'hcc', 'cells', 'by', 'ffa', 'treatment', 'and', 'led', 'to', 'fabp4', 'release', 'into', 'culture', 'medium', 'treatment', 'of', 'hcc', 'cells', 'with', 'exogenous', 'fabp4', 'significantly', 'increased', 'proliferation', 'and', 'migration', 'of', 'human', 'hcc', 'cells', 'patient', 'serum', 'analysis', 'demonstrated', 'significantly', 'increased', 'fabp4', 'in', 'those', 'with', 'underlying', 'liver', 'disease', 'particularly', 'nonalcoholic', 'fatty', 'liver', 'disease', 'nafld', 'and', 'hcc', 'these', 'data', 'suggest', 'fabp4', 'an', 'fabp', 'not', 'normally', 'expressed', 'in', 'the', 'liver', 'can', 'be', 'synthesized', 'and', 'secreted', 'by', 'hepatocytes', 'and', 'hcc', 'cells', 'and', 'that', 'fabp4', 'may', 'play', 'a', 'role', 'in', 'regulating', 'tumour', 'progression', 'in', 'the', 'underlying', 'setting', 'of', 'obesity', '']]\n",
      "196\n",
      "training model...\n",
      "elapsed: 1.3518953323364258\n",
      "building corpus...\n",
      "SQL join executed in 31.000436067581177 s\n",
      "SQL results fetched and cast in 0.0005850791931152344 s\n",
      "[['studies', 'on', 'foam', 'decay', 'trend', 'and', 'influence', 'of', 'temperature', 'jump', 'on', 'foam', 'stability', 'in', 'sclerotherapy', 'this', 'study', 'investigated', 'the', 'influence', 'of', 'temperature', 'jump', 'and', 'liquidgas', 'ratio', 'on', 'foam', 'stability', 'to', 'derive', 'the', 'foamdecay', 'law', 'the', 'experimental', 'group', 'conditions', 'were', 'as', 'follows', 'mutation', 'temperatures', '<NUM>c', '<NUM>c', '<NUM>c', '<NUM>c', '<NUM>c', 'and', '<NUM>c', 'to', '<NUM>c', 'and', 'liquidgas', 'ratios', '<NUM>', '<NUM>', '<NUM>', 'and', '<NUM>', 'the', 'control', 'group', 'conditions', 'were', 'as', 'follows', 'temperatures', '<NUM>c', '<NUM>c', '<NUM>c', '<NUM>c', '<NUM>c', 'and', '<NUM>c', 'and', 'liquidgas', 'ratios', '<NUM>', '<NUM>', '<NUM>', 'and', '<NUM>', 'a', 'homemade', 'device', 'manufactured', 'using', 'the', 'tessari', 'dss', 'method', 'was', 'used', 'to', 'prepare', 'the', 'foam', 'the', 'decay', 'process', 'was', 'videotape', 'recorded', 'in', 'the', 'drainage', 'rate', 'curve', 'the', 'temperature', 'rose', 'and', 'the', 'liquidgas', 'ratio', 'varied', 'from', '<NUM>', 'to', '<NUM>', 'causing', 'faster', 'decay', 'in', 'the', 'entire', 'process', 'the', 'foam', 'volume', 'decreased', 'with', 'increasing', 'drainage', 'rate', 'the', 'relationships', 'were', 'almost', 'linear', 'comparison', 'of', 'the', 'experimental', 'and', 'control', 'groups', 'shows', 'that', 'the', 'temperature', 'jump', 'results', 'in', 'a', 'drainage', 'time', 'range', 'of', '<NUM>', 'to', '<NUM>', 'seconds', 'the', 'halflife', 'ranges', 'from', '<NUM>', 'to', '<NUM>', 'seconds', 'the', 'maximum', 'rate', 'is', '<NUM>', 'changes', 'in', 'the', 'preparation', 'temperature', 'yields', 'a', 'drainage', 'time', 'range', 'of', '<NUM>', 'to', '<NUM>', 'seconds', 'the', 'halflife', 'varies', 'from', '<NUM>', 'to', '<NUM>', 'seconds', 'decreasing', 'the', 'temperature', 'jump', 'range', 'and', 'liquidgas', 'ratio', 'gradually', 'enhances', 'the', 'foam', 'stability', 'the', 'foam', 'decay', 'time', 'and', 'drainage', 'rate', 'exhibit', 'an', 'exponential', 'function', 'distribution', '']]\n",
      "392\n",
      "training model...\n",
      "elapsed: 2.3357980251312256\n",
      "building corpus...\n",
      "SQL join executed in 30.463521003723145 s\n",
      "SQL results fetched and cast in 9.012222290039062e-05 s\n",
      "[['nursing', 'students', 'emotional', 'intelligence', 'coping', 'styles', 'and', 'learning', 'satisfaction', 'in', 'clinically', 'simulated', 'palliative', 'care', 'scenarios', 'an', 'observational', 'study', 'emotional', 'intelligence', 'is', 'highly', 'relevant', 'in', 'palliative', 'care', 'training', 'considering', 'the', 'coping', 'styles', 'used', 'by', 'nursing', 'students', 'clinical', 'simulation', 'provides', 'the', 'opportunity', 'to', 'evaluate', 'these', 'variables', 'in', 'a', 'realistic', 'and', 'natural', 'context', 'to', 'analyze', 'the', 'possible', 'relation', 'between', 'emotional', 'intelligence', 'coping', 'styles', 'and', 'satisfaction', 'with', 'ones', 'own', 'selflearning', 'in', 'nursing', 'students', 'participating', 'in', 'simulated', 'scenarios', 'related', 'to', 'palliative', 'care', 'at', 'the', 'end', 'of', 'life', 'a', 'descriptive', 'observational', 'and', 'correlational', 'study', 'of', 'students', 'in', 'their', 'second', 'year', 'of', 'nursing', 'at', 'a', 'spanish', 'university', 'during', 'the', '<NUM>', 'academic', 'year', 'three', 'variables', 'were', 'measured', 'emotional', 'intelligence', 'trait', 'metamood', 'scale24', 'coping', 'styles', 'the', 'questionnaire', 'for', 'dealing', 'with', 'stress', 'and', 'satisfaction', 'with', 'students', 'own', 'learning', 'student', 'satisfaction', 'and', 'selfconfidence', 'in', 'learning', 'scale', 'spanish', 'version', 'cslssv', 'in', 'total', '<NUM>', 'students', 'participated', 'in', 'this', 'study', 'me', '<NUM>years', 'an', 'association', 'was', 'found', 'between', 'satisfaction', 'with', 'learning', 'according', 'to', 'the', 'ei', 'attention', 'subscale', 'in', 'which', 'the', 'highest', 'scores', 'were', 'registered', 'and', 'two', 'specific', 'coping', 'styles', 'fsp', 'with', 'high', 'scores', 'and', 'open', 'emotional', 'expression', 'emotional', 'intelligence', 'and', 'coping', 'styles', 'are', 'desirable', 'qualities', 'in', 'students', 'especially', 'as', 'they', 'have', 'a', 'relevant', 'role', 'in', 'satisfaction', 'with', 'ones', 'own', 'learning', 'nonetheless', 'in', 'part', 'these', 'results', 'depend', 'on', 'the', 'characteristics', 'of', 'the', 'educational', 'activities', 'designed', 'which', 'is', 'especially', 'relevant', 'in', 'simulation', 'applied', 'to', 'palliative', 'care', '']]\n",
      "48\n",
      "training model...\n",
      "elapsed: 0.5024423599243164\n",
      "building corpus...\n",
      "SQL join executed in 30.818870544433594 s\n",
      "SQL results fetched and cast in 0.0001575946807861328 s\n",
      "[['perinatal', 'outcomes', 'of', 'women', 'undergoing', 'cesarean', 'delivery', 'after', 'prior', 'myomectomy', 'the', 'american', 'college', 'of', 'obstetricians', 'and', 'gynecologists', 'recommends', 'that', 'women', 'who', 'have', 'had', 'a', 'prior', 'myomectomy', 'that', 'entered', 'the', 'endometrial', 'cavity', 'undergo', 'cesarean', 'delivery', 'in', 'order', 'to', 'avoid', 'the', 'possible', 'complication', 'of', 'uterine', 'rupture', 'women', 'with', 'prior', 'myomectomies', 'may', 'also', 'have', 'intraabdominal', 'adhesions', 'complicating', 'future', 'surgery', 'and', 'if', 'myomas', 'remain', 'after', 'myomectomy', 'they', 'may', 'have', 'more', 'bleeding', 'complications', 'during', 'their', 'subsequent', 'pregnancies', 'the', 'purpose', 'of', 'this', 'study', 'was', 'to', 'evaluate', 'maternal', 'and', 'neonatal', 'outcomes', 'after', 'prior', 'myomectomy', 'in', 'women', 'undergoing', 'planned', 'cesarean', 'delivery', 'we', 'conducted', 'a', 'retrospective', 'cohort', 'study', 'using', 'the', 'maternal', 'fetal', 'medicine', 'units', 'cesarean', 'registry', 'database', 'comparing', 'women', 'undergoing', 'a', 'cesarean', 'delivery', 'with', 'a', 'history', 'of', 'prior', 'myomectomy', 'to', 'women', 'undergoing', 'a', 'cesarean', 'delivery', 'without', 'a', 'history', 'of', 'a', 'prior', 'myomectomy', 'inclusion', 'criteria', 'were', 'singleton', 'gestations', 'at', 'term', 'undergoing', 'planned', 'cesarean', 'delivery', 'exclusion', 'criteria', 'were', 'stillbirth', 'cesarean', 'delivery', 'indication', 'for', 'nonreassuring', 'fetal', 'heart', 'rate', 'macrosomia', 'abruption', 'previa', 'or', 'women', 'undergoing', 'planned', 'trial', 'of', 'labor', 'after', 'cesarean', 'primary', 'outcome', 'was', 'incidence', 'of', 'blood', 'transfusion', 'maternal', 'and', 'neonatal', 'outcomes', 'were', 'compared', 'secondarily', 'logistic', 'regression', 'was', 'used', 'to', 'adjust', 'for', 'confounders', 'the', 'entire', 'study', 'population', 'included', '<NUM>', 'deliveries', '<NUM>', 'women', 'met', 'inclusion', 'criteria', 'of', 'which', '<NUM>', 'had', 'a', 'prior', 'myomectomy', 'and', '<NUM>', 'were', 'controls', 'the', 'demographics', 'which', 'varied', 'by', 'maternal', 'age', 'race', 'and', 'number', 'of', 'prior', 'cesareans', 'were', 'adjusted', 'for', 'when', 'calculating', 'maternal', 'outcomes', 'the', 'rate', 'of', 'intraoperative', 'transfusion', 'in', 'the', 'prior', 'myomectomy', 'group', 'was', '<NUM>', '<NUM>', 'compared', 'to', '<NUM>', '<NUM>', 'in', 'the', 'control', 'group', 'aor', '<NUM>', '<NUM>', 'ci', '<NUM>', 'the', 'prior', 'myomectomy', 'group', 'had', 'a', 'higher', 'incidence', 'of', 'postpartum', 'transfusion', 'rate', '<NUM>', '<NUM>', 'compared', 'to', 'the', 'control', 'group', '<NUM>', '<NUM>', 'aor', '<NUM>', '<NUM>', 'uterotonic', 'usage', '<NUM>', '<NUM>', 'compared', 'to', 'the', 'control', 'group', '<NUM>', '<NUM>', 'aor', '<NUM>', '<NUM>', 'ci', '<NUM>', 'bowel', 'injury', '<NUM>', '<NUM>', 'compared', 'to', 'the', 'control', 'group', '<NUM>', '<NUM>', 'aor', '<NUM>', '<NUM>', 'ci', '<NUM>', 'and', 'cesarean', 'hysterectomy', '<NUM>', '<NUM>', 'compared', 'to', 'the', 'control', 'group', '<NUM>', 'aor', '<NUM>', '<NUM>', 'ci', '<NUM>', 'neonatal', 'outcomes', 'were', 'not', 'different', 'between', 'groups', 'prior', 'myomectomy', 'in', 'women', 'with', 'term', 'singleton', 'gestations', 'undergoing', 'planned', 'cesarean', 'delivery', 'was', 'associated', 'with', 'an', '<NUM>', 'increased', 'risk', 'of', 'intraoperative', 'transfusion', 'compared', 'to', 'the', 'control', 'group', 'we', 'also', 'found', 'that', 'women', 'in', 'the', 'myomectomy', 'group', 'are', '<NUM>', 'more', 'likely', 'to', 'use', 'uterotonics', '<NUM>', 'more', 'likely', 'to', 'experience', 'a', 'bowel', 'injury', '<NUM>', 'more', 'likely', 'to', 'undergo', 'a', 'cesarean', 'hysterectomy', 'and', '<NUM>', 'more', 'likely', 'to', 'need', 'a', 'classical', 'uterine', 'incision', 'during', 'delivery', 'neonatal', 'morbidity', 'was', 'not', 'statistically', 'different', 'between', 'the', 'groups', '']]\n",
      "75\n",
      "training model...\n"
     ]
    },
    {
     "name": "stdout",
     "output_type": "stream",
     "text": [
      "elapsed: 0.6591389179229736\n"
     ]
    }
   ],
   "source": []
  },
  {
   "cell_type": "markdown",
   "metadata": {},
   "source": [
    "# helper functions for processing lists of pmids to word2vec models"
   ]
  },
  {
   "cell_type": "code",
   "execution_count": 23,
   "metadata": {},
   "outputs": [],
   "source": [
    "\n",
    "def pmids2corpus(PMIDs):\n",
    "\n",
    "    str_fmt = ', '.join([str(pmid) for pmid in PMIDs])\n",
    "\n",
    "    sql = '''SELECT A.title, A.abstract\n",
    "            FROM abstracts as A\n",
    "            WHERE A.pmid IN ({})'''.format(str_fmt)\n",
    "\n",
    "    start_time = time.time()\n",
    "    cursor = db.cursor()\n",
    "    cursor.execute(sql)\n",
    "    end_time = time.time()\n",
    "    elapsed = end_time - start_time\n",
    "    print(\"SQL join executed in {} s\".format(elapsed))\n",
    "\n",
    "    start_time = time.time()\n",
    "    titles = []\n",
    "    abstracts = []\n",
    "    for i,row in enumerate(cursor):\n",
    "        print_block_len = 100000\n",
    "        if (i+1) % print_block_len == 0:\n",
    "            print('fetched {} rows...'.format(print_block_len))\n",
    "        titles.append(row[0])\n",
    "        abstracts.append(row[1])\n",
    "    cursor.close()\n",
    "    end_time = time.time()\n",
    "    elapsed = end_time - start_time\n",
    "    print(\"SQL results fetched and cast in {} s\".format(elapsed))\n",
    "\n",
    "    corpus = []\n",
    "    for t,a in zip(titles, abstracts):\n",
    "\n",
    "        P_ = t +  ' ' + a   # note, there is already a period at the end of the title\n",
    "        # todo consider segmenting sentences - currently title and abstract are one long sample\n",
    "\n",
    "        p_ = P_.lower()\n",
    "        p = re.sub(r'[^\\w\\s]','',p_)  # todo check this\n",
    "            #  todo entities? lemmatization? other preprocessing?\n",
    "        # todo number string matching\n",
    "        #   todo use significant digits to decide on the mask\n",
    "        p_clean = re.sub(r'[ ][+-]?[\\d]+',' <NUM>', p) # '^[-+]?[\\d]$\",\"\\n\",p) #  substitute numbers\n",
    "\n",
    "        words_clean = str.split(p_clean,' ')\n",
    "        corpus.append(words_clean)\n",
    "\n",
    "    print('first sentence in corpus: ')\n",
    "    print(corpus[:1])\n",
    "    print(len(corpus))\n",
    "\n",
    "    return corpus\n",
    "\n",
    "def train_model(corpus, save_path):\n",
    "    \n",
    "    # train word2vec components\n",
    "    start_time = time.time()\n",
    "\n",
    "    model = Word2Vec(corpus, size=20, window=5, min_count=1, workers=4)\n",
    "\n",
    "    end_time = time.time()\n",
    "    print(\"elapsed: {}\".format(end_time - start_time))\n",
    "    \n",
    "    model.save(save_path) "
   ]
  },
  {
   "cell_type": "markdown",
   "metadata": {},
   "source": [
    "# train the models"
   ]
  },
  {
   "cell_type": "code",
   "execution_count": null,
   "metadata": {},
   "outputs": [
    {
     "name": "stdout",
     "output_type": "stream",
     "text": [
      "building corpus...\n",
      "SQL join executed in 30.020013332366943 s\n",
      "SQL results fetched and cast in 0.00037598609924316406 s\n",
      "[['altered', 'fatty', 'acidbinding', 'protein', '<NUM>', 'fabp4', 'expression', 'and', 'function', 'in', 'human', 'and', 'animal', 'models', 'of', 'hepatocellular', 'carcinoma', 'hepatocellular', 'carcinoma', 'hcc', 'is', 'the', 'third', 'leading', 'cause', 'of', 'cancerrelated', 'mortality', 'risk', 'factors', 'for', 'developing', 'hcc', 'include', 'viral', 'hepatitis', 'alcohol', 'and', 'obesity', 'fatty', 'acidbinding', 'proteins', 'fabps', 'bind', 'longchain', 'free', 'fatty', 'acids', 'ffas', 'and', 'are', 'expressed', 'in', 'a', 'tissuespecific', 'pattern', 'fabp1', 'being', 'the', 'predominant', 'hepatic', 'form', 'and', 'fabp4', 'the', 'predominant', 'adipocyte', 'form', 'the', 'aims', 'of', 'this', 'study', 'were', 'to', 'investigate', 'the', 'expression', 'and', 'function', 'of', 'fabps19', 'in', 'human', 'and', 'animal', 'models', 'of', 'obesityrelated', 'hcc', 'fabp19', 'expression', 'was', 'determined', 'in', 'a', 'mouse', 'model', 'of', 'obesitypromoted', 'hcc', 'based', 'on', 'these', 'data', 'expression', 'and', 'function', 'of', 'fabp4', 'was', 'determined', 'in', 'human', 'hcc', 'cells', 'hepg2', 'and', 'huh7', 'in', 'vitro', 'serum', 'from', 'patients', 'with', 'different', 'underlying', 'hepatic', 'pathologies', 'was', 'analysed', 'for', 'circulating', 'fabp4', 'levels', 'livers', 'from', 'obese', 'mice', 'independent', 'of', 'tumour', 'status', 'exhibited', 'increased', 'fabp4', 'mrna', 'and', 'protein', 'expression', 'concomitant', 'with', 'elevated', 'serum', 'fabp4', 'in', 'vitro', 'fabp4', 'expression', 'was', 'induced', 'in', 'human', 'hcc', 'cells', 'by', 'ffa', 'treatment', 'and', 'led', 'to', 'fabp4', 'release', 'into', 'culture', 'medium', 'treatment', 'of', 'hcc', 'cells', 'with', 'exogenous', 'fabp4', 'significantly', 'increased', 'proliferation', 'and', 'migration', 'of', 'human', 'hcc', 'cells', 'patient', 'serum', 'analysis', 'demonstrated', 'significantly', 'increased', 'fabp4', 'in', 'those', 'with', 'underlying', 'liver', 'disease', 'particularly', 'nonalcoholic', 'fatty', 'liver', 'disease', 'nafld', 'and', 'hcc', 'these', 'data', 'suggest', 'fabp4', 'an', 'fabp', 'not', 'normally', 'expressed', 'in', 'the', 'liver', 'can', 'be', 'synthesized', 'and', 'secreted', 'by', 'hepatocytes', 'and', 'hcc', 'cells', 'and', 'that', 'fabp4', 'may', 'play', 'a', 'role', 'in', 'regulating', 'tumour', 'progression', 'in', 'the', 'underlying', 'setting', 'of', 'obesity', '']]\n",
      "196\n",
      "training model...\n",
      "elapsed: 1.2993977069854736\n",
      "building corpus...\n",
      "SQL join executed in 31.518174648284912 s\n",
      "SQL results fetched and cast in 0.0006439685821533203 s\n",
      "[['studies', 'on', 'foam', 'decay', 'trend', 'and', 'influence', 'of', 'temperature', 'jump', 'on', 'foam', 'stability', 'in', 'sclerotherapy', 'this', 'study', 'investigated', 'the', 'influence', 'of', 'temperature', 'jump', 'and', 'liquidgas', 'ratio', 'on', 'foam', 'stability', 'to', 'derive', 'the', 'foamdecay', 'law', 'the', 'experimental', 'group', 'conditions', 'were', 'as', 'follows', 'mutation', 'temperatures', '<NUM>c', '<NUM>c', '<NUM>c', '<NUM>c', '<NUM>c', 'and', '<NUM>c', 'to', '<NUM>c', 'and', 'liquidgas', 'ratios', '<NUM>', '<NUM>', '<NUM>', 'and', '<NUM>', 'the', 'control', 'group', 'conditions', 'were', 'as', 'follows', 'temperatures', '<NUM>c', '<NUM>c', '<NUM>c', '<NUM>c', '<NUM>c', 'and', '<NUM>c', 'and', 'liquidgas', 'ratios', '<NUM>', '<NUM>', '<NUM>', 'and', '<NUM>', 'a', 'homemade', 'device', 'manufactured', 'using', 'the', 'tessari', 'dss', 'method', 'was', 'used', 'to', 'prepare', 'the', 'foam', 'the', 'decay', 'process', 'was', 'videotape', 'recorded', 'in', 'the', 'drainage', 'rate', 'curve', 'the', 'temperature', 'rose', 'and', 'the', 'liquidgas', 'ratio', 'varied', 'from', '<NUM>', 'to', '<NUM>', 'causing', 'faster', 'decay', 'in', 'the', 'entire', 'process', 'the', 'foam', 'volume', 'decreased', 'with', 'increasing', 'drainage', 'rate', 'the', 'relationships', 'were', 'almost', 'linear', 'comparison', 'of', 'the', 'experimental', 'and', 'control', 'groups', 'shows', 'that', 'the', 'temperature', 'jump', 'results', 'in', 'a', 'drainage', 'time', 'range', 'of', '<NUM>', 'to', '<NUM>', 'seconds', 'the', 'halflife', 'ranges', 'from', '<NUM>', 'to', '<NUM>', 'seconds', 'the', 'maximum', 'rate', 'is', '<NUM>', 'changes', 'in', 'the', 'preparation', 'temperature', 'yields', 'a', 'drainage', 'time', 'range', 'of', '<NUM>', 'to', '<NUM>', 'seconds', 'the', 'halflife', 'varies', 'from', '<NUM>', 'to', '<NUM>', 'seconds', 'decreasing', 'the', 'temperature', 'jump', 'range', 'and', 'liquidgas', 'ratio', 'gradually', 'enhances', 'the', 'foam', 'stability', 'the', 'foam', 'decay', 'time', 'and', 'drainage', 'rate', 'exhibit', 'an', 'exponential', 'function', 'distribution', '']]\n",
      "392\n",
      "training model...\n",
      "elapsed: 2.1561737060546875\n",
      "building corpus...\n",
      "SQL join executed in 30.775801420211792 s\n",
      "SQL results fetched and cast in 9.918212890625e-05 s\n",
      "[['nursing', 'students', 'emotional', 'intelligence', 'coping', 'styles', 'and', 'learning', 'satisfaction', 'in', 'clinically', 'simulated', 'palliative', 'care', 'scenarios', 'an', 'observational', 'study', 'emotional', 'intelligence', 'is', 'highly', 'relevant', 'in', 'palliative', 'care', 'training', 'considering', 'the', 'coping', 'styles', 'used', 'by', 'nursing', 'students', 'clinical', 'simulation', 'provides', 'the', 'opportunity', 'to', 'evaluate', 'these', 'variables', 'in', 'a', 'realistic', 'and', 'natural', 'context', 'to', 'analyze', 'the', 'possible', 'relation', 'between', 'emotional', 'intelligence', 'coping', 'styles', 'and', 'satisfaction', 'with', 'ones', 'own', 'selflearning', 'in', 'nursing', 'students', 'participating', 'in', 'simulated', 'scenarios', 'related', 'to', 'palliative', 'care', 'at', 'the', 'end', 'of', 'life', 'a', 'descriptive', 'observational', 'and', 'correlational', 'study', 'of', 'students', 'in', 'their', 'second', 'year', 'of', 'nursing', 'at', 'a', 'spanish', 'university', 'during', 'the', '<NUM>', 'academic', 'year', 'three', 'variables', 'were', 'measured', 'emotional', 'intelligence', 'trait', 'metamood', 'scale24', 'coping', 'styles', 'the', 'questionnaire', 'for', 'dealing', 'with', 'stress', 'and', 'satisfaction', 'with', 'students', 'own', 'learning', 'student', 'satisfaction', 'and', 'selfconfidence', 'in', 'learning', 'scale', 'spanish', 'version', 'cslssv', 'in', 'total', '<NUM>', 'students', 'participated', 'in', 'this', 'study', 'me', '<NUM>years', 'an', 'association', 'was', 'found', 'between', 'satisfaction', 'with', 'learning', 'according', 'to', 'the', 'ei', 'attention', 'subscale', 'in', 'which', 'the', 'highest', 'scores', 'were', 'registered', 'and', 'two', 'specific', 'coping', 'styles', 'fsp', 'with', 'high', 'scores', 'and', 'open', 'emotional', 'expression', 'emotional', 'intelligence', 'and', 'coping', 'styles', 'are', 'desirable', 'qualities', 'in', 'students', 'especially', 'as', 'they', 'have', 'a', 'relevant', 'role', 'in', 'satisfaction', 'with', 'ones', 'own', 'learning', 'nonetheless', 'in', 'part', 'these', 'results', 'depend', 'on', 'the', 'characteristics', 'of', 'the', 'educational', 'activities', 'designed', 'which', 'is', 'especially', 'relevant', 'in', 'simulation', 'applied', 'to', 'palliative', 'care', '']]\n",
      "48\n",
      "training model...\n",
      "elapsed: 0.5204365253448486\n",
      "building corpus...\n"
     ]
    }
   ],
   "source": [
    "# todo force samples to have the same size, test impact of vocabulary ? \n",
    "#    or maybe just test variance over multiple samplesets to check for effects of sample size asymmetry\n",
    "\n",
    "# load pmids\n",
    "\n",
    "sample_id = 0\n",
    "model_names = []\n",
    "\n",
    "clustered_pmids_path = 'data_processing/test_clusters2018.json'\n",
    "with open(clustered_pmids_path, 'r') as f:\n",
    "    data = json.load(f)\n",
    "    \n",
    "#print(data['pmids'])   # i_sample, i_cluster\n",
    "\n",
    "sample_pmids = []\n",
    "\n",
    "\n",
    "clustered_pmids = data['pmids'][str(sample_id)]\n",
    "for cluster_id_str, pmids_list in clustered_pmids.items():\n",
    "    \n",
    "    model_export_path = 'data_processing/testmodel_cluster' + cluster_id_str + '.model'\n",
    "    model_names.append(model_export_path)\n",
    "    \n",
    "    print('building corpus...')\n",
    "    corpus = pmids2corpus(pmids_list)\n",
    "    \n",
    "    print('training model...')\n",
    "    train_model(corpus, model_export_path)\n",
    "    \n",
    "\n",
    "#print(data['pmids'])\n",
    "\n"
   ]
  },
  {
   "cell_type": "code",
   "execution_count": null,
   "metadata": {},
   "outputs": [],
   "source": [
    "\n",
    "for model_name in model_names:\n",
    "    \n",
    "    model = Word2Vec.load(\"test_word2vec.model\")\n",
    "    \n",
    "    print('number of words in vocabulary:')\n",
    "    print(len(model.wv.vocab))\n",
    "\n",
    "    # visualize the model"
   ]
  },
  {
   "cell_type": "code",
   "execution_count": null,
   "metadata": {},
   "outputs": [],
   "source": []
  },
  {
   "cell_type": "code",
   "execution_count": null,
   "metadata": {},
   "outputs": [],
   "source": []
  },
  {
   "cell_type": "code",
   "execution_count": null,
   "metadata": {},
   "outputs": [],
   "source": []
  }
 ],
 "metadata": {
  "kernelspec": {
   "display_name": "Python 3",
   "language": "python",
   "name": "python3"
  },
  "language_info": {
   "codemirror_mode": {
    "name": "ipython",
    "version": 3
   },
   "file_extension": ".py",
   "mimetype": "text/x-python",
   "name": "python",
   "nbconvert_exporter": "python",
   "pygments_lexer": "ipython3",
   "version": "3.7.5"
  }
 },
 "nbformat": 4,
 "nbformat_minor": 2
}

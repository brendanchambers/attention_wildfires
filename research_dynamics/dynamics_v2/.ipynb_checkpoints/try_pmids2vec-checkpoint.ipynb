{
 "cells": [
  {
   "cell_type": "code",
   "execution_count": 121,
   "metadata": {},
   "outputs": [],
   "source": [
    "import pymysql\n",
    "import pickle\n",
    "import json\n",
    "\n",
    "import numpy as np\n",
    "from sklearn.decomposition import PCA\n",
    "\n",
    "import matplotlib.pyplot as plt\n",
    "import seaborn as sns\n",
    "plt.rcParams['svg.fonttype'] = 'none'\n",
    "\n",
    "import time\n",
    "import hdbscan\n",
    "\n",
    "import spacy\n",
    "from gensim.models import Word2Vec"
   ]
  },
  {
   "cell_type": "code",
   "execution_count": 63,
   "metadata": {},
   "outputs": [
    {
     "name": "stdout",
     "output_type": "stream",
     "text": [
      "N PMIDs: 1000\n"
     ]
    }
   ],
   "source": [
    "PMIDs_dir = '/home/brendan/FastData/pubmed2019/pubmed_data_processing/year_pmids/'\n",
    "PMIDs_name = 'pubmed_state_2008'  # these should have a .json postfix\n",
    "PMIDs_path = PMIDs_dir + PMIDs_name\n",
    "\n",
    "with open(PMIDs_path, 'r') as f:\n",
    "    data = json.load(f)\n",
    "\n",
    "K = 100000  #  for testing - number of pmids to subselect\n",
    "PMIDs = data['publications'][:K] # testing, just grab the first K non-randomly\n",
    "print(\"N PMIDs: {}\".format(len(PMIDs)))"
   ]
  },
  {
   "cell_type": "markdown",
   "metadata": {},
   "source": [
    "### mysql control parameters"
   ]
  },
  {
   "cell_type": "code",
   "execution_count": 64,
   "metadata": {},
   "outputs": [],
   "source": [
    "db_name = 'test_pubmed'  # db name collisons? https://stackoverflow.com/questions/14011968/user-cant-access-a-database\n",
    "config_path = '/home/brendan/Projects/AttentionWildfires/attention_wildfires/mysql_config.json'\n",
    "\n",
    "with open(config_path, 'r') as f:\n",
    "    config_data = json.load(f)\n",
    "    \n",
    "client_config = {'database': db_name,\n",
    "                'user': config_data['user'],\n",
    "                 'password': config_data['lock']}\n",
    "\n",
    "db = pymysql.connect(**client_config)"
   ]
  },
  {
   "cell_type": "markdown",
   "metadata": {},
   "source": [
    "##  build a training set from selected pmids"
   ]
  },
  {
   "cell_type": "code",
   "execution_count": 65,
   "metadata": {},
   "outputs": [
    {
     "name": "stdout",
     "output_type": "stream",
     "text": [
      "SQL join executed in 28.492010831832886 s\n",
      "SQL results fetched and cast in 0.002595186233520508 s\n"
     ]
    }
   ],
   "source": [
    "str_fmt = ', '.join([str(pmid) for pmid in PMIDs])\n",
    "\n",
    "sql = '''SELECT A.title, A.abstract\n",
    "        FROM abstracts as A\n",
    "        WHERE A.pmid IN ({})'''.format(str_fmt)\n",
    "\n",
    "start_time = time.time()\n",
    "cursor = db.cursor()\n",
    "cursor.execute(sql)\n",
    "end_time = time.time()\n",
    "elapsed = end_time - start_time\n",
    "print(\"SQL join executed in {} s\".format(elapsed))\n",
    "\n",
    "start_time = time.time()\n",
    "titles = []\n",
    "abstracts = []\n",
    "for i,row in enumerate(cursor):\n",
    "    print_block_len = 100000\n",
    "    if (i+1) % print_block_len == 0:\n",
    "        print('fetched {} rows...'.format(print_block_len))\n",
    "    titles.append(row[0])\n",
    "    abstracts.append(row[1])\n",
    "cursor.close()\n",
    "end_time = time.time()\n",
    "elapsed = end_time - start_time\n",
    "print(\"SQL results fetched and cast in {} s\".format(elapsed))\n"
   ]
  },
  {
   "cell_type": "code",
   "execution_count": 116,
   "metadata": {},
   "outputs": [
    {
     "ename": "NameError",
     "evalue": "name 'PyTT_Language' is not defined",
     "output_type": "error",
     "traceback": [
      "\u001b[0;31m---------------------------------------------------------------------------\u001b[0m",
      "\u001b[0;31mNameError\u001b[0m                                 Traceback (most recent call last)",
      "\u001b[0;32m<ipython-input-116-f05555df121d>\u001b[0m in \u001b[0;36m<module>\u001b[0;34m\u001b[0m\n\u001b[0;32m----> 1\u001b[0;31m \u001b[0mnlp\u001b[0m \u001b[0;34m=\u001b[0m \u001b[0mPyTT_Language\u001b[0m\u001b[0;34m(\u001b[0m\u001b[0mpytt_name\u001b[0m\u001b[0;34m=\u001b[0m\u001b[0mname\u001b[0m\u001b[0;34m,\u001b[0m \u001b[0mmeta\u001b[0m\u001b[0;34m=\u001b[0m\u001b[0;34m{\u001b[0m\u001b[0;34m\"lang\"\u001b[0m\u001b[0;34m:\u001b[0m \u001b[0;34m\"en\"\u001b[0m\u001b[0;34m}\u001b[0m\u001b[0;34m)\u001b[0m\u001b[0;34m\u001b[0m\u001b[0;34m\u001b[0m\u001b[0m\n\u001b[0m\u001b[1;32m      2\u001b[0m \u001b[0mnlp\u001b[0m\u001b[0;34m.\u001b[0m\u001b[0madd_pipe\u001b[0m\u001b[0;34m(\u001b[0m\u001b[0mnlp\u001b[0m\u001b[0;34m.\u001b[0m\u001b[0mcreate_pipe\u001b[0m\u001b[0;34m(\u001b[0m\u001b[0;34m\"sentencizer\"\u001b[0m\u001b[0;34m)\u001b[0m\u001b[0;34m)\u001b[0m\u001b[0;34m\u001b[0m\u001b[0;34m\u001b[0m\u001b[0m\n\u001b[1;32m      3\u001b[0m \u001b[0;34m\u001b[0m\u001b[0m\n\u001b[1;32m      4\u001b[0m \u001b[0mabstracts_sentencized\u001b[0m \u001b[0;34m=\u001b[0m \u001b[0mnlp\u001b[0m\u001b[0;34m(\u001b[0m\u001b[0mabstracts\u001b[0m\u001b[0;34m)\u001b[0m\u001b[0;34m\u001b[0m\u001b[0;34m\u001b[0m\u001b[0m\n\u001b[1;32m      5\u001b[0m \u001b[0;34m\u001b[0m\u001b[0m\n",
      "\u001b[0;31mNameError\u001b[0m: name 'PyTT_Language' is not defined"
     ]
    }
   ],
   "source": [
    "'''\n",
    "lang = \"en\"\n",
    "pipeline = [\"tagger\", \"parser\", \"ner\"]\n",
    "data_path = \"path/to/en_core_web_sm/en_core_web_sm-2.0.0\"\n",
    "\n",
    "nlp = PyTT_Language(pytt_name=name, meta={\"lang\": \"en\"})\n",
    "nlp.add_pipe(nlp.create_pipe(\"sentencizer\"))\n",
    "\n",
    "abstracts_sentencized = nlp(abstracts)\n",
    "\n",
    "print(abstracts_sentencized[:10])\n",
    "'''\n",
    "# todo do this with scispacy"
   ]
  },
  {
   "cell_type": "code",
   "execution_count": 120,
   "metadata": {},
   "outputs": [
    {
     "name": "stdout",
     "output_type": "stream",
     "text": [
      "[['violations', 'of', 'coherence', 'in', 'subjective', 'probability', 'a', 'representational', 'and', 'assessment', 'processes', 'account', 'coherent', 'judgment', 'is', 'a', 'cardinal', 'feature', 'of', 'rational', 'cognition', 'six', 'experiments', 'revealed', 'systematic', 'violations', 'of', 'coherence', 'in', 'probability', 'judgment', 'in', 'which', 'participants', 'assigned', 'different', 'probabilities', 'to', 'mathematically', 'equiprobable', 'events', 'experiments', '<NUM>', 'revealed', 'a', 'strict', 'refocusing', 'effect', 'compared', 'to', 'an', 'occurrence', 'frame', 'a', 'nonoccurrence', 'frame', 'resulted', 'in', 'higher', 'estimates', 'if', 'baserate', 'evidence', 'favored', 'occurrence', 'lower', 'estimates', 'if', 'evidence', 'favored', 'nonoccurrence', 'and', 'similar', 'estimates', 'if', 'evidence', 'supported', 'indifference', 'moreover', 'experiments', '<NUM>', 'and', '<NUM>', 'revealed', 'a', 'pessimistic', 'bias', 'in', 'which', 'the', 'less', 'favorable', 'of', 'two', 'equiprobable', 'events', 'was', 'assigned', 'greater', 'probability', 'the', 'findings', 'support', 'a', 'representational', 'and', 'assessment', 'processes', 'account', 'rap', 'in', 'which', 'subjective', 'probability', 'is', 'influenced', 'by', 'the', 'perceived', 'compatibility', 'between', 'representations', 'of', 'focal', 'events', 'and', 'representations', 'of', 'evidence', '']]\n",
      "1000\n"
     ]
    }
   ],
   "source": [
    "# how should the corpus be formatted?\n",
    "import random\n",
    "import re\n",
    "\n",
    "corpus = []\n",
    "for t,a in zip(titles, abstracts):\n",
    "    \n",
    "    P_ = t +  ' ' + a   # note, there is already a period at the end of the title\n",
    "    # todo consider segmenting sentences - currently title and abstract are one long sample\n",
    "    \n",
    "    p_ = P_.lower()\n",
    "    p = re.sub(r'[^\\w\\s]','',p_)  # todo check this\n",
    "        #  todo entities? lemmatization? other preprocessing?\n",
    "    # todo number string matching\n",
    "    #   todo use significant digits to decide on the mask\n",
    "    p_clean = re.sub(r'[ ][+-]?[\\d]+',' <NUM>', p) # '^[-+]?[\\d]$\",\"\\n\",p) #  substitute numbers\n",
    "    \n",
    "    words_clean = str.split(p_clean,' ')\n",
    "    corpus.append(words_clean)\n",
    "    \n",
    "print(corpus[:1])\n",
    "print(len(corpus))\n",
    "\n"
   ]
  },
  {
   "cell_type": "code",
   "execution_count": null,
   "metadata": {},
   "outputs": [],
   "source": [
    "# todo split into sentences first--\n",
    "''' \n",
    "# todo modify this code to take the title + abstract paragraphs into sentences\n",
    "'''\n",
    "#name = \"scibert-scivocab-uncased\"\n",
    "#path = \"/project2/jevans/brendan/pretrained_transformers/scibert-scivocab-uncased\"  # todo bring to k-g\n",
    "#path = \"/home/brendan/FastData/pretrained_transformers/scibert-scivocab-uncased\"\n",
    "# https://github.com/allenai/scibert\n",
    "#  https://arxiv.org/abs/1903.10676\n",
    "\n",
    "nlp = PyTT_Language(pytt_name=name, meta={\"lang\": \"en\"})\n",
    "nlp.add_pipe(nlp.create_pipe(\"sentencizer\"))\n",
    "#nlp.add_pipe(PyTT_WordPiecer.from_pretrained(nlp.vocab, path))  # consider using the vocabulary-set of the scibert model?\n"
   ]
  },
  {
   "cell_type": "code",
   "execution_count": 124,
   "metadata": {},
   "outputs": [
    {
     "name": "stdout",
     "output_type": "stream",
     "text": [
      "elapsed: 3.317368984222412\n"
     ]
    }
   ],
   "source": [
    "# train word2vec components\n",
    "\n",
    "start_time = time.time()\n",
    "\n",
    "model = Word2Vec(corpus, size=100, window=5, min_count=1, workers=4)\n",
    "\n",
    "end_time = time.time()\n",
    "print(\"elapsed: {}\".format(end_time - start_time))\n"
   ]
  },
  {
   "cell_type": "code",
   "execution_count": null,
   "metadata": {},
   "outputs": [],
   "source": []
  },
  {
   "cell_type": "code",
   "execution_count": null,
   "metadata": {},
   "outputs": [],
   "source": []
  },
  {
   "cell_type": "code",
   "execution_count": null,
   "metadata": {},
   "outputs": [],
   "source": []
  },
  {
   "cell_type": "code",
   "execution_count": 11,
   "metadata": {},
   "outputs": [],
   "source": [
    "# save the word2vec networks\n",
    "\n",
    "model.save(\"word2vec.model\")   # could just save the .kv file instead"
   ]
  },
  {
   "cell_type": "code",
   "execution_count": null,
   "metadata": {},
   "outputs": [],
   "source": []
  },
  {
   "cell_type": "code",
   "execution_count": null,
   "metadata": {},
   "outputs": [],
   "source": []
  }
 ],
 "metadata": {
  "kernelspec": {
   "display_name": "Python 3",
   "language": "python",
   "name": "python3"
  },
  "language_info": {
   "codemirror_mode": {
    "name": "ipython",
    "version": 3
   },
   "file_extension": ".py",
   "mimetype": "text/x-python",
   "name": "python",
   "nbconvert_exporter": "python",
   "pygments_lexer": "ipython3",
   "version": "3.7.5"
  }
 },
 "nbformat": 4,
 "nbformat_minor": 2
}

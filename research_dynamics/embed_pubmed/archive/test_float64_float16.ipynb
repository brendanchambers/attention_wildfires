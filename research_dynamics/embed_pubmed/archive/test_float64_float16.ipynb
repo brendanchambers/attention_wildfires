{
 "cells": [
  {
   "cell_type": "code",
   "execution_count": 1,
   "metadata": {},
   "outputs": [],
   "source": [
    "#\n",
    "\n",
    "# embeddings are huge - can we store them as float32 or even smaller?\n",
    "\n"
   ]
  },
  {
   "cell_type": "code",
   "execution_count": 3,
   "metadata": {},
   "outputs": [],
   "source": [
    "import numpy as np"
   ]
  },
  {
   "cell_type": "code",
   "execution_count": null,
   "metadata": {},
   "outputs": [],
   "source": []
  },
  {
   "cell_type": "code",
   "execution_count": 25,
   "metadata": {},
   "outputs": [
    {
     "name": "stdout",
     "output_type": "stream",
     "text": [
      "(1, 768)\n",
      "<class 'numpy.ndarray'>\n",
      "<class 'numpy.ndarray'>\n",
      "0.31699884162240755\n"
     ]
    }
   ],
   "source": [
    "test_vector = np.random.rand(1, 768)\n",
    "print(np.shape(test_vector))\n",
    "print(type(test_vector))\n",
    "\n",
    "print(type(test_vector[0]))\n",
    "\n",
    "print(test_vector[0,42])"
   ]
  },
  {
   "cell_type": "code",
   "execution_count": 28,
   "metadata": {},
   "outputs": [
    {
     "name": "stdout",
     "output_type": "stream",
     "text": [
      "(1, 768)\n",
      "<class 'numpy.ndarray'>\n",
      "<class 'numpy.float16'>\n",
      "0.317\n"
     ]
    }
   ],
   "source": [
    "\n",
    "test_vector16 = test_vector.astype('float16')\n",
    "print(np.shape(test_vector16))\n",
    "print(type(test_vector16))\n",
    "print(type(test_vector16[0,42]))\n",
    "\n",
    "print(test_vector16[0,42])"
   ]
  },
  {
   "cell_type": "code",
   "execution_count": 29,
   "metadata": {},
   "outputs": [],
   "source": [
    "# cast to binary\n",
    "\n",
    "crunch = test_vector16.tobytes(order='C')\n"
   ]
  },
  {
   "cell_type": "code",
   "execution_count": null,
   "metadata": {},
   "outputs": [],
   "source": []
  },
  {
   "cell_type": "code",
   "execution_count": 33,
   "metadata": {},
   "outputs": [
    {
     "name": "stdout",
     "output_type": "stream",
     "text": [
      "<class 'numpy.ndarray'>\n",
      "(768,)\n",
      "<class 'numpy.float16'>\n",
      "0.317\n"
     ]
    }
   ],
   "source": [
    "# recover from binary\n",
    "\n",
    "expand = np.frombuffer(crunch,dtype='float16')\n",
    "print(type(expand))\n",
    "print(np.shape(expand))\n",
    "print(type(expand[0]))\n",
    "print(expand[42])"
   ]
  },
  {
   "cell_type": "code",
   "execution_count": null,
   "metadata": {},
   "outputs": [],
   "source": []
  },
  {
   "cell_type": "code",
   "execution_count": null,
   "metadata": {},
   "outputs": [],
   "source": []
  }
 ],
 "metadata": {
  "kernelspec": {
   "display_name": "Python 3",
   "language": "python",
   "name": "python3"
  },
  "language_info": {
   "codemirror_mode": {
    "name": "ipython",
    "version": 3
   },
   "file_extension": ".py",
   "mimetype": "text/x-python",
   "name": "python",
   "nbconvert_exporter": "python",
   "pygments_lexer": "ipython3",
   "version": "3.7.3"
  }
 },
 "nbformat": 4,
 "nbformat_minor": 2
}

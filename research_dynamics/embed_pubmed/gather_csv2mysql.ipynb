{
 "cells": [
  {
   "cell_type": "code",
   "execution_count": 1,
   "metadata": {},
   "outputs": [],
   "source": [
    "import numpy as np\n",
    "import csv\n",
    "import os\n",
    "import time\n",
    "import json\n",
    "import mysql.connector as mysql"
   ]
  },
  {
   "cell_type": "code",
   "execution_count": 2,
   "metadata": {},
   "outputs": [],
   "source": [
    "#  pure mysql python connector approach to the mysql connection\n",
    "#   offers easy control over the BLOB type embeddings\n",
    "client_config = {'unix_socket':'/home/brendanchambers/.sql.sock',\n",
    "                            'database':'test_pubmed',\n",
    "                            'use_pure':True}  # pure python mode is important for reading blobs of bytes\n",
    "write_size = 10000  # write to db every 10K rows\n",
    "table_name = 'scibert_mean_embedding'  # created in mysql terminal client\n",
    "# '''CREATE TABLE {}             # <- like this\n",
    "#                (pmid int NOT NULL,\n",
    "#                embedding BLOB NOT NULL,\n",
    "#                PRIMARY KEY (pmid))'''.format(table_name)\n",
    "\n",
    "path2embeddings = '/project2/jevans/brendan/pubmed_data_processing/scibert_embedding_chunks/'\n"
   ]
  },
  {
   "cell_type": "markdown",
   "metadata": {},
   "source": [
    "## helper function"
   ]
  },
  {
   "cell_type": "code",
   "execution_count": 3,
   "metadata": {},
   "outputs": [],
   "source": [
    "def write_data_to_db(entries, table_name):\n",
    "    db = mysql.connect(**client_config)\n",
    "    sql = '''INSERT INTO {} (pmid,embedding)\n",
    "             VALUES (%s, %s)\n",
    "             ON DUPLICATE KEY UPDATE\n",
    "             pmid=values(pmid), embedding=values(embedding)'''.format(table_name)\n",
    "    cursor = db.cursor()\n",
    "    cursor.executemany(sql, entries)\n",
    "    cursor.close()\n",
    "    db.commit()"
   ]
  },
  {
   "cell_type": "markdown",
   "metadata": {},
   "source": [
    "## read csv output files and write to db"
   ]
  },
  {
   "cell_type": "code",
   "execution_count": 4,
   "metadata": {},
   "outputs": [
    {
     "name": "stdout",
     "output_type": "stream",
     "text": [
      "processing chunk_40.csv...\n",
      "processing chunk_8.csv...\n",
      "processing chunk_49.csv...\n",
      "processing chunk_41.csv...\n",
      "processing chunk_27.csv...\n",
      "processing chunk_36.csv...\n",
      "processing chunk_46.csv...\n",
      "processing chunk_23.csv...\n",
      "processing chunk_13.csv...\n",
      "processing chunk_19.csv...\n",
      "processing chunk_38.csv...\n",
      "processing chunk_10.csv...\n",
      "processing chunk_30.csv...\n",
      "processing chunk_11.csv...\n",
      "processing chunk_2.csv...\n",
      "processing chunk_28.csv...\n",
      "processing chunk_24.csv...\n",
      "processing chunk_45.csv...\n",
      "processing chunk_18.csv...\n",
      "processing chunk_9.csv...\n",
      "processing chunk_5.csv...\n",
      "processing chunk_37.csv...\n",
      "processing chunk_12.csv...\n",
      "processing chunk_32.csv...\n",
      "processing chunk_33.csv...\n",
      "processing chunk_47.csv...\n",
      "processing chunk_1.csv...\n",
      "processing chunk_42.csv...\n",
      "processing chunk_20.csv...\n",
      "processing chunk_16.csv...\n",
      "processing chunk_15.csv...\n",
      "processing chunk_21.csv...\n",
      "processing chunk_14.csv...\n",
      "processing chunk_17.csv...\n",
      "processing chunk_7.csv...\n",
      "processing chunk_31.csv...\n",
      "processing chunk_25.csv...\n",
      "processing chunk_39.csv...\n",
      "processing chunk_26.csv...\n",
      "processing chunk_29.csv...\n",
      "processing chunk_48.csv...\n",
      "processing chunk_4.csv...\n",
      "processing chunk_43.csv...\n",
      "processing chunk_22.csv...\n",
      "processing chunk_6.csv...\n",
      "processing chunk_3.csv...\n",
      "processing chunk_35.csv...\n",
      "processing chunk_34.csv...\n",
      "processing chunk_44.csv...\n",
      "elapsed: 36911.6717107296\n"
     ]
    }
   ],
   "source": [
    "start_time = time.time()\n",
    "\n",
    "for chunk_filename in os.listdir(path2embeddings):\n",
    "    data = []\n",
    "    print('processing {}...'.format(chunk_filename))\n",
    "    \n",
    "    with open(path2embeddings + chunk_filename) as f:\n",
    "        csvreader = csv.reader(f, delimiter=' ')\n",
    "        # note: there is no header in these chunk files\n",
    "\n",
    "        for idx, row in enumerate(csvreader):\n",
    "            pmid = int(row[0])\n",
    "            \n",
    "            embedding_blob = np.array(json.loads(row[1])).tobytes(\n",
    "                                                        order='C')\n",
    "            data.append((pmid, embedding_blob))\n",
    "            \n",
    "            if len(data) > write_size:  # write to db intermittently\n",
    "                write_data_to_db(data, table_name)\n",
    "                data = []           \n",
    "                # reset data\n",
    "                \n",
    "    write_data_to_db(data, table_name)  # empty the buffer at the end\n",
    "\n",
    "end_time = time.time()\n",
    "print('elapsed: {}'.format(end_time - start_time))\n"
   ]
  },
  {
   "cell_type": "code",
   "execution_count": null,
   "metadata": {},
   "outputs": [],
   "source": []
  },
  {
   "cell_type": "code",
   "execution_count": null,
   "metadata": {},
   "outputs": [],
   "source": []
  }
 ],
 "metadata": {
  "kernelspec": {
   "display_name": "Python 3",
   "language": "python",
   "name": "python3"
  },
  "language_info": {
   "codemirror_mode": {
    "name": "ipython",
    "version": 3
   },
   "file_extension": ".py",
   "mimetype": "text/x-python",
   "name": "python",
   "nbconvert_exporter": "python",
   "pygments_lexer": "ipython3",
   "version": "3.7.3"
  }
 },
 "nbformat": 4,
 "nbformat_minor": 2
}

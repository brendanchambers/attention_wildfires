{
 "cells": [
  {
   "cell_type": "code",
   "execution_count": 1,
   "metadata": {},
   "outputs": [
    {
     "data": {
      "text/plain": [
       "'\\n# note: you need to create the target database before running this notebook\\ne.g. --\\nCREATE TABLE scibert_mean_embedding (pmid int NOT NULL,\\n                                    embedding BLOB NOT NULL,\\n                                    PRIMARY KEY (pmid));\\n'"
      ]
     },
     "execution_count": 1,
     "metadata": {},
     "output_type": "execute_result"
    }
   ],
   "source": [
    "import numpy as np\n",
    "import csv\n",
    "import os\n",
    "import time\n",
    "import json\n",
    "import mysql.connector as mysql\n",
    "\n",
    "\n",
    "'''\n",
    "# note: you need to create the target database before running this notebook\n",
    "e.g. --\n",
    "CREATE TABLE scibert_mean_embedding (pmid int NOT NULL,\n",
    "                                    embedding BLOB NOT NULL,\n",
    "                                    PRIMARY KEY (pmid));\n",
    "'''"
   ]
  },
  {
   "cell_type": "code",
   "execution_count": 2,
   "metadata": {},
   "outputs": [],
   "source": [
    "#  pure mysql python connector approach to the mysql connection\n",
    "#   offers easy control over the BLOB type embeddings\n",
    "client_config = {'unix_socket':'/home/brendanchambers/.sql.sock',\n",
    "                            'database':'test_pubmed',\n",
    "                            'use_pure':True}  # pure python mode is important for reading blobs of bytes\n",
    "write_size = 10000  # write to db every 10K rows\n",
    "table_name = 'scibert_mean_embedding'  # created in mysql terminal client\n",
    "# '''CREATE TABLE {}             # <- like this\n",
    "#                (pmid int NOT NULL,\n",
    "#                embedding BLOB NOT NULL,\n",
    "#                PRIMARY KEY (pmid))'''.format(table_name)\n",
    "\n",
    "path2embeddings = '/project2/jevans/brendan/pubmed_data_processing/scibert_embedding_chunks/'\n"
   ]
  },
  {
   "cell_type": "markdown",
   "metadata": {},
   "source": [
    "## helper function"
   ]
  },
  {
   "cell_type": "code",
   "execution_count": 3,
   "metadata": {},
   "outputs": [],
   "source": [
    "def write_data_to_db(entries, table_name):\n",
    "    db = mysql.connect(**client_config)\n",
    "    sql = '''INSERT INTO {} (pmid,embedding)\n",
    "             VALUES (%s, %s)\n",
    "             ON DUPLICATE KEY UPDATE\n",
    "             pmid=values(pmid), embedding=values(embedding)'''.format(table_name)\n",
    "    cursor = db.cursor()\n",
    "    cursor.executemany(sql, entries)\n",
    "    cursor.close()\n",
    "    db.commit()"
   ]
  },
  {
   "cell_type": "markdown",
   "metadata": {},
   "source": [
    "## read csv output files and write to db"
   ]
  },
  {
   "cell_type": "code",
   "execution_count": 5,
   "metadata": {},
   "outputs": [
    {
     "name": "stdout",
     "output_type": "stream",
     "text": [
      "processing chunk_40.csv...\n"
     ]
    },
    {
     "ename": "AttributeError",
     "evalue": "'str' object has no attribute 'read'",
     "output_type": "error",
     "traceback": [
      "\u001b[0;31m---------------------------------------------------------------------------\u001b[0m",
      "\u001b[0;31mAttributeError\u001b[0m                            Traceback (most recent call last)",
      "\u001b[0;32m<ipython-input-5-e48a01289a4e>\u001b[0m in \u001b[0;36m<module>\u001b[0;34m\u001b[0m\n\u001b[1;32m     13\u001b[0m \u001b[0;34m\u001b[0m\u001b[0m\n\u001b[1;32m     14\u001b[0m             \u001b[0;31m# note changing datatype Oct 2 2019\u001b[0m\u001b[0;34m\u001b[0m\u001b[0;34m\u001b[0m\u001b[0;34m\u001b[0m\u001b[0m\n\u001b[0;32m---> 15\u001b[0;31m             \u001b[0membedding16\u001b[0m \u001b[0;34m=\u001b[0m \u001b[0mnp\u001b[0m\u001b[0;34m.\u001b[0m\u001b[0marray\u001b[0m\u001b[0;34m(\u001b[0m\u001b[0mjson\u001b[0m\u001b[0;34m.\u001b[0m\u001b[0mload\u001b[0m\u001b[0;34m(\u001b[0m\u001b[0mrow\u001b[0m\u001b[0;34m[\u001b[0m\u001b[0;36m1\u001b[0m\u001b[0;34m]\u001b[0m\u001b[0;34m)\u001b[0m\u001b[0;34m)\u001b[0m\u001b[0;34m.\u001b[0m\u001b[0mastype\u001b[0m\u001b[0;34m(\u001b[0m\u001b[0;34m'float16'\u001b[0m\u001b[0;34m)\u001b[0m\u001b[0;34m\u001b[0m\u001b[0;34m\u001b[0m\u001b[0m\n\u001b[0m\u001b[1;32m     16\u001b[0m             \u001b[0membedding_blob\u001b[0m \u001b[0;34m=\u001b[0m \u001b[0membedding16\u001b[0m\u001b[0;34m.\u001b[0m\u001b[0mtobytes\u001b[0m\u001b[0;34m(\u001b[0m\u001b[0morder\u001b[0m\u001b[0;34m=\u001b[0m\u001b[0;34m'C'\u001b[0m\u001b[0;34m)\u001b[0m\u001b[0;34m\u001b[0m\u001b[0;34m\u001b[0m\u001b[0m\n\u001b[1;32m     17\u001b[0m             \u001b[0;31m#embedding_blob = np.array(json.loads(row[1])).tobytes(\u001b[0m\u001b[0;34m\u001b[0m\u001b[0;34m\u001b[0m\u001b[0;34m\u001b[0m\u001b[0m\n",
      "\u001b[0;32m~/.conda/envs/embedding-base/lib/python3.7/json/__init__.py\u001b[0m in \u001b[0;36mload\u001b[0;34m(fp, cls, object_hook, parse_float, parse_int, parse_constant, object_pairs_hook, **kw)\u001b[0m\n\u001b[1;32m    291\u001b[0m     \u001b[0mkwarg\u001b[0m\u001b[0;34m;\u001b[0m \u001b[0motherwise\u001b[0m\u001b[0;31m \u001b[0m\u001b[0;31m`\u001b[0m\u001b[0;31m`\u001b[0m\u001b[0mJSONDecoder\u001b[0m\u001b[0;31m`\u001b[0m\u001b[0;31m`\u001b[0m \u001b[0;32mis\u001b[0m \u001b[0mused\u001b[0m\u001b[0;34m.\u001b[0m\u001b[0;34m\u001b[0m\u001b[0;34m\u001b[0m\u001b[0m\n\u001b[1;32m    292\u001b[0m     \"\"\"\n\u001b[0;32m--> 293\u001b[0;31m     return loads(fp.read(),\n\u001b[0m\u001b[1;32m    294\u001b[0m         \u001b[0mcls\u001b[0m\u001b[0;34m=\u001b[0m\u001b[0mcls\u001b[0m\u001b[0;34m,\u001b[0m \u001b[0mobject_hook\u001b[0m\u001b[0;34m=\u001b[0m\u001b[0mobject_hook\u001b[0m\u001b[0;34m,\u001b[0m\u001b[0;34m\u001b[0m\u001b[0;34m\u001b[0m\u001b[0m\n\u001b[1;32m    295\u001b[0m         \u001b[0mparse_float\u001b[0m\u001b[0;34m=\u001b[0m\u001b[0mparse_float\u001b[0m\u001b[0;34m,\u001b[0m \u001b[0mparse_int\u001b[0m\u001b[0;34m=\u001b[0m\u001b[0mparse_int\u001b[0m\u001b[0;34m,\u001b[0m\u001b[0;34m\u001b[0m\u001b[0;34m\u001b[0m\u001b[0m\n",
      "\u001b[0;31mAttributeError\u001b[0m: 'str' object has no attribute 'read'"
     ]
    }
   ],
   "source": [
    "start_time = time.time()\n",
    "\n",
    "for chunk_filename in os.listdir(path2embeddings):\n",
    "    data = []\n",
    "    print('processing {}...'.format(chunk_filename))\n",
    "    \n",
    "    with open(path2embeddings + chunk_filename) as f:\n",
    "        csvreader = csv.reader(f, delimiter=' ')\n",
    "        # note: there is no header in these chunk files\n",
    "\n",
    "        for idx, row in enumerate(csvreader):\n",
    "            pmid = int(row[0])\n",
    "            \n",
    "            # note changing datatype Oct 2 2019\n",
    "            embedding16 = np.array(json.loads(row[1])).astype('float16')\n",
    "            embedding_blob = embedding16.tobytes(order='C')\n",
    "            #embedding_blob = np.array(json.loads(row[1])).tobytes(\n",
    "                                                        # order='C')\n",
    "            data.append((pmid, embedding_blob))\n",
    "            \n",
    "            if len(data) > write_size:  # write to db intermittently\n",
    "                write_data_to_db(data, table_name)\n",
    "                data = []           \n",
    "                # reset data\n",
    "                \n",
    "    write_data_to_db(data, table_name)  # empty the buffer at the end\n",
    "\n",
    "end_time = time.time()\n",
    "print('elapsed: {}'.format(end_time - start_time))\n"
   ]
  },
  {
   "cell_type": "code",
   "execution_count": null,
   "metadata": {},
   "outputs": [],
   "source": []
  },
  {
   "cell_type": "code",
   "execution_count": null,
   "metadata": {},
   "outputs": [],
   "source": []
  }
 ],
 "metadata": {
  "kernelspec": {
   "display_name": "Python 3",
   "language": "python",
   "name": "python3"
  },
  "language_info": {
   "codemirror_mode": {
    "name": "ipython",
    "version": 3
   },
   "file_extension": ".py",
   "mimetype": "text/x-python",
   "name": "python",
   "nbconvert_exporter": "python",
   "pygments_lexer": "ipython3",
   "version": "3.7.3"
  }
 },
 "nbformat": 4,
 "nbformat_minor": 2
}

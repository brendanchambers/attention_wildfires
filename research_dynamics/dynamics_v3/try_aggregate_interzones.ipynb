{
 "cells": [
  {
   "cell_type": "code",
   "execution_count": 2,
   "metadata": {},
   "outputs": [],
   "source": [
    "import pymysql\n",
    "import pickle\n",
    "import json\n",
    "\n",
    "import math\n",
    "import numpy as np\n",
    "from sklearn.decomposition import PCA\n",
    "\n",
    "import matplotlib.pyplot as plt\n",
    "import seaborn as sns\n",
    "plt.rcParams['svg.fonttype'] = 'none'\n",
    "plt.rcParams['pdf.fonttype'] = 42\n",
    "plt.rcParams['ps.fonttype'] = 42\n",
    "\n",
    "import os\n",
    "import time\n",
    "import hdbscan\n"
   ]
  },
  {
   "cell_type": "code",
   "execution_count": 4,
   "metadata": {},
   "outputs": [],
   "source": [
    "path2dir = 'track_communities_data_processing/frac02/'\n",
    "name_prefix = 'year_clusters_fract02_sample'\n"
   ]
  },
  {
   "cell_type": "code",
   "execution_count": 5,
   "metadata": {},
   "outputs": [],
   "source": [
    "# organize samples:"
   ]
  },
  {
   "cell_type": "code",
   "execution_count": 8,
   "metadata": {},
   "outputs": [
    {
     "name": "stdout",
     "output_type": "stream",
     "text": [
      "['year_clusters_fract02_sample0_samples.json'\n",
      " 'year_clusters_fract02_sample1_samples.json'\n",
      " 'year_clusters_fract02_sample2_samples.json'\n",
      " 'year_clusters_fract02_sample3_samples.json'\n",
      " 'year_clusters_fract02_sample4_samples.json']\n"
     ]
    }
   ],
   "source": [
    "files_list = [f for f in os.listdir(path2dir) if name_prefix in f]\n",
    "files_list = np.sort(files_list)  # order by sample #\n",
    "\n",
    "print(files_list)"
   ]
  },
  {
   "cell_type": "code",
   "execution_count": null,
   "metadata": {},
   "outputs": [],
   "source": [
    "# plot averaged -1 interzones - is there stability?"
   ]
  },
  {
   "cell_type": "code",
   "execution_count": 15,
   "metadata": {},
   "outputs": [
    {
     "name": "stdout",
     "output_type": "stream",
     "text": [
      "processing year_clusters_fract02_sample0_samples.json\n",
      "sample fraction: 0.2\n",
      "dict_keys(['sample_pmids', 'embedding', 'labels'])\n",
      "dict_keys(['sample_pmids', 'embedding', 'labels'])\n",
      "dict_keys(['sample_pmids', 'embedding', 'labels'])\n",
      "dict_keys(['sample_pmids', 'embedding', 'labels'])\n",
      "dict_keys(['sample_pmids', 'embedding', 'labels'])\n",
      "dict_keys(['sample_pmids', 'embedding', 'labels'])\n",
      "dict_keys(['sample_pmids', 'embedding', 'labels'])\n",
      "dict_keys(['sample_pmids', 'embedding', 'labels'])\n",
      "dict_keys(['sample_pmids', 'embedding', 'labels'])\n",
      "dict_keys(['sample_pmids', 'embedding', 'labels'])\n",
      "dict_keys(['sample_pmids', 'embedding', 'labels'])\n",
      "dict_keys(['sample_pmids', 'embedding', 'labels'])\n",
      "dict_keys(['sample_pmids', 'embedding', 'labels'])\n",
      "dict_keys(['sample_pmids', 'embedding', 'labels'])\n",
      "dict_keys(['sample_pmids', 'embedding', 'labels'])\n",
      "dict_keys(['sample_pmids', 'embedding', 'labels'])\n",
      "dict_keys(['sample_pmids', 'embedding', 'labels'])\n",
      "dict_keys(['sample_pmids', 'embedding', 'labels'])\n",
      "dict_keys(['sample_pmids', 'embedding', 'labels'])\n",
      "dict_keys(['sample_pmids', 'embedding', 'labels'])\n",
      "dict_keys(['sample_pmids', 'embedding', 'labels'])\n",
      "processing year_clusters_fract02_sample1_samples.json\n",
      "sample fraction: 0.2\n",
      "dict_keys(['sample_pmids', 'embedding', 'labels'])\n",
      "dict_keys(['sample_pmids', 'embedding', 'labels'])\n",
      "dict_keys(['sample_pmids', 'embedding', 'labels'])\n",
      "dict_keys(['sample_pmids', 'embedding', 'labels'])\n",
      "dict_keys(['sample_pmids', 'embedding', 'labels'])\n",
      "dict_keys(['sample_pmids', 'embedding', 'labels'])\n",
      "dict_keys(['sample_pmids', 'embedding', 'labels'])\n",
      "dict_keys(['sample_pmids', 'embedding', 'labels'])\n",
      "dict_keys(['sample_pmids', 'embedding', 'labels'])\n",
      "dict_keys(['sample_pmids', 'embedding', 'labels'])\n",
      "dict_keys(['sample_pmids', 'embedding', 'labels'])\n",
      "dict_keys(['sample_pmids', 'embedding', 'labels'])\n",
      "dict_keys(['sample_pmids', 'embedding', 'labels'])\n",
      "dict_keys(['sample_pmids', 'embedding', 'labels'])\n",
      "dict_keys(['sample_pmids', 'embedding', 'labels'])\n",
      "dict_keys(['sample_pmids', 'embedding', 'labels'])\n",
      "dict_keys(['sample_pmids', 'embedding', 'labels'])\n",
      "dict_keys(['sample_pmids', 'embedding', 'labels'])\n",
      "dict_keys(['sample_pmids', 'embedding', 'labels'])\n",
      "dict_keys(['sample_pmids', 'embedding', 'labels'])\n",
      "dict_keys(['sample_pmids', 'embedding', 'labels'])\n",
      "processing year_clusters_fract02_sample2_samples.json\n",
      "sample fraction: 0.2\n",
      "dict_keys(['sample_pmids', 'embedding', 'labels'])\n",
      "dict_keys(['sample_pmids', 'embedding', 'labels'])\n",
      "dict_keys(['sample_pmids', 'embedding', 'labels'])\n",
      "dict_keys(['sample_pmids', 'embedding', 'labels'])\n",
      "dict_keys(['sample_pmids', 'embedding', 'labels'])\n",
      "dict_keys(['sample_pmids', 'embedding', 'labels'])\n",
      "dict_keys(['sample_pmids', 'embedding', 'labels'])\n",
      "dict_keys(['sample_pmids', 'embedding', 'labels'])\n",
      "dict_keys(['sample_pmids', 'embedding', 'labels'])\n",
      "dict_keys(['sample_pmids', 'embedding', 'labels'])\n",
      "dict_keys(['sample_pmids', 'embedding', 'labels'])\n",
      "dict_keys(['sample_pmids', 'embedding', 'labels'])\n",
      "dict_keys(['sample_pmids', 'embedding', 'labels'])\n",
      "dict_keys(['sample_pmids', 'embedding', 'labels'])\n",
      "dict_keys(['sample_pmids', 'embedding', 'labels'])\n",
      "dict_keys(['sample_pmids', 'embedding', 'labels'])\n",
      "dict_keys(['sample_pmids', 'embedding', 'labels'])\n",
      "dict_keys(['sample_pmids', 'embedding', 'labels'])\n",
      "dict_keys(['sample_pmids', 'embedding', 'labels'])\n",
      "dict_keys(['sample_pmids', 'embedding', 'labels'])\n",
      "dict_keys(['sample_pmids', 'embedding', 'labels'])\n",
      "processing year_clusters_fract02_sample3_samples.json\n",
      "sample fraction: 0.2\n",
      "dict_keys(['sample_pmids', 'embedding', 'labels'])\n",
      "dict_keys(['sample_pmids', 'embedding', 'labels'])\n",
      "dict_keys(['sample_pmids', 'embedding', 'labels'])\n",
      "dict_keys(['sample_pmids', 'embedding', 'labels'])\n",
      "dict_keys(['sample_pmids', 'embedding', 'labels'])\n",
      "dict_keys(['sample_pmids', 'embedding', 'labels'])\n",
      "dict_keys(['sample_pmids', 'embedding', 'labels'])\n",
      "dict_keys(['sample_pmids', 'embedding', 'labels'])\n",
      "dict_keys(['sample_pmids', 'embedding', 'labels'])\n",
      "dict_keys(['sample_pmids', 'embedding', 'labels'])\n",
      "dict_keys(['sample_pmids', 'embedding', 'labels'])\n",
      "dict_keys(['sample_pmids', 'embedding', 'labels'])\n",
      "dict_keys(['sample_pmids', 'embedding', 'labels'])\n",
      "dict_keys(['sample_pmids', 'embedding', 'labels'])\n",
      "dict_keys(['sample_pmids', 'embedding', 'labels'])\n",
      "dict_keys(['sample_pmids', 'embedding', 'labels'])\n",
      "dict_keys(['sample_pmids', 'embedding', 'labels'])\n",
      "dict_keys(['sample_pmids', 'embedding', 'labels'])\n",
      "dict_keys(['sample_pmids', 'embedding', 'labels'])\n",
      "dict_keys(['sample_pmids', 'embedding', 'labels'])\n",
      "dict_keys(['sample_pmids', 'embedding', 'labels'])\n",
      "processing year_clusters_fract02_sample4_samples.json\n",
      "sample fraction: 0.2\n",
      "dict_keys(['sample_pmids', 'embedding', 'labels'])\n",
      "dict_keys(['sample_pmids', 'embedding', 'labels'])\n",
      "dict_keys(['sample_pmids', 'embedding', 'labels'])\n",
      "dict_keys(['sample_pmids', 'embedding', 'labels'])\n",
      "dict_keys(['sample_pmids', 'embedding', 'labels'])\n",
      "dict_keys(['sample_pmids', 'embedding', 'labels'])\n",
      "dict_keys(['sample_pmids', 'embedding', 'labels'])\n",
      "dict_keys(['sample_pmids', 'embedding', 'labels'])\n",
      "dict_keys(['sample_pmids', 'embedding', 'labels'])\n",
      "dict_keys(['sample_pmids', 'embedding', 'labels'])\n",
      "dict_keys(['sample_pmids', 'embedding', 'labels'])\n",
      "dict_keys(['sample_pmids', 'embedding', 'labels'])\n",
      "dict_keys(['sample_pmids', 'embedding', 'labels'])\n",
      "dict_keys(['sample_pmids', 'embedding', 'labels'])\n",
      "dict_keys(['sample_pmids', 'embedding', 'labels'])\n",
      "dict_keys(['sample_pmids', 'embedding', 'labels'])\n",
      "dict_keys(['sample_pmids', 'embedding', 'labels'])\n",
      "dict_keys(['sample_pmids', 'embedding', 'labels'])\n",
      "dict_keys(['sample_pmids', 'embedding', 'labels'])\n",
      "dict_keys(['sample_pmids', 'embedding', 'labels'])\n",
      "dict_keys(['sample_pmids', 'embedding', 'labels'])\n"
     ]
    }
   ],
   "source": [
    "for fname in files_list:\n",
    "    print(\"processing {}\".format(fname))\n",
    "    \n",
    "    path = path2dir + fname\n",
    "    with open(path, 'r') as f:\n",
    "        year_data = json.load(f)\n",
    "    print(\"sample fraction: {}\".format(year_data['sample_fraction']))\n",
    "    \n",
    "    years = []  # get the years included in this sample\n",
    "    for key in year_data.keys():\n",
    "        if key.isnumeric():\n",
    "            years.append(key)\n",
    "    years = np.sort(years)\n",
    "    \n",
    "    for i_year, year in enumerate(years):  # for each year\n",
    "        print(year_data[year].keys())  #sample_pmids,embedding,labels\n",
    "        \n",
    "    "
   ]
  },
  {
   "cell_type": "code",
   "execution_count": null,
   "metadata": {},
   "outputs": [],
   "source": []
  },
  {
   "cell_type": "code",
   "execution_count": null,
   "metadata": {},
   "outputs": [],
   "source": []
  }
 ],
 "metadata": {
  "kernelspec": {
   "display_name": "Python 3",
   "language": "python",
   "name": "python3"
  },
  "language_info": {
   "codemirror_mode": {
    "name": "ipython",
    "version": 3
   },
   "file_extension": ".py",
   "mimetype": "text/x-python",
   "name": "python",
   "nbconvert_exporter": "python",
   "pygments_lexer": "ipython3",
   "version": "3.7.6"
  }
 },
 "nbformat": 4,
 "nbformat_minor": 4
}

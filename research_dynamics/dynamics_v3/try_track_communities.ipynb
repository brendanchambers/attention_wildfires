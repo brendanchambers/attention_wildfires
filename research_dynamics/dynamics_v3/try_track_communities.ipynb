{
 "cells": [
  {
   "cell_type": "code",
   "execution_count": null,
   "metadata": {},
   "outputs": [],
   "source": []
  },
  {
   "cell_type": "code",
   "execution_count": 1,
   "metadata": {},
   "outputs": [],
   "source": [
    "import pymysql\n",
    "import pickle\n",
    "import json\n",
    "\n",
    "import math\n",
    "import numpy as np\n",
    "from sklearn.decomposition import PCA\n",
    "\n",
    "import matplotlib.pyplot as plt\n",
    "import seaborn as sns\n",
    "plt.rcParams['svg.fonttype'] = 'none'\n",
    "plt.rcParams['pdf.fonttype'] = 42\n",
    "plt.rcParams['ps.fonttype'] = 42\n",
    "\n",
    "import os\n",
    "import time\n",
    "import hdbscan\n"
   ]
  },
  {
   "cell_type": "code",
   "execution_count": null,
   "metadata": {},
   "outputs": [],
   "source": []
  },
  {
   "cell_type": "code",
   "execution_count": 2,
   "metadata": {},
   "outputs": [],
   "source": [
    "processed_data_dir = 'track_communities_data_processing/'\n",
    "figures_dir = 'track_communities_figures/'\n",
    "save_prefix = 'year_clusters_fract2_sample1'\n",
    "\n",
    "START_YEAR = 1998  # ~500k total abstracts in dataset\n",
    "END_YEAR = 2018    #   ~1m total abstracts in dataset\n",
    "N_years = END_YEAR - START_YEAR + 1\n",
    "\n",
    "sample_fraction = 0.2  # 0.2  # fraction of total pmids to sample\n",
    "\n",
    "# pmids for each year (for convenience)\n",
    "path2dir = '/home/brendan/FastData/pubmed2019/pubmed_data_processing/year_pmids/'  # knowledge-garden\n",
    "\n"
   ]
  },
  {
   "cell_type": "code",
   "execution_count": 3,
   "metadata": {},
   "outputs": [],
   "source": [
    "# set up mysql connection"
   ]
  },
  {
   "cell_type": "code",
   "execution_count": 4,
   "metadata": {},
   "outputs": [],
   "source": [
    "\n",
    "config_path = '/home/brendan/Projects/AttentionWildfires/attention_wildfires/mysql_config.json'\n",
    "db_name = 'test_pubmed'  # db name collisons? https://stackoverflow.com/questions/14011968/user-cant-access-a-database\n",
    "                        # todo should move this db_name into config file\n",
    "with open(config_path, 'r') as f:\n",
    "    config_data = json.load(f)\n",
    "    \n",
    "client_config = {'database': db_name,\n",
    "                'user': config_data['user'],\n",
    "                 'password': config_data['lock']}\n",
    "\n",
    "## init db connection\n",
    "db = pymysql.connect(**client_config)\n"
   ]
  },
  {
   "cell_type": "code",
   "execution_count": 5,
   "metadata": {},
   "outputs": [],
   "source": [
    "# load the pre-fit umap model\n",
    "#   todo do this in higher dimensionality"
   ]
  },
  {
   "cell_type": "code",
   "execution_count": 6,
   "metadata": {},
   "outputs": [
    {
     "name": "stdout",
     "output_type": "stream",
     "text": [
      "pop open pickle jar: umap model...\n"
     ]
    }
   ],
   "source": [
    "print('pop open pickle jar: umap model...')\n",
    "umap_path = \"/home/brendan/FastData/pubmed2019/pubmed_data_processing/dimensionality_reduction_models/umap2D/umap_model0.pkl\"\n",
    "with open(umap_path, 'rb') as file:\n",
    "    umap_model = pickle.load(file)"
   ]
  },
  {
   "cell_type": "code",
   "execution_count": 7,
   "metadata": {},
   "outputs": [],
   "source": [
    "# helper functions"
   ]
  },
  {
   "cell_type": "code",
   "execution_count": 8,
   "metadata": {},
   "outputs": [],
   "source": [
    "def load_PMIDs(year):\n",
    "    '''\n",
    "    sample pmids from this year\n",
    "        note: relies on parameters specified above\n",
    "    '''\n",
    "    filename = 'pubmed_state_{}'.format(year)\n",
    "    path2pmids = path2dir + filename\n",
    "    with open(path2pmids,'r') as f:\n",
    "        data = json.load(f)\n",
    "\n",
    "    year_pub_pmids = data['publications']\n",
    "    N_pubs = len(year_pub_pmids)\n",
    "    print(\"N pubs: {}\".format(N_pubs))\n",
    "    del data\n",
    "    \n",
    "    K_sample = int(N_pubs * sample_fraction)\n",
    "    print(\"K samples: {}\".format(K_sample))\n",
    "    sample_pmids = np.random.choice(year_pub_pmids, K_sample)\n",
    "    return sample_pmids\n"
   ]
  },
  {
   "cell_type": "code",
   "execution_count": 9,
   "metadata": {},
   "outputs": [],
   "source": [
    "def get_embedding_vectors(sample_pmids):\n",
    "    '''\n",
    "    get embedding coordinates from database based on PMID list\n",
    "    '''\n",
    "    print('fetching embedding vectors from database...')\n",
    "    start_time = time.time()\n",
    "        \n",
    "    str_fmt = ', '.join([str(pmid) for pmid in sample_pmids])\n",
    "    sql = '''SELECT E.pmid, E.embedding\n",
    "            FROM scibert_mean_embedding as E\n",
    "            WHERE E.pmid IN ({})'''.format(str_fmt)\n",
    "    cursor = db.cursor()\n",
    "    cursor.execute(sql)\n",
    "    \n",
    "    pub_embeddings = []\n",
    "    pub_pmids = []\n",
    "    for i,row in enumerate(cursor):\n",
    "        pub_pmids.append(row[0])\n",
    "        pub_embeddings.append(np.frombuffer(row[1],dtype='float16').tolist())\n",
    "    cursor.close()\n",
    "    \n",
    "    end_time = time.time()\n",
    "    elapsed = end_time - start_time\n",
    "    print(\"SQL query composed and executed in {} s\".format(elapsed))\n",
    "    \n",
    "    return pub_pmids, pub_embeddings\n",
    "\n",
    "def get_compressed_embedding_vectors(sample_pmids):\n",
    "    '''\n",
    "    calls get_embedding vectors\n",
    "    then runs dimensionality reduction\n",
    "    '''\n",
    "    \n",
    "    # return the pmids which have corresponding embeddings\n",
    "    pmids, embeddings = get_embedding_vectors(sample_pmids)    \n",
    "    print('compressing embedding vectors...')\n",
    "    \n",
    "    return pmids, umap_model.transform(embeddings)"
   ]
  },
  {
   "cell_type": "code",
   "execution_count": 10,
   "metadata": {},
   "outputs": [],
   "source": [
    "R_MAX = 10\n",
    "def serialize_point(x,y):\n",
    "    '''\n",
    "    take a point in R2 and assign a score,\n",
    "        resulting in an ordering of points on the plane\n",
    "    '''\n",
    "    theta = math.atan2(x,y)\n",
    "    theta = theta / math.pi # rescale onto (-1,1)\n",
    "    if theta < 0:  # restitch 0-angle\n",
    "        theta = theta + 2\n",
    "    theta = round(theta,1) # limit precision of theta and break ties with r\n",
    "    r = math.sqrt(x*x + y*y)\n",
    "    r = r / R_MAX  # rescale onto (0,1)\n",
    "    score = 10*theta + r  # use angle first, break ties with radius\n",
    "    return score\n",
    "\n",
    "def normalize_cluster_labels(xx, yy, old_labels):\n",
    "    '''\n",
    "        take a set of old labels and positions\n",
    "        return a set of labels assigned in a fixed order, \n",
    "            for easer comparison downstream\n",
    "    '''\n",
    "    \n",
    "    # number of clusters\n",
    "    N_clusters = int(old_labels.max()+1)\n",
    "    print('num clusters: {}'.format(N_clusters))\n",
    "    \n",
    "    # get summary coordinate for each cluster\n",
    "    cluster_median = np.zeros( (N_clusters, 2))  # x,y (would be better to use median though)\n",
    "    for i_cluster in range(N_clusters):\n",
    "        total_points = 0\n",
    "        vector_sum = np.zeros((1,2))\n",
    "        \n",
    "        convenience_xx, convenience_yy = [], []\n",
    "        for i_label, label in enumerate(old_labels):\n",
    "            # do nothing for labels of -1\n",
    "            if label==i_cluster:\n",
    "                convenience_xx.append(xx[i_label])\n",
    "                convenience_yy.append(yy[i_label])\n",
    "                \n",
    "        median_x = np.median(convenience_xx)\n",
    "        median_y = np.median(convenience_yy)\n",
    "        cluster_median[i_cluster,:] = (median_x, median_y) \n",
    "    \n",
    "    # use summary coordinate to order the clusters based on a serialization function\n",
    "    cluster_scores = []\n",
    "    for i_cluster in range(N_clusters):\n",
    "        score = serialize_point(cluster_median[i_cluster,0],\n",
    "                               cluster_median[i_cluster,1])\n",
    "        cluster_scores.append(score)\n",
    "        \n",
    "    # sort ascending\n",
    "    print(cluster_scores)\n",
    "    new_labels = np.argsort(np.argsort(cluster_scores))\n",
    "    print(new_labels)   \n",
    "    \n",
    "    # re-assign labels after normalizing integer names for consistency\n",
    "    num_samples = len(old_labels)\n",
    "    newlabels_ = np.zeros( (num_samples,) ).astype(int)\n",
    "    for i_label, old_label in enumerate(old_labels):\n",
    "        if old_label==-1:\n",
    "            newlabels_[i_label] = -1  # populate new labels\n",
    "        else:\n",
    "            newlabels_[i_label] = new_labels[int(old_label)]  # cast as integer (temp hack)\n",
    "    \n",
    "    return newlabels_\n",
    "        "
   ]
  },
  {
   "cell_type": "code",
   "execution_count": 11,
   "metadata": {},
   "outputs": [],
   "source": [
    "def plot_clustering(xx, yy, labels, title):\n",
    "    unique_labels = np.unique(labels)\n",
    "    cluster_cmap = plt.cm.viridis(np.linspace(0,1,len(unique_labels)+1))\n",
    "    \n",
    "    (f, axs) = plt.subplots(1,\n",
    "                            3,\n",
    "                           sharex='all',\n",
    "                           sharey='all',\n",
    "                           figsize=(10,4))\n",
    "    \n",
    "    #kwargs = {'levels': np.arange(0, 0.05, 0.001)}  # specify bins for colormaps\n",
    "        \n",
    "    # plot full distribution on 1st subplot\n",
    "    sns.kdeplot(xx,\n",
    "                yy,\n",
    "                n_levels=100,\n",
    "                shade=True,\n",
    "                shade_lowest=True,\n",
    "                ax=axs[0],\n",
    "                cbar=True,\n",
    "                cbar_kws={'orientation':'horizontal'})\n",
    "    axs[0].set_title('{}: sample'.format(title))\n",
    "    \n",
    "    \n",
    "    # plot clusters on 2nd subplot    \n",
    "    #   i.e. clusters 0 through N_clusters\n",
    "    for i_label, label in enumerate(unique_labels):\n",
    "        \n",
    "        if label >= 0:\n",
    "                \n",
    "            xx_ = [x for (i,x) in enumerate(xx) if labels[i]==label]\n",
    "            yy_ = [y for (i,y) in enumerate(yy) if labels[i]==label]\n",
    "\n",
    "            if label==0:  # show a colorbar for the first cluster\n",
    "                sns.kdeplot(xx_,\n",
    "                            yy_,\n",
    "                            n_levels=10,\n",
    "                            shade=True,\n",
    "                            shade_lowest=False,\n",
    "                            color=cluster_cmap[i_label],\n",
    "                            ax=axs[1],\n",
    "                            cbar=True,\n",
    "                            cbar_kws={'orientation':'horizontal'})\n",
    "            else:  # don't show colorbars for the other clusters\n",
    "                sns.kdeplot(xx_,\n",
    "                            yy_,\n",
    "                            n_levels=10,\n",
    "                            shade=True,\n",
    "                            shade_lowest=False,\n",
    "                            color=cluster_cmap[i_label],\n",
    "                            ax=axs[1])\n",
    "    axs[1].set_title('{}: communities'.format(title))\n",
    "        \n",
    "    # plot distribution of non-clustered samples on 3rd subplot\n",
    "    #    i.e. the -1 labeled clusters\n",
    "    xx_ = [x for (i,x) in enumerate(xx) if labels[i]==-1]\n",
    "    yy_ = [y for (i,y) in enumerate(yy) if labels[i]==-1]\n",
    "    sns.kdeplot(xx_,\n",
    "                yy_,\n",
    "                n_levels=100,\n",
    "                shade=True,\n",
    "                shade_lowest=True,\n",
    "                color=[0.1, 0.1, 0.1, 1.0],\n",
    "                ax=axs[2],\n",
    "                cbar=True,\n",
    "                cbar_kws={'orientation':'horizontal'})\n",
    "    axs[2].set_title('{}: remainder'.format(title))\n",
    "    \n",
    "    plt.savefig('{}.png'.format(title))\n",
    "    plt.savefig('{}.pdf'.format(title))\n",
    "    plt.savefig('{}.eps'.format(title))\n",
    "    \n",
    "    \n",
    "        \n",
    "        "
   ]
  },
  {
   "cell_type": "code",
   "execution_count": 12,
   "metadata": {},
   "outputs": [],
   "source": [
    "# load pmids, sample, cluster"
   ]
  },
  {
   "cell_type": "code",
   "execution_count": 13,
   "metadata": {},
   "outputs": [
    {
     "name": "stdout",
     "output_type": "stream",
     "text": [
      "year 1998\n",
      "N pubs: 474479\n",
      "K samples: 94895\n",
      "fetching embedding vectors from database...\n"
     ]
    },
    {
     "name": "stderr",
     "output_type": "stream",
     "text": [
      "/home/brendan/anaconda3/envs/embedding-feb2020/lib/python3.7/site-packages/pymysql/cursors.py:170: Warning: (3170, \"Memory capacity of 8388608 bytes for 'range_optimizer_max_mem_size' exceeded. Range optimization was not done for this query.\")\n",
      "  result = self._query(query)\n"
     ]
    },
    {
     "name": "stdout",
     "output_type": "stream",
     "text": [
      "SQL query composed and executed in 50.77551794052124 s\n",
      "compressing embedding vectors...\n"
     ]
    },
    {
     "name": "stderr",
     "output_type": "stream",
     "text": [
      "/home/brendan/anaconda3/envs/embedding-feb2020/lib/python3.7/site-packages/numba/typed_passes.py:293: NumbaPerformanceWarning: \n",
      "The keyword argument 'parallel=True' was specified but no transformation for parallel execution was possible.\n",
      "\n",
      "To find out why, try turning on parallel diagnostics, see http://numba.pydata.org/numba-doc/latest/user/parallel.html#diagnostics for help.\n",
      "\n",
      "File \"../../../../../../brendanchambers/.conda/envs/embedding-base/lib/python3.7/site-packages/umap/nndescent.py\", line 123:\n",
      "<source missing, REPL/exec in use?>\n",
      "\n",
      "  state.func_ir.loc))\n",
      "/home/brendan/anaconda3/envs/embedding-feb2020/lib/python3.7/site-packages/numba/typed_passes.py:293: NumbaPerformanceWarning: \n",
      "The keyword argument 'parallel=True' was specified but no transformation for parallel execution was possible.\n",
      "\n",
      "To find out why, try turning on parallel diagnostics, see http://numba.pydata.org/numba-doc/latest/user/parallel.html#diagnostics for help.\n",
      "\n",
      "File \"../../../../../../brendanchambers/.conda/envs/embedding-base/lib/python3.7/site-packages/umap/nndescent.py\", line 134:\n",
      "<source missing, REPL/exec in use?>\n",
      "\n",
      "  state.func_ir.loc))\n"
     ]
    },
    {
     "name": "stdout",
     "output_type": "stream",
     "text": [
      "N abstracts fetched: 63135\n",
      "year 1999\n",
      "N pubs: 493485\n",
      "K samples: 98697\n",
      "fetching embedding vectors from database...\n"
     ]
    },
    {
     "name": "stderr",
     "output_type": "stream",
     "text": [
      "/home/brendan/anaconda3/envs/embedding-feb2020/lib/python3.7/site-packages/pymysql/cursors.py:170: Warning: (3170, \"Memory capacity of 8388608 bytes for 'range_optimizer_max_mem_size' exceeded. Range optimization was not done for this query.\")\n",
      "  result = self._query(query)\n"
     ]
    },
    {
     "name": "stdout",
     "output_type": "stream",
     "text": [
      "SQL query composed and executed in 48.97369837760925 s\n",
      "compressing embedding vectors...\n",
      "N abstracts fetched: 64424\n",
      "year 2000\n",
      "N pubs: 530246\n",
      "K samples: 106049\n",
      "fetching embedding vectors from database...\n"
     ]
    },
    {
     "name": "stderr",
     "output_type": "stream",
     "text": [
      "/home/brendan/anaconda3/envs/embedding-feb2020/lib/python3.7/site-packages/pymysql/cursors.py:170: Warning: (3170, \"Memory capacity of 8388608 bytes for 'range_optimizer_max_mem_size' exceeded. Range optimization was not done for this query.\")\n",
      "  result = self._query(query)\n"
     ]
    },
    {
     "name": "stdout",
     "output_type": "stream",
     "text": [
      "SQL query composed and executed in 48.99577808380127 s\n",
      "compressing embedding vectors...\n",
      "N abstracts fetched: 71561\n",
      "year 2001\n",
      "N pubs: 543554\n",
      "K samples: 108710\n",
      "fetching embedding vectors from database...\n"
     ]
    },
    {
     "name": "stderr",
     "output_type": "stream",
     "text": [
      "/home/brendan/anaconda3/envs/embedding-feb2020/lib/python3.7/site-packages/pymysql/cursors.py:170: Warning: (3170, \"Memory capacity of 8388608 bytes for 'range_optimizer_max_mem_size' exceeded. Range optimization was not done for this query.\")\n",
      "  result = self._query(query)\n"
     ]
    },
    {
     "name": "stdout",
     "output_type": "stream",
     "text": [
      "SQL query composed and executed in 49.539939403533936 s\n",
      "compressing embedding vectors...\n",
      "N abstracts fetched: 75838\n",
      "year 2002\n",
      "N pubs: 558647\n",
      "K samples: 111729\n",
      "fetching embedding vectors from database...\n"
     ]
    },
    {
     "name": "stderr",
     "output_type": "stream",
     "text": [
      "/home/brendan/anaconda3/envs/embedding-feb2020/lib/python3.7/site-packages/pymysql/cursors.py:170: Warning: (3170, \"Memory capacity of 8388608 bytes for 'range_optimizer_max_mem_size' exceeded. Range optimization was not done for this query.\")\n",
      "  result = self._query(query)\n"
     ]
    },
    {
     "name": "stdout",
     "output_type": "stream",
     "text": [
      "SQL query composed and executed in 47.79432559013367 s\n",
      "compressing embedding vectors...\n",
      "N abstracts fetched: 78488\n",
      "year 2003\n",
      "N pubs: 583939\n",
      "K samples: 116787\n",
      "fetching embedding vectors from database...\n"
     ]
    },
    {
     "name": "stderr",
     "output_type": "stream",
     "text": [
      "/home/brendan/anaconda3/envs/embedding-feb2020/lib/python3.7/site-packages/pymysql/cursors.py:170: Warning: (3170, \"Memory capacity of 8388608 bytes for 'range_optimizer_max_mem_size' exceeded. Range optimization was not done for this query.\")\n",
      "  result = self._query(query)\n"
     ]
    },
    {
     "name": "stdout",
     "output_type": "stream",
     "text": [
      "SQL query composed and executed in 51.981850147247314 s\n",
      "compressing embedding vectors...\n",
      "N abstracts fetched: 81910\n",
      "year 2004\n",
      "N pubs: 619853\n",
      "K samples: 123970\n",
      "fetching embedding vectors from database...\n"
     ]
    },
    {
     "name": "stderr",
     "output_type": "stream",
     "text": [
      "/home/brendan/anaconda3/envs/embedding-feb2020/lib/python3.7/site-packages/pymysql/cursors.py:170: Warning: (3170, \"Memory capacity of 8388608 bytes for 'range_optimizer_max_mem_size' exceeded. Range optimization was not done for this query.\")\n",
      "  result = self._query(query)\n"
     ]
    },
    {
     "name": "stdout",
     "output_type": "stream",
     "text": [
      "SQL query composed and executed in 58.036935329437256 s\n",
      "compressing embedding vectors...\n",
      "N abstracts fetched: 88626\n",
      "year 2005\n",
      "N pubs: 656109\n",
      "K samples: 131221\n",
      "fetching embedding vectors from database...\n"
     ]
    },
    {
     "name": "stderr",
     "output_type": "stream",
     "text": [
      "/home/brendan/anaconda3/envs/embedding-feb2020/lib/python3.7/site-packages/pymysql/cursors.py:170: Warning: (3170, \"Memory capacity of 8388608 bytes for 'range_optimizer_max_mem_size' exceeded. Range optimization was not done for this query.\")\n",
      "  result = self._query(query)\n"
     ]
    },
    {
     "name": "stdout",
     "output_type": "stream",
     "text": [
      "SQL query composed and executed in 54.89845681190491 s\n",
      "compressing embedding vectors...\n",
      "N abstracts fetched: 94950\n",
      "year 2006\n",
      "N pubs: 684653\n",
      "K samples: 136930\n",
      "fetching embedding vectors from database...\n"
     ]
    },
    {
     "name": "stderr",
     "output_type": "stream",
     "text": [
      "/home/brendan/anaconda3/envs/embedding-feb2020/lib/python3.7/site-packages/pymysql/cursors.py:170: Warning: (3170, \"Memory capacity of 8388608 bytes for 'range_optimizer_max_mem_size' exceeded. Range optimization was not done for this query.\")\n",
      "  result = self._query(query)\n"
     ]
    },
    {
     "name": "stdout",
     "output_type": "stream",
     "text": [
      "SQL query composed and executed in 59.72939085960388 s\n",
      "compressing embedding vectors...\n",
      "N abstracts fetched: 96980\n",
      "year 2007\n",
      "N pubs: 710132\n",
      "K samples: 142026\n",
      "fetching embedding vectors from database...\n"
     ]
    },
    {
     "name": "stderr",
     "output_type": "stream",
     "text": [
      "/home/brendan/anaconda3/envs/embedding-feb2020/lib/python3.7/site-packages/pymysql/cursors.py:170: Warning: (3170, \"Memory capacity of 8388608 bytes for 'range_optimizer_max_mem_size' exceeded. Range optimization was not done for this query.\")\n",
      "  result = self._query(query)\n"
     ]
    },
    {
     "name": "stdout",
     "output_type": "stream",
     "text": [
      "SQL query composed and executed in 53.0354163646698 s\n",
      "compressing embedding vectors...\n",
      "N abstracts fetched: 102377\n",
      "year 2008\n",
      "N pubs: 750874\n",
      "K samples: 150174\n",
      "fetching embedding vectors from database...\n"
     ]
    },
    {
     "name": "stderr",
     "output_type": "stream",
     "text": [
      "/home/brendan/anaconda3/envs/embedding-feb2020/lib/python3.7/site-packages/pymysql/cursors.py:170: Warning: (3170, \"Memory capacity of 8388608 bytes for 'range_optimizer_max_mem_size' exceeded. Range optimization was not done for this query.\")\n",
      "  result = self._query(query)\n"
     ]
    },
    {
     "name": "stdout",
     "output_type": "stream",
     "text": [
      "SQL query composed and executed in 61.55712294578552 s\n",
      "compressing embedding vectors...\n",
      "N abstracts fetched: 112057\n",
      "year 2009\n",
      "N pubs: 784150\n",
      "K samples: 156830\n",
      "fetching embedding vectors from database...\n"
     ]
    },
    {
     "name": "stderr",
     "output_type": "stream",
     "text": [
      "/home/brendan/anaconda3/envs/embedding-feb2020/lib/python3.7/site-packages/pymysql/cursors.py:170: Warning: (3170, \"Memory capacity of 8388608 bytes for 'range_optimizer_max_mem_size' exceeded. Range optimization was not done for this query.\")\n",
      "  result = self._query(query)\n"
     ]
    },
    {
     "name": "stdout",
     "output_type": "stream",
     "text": [
      "SQL query composed and executed in 93.40994262695312 s\n",
      "compressing embedding vectors...\n",
      "N abstracts fetched: 116634\n",
      "year 2010\n",
      "N pubs: 822964\n",
      "K samples: 164592\n",
      "fetching embedding vectors from database...\n"
     ]
    },
    {
     "name": "stderr",
     "output_type": "stream",
     "text": [
      "/home/brendan/anaconda3/envs/embedding-feb2020/lib/python3.7/site-packages/pymysql/cursors.py:170: Warning: (3170, \"Memory capacity of 8388608 bytes for 'range_optimizer_max_mem_size' exceeded. Range optimization was not done for this query.\")\n",
      "  result = self._query(query)\n"
     ]
    },
    {
     "name": "stdout",
     "output_type": "stream",
     "text": [
      "SQL query composed and executed in 109.50313663482666 s\n",
      "compressing embedding vectors...\n",
      "N abstracts fetched: 120582\n",
      "year 2011\n",
      "N pubs: 875685\n",
      "K samples: 175137\n",
      "fetching embedding vectors from database...\n"
     ]
    },
    {
     "name": "stderr",
     "output_type": "stream",
     "text": [
      "/home/brendan/anaconda3/envs/embedding-feb2020/lib/python3.7/site-packages/pymysql/cursors.py:170: Warning: (3170, \"Memory capacity of 8388608 bytes for 'range_optimizer_max_mem_size' exceeded. Range optimization was not done for this query.\")\n",
      "  result = self._query(query)\n"
     ]
    },
    {
     "name": "stdout",
     "output_type": "stream",
     "text": [
      "SQL query composed and executed in 83.12316060066223 s\n",
      "compressing embedding vectors...\n",
      "N abstracts fetched: 125977\n",
      "year 2012\n",
      "N pubs: 939925\n",
      "K samples: 187985\n",
      "fetching embedding vectors from database...\n"
     ]
    },
    {
     "name": "stderr",
     "output_type": "stream",
     "text": [
      "/home/brendan/anaconda3/envs/embedding-feb2020/lib/python3.7/site-packages/pymysql/cursors.py:170: Warning: (3170, \"Memory capacity of 8388608 bytes for 'range_optimizer_max_mem_size' exceeded. Range optimization was not done for this query.\")\n",
      "  result = self._query(query)\n"
     ]
    },
    {
     "name": "stdout",
     "output_type": "stream",
     "text": [
      "SQL query composed and executed in 55.15540385246277 s\n",
      "compressing embedding vectors...\n",
      "N abstracts fetched: 141603\n",
      "year 2013\n",
      "N pubs: 994460\n",
      "K samples: 198892\n",
      "fetching embedding vectors from database...\n"
     ]
    },
    {
     "name": "stderr",
     "output_type": "stream",
     "text": [
      "/home/brendan/anaconda3/envs/embedding-feb2020/lib/python3.7/site-packages/pymysql/cursors.py:170: Warning: (3170, \"Memory capacity of 8388608 bytes for 'range_optimizer_max_mem_size' exceeded. Range optimization was not done for this query.\")\n",
      "  result = self._query(query)\n"
     ]
    },
    {
     "name": "stdout",
     "output_type": "stream",
     "text": [
      "SQL query composed and executed in 53.73466491699219 s\n",
      "compressing embedding vectors...\n",
      "N abstracts fetched: 147829\n",
      "year 2014\n",
      "N pubs: 1041775\n",
      "K samples: 208355\n",
      "fetching embedding vectors from database...\n"
     ]
    },
    {
     "name": "stderr",
     "output_type": "stream",
     "text": [
      "/home/brendan/anaconda3/envs/embedding-feb2020/lib/python3.7/site-packages/pymysql/cursors.py:170: Warning: (3170, \"Memory capacity of 8388608 bytes for 'range_optimizer_max_mem_size' exceeded. Range optimization was not done for this query.\")\n",
      "  result = self._query(query)\n"
     ]
    },
    {
     "name": "stdout",
     "output_type": "stream",
     "text": [
      "SQL query composed and executed in 89.16910409927368 s\n",
      "compressing embedding vectors...\n",
      "N abstracts fetched: 155492\n",
      "year 2015\n",
      "N pubs: 1089303\n",
      "K samples: 217860\n",
      "fetching embedding vectors from database...\n"
     ]
    },
    {
     "name": "stderr",
     "output_type": "stream",
     "text": [
      "/home/brendan/anaconda3/envs/embedding-feb2020/lib/python3.7/site-packages/pymysql/cursors.py:170: Warning: (3170, \"Memory capacity of 8388608 bytes for 'range_optimizer_max_mem_size' exceeded. Range optimization was not done for this query.\")\n",
      "  result = self._query(query)\n"
     ]
    },
    {
     "name": "stdout",
     "output_type": "stream",
     "text": [
      "SQL query composed and executed in 52.713213205337524 s\n",
      "compressing embedding vectors...\n",
      "N abstracts fetched: 162623\n",
      "year 2016\n",
      "N pubs: 1110653\n",
      "K samples: 222130\n",
      "fetching embedding vectors from database...\n"
     ]
    },
    {
     "name": "stderr",
     "output_type": "stream",
     "text": [
      "/home/brendan/anaconda3/envs/embedding-feb2020/lib/python3.7/site-packages/pymysql/cursors.py:170: Warning: (3170, \"Memory capacity of 8388608 bytes for 'range_optimizer_max_mem_size' exceeded. Range optimization was not done for this query.\")\n",
      "  result = self._query(query)\n"
     ]
    },
    {
     "name": "stdout",
     "output_type": "stream",
     "text": [
      "SQL query composed and executed in 58.220489263534546 s\n",
      "compressing embedding vectors...\n",
      "N abstracts fetched: 168420\n",
      "year 2017\n",
      "N pubs: 1120990\n",
      "K samples: 224198\n",
      "fetching embedding vectors from database...\n"
     ]
    },
    {
     "name": "stderr",
     "output_type": "stream",
     "text": [
      "/home/brendan/anaconda3/envs/embedding-feb2020/lib/python3.7/site-packages/pymysql/cursors.py:170: Warning: (3170, \"Memory capacity of 8388608 bytes for 'range_optimizer_max_mem_size' exceeded. Range optimization was not done for this query.\")\n",
      "  result = self._query(query)\n"
     ]
    },
    {
     "name": "stdout",
     "output_type": "stream",
     "text": [
      "SQL query composed and executed in 54.531826972961426 s\n",
      "compressing embedding vectors...\n",
      "N abstracts fetched: 166673\n",
      "year 2018\n",
      "N pubs: 1205220\n",
      "K samples: 241044\n",
      "fetching embedding vectors from database...\n"
     ]
    },
    {
     "name": "stderr",
     "output_type": "stream",
     "text": [
      "/home/brendan/anaconda3/envs/embedding-feb2020/lib/python3.7/site-packages/pymysql/cursors.py:170: Warning: (3170, \"Memory capacity of 8388608 bytes for 'range_optimizer_max_mem_size' exceeded. Range optimization was not done for this query.\")\n",
      "  result = self._query(query)\n"
     ]
    },
    {
     "name": "stdout",
     "output_type": "stream",
     "text": [
      "SQL query composed and executed in 58.36372113227844 s\n",
      "compressing embedding vectors...\n",
      "N abstracts fetched: 168321\n"
     ]
    }
   ],
   "source": [
    "year_data = {}\n",
    "year_data['dimensionality_reduction'] = umap_path  # version of dimensionality reduction used\n",
    "year_data['sample_fraction'] = 0.2\n",
    "'''\n",
    "year_data\n",
    "    dim_reduction - e.g. umap version\n",
    "    year\n",
    "        sample_pmids\n",
    "\n",
    "'''\n",
    "\n",
    "for i_year, year in enumerate(range(START_YEAR, END_YEAR+1)):\n",
    "    print(\"year {}\".format(year))\n",
    "    year_data[year] = {} # init data structure\n",
    "    \n",
    "    # get sample PMIDs published this year\n",
    "    sample_pmids = load_PMIDs(year)  # some of these don't have abstracts\n",
    "    (pmids, embeddings) = get_compressed_embedding_vectors(sample_pmids)\n",
    "    print(\"N abstracts fetched: {}\".format(len(pmids)))\n",
    "    year_data[year]['sample_pmids'] = np.copy(pmids).tolist()\n",
    "    year_data[year]['embedding'] = np.copy(embeddings).tolist()\n"
   ]
  },
  {
   "cell_type": "code",
   "execution_count": 14,
   "metadata": {},
   "outputs": [],
   "source": [
    "target_path = processed_data_dir + save_prefix + '_samples.json'\n",
    "\n",
    "with open(target_path,'w') as f:\n",
    "    json.dump(year_data, f)  # already turned numpy to lists\n",
    "    \n",
    "# send back to numpy array\n",
    "for i_year, year in enumerate(range(START_YEAR, END_YEAR+1)):\n",
    "    year_data[year]['embedding'] = np.asarray(year_data[year]['embedding'])"
   ]
  },
  {
   "cell_type": "code",
   "execution_count": 15,
   "metadata": {},
   "outputs": [
    {
     "name": "stdout",
     "output_type": "stream",
     "text": [
      "year 1998\n",
      "scale: 315  | min_samples: 63 \n",
      "num clusters: 23\n",
      "year 1999\n",
      "scale: 322  | min_samples: 64 \n",
      "num clusters: 26\n",
      "year 2000\n",
      "scale: 357  | min_samples: 71 \n",
      "num clusters: 25\n",
      "year 2001\n",
      "scale: 379  | min_samples: 75 \n",
      "num clusters: 27\n",
      "year 2002\n",
      "scale: 392  | min_samples: 78 \n",
      "num clusters: 30\n",
      "year 2003\n",
      "scale: 409  | min_samples: 81 \n",
      "num clusters: 32\n",
      "year 2004\n",
      "scale: 443  | min_samples: 88 \n",
      "num clusters: 31\n",
      "year 2005\n",
      "scale: 474  | min_samples: 94 \n",
      "num clusters: 35\n",
      "year 2006\n",
      "scale: 484  | min_samples: 96 \n",
      "num clusters: 33\n",
      "year 2007\n",
      "scale: 511  | min_samples: 102 \n",
      "num clusters: 32\n",
      "year 2008\n",
      "scale: 560  | min_samples: 112 \n",
      "num clusters: 33\n",
      "year 2009\n",
      "scale: 583  | min_samples: 116 \n",
      "num clusters: 32\n",
      "year 2010\n",
      "scale: 602  | min_samples: 120 \n",
      "num clusters: 33\n",
      "year 2011\n",
      "scale: 629  | min_samples: 125 \n",
      "num clusters: 32\n",
      "year 2012\n",
      "scale: 708  | min_samples: 141 \n",
      "num clusters: 31\n",
      "year 2013\n",
      "scale: 739  | min_samples: 147 \n",
      "num clusters: 32\n",
      "year 2014\n",
      "scale: 777  | min_samples: 155 \n",
      "num clusters: 27\n",
      "year 2015\n",
      "scale: 813  | min_samples: 162 \n",
      "num clusters: 24\n",
      "year 2016\n",
      "scale: 842  | min_samples: 168 \n",
      "num clusters: 26\n",
      "year 2017\n",
      "scale: 833  | min_samples: 166 \n",
      "num clusters: 23\n",
      "year 2018\n",
      "scale: 841  | min_samples: 168 \n",
      "num clusters: 24\n"
     ]
    }
   ],
   "source": [
    "# cluster the compressed embeddings\n",
    "\n",
    "clusterers = {}\n",
    "for i_year, year in enumerate(range(START_YEAR, END_YEAR+1)):\n",
    "    print(\"year {}\".format(year))\n",
    "    \n",
    "    pmids = year_data[year]['sample_pmids']\n",
    "    clustering_scale = int(len(pmids) * 0.005)\n",
    "    min_samples = int(len(pmids) * 0.001)\n",
    "    min_samples_param = int(np.min([1000, min_samples])) # hdbscan can't handle really big values here\n",
    "    print(\"scale: {}  | min_samples: {} \".format(clustering_scale, min_samples_param))\n",
    "    ####################\n",
    "    clusterers[i_year] = hdbscan.HDBSCAN(min_cluster_size=clustering_scale, # 500 for 25K # 1000 for 50K # 50 fro 2000\n",
    "                            min_samples=min_samples_param,   # 500, 1000, 50\n",
    "                            cluster_selection_method='leaf') # eom')  # euclidean distance\n",
    "    clusterers[i_year].fit(year_data[year]['embedding'])  # samples x features\n",
    "\n",
    "    # number of clusters\n",
    "    print('num clusters: {}'.format(clusterers[i_year].labels_.max()+1))\n",
    "    \n",
    "\n"
   ]
  },
  {
   "cell_type": "code",
   "execution_count": 16,
   "metadata": {},
   "outputs": [
    {
     "name": "stdout",
     "output_type": "stream",
     "text": [
      "num clusters: 23\n",
      "[7.431275044852526, 18.37368799929633, 18.44055308159413, 5.435716043438744, 10.274855429154066, 6.238982837979988, 6.102024852273956, 4.494637012223374, 3.4534421491577403, 11.480239983124388, 12.471728989097835, 15.506345451652942, 15.39146579617445, 16.227225170551613, 17.36647529043253, 16.441410572963125, 16.507510163647073, 20.370501774323248, 14.172055091836501, 2.4128024391805027, 1.3889083914991067, 2.2652266848797606, 2.15657704783825]\n",
      "[ 9 20 21  6 10  8  7  5  4 11 12 15 14 16 19 17 18 22 13  3  0  2  1]\n",
      "num clusters: 26\n",
      "[7.425017553256766, 6.534652063380986, 18.444079472312904, 18.376078208153142, 10.293250253290411, 11.21774412801829, 5.427683570145447, 6.242023556230721, 6.1081451424642825, 12.496370194452185, 11.479389539811846, 12.369370692221647, 15.502532101529951, 16.23152282229581, 20.37304826009962, 14.185169167019826, 16.4372098525331, 17.367178264454875, 16.50847522789759, 15.39444039639604, 4.498833151331205, 1.4071892818948992, 2.47653316811709, 3.460133940392293, 2.168096260594811, 2.2720512702586526]\n",
      "[10  9 24 23 11 12  6  8  7 15 13 14 18 19 25 16 20 22 21 17  5  0  3  4\n",
      "  1  2]\n",
      "num clusters: 25\n",
      "[18.44506744731802, 18.377099562571374, 6.5112066958326915, 9.157945829962259, 12.360956618899948, 12.484043624965983, 11.478916456906008, 5.431741317946733, 10.287696540366504, 6.239423752940546, 6.1076772048494155, 14.194862684927877, 4.494137677747974, 15.503839655241523, 16.225481379540305, 20.374974439245193, 15.39102644480933, 16.509763265431346, 16.438899608181856, 17.366984308461582, 1.408836445835955, 1.147664714483371, 2.1731459141821037, 2.2830347774186532, 3.458895971715288]\n",
      "[23 22  9 10 13 14 12  6 11  8  7 15  5 17 18 24 16 20 19 21  1  0  2  3\n",
      "  4]\n",
      "num clusters: 27\n",
      "[18.452709328583765, 18.373925064812877, 6.491616950503474, 4.4940402988590185, 5.648490715383538, 10.28365669709759, 6.244514681705025, 6.351997700622039, 5.428816110974858, 6.116100347202918, 19.25322348887889, 16.442291608745943, 16.500393718540472, 12.358382951620838, 12.504877092761834, 11.47914496967235, 20.3692649352013, 14.186575362570279, 17.364486744182003, 17.225951944007686, 15.512715997813975, 15.395847859716568, 2.279760783448275, 2.168802951681421, 1.1639819457028506, 1.413145342888147, 3.462468575677201]\n",
      "[24 23 11  5  7 12  9 10  6  8 25 19 20 14 15 13 26 16 22 21 18 17  3  2\n",
      "  0  1  4]\n",
      "num clusters: 30\n",
      "[18.456389093773364, 18.375026901510168, 5.653249335194572, 10.276770570587662, 6.542373958536454, 7.421724682204107, 6.130074742783907, 6.244159073543465, 6.346376781419356, 5.43001718379667, 13.358976875536184, 12.475468682821592, 11.485678498692401, 20.373156450522256, 17.364157942938306, 17.22647233637974, 15.509837765428797, 14.192697913052832, 14.308837180604808, 15.362110955621658, 15.407831121588798, 16.440476041080654, 16.50657628142429, 1.1650582737999886, 2.282789415088117, 2.1727545404740605, 4.497628134587699, 1.414129124694842, 2.4740639317705546, 2.4419218179502806]\n",
      "[28 27  8 14 12 13  9 10 11  7 17 16 15 29 26 25 22 18 19 20 21 23 24  0\n",
      "  3  2  6  1  5  4]\n",
      "num clusters: 32\n",
      "[18.37337090941824, 18.486220976266534, 18.43277941051243, 5.65204914241322, 5.651915797530518, 10.284533871711725, 6.538547258039071, 7.393304021734732, 4.587052312154053, 6.122138131425703, 6.245751175448937, 5.423005138254171, 6.3547838664296545, 19.267188110313512, 12.355436630884773, 17.217797757049443, 12.477594164135525, 11.487114514978744, 17.36622747874305, 16.272125797919276, 16.43991681899334, 16.50134005723446, 20.382234243652782, 15.506705429945606, 15.389124478038449, 14.20169225098417, 4.4970450948933, 2.273044673435142, 0.17201116356782187, 2.1716825500111088, 1.4154664176465164, 2.4535025375333324]\n",
      "[27 29 28  9  8 15 13 14  6 10 11  7 12 30 17 25 18 16 26 22 23 24 31 21\n",
      " 20 19  5  3  0  2  1  4]\n",
      "num clusters: 31\n",
      "[18.37305028247722, 18.461355306979783, 5.651161502716031, 10.292591320945185, 5.651671359245734, 6.131989906321937, 6.247555684592711, 6.546052390801816, 7.403172552610102, 5.4879178539781766, 5.4239655656040515, 6.355900071120516, 20.377364973991924, 19.24920841414355, 4.496448034364131, 17.22667585040348, 2.172116169563261, 2.2879922587668977, 17.353924384011307, 14.210796934853661, 14.505990578008449, 15.380253552814409, 3.4568737357472084, 16.507380158218567, 16.440385420885296, 2.4382038054435227, 0.17303981629089518, 1.2890070752450993, 1.409996267072389, 12.442276221249342, 11.480012995454393]\n",
      "[27 28 10 17 11 12 13 15 16  9  8 14 30 29  7 25  3  4 26 20 21 22  6 24\n",
      " 23  5  0  1  2 19 18]\n",
      "num clusters: 35\n",
      "[18.373215938672985, 18.48938691801511, 18.432488019518594, 5.6530319492225605, 10.285079208195572, 5.647994382122488, 6.124628794646347, 7.392638505629039, 6.249508038794438, 6.596491527027768, 6.54154830519788, 13.192936107050489, 14.237071334762268, 5.511225274425966, 5.423176920755195, 6.3505851275227005, 17.35631500851187, 19.252259044071195, 17.224600074076356, 2.2842551561369886, 2.1686119549683722, 20.382290682693725, 4.497229389669791, 3.4418019475433184, 16.443889216356023, 16.511975209439573, 15.507224539910672, 15.409840892938256, 0.17743276412345727, 1.2858680057029535, 1.4161774210569833, 2.45343712952124, 13.362880591657262, 11.489870848325529, 12.483054647095244]\n",
      "[30 32 31 11 18 10 12 17 13 16 15 21 23  9  8 14 29 33 28  4  3 34  7  6\n",
      " 26 27 25 24  0  1  2  5 22 19 20]\n",
      "num clusters: 33\n",
      "[18.37279333883835, 18.490360142826635, 18.432977432953162, 5.653153000873493, 10.28800642657119, 5.643572342261789, 6.126734581876305, 7.402803813920762, 6.2523254986293555, 5.4250729650244125, 6.348393082890357, 5.47910423877019, 5.550632157782632, 6.542272497914488, 6.600586192325844, 14.227599659351448, 17.3649960775352, 4.497266084465705, 17.22335282207199, 19.258335062135444, 14.504899251344096, 15.403049817715978, 16.502753570845258, 13.336226660102241, 2.286402746663868, 20.38511058343034, 11.490907443356518, 1.173088275525174, 13.376645231568352, 12.468046115686862, 1.295336038188621, 1.4149621426671288, 2.443022929804512]\n",
      "[28 30 29 10 17  9 11 16 12  6 13  7  8 14 15 22 27  5 26 31 23 24 25 20\n",
      "  3 32 18  0 21 19  1  2  4]\n",
      "num clusters: 32\n",
      "[18.477965327929102, 18.37272564072123, 5.652739331829136, 10.288366282988497, 5.647301499696788, 6.127283984266159, 7.397201968992422, 5.506524908177643, 6.541790352028118, 6.597963956715424, 4.496127884556779, 6.251977737980723, 6.351030631195329, 5.423349943553359, 17.35632026414336, 20.38485193042926, 3.4283634952580124, 17.220039162815684, 2.1899902383978374, 14.504051015215826, 2.450297439678353, 1.4156841225020242, 1.2937751221708091, 0.18188397008581958, 16.50058755180393, 15.401698400330584, 14.35363504712656, 14.226608920578112, 12.360606483075935, 11.488147279861824, 12.457493370662217, 12.537075324495062]\n",
      "[30 29 10 17  9 11 16  8 14 15  6 12 13  7 28 31  5 27  3 24  4  2  1  0\n",
      " 26 25 23 22 19 18 20 21]\n",
      "num clusters: 33\n",
      "[14.508000537269846, 18.372840271672572, 18.480200942758014, 5.66886757870788, 5.653343168876688, 10.299261270239496, 11.211648107617393, 6.137317503211795, 4.330765103201346, 7.391194723029132, 6.252701075545036, 6.542089175924428, 6.59266150947746, 5.423987396725631, 5.476687405891998, 15.345401657713987, 13.206344509581085, 14.25470889968807, 17.35846518356481, 16.50098420964106, 15.407691450677735, 14.504694234155057, 4.49705952954422, 3.42356884459112, 19.254269019760958, 17.223338385191372, 20.38860624802295, 2.44879083625817, 1.4120268872666695, 0.18364372122051, 1.3029806703252667, 12.442189673335992, 11.49405490351463]\n",
      "[23 29 30 10  9 16 17 11  5 15 12 13 14  7  8 24 20 21 28 26 25 22  6  4\n",
      " 31 27 32  3  2  0  1 19 18]\n",
      "num clusters: 32\n",
      "[18.37086677677341, 18.478924358358924, 9.165898425969317, 4.5006595039903425, 5.653168617772553, 5.675810734447275, 10.283941062691792, 6.127729057605608, 2.431193835297524, 4.331567338073518, 7.394952475118907, 6.2535375557432005, 6.593854267062299, 6.539965654825939, 5.422583904739791, 5.487988045344767, 15.347112990478074, 17.365419846574092, 17.225139956528317, 20.386306744447282, 14.50545143311273, 1.417273633201713, 1.2727977578633007, 15.4007797550664, 14.227909271749493, 14.3612038010245, 16.446722249162526, 16.50749825175911, 11.496679912133413, 13.373536228661925, 11.444856542805788, 12.48246896493051]\n",
      "[29 30 14  4  7  8 15  9  2  3 13 10 12 11  5  6 23 28 27 31 22  1  0 24\n",
      " 20 21 25 26 17 19 16 18]\n",
      "num clusters: 33\n"
     ]
    },
    {
     "name": "stdout",
     "output_type": "stream",
     "text": [
      "[18.3706840739877, 18.493984662791163, 18.431981624372533, 5.65407767457283, 6.1266196513485145, 10.28562855094885, 5.6823656702587915, 7.395791978027465, 4.489143221272016, 4.3270922032470995, 17.364711631809826, 6.253804385978788, 6.555615536104704, 6.360282421777163, 5.422892741589585, 5.553155739709818, 5.486911388002604, 14.505647198770943, 15.382523235044799, 16.4469790004033, 16.508757623392125, 14.23320655942181, 2.4492574174392248, 20.38904299669292, 13.366649977098668, 13.357507314414287, 17.218422145633433, 19.258689690545793, 11.49554929073144, 1.1875538113646642, 1.3808618810338595, 11.436840853898833, 12.441081862820573]\n",
      "[28 30 29  8 10 15  9 14  4  3 27 11 13 12  5  7  6 22 23 24 25 21  2 32\n",
      " 20 19 26 31 17  0  1 16 18]\n",
      "num clusters: 32\n",
      "[18.371524319947937, 18.431133510195334, 18.494237928186323, 5.65371580078311, 5.66635099935704, 10.279387516871255, 4.492384015798836, 6.13566939724812, 20.382581827777436, 4.330094940989494, 7.394935198905229, 6.356125821592397, 6.255650619475961, 5.423723804589027, 6.568859908976774, 5.5527303348786194, 5.508731403756036, 17.3579056239848, 15.342603267343687, 14.502630043994925, 2.4476690920491113, 17.215117485060926, 19.25626447236464, 16.44571967591195, 16.509832192207003, 0.18640663097614424, 1.3816244011802477, 14.237465159920726, 14.394755739030646, 11.493991237366464, 12.486615635648949, 13.367986406321673]\n",
      "[27 28 29  8  9 15  4 10 31  3 14 12 11  5 13  7  6 26 22 21  2 25 30 23\n",
      " 24  0  1 19 20 16 17 18]\n",
      "num clusters: 31\n",
      "[18.370589130668282, 18.478371817871846, 5.653580297222124, 5.665352361921508, 4.498490363248156, 10.281172644182309, 6.126435542144871, 3.4157491461190657, 7.403359161640334, 14.501864579823105, 14.241019818219879, 15.378615575159504, 4.32867682148035, 11.486527399381801, 5.371931396692513, 6.254971790130175, 17.35952339682898, 16.49333095459672, 6.579322279589241, 2.446946016315327, 5.476950343212442, 5.533621285404876, 14.356082415197182, 20.386730310853057, 17.216569728162643, 19.263429981105382, 11.430044200516381, 12.486119969865722, 13.372349922910809, 0.18588756317628, 1.381162255671801]\n",
      "[27 28  9 10  5 15 11  3 14 22 20 23  4 17  6 12 26 24 13  2  7  8 21 30\n",
      " 25 29 16 18 19  0  1]\n",
      "num clusters: 32\n",
      "[18.483972419882374, 18.371668459680343, 20.379760406712162, 5.6540840263738765, 5.636723510779574, 3.417349830481231, 10.27870363802831, 4.502698980308942, 6.132494434070713, 1.2018516717257137, 7.394079292097893, 2.447336063415359, 14.501614420369275, 6.258253738763952, 5.422714332227671, 17.21589703888119, 6.541610480269629, 19.25884255408767, 1.3798856627498408, 17.360597241787687, 6.354860057288355, 6.585247651976482, 5.522549435457184, 15.382041014933904, 16.44402476864926, 16.508837518936662, 14.24018558671007, 13.366930692830778, 11.507623708204312, 13.377091670438618, 12.37516280943148, 12.455867543251054]\n",
      "[29 28 31  8  7  3 15  4  9  0 14  2 22 10  5 26 12 30  1 27 11 13  6 23\n",
      " 24 25 21 19 16 20 17 18]\n",
      "num clusters: 27\n",
      "[18.371001332318833, 18.481647319541416, 4.500632493060604, 6.128130233567281, 5.654125024322578, 10.281498399166598, 7.398352226189419, 2.442122801480403, 14.49968430691877, 6.259989396612006, 5.333877438978548, 5.423119867084577, 6.343214780479584, 17.35714258608021, 16.495388810291708, 5.5071322081785175, 6.57344988029073, 6.567395757495694, 20.382894117717473, 1.4167916146806665, 1.2737480068289457, 19.22846582263912, 14.24803890345394, 14.383110636284295, 11.492549411209893, 12.471953701829225, 13.3785802850667]\n",
      "[23 24  3  8  7 14 13  2 20  9  4  5 10 22 21  6 12 11 26  1  0 25 18 19\n",
      " 15 16 17]\n",
      "num clusters: 24\n",
      "[20.374894305077593, 18.371506377324486, 18.484063296739013, 4.50311223308681, 5.654534433015566, 6.133756676761377, 10.272124813641023, 7.396002466812126, 2.4452188660998027, 4.330570100097088, 17.360557890464513, 14.499954133085522, 5.422749849183004, 6.533050144517052, 6.3521455726469185, 6.262264224654071, 16.502287027601025, 14.388629665659334, 19.22748173579262, 1.3155963556331856, 1.4276211156549083, 14.246370759031414, 11.503585062978377, 12.395404045493219]\n",
      "[23 20 21  4  6  7 12 11  2  3 19 17  5 10  9  8 18 16 22  0  1 15 13 14]\n",
      "num clusters: 26\n",
      "[5.647085736590618, 18.373087447371514, 18.480372384398198, 4.502770960865004, 6.13427360418246, 2.4413181890599445, 10.278700923724028, 7.3952156141870775, 20.383684596187813, 17.35913623262163, 4.326812861234952, 14.499466455345182, 16.447475578207793, 16.507338067680497, 17.2214443315609, 1.35566456358983, 19.261393256322894, 6.260633895928641, 6.345147903521758, 14.384984928457348, 6.569310649365457, 5.508312029979251, 14.24617714975242, 13.373469642779797, 12.439753204129346, 11.498754060328112]\n",
      "[ 5 22 23  3  6  1 11 10 25 21  2 17 18 19 20  0 24  7  8 16  9  4 15 14\n",
      " 13 12]\n",
      "num clusters: 23\n",
      "[10.271793898756162, 18.47634466971664, 18.37188573290819, 4.499101391334438, 5.654068025705667, 6.127532166840486, 2.4427902079060115, 14.501035430748058, 16.500878146945713, 17.364116213981948, 14.385316712097174, 4.326870467823859, 7.398525987473494, 1.3562753843882576, 19.242043961133167, 14.251121676155899, 6.340005030335677, 6.262015611275855, 5.5157188996540585, 6.569306866367937, 11.499550566178046, 12.44296145965311, 13.37859216675679]\n",
      "[11 21 20  3  5  6  1 17 18 19 16  2 10  0 22 15  8  7  4  9 12 13 14]\n",
      "num clusters: 24\n",
      "[13.62951475244658, 18.470990477419235, 4.49739729365771, 19.372225005507723, 20.375921765412468, 5.653303309507914, 2.4382277279623468, 6.137056507968276, 7.398318972926751, 10.271810483305579, 5.330926673211313, 14.497680407399635, 17.360444845186667, 19.23382581522595, 16.500589824389127, 6.283225773470658, 5.5175107254977025, 5.56283908706716, 0.4690809257467811, 1.4367454763182093, 14.25446182589755, 11.494548279225686, 12.544132744219471, 13.378065496056099]\n",
      "[15 20  3 22 23  7  2  8 10 11  4 17 19 21 18  9  5  6  0  1 16 12 13 14]\n"
     ]
    }
   ],
   "source": [
    "# normalize cluster labels\n",
    "\n",
    "for i_year, year in enumerate(range(START_YEAR, END_YEAR+1)):\n",
    "    \n",
    "    xx = year_data[year]['embedding'][:,0]\n",
    "    yy = year_data[year]['embedding'][:,1]\n",
    "    \n",
    "    new_labels = normalize_cluster_labels(xx,\n",
    "                                          yy,\n",
    "                                          clusterers[i_year].labels_)\n",
    "\n",
    "    # overwrite old labels with normalized labels\n",
    "    for i_label, old_label in enumerate(clusterers[i_year].labels_):  # rewrite with new labels\n",
    "        clusterers[i_year].labels_[i_label] = new_labels[i_label]"
   ]
  },
  {
   "cell_type": "code",
   "execution_count": 17,
   "metadata": {},
   "outputs": [],
   "source": [
    "    # TODO\n",
    "    # measure center, radius, # pmids"
   ]
  },
  {
   "cell_type": "code",
   "execution_count": null,
   "metadata": {},
   "outputs": [],
   "source": []
  },
  {
   "cell_type": "code",
   "execution_count": null,
   "metadata": {},
   "outputs": [],
   "source": []
  },
  {
   "cell_type": "code",
   "execution_count": null,
   "metadata": {
    "scrolled": true
   },
   "outputs": [],
   "source": [
    "# plot clusters\n",
    "\n",
    "for i_year, year in enumerate(range(START_YEAR, END_YEAR+1)):\n",
    "    \n",
    "    xx = year_data[year]['embedding'][:,0]\n",
    "    yy = year_data[year]['embedding'][:,1]\n",
    "    \n",
    "    title = '{}{}_{}'.format(figures_dir, save_prefix, year)\n",
    "    plot_clustering(xx,yy,clusterers[i_year].labels_, title)\n",
    "    \n",
    "    "
   ]
  },
  {
   "cell_type": "code",
   "execution_count": null,
   "metadata": {},
   "outputs": [],
   "source": []
  },
  {
   "cell_type": "code",
   "execution_count": null,
   "metadata": {},
   "outputs": [],
   "source": []
  },
  {
   "cell_type": "code",
   "execution_count": null,
   "metadata": {},
   "outputs": [],
   "source": [
    "# save things\n",
    "\n",
    "#target_path = os.path.join(target_prefix, 'clusterers.json')\n",
    "#with open(target_path,'w') as f:\n",
    "#    json.dump(clusterers, f)\n",
    "\n",
    "for i_year, year in enumerate(range(START_YEAR, END_YEAR+1)):\n",
    "    print(i_year, year)\n",
    "    year_data[year]['labels'] = clusterers[i_year].labels_.tolist()\n",
    "    try:\n",
    "        year_data[year]['embedding'] = year_data[year]['embedding'].tolist()\n",
    "    except:\n",
    "        print('embedding is already a list')\n",
    "    try:\n",
    "        year_data[year]['sample_pmids'] = year_data[year]['sample_pmids'].tolist()\n",
    "    except:\n",
    "        print('sample_pmids is already a list')\n",
    "    \n",
    "target_path = processed_data_dir + save_prefix + '_samples.json'\n",
    "with open(target_path,'w') as f:\n",
    "    json.dump(year_data, f)\n",
    "    \n",
    "print('success!')"
   ]
  },
  {
   "cell_type": "code",
   "execution_count": null,
   "metadata": {},
   "outputs": [],
   "source": []
  },
  {
   "cell_type": "code",
   "execution_count": null,
   "metadata": {},
   "outputs": [],
   "source": []
  },
  {
   "cell_type": "code",
   "execution_count": null,
   "metadata": {},
   "outputs": [],
   "source": [
    "# figure todo - dark background on clusters\n",
    "#    average subtraction over multiple samples?"
   ]
  }
 ],
 "metadata": {
  "kernelspec": {
   "display_name": "Python 3",
   "language": "python",
   "name": "python3"
  },
  "language_info": {
   "codemirror_mode": {
    "name": "ipython",
    "version": 3
   },
   "file_extension": ".py",
   "mimetype": "text/x-python",
   "name": "python",
   "nbconvert_exporter": "python",
   "pygments_lexer": "ipython3",
   "version": "3.7.6"
  }
 },
 "nbformat": 4,
 "nbformat_minor": 4
}

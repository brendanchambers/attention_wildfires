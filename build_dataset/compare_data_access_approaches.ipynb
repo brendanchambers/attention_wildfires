{
 "cells": [
  {
   "cell_type": "code",
   "execution_count": null,
   "metadata": {},
   "outputs": [],
   "source": [
    "# After testing, I now understand that pyspark dataframes\n",
    "#  do not support indexing, so access will be faster under some \n",
    "#  circumstances with a python spark connector\n",
    "#\n",
    "#\n",
    "#"
   ]
  },
  {
   "cell_type": "code",
   "execution_count": 2,
   "metadata": {},
   "outputs": [
    {
     "name": "stdout",
     "output_type": "stream",
     "text": [
      "Better speed can be achieved with apex installed from https://www.github.com/nvidia/apex.\n"
     ]
    }
   ],
   "source": [
    "# trying this again after adding index for year\n",
    "\n",
    "# play with some sql selections to make sure things are working\n",
    "\n",
    "from pytorch_pretrained_bert import BertModel, BertTokenizer\n",
    "import torch\n",
    "\n",
    "import time\n",
    "import mysql.connector as mysql\n",
    "\n",
    "from pyspark import SparkConf, SparkContext\n",
    "from pyspark.sql import SQLContext, SparkSession\n",
    "from pyspark.sql.types import Row, StructType, StructField, IntegerType, StringType\n",
    "\n",
    "import os\n",
    "import time\n",
    "import random\n",
    "#import mysql.connector as mysql   # import gc\n",
    "\n",
    "\n",
    "\n",
    "\n",
    "import csv\n",
    "\n",
    "#import igraph\n",
    "\n",
    "import time\n",
    "import numpy as np\n",
    "\n",
    "import matplotlib.pyplot as plt\n",
    "#import cairocffi as cairo\n",
    "\n",
    "import seaborn as sns\n",
    "import umap\n",
    "import statsmodels.api as sm  # for kdemultivariate \n",
    "\n",
    "\n"
   ]
  },
  {
   "cell_type": "code",
   "execution_count": 12,
   "metadata": {},
   "outputs": [],
   "source": [
    "SUBMIT_ARGS = \"--driver-class-path file:///home/brendanchambers/my_resources/mysql-connector-java-8.0.16/mysql-connector-java-8.0.16.jar --jars file:///home/brendanchambers/my_resources/mysql-connector-java-8.0.16/mysql-connector-java-8.0.16.jar pyspark-shell\"\n",
    "os.environ[\"PYSPARK_SUBMIT_ARGS\"] = SUBMIT_ARGS\n",
    "\n",
    "db_name = 'test_pubmed'  # db name collisons? https://stackoverflow.com/questions/14011968/user-cant-access-a-database\n",
    "url = \"jdbc:mysql://localhost:3306/{}?useUnicode=true&useJDBCCompliantTimezoneShift=true&useLegacyDatetimeCode=false&serverTimezone=America/Chicago\".format(db_name)  # mysql runs on port 3306\n",
    "client_config = {'unix_socket':'/home/brendanchambers/.sql.sock',\n",
    "                'database': db_name}  # for python connector"
   ]
  },
  {
   "cell_type": "code",
   "execution_count": 4,
   "metadata": {},
   "outputs": [
    {
     "name": "stdout",
     "output_type": "stream",
     "text": [
      "initializing spark\n",
      "[('spark.repl.local.jars', 'file:///home/brendanchambers/my_resources/mysql-connector-java-8.0.16/mysql-connector-java-8.0.16.jar'), ('spark.app.id', 'local-1565021447940'), ('spark.jars', '/home/brendanchambers/my_resources/mysql-connector-java-8.0.16/mysql-connector-java-8.0.16.jar'), ('spark.executor.id', 'driver'), ('spark.app.name', 'pyspark-shell'), ('spark.rdd.compress', 'True'), ('spark.driver.extraClassPath', 'file:///home/brendanchambers/my_resources/mysql-connector-java-8.0.16/mysql-connector-java-8.0.16.jar'), ('spark.serializer.objectStreamReset', '100'), ('spark.driver.host', 'midway2-0385.rcc.local'), ('spark.master', 'local[*]'), ('spark.driver.memory', '28G'), ('spark.driver.port', '45943'), ('spark.submit.deployMode', 'client'), ('spark.ui.showConsoleProgress', 'true')]\n"
     ]
    }
   ],
   "source": [
    "print('initializing spark')\n",
    "# init spark\n",
    "conf = SparkConf()\n",
    "conf = (conf.setMaster('local[*]')\n",
    "       .set('spark.driver.memory','28G')\n",
    "       .set(\"spark.jars\", \"/home/brendanchambers/my_resources/mysql-connector-java-8.0.16/mysql-connector-java-8.0.16.jar\"))        \n",
    "'''\n",
    ".set('spark.executor.memory','1G')  # 20\n",
    ".set('spark.driver.memory','1G')   # 40\n",
    ".set('spark.driver.maxResultSize','500M')  #.set('spark.storage.memoryFraction',0))  # this setting is now a legacy option\n",
    ".set('spark.python.worker.reuse', 'false')\n",
    ".set('spark.python.worker.memory','512m')\n",
    ".set('spark.executor.cores','1'))\n",
    "'''\n",
    "sc = SparkContext(conf=conf)\n",
    "#sc.addJar('home/brendanchambers/my_resources/mysql-connector-java-8.0.16/mysql-connector-java-8.0.16.jar')  # temp\n",
    "spark = SparkSession(sc)  # don't need this for vanilla RDDs\n",
    "\n",
    "print(sc._conf.getAll())"
   ]
  },
  {
   "cell_type": "code",
   "execution_count": 8,
   "metadata": {},
   "outputs": [
    {
     "name": "stdout",
     "output_type": "stream",
     "text": [
      "(SELECT * FROM metadata) AS t\n",
      "dataframe loaded in 0.04593849182128906 s\n",
      "9\n"
     ]
    }
   ],
   "source": [
    "# test read\n",
    "\n",
    "tablename_ = 'metadata'\n",
    "\n",
    "sql = \"(SELECT * FROM {}) AS t\".format(tablename_)\n",
    "print(sql)\n",
    "\n",
    "start_time = time.time()\n",
    "df_meta = spark.read.format('jdbc').option(\"url\", url)\\\n",
    "                              .option(\"dbtable\", sql)\\\n",
    "                              .load().repartition(9).cache()\n",
    "end_time = time.time()\n",
    "print(\"dataframe loaded in {} s\".format(end_time - start_time))\n",
    "\n",
    "print(df_meta.rdd.getNumPartitions())"
   ]
  },
  {
   "cell_type": "code",
   "execution_count": null,
   "metadata": {},
   "outputs": [],
   "source": []
  },
  {
   "cell_type": "code",
   "execution_count": 20,
   "metadata": {},
   "outputs": [
    {
     "name": "stdout",
     "output_type": "stream",
     "text": [
      "['2008']\n",
      "elapsed: 0.08839583396911621\n",
      "N papers: 750874\n",
      "elapsed: 4.2200822830200195\n",
      "Row(pmid=18504544, year=2008, human='1', animal='0', molcel='0', xcoord='0', ycoord='1', approx_potential_translate='0.5', cited_by_clin='0', title='Autoantibodies to islet antigen-2 are associated with HLA-DRB1*07 and DRB1*09 haplotypes as well as DRB1*04 at onset of type 1 diabetes: the possible role of HLA-DQA in autoimmunity to IA-2.', authors='A J K Williams, R J Aitken, M A-M Chandler, K M Gillespie, V Lampasona, P J Bingley', journal='Diabetologia', article='1', is_clinical='0', estimated='0', relative_citation_ratio='0.715492507534')\n",
      "\n",
      "Row(pmid=19014095, year=2008, human='0', animal='1', molcel='0', xcoord='0.866', ycoord='-0.5', approx_potential_translate='0.05', cited_by_clin='0', title='Bronchogenic adenocarcinoma in a hyacinth macaw (Anodorhynchus hyacinthinus).', authors='Wes A Baumgartner, David Sanchez-Migallon Guzman, Shawn Hollibush, Lorrie Gaschen, E Clay Hodgin, Mark A Mitchell', journal='J. Avian Med. Surg.', article='1', is_clinical='0', estimated='0', relative_citation_ratio='0.510272279931')\n",
      "\n",
      "Row(pmid=18036187, year=2008, human='1', animal='0', molcel='0', xcoord='0', ycoord='1', approx_potential_translate='0.5', cited_by_clin='0', title='Inhibitor incidence with recombinant vs. plasma-derived FVIII in previously untreated patients with severe hemophilia A: homogeneous results from four published observational studies.', authors='T Calvez, Y Laurian, J Goudemand', journal='J. Thromb. Haemost.', article='0', is_clinical='0', estimated='0', relative_citation_ratio='0.712652627351')\n",
      "\n",
      "Row(pmid=18282490, year=2008, human='1', animal='0', molcel='0', xcoord='0', ycoord='1', approx_potential_translate='0.75', cited_by_clin='1', title='AIDS and ophthalmology: the first quarter century.', authors='Gary N Holland', journal='Am. J. Ophthalmol.', article='0', is_clinical='0', estimated='0', relative_citation_ratio='3.54217638409')\n",
      "\n",
      "Row(pmid=18678613, year=2008, human='0', animal='0.5', molcel='0.5', xcoord='0', ycoord='-0.5', approx_potential_translate='0.5', cited_by_clin='1', title='Oxidative stress regulates adipocyte apolipoprotein e and suppresses its expression in obesity.', authors='Doris Joy Espiritu, Theodore Mazzone', journal='Diabetes', article='1', is_clinical='0', estimated='0', relative_citation_ratio='1.30593874781')\n",
      "\n",
      "Row(pmid=17689980, year=2008, human='1', animal='0', molcel='0', xcoord='0', ycoord='1', approx_potential_translate='0.05', cited_by_clin='0', title=\"Formalization of Damasio's theory of emotion, feeling and core consciousness.\", authors='Tibor Bosse, Catholijn M Jonker, Jan Treur', journal='Conscious Cogn', article='0', is_clinical='0', estimated='0', relative_citation_ratio='0.321229736461')\n",
      "\n",
      "Row(pmid=19010131, year=2008, human='1', animal='0', molcel='0', xcoord='0', ycoord='1', approx_potential_translate='0.05', cited_by_clin='1', title='Increased organ donations from people born outside Spain.', authors='M A Frutos, J J Mansilla, P Ruiz, F Guerrero, M Lebrón, R Ortuño, D Daga, M Carballo', journal='Transplant. Proc.', article='1', is_clinical='0', estimated='0', relative_citation_ratio='0.0761607721449')\n",
      "\n",
      "Row(pmid=18819845, year=2008, human='0.2', animal='0', molcel='0.8', xcoord='-0.693', ycoord='-0.2', approx_potential_translate='0.05', cited_by_clin='0', title='Ethylenecarbodiimide-coupled allogeneic antigen presenting cells induce human CD4+ regulatory T cells.', authors='Michael H Albert, Xue-Zhong Yu, Thomas Magg', journal='Clin. Immunol.', article='1', is_clinical='0', estimated='0', relative_citation_ratio='0.043454348561')\n",
      "\n",
      "Row(pmid=18836860, year=2008, human='0.25', animal='0', molcel='0.75', xcoord='-0.65', ycoord='-0.125', approx_potential_translate='0.05', cited_by_clin='0', title='Mesenchymal stromal cells: tissue engineers and immune response modulators.', authors='Lieke C J van den Berk, Carl G Figdor, Ruurd Torensma', journal='Arch. Immunol. Ther. Exp. (Warsz.)', article='0', is_clinical='0', estimated='0', relative_citation_ratio='0.235583850205')\n",
      "\n",
      "Row(pmid=19230256, year=2008, human='1', animal='0', molcel='0', xcoord='0', ycoord='1', approx_potential_translate='0.05', cited_by_clin='0', title='[Ovulation induction in high risk IVF patients: GnRH-agonist, diminished dose of urinary or recombinant chorion gonadotropin].', authors='K Aleksandrov, G Kozovski, E Kovachev, M Angelova, V Markova, I Kozovski', journal='Akush Ginekol (Sofiia)', article='1', is_clinical='1', estimated='0', relative_citation_ratio='0')\n",
      "\n",
      "Row(pmid=19609370, year=2008, human='0', animal='0.5', molcel='0.5', xcoord='0', ycoord='-0.5', approx_potential_translate='0.5', cited_by_clin='0', title='Hidden Markov models for the assessment of chromosomal alterations using high-throughput SNP arrays.', authors='Robert B Scharpf, Giovanni Parmigiani, Jonathan Pevsner, Ingo Ruczinski', journal='Ann Appl Stat', article='1', is_clinical='0', estimated='1', relative_citation_ratio='0.81236993268')\n",
      "\n",
      "Row(pmid=18411637, year=2008, human='1', animal='0', molcel='0', xcoord='0', ycoord='1', approx_potential_translate='0.05', cited_by_clin='0', title='[Children born after intracytoplasmic sperm injection (ICSI): factors of infertility, pregnancy complications, neonatal period and neonatal characteristics].', authors='M Snajderová, T Mardesic, D Zemková, A Sípek, V Gregor, D Krejcírová, D Sobotková, J Kraus, V Lánská', journal='Ceska Gynekol', article='1', is_clinical='0', estimated='0', relative_citation_ratio='0')\n",
      "\n",
      "Row(pmid=19032165, year=2008, human='0.333333333333333', animal='0.333333333333333', molcel='0.333333333333333', xcoord='0', ycoord='0', approx_potential_translate='0.25', cited_by_clin='0', title='In silico identification of putative drug targets from different metabolic pathways of Aeromonas hydrophila.', authors='Vibhuti Sharma, Preeti Gupta, Aparna Dixit', journal='In Silico Biol. (Gedrukt)', article='1', is_clinical='0', estimated='0', relative_citation_ratio='0.730626782329')\n",
      "\n",
      "Row(pmid=18613696, year=2008, human='0', animal='0', molcel='1', xcoord='-0.866', ycoord='-0.5', approx_potential_translate='0.05', cited_by_clin='0', title='Bidirectional switching of near IR emitting boradiazaindacene fluorophores.', authors='Erhan Deniz, G Ceyda Isbasar, O Altan Bozdemir, Leyla T Yildirim, Aleksander Siemiarczuk, Engin U Akkaya', journal='Org. Lett.', article='1', is_clinical='0', estimated='1', relative_citation_ratio='2.27420970594')\n",
      "\n",
      "Row(pmid=18439817, year=2008, human='1', animal='0', molcel='0', xcoord='0', ycoord='1', approx_potential_translate='0.5', cited_by_clin='1', title='Challenges in cancer pain management--bone pain.', authors='L Colvin, M Fallon', journal='Eur. J. Cancer', article='1', is_clinical='0', estimated='0', relative_citation_ratio='2.27882731353')\n",
      "\n",
      "Row(pmid=18618892, year=2008, human='0', animal='0', molcel='1', xcoord='-0.866', ycoord='-0.5', approx_potential_translate='0.05', cited_by_clin='0', title='Synthesis, characterization, and application of cationic water-soluble oligofluorenes in DNA-hybridization detection.', authors='Bin Liu, Shudipto Konika Dishari', journal='Chemistry', article='1', is_clinical='0', estimated='0', relative_citation_ratio='0.132073096001')\n",
      "\n",
      "Row(pmid=18936064, year=2008, human='1', animal='0', molcel='0', xcoord='0', ycoord='1', approx_potential_translate='0.75', cited_by_clin='1', title='Prophylactic administration of parenteral steroids for preventing airway complications after extubation in adults: meta-analysis of randomised placebo controlled trials.', authors='Tao Fan, Gang Wang, Bing Mao, Zeyu Xiong, Yu Zhang, Xuemei Liu, Lei Wang, Sai Yang', journal='BMJ', article='0', is_clinical='0', estimated='0', relative_citation_ratio='0.922393879445')\n",
      "\n",
      "elapsed: 8.590932369232178\n"
     ]
    }
   ],
   "source": [
    "# for a single year\n",
    "\n",
    "START_YEAR = 2008  # inclusive\n",
    "END_YEAR = 2009  # exclusive\n",
    "year_set = []\n",
    "for year in range(START_YEAR, END_YEAR):\n",
    "    year_set.append(str(year))\n",
    "print(year_set)\n",
    "\n",
    "start_time = time.time()\n",
    "\n",
    "papers_for_year = df_meta.filter(df_meta.year.isin(year_set)).cache()\n",
    "\n",
    "end_time = time.time()\n",
    "print(\"elapsed: {}\".format(end_time - start_time))\n",
    "\n",
    "\n",
    "start_time = time.time()\n",
    "N_papers = papers_for_year.count()\n",
    "print(\"N papers: {}\".format(N_papers))\n",
    "end_time = time.time()\n",
    "print(\"elapsed: {}\".format(end_time - start_time))\n",
    "\n",
    "start_time = time.time()\n",
    "output = papers_for_year.collect()\n",
    "for idx, row in enumerate(output):\n",
    "    print(row)\n",
    "    print()\n",
    "    if idx > 15:\n",
    "        break\n",
    "end_time = time.time()\n",
    "print(\"elapsed: {}\".format(end_time - start_time))"
   ]
  },
  {
   "cell_type": "code",
   "execution_count": 21,
   "metadata": {},
   "outputs": [
    {
     "name": "stdout",
     "output_type": "stream",
     "text": [
      "elapsed time: 0.3947865962982178\n",
      "(17286970, 'Anchors aweigh: a demonstration of cross-modality anchoring and magnitude priming.', 2008)\n",
      "\n",
      "(17287065, 'Customized birthweight standards for a Spanish population.', 2008)\n",
      "\n",
      "(17287068, 'Assessment of spatial-temporal patterns of surface and ground water qualities and factors influencing management strategy of groundwater system in an urban river corridor of Nepal.', 2008)\n",
      "\n",
      "(17287069, 'Environmental regulatory failure and metal contamination at the Giap Lai pyrite mine, Northern Vietnam.', 2008)\n",
      "\n",
      "(17287070, 'Environmental restoration of invaded ecosystems: how much versus how often?', 2008)\n",
      "\n",
      "(17287071, 'Removal of o-nitrophenol from water by electrochemical degradation using a lead oxide/titanium modified electrode.', 2008)\n",
      "\n",
      "(17287133, 'Fatigue-induced changes in muscle fiber action potentials estimated by wavelet analysis.', 2008)\n",
      "\n",
      "(17287140, 'Task-specific focal hand dystonia with usage of a spoon.', 2008)\n",
      "\n",
      "(17287884, 'Nano-structured support materials, their characterisation and serum protein profiling through MALDI/TOF-MS.', 2008)\n",
      "\n",
      "(17287888, 'Therapeutic potentials of combined use of DMSA with calcium and ascorbic acid in the treatment of mild to moderately lead intoxicated mice.', 2008)\n",
      "\n",
      "(17288004, 'Learning to reason: a journey of professional socialisation.', 2008)\n",
      "\n",
      "(17288645, 'Mitochondrial DNA-dependent effects of valproate on mitochondrial calcium levels in transmitochondrial cybrids.', 2008)\n",
      "\n",
      "(17289054, 'Relation of self-reported sleep duration with carotid intima-media thickness in a general population sample.', 2008)\n",
      "\n",
      "(17289143, 'Cytotoxicity of alkylphenols and alkylated non-phenolics in a primary culture of rainbow trout (Onchorhynchus mykiss) hepatocytes.', 2008)\n",
      "\n",
      "(17289251, 'Successive pregnancies in a woman with diabetes insipidus and premature ovarian failure.', 2008)\n",
      "\n",
      "(17289255, 'Sustainable construction--the role of environmental assessment tools.', 2008)\n",
      "\n",
      "(17289379, 'Phosphorus forms and extractability in dairy manure: a case study for Wisconsin on-farm anaerobic digesters.', 2008)\n",
      "\n",
      "elapsed time: 68.27227902412415\n"
     ]
    },
    {
     "data": {
      "text/plain": [
       "True"
      ]
     },
     "execution_count": 21,
     "metadata": {},
     "output_type": "execute_result"
    }
   ],
   "source": [
    "# try the same query with python mysql connector\n",
    "\n",
    "# RESULTS this is slower than the pyspark dataframe method\n",
    "#   suggesting that the indexed columns are being used smartly by pyspark\n",
    "#   while also utilizing parallelization\n",
    "\n",
    "\n",
    "year_ = 2008\n",
    "sql = 'SELECT pmid, title, year FROM metadata WHERE year = {};'.format(year_)\n",
    "\n",
    "db = mysql.connect(**client_config)\n",
    "cursor = db.cursor()\n",
    "start_time = time.time()\n",
    "cursor.execute(sql)\n",
    "print('elapsed time: {}'.format(time.time() - start_time))\n",
    "\n",
    "start_time = time.time()\n",
    "output = cursor.fetchall()\n",
    "for idx,row in enumerate(output):\n",
    "    print(row)\n",
    "    print()\n",
    "    if idx > 15:\n",
    "        break\n",
    "print('elapsed time: {}'.format(time.time() - start_time))\n",
    "\n",
    "\n",
    "cursor.close()"
   ]
  },
  {
   "cell_type": "code",
   "execution_count": null,
   "metadata": {},
   "outputs": [],
   "source": []
  },
  {
   "cell_type": "code",
   "execution_count": null,
   "metadata": {},
   "outputs": [],
   "source": []
  },
  {
   "cell_type": "code",
   "execution_count": null,
   "metadata": {},
   "outputs": [],
   "source": []
  }
 ],
 "metadata": {
  "kernelspec": {
   "display_name": "Python 3",
   "language": "python",
   "name": "python3"
  },
  "language_info": {
   "codemirror_mode": {
    "name": "ipython",
    "version": 3
   },
   "file_extension": ".py",
   "mimetype": "text/x-python",
   "name": "python",
   "nbconvert_exporter": "python",
   "pygments_lexer": "ipython3",
   "version": "3.6.8"
  }
 },
 "nbformat": 4,
 "nbformat_minor": 2
}

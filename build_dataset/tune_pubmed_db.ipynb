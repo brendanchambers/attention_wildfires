{
 "cells": [
  {
   "cell_type": "code",
   "execution_count": 1,
   "metadata": {},
   "outputs": [],
   "source": [
    "# try making a database for the citations\n",
    "\n",
    "\n",
    "# index by year\n",
    "\n",
    "\n",
    "# compare lookup speeds compared to original"
   ]
  },
  {
   "cell_type": "code",
   "execution_count": 1,
   "metadata": {},
   "outputs": [],
   "source": [
    "\n",
    "# play with some sql selections to make sure things are working\n",
    "\n",
    "import torch\n",
    "\n",
    "import time\n",
    "import mysql.connector as mysql\n",
    "\n",
    "from pyspark import SparkConf, SparkContext\n",
    "from pyspark.sql import SQLContext, SparkSession\n",
    "from pyspark.sql.types import Row, StructType, StructField, IntegerType, StringType\n",
    "\n",
    "import os\n",
    "import time\n",
    "import random\n"
   ]
  },
  {
   "cell_type": "code",
   "execution_count": 2,
   "metadata": {},
   "outputs": [],
   "source": [
    "SUBMIT_ARGS = \"--driver-class-path file:///home/brendanchambers/my_resources/mysql-connector-java-8.0.16/mysql-connector-java-8.0.16.jar --jars file:///home/brendanchambers/my_resources/mysql-connector-java-8.0.16/mysql-connector-java-8.0.16.jar pyspark-shell\"\n",
    "os.environ[\"PYSPARK_SUBMIT_ARGS\"] = SUBMIT_ARGS  # for java connector\n",
    "\n",
    "db_name = 'test_pubmed'  # db name collisons? https://stackoverflow.com/questions/14011968/user-cant-access-a-database\n",
    "table_name = 'citations' # 'abstracts'\n",
    "\n",
    "url = \"jdbc:mysql://localhost:3306/{}?useUnicode=true&useJDBCCompliantTimezoneShift=true&useLegacyDatetimeCode=false&serverTimezone=America/Chicago\".format(db_name)  # mysql runs on port 3306\n",
    "\n",
    "\n",
    "data_dir = '/project2/jevans/brendan/open_citation/'  # this is 2019\n",
    "open_cite_path = data_dir + 'open_citation_collection_2019-04.csv'\n",
    "metadata_path = data_dir + 'icite_metadata_2019-04.csv'\n",
    "\n",
    "\n",
    "client_config = {'unix_socket':'/home/brendanchambers/.sql.sock',\n",
    "                'database': db_name}  # for python connector\n",
    "\n"
   ]
  },
  {
   "cell_type": "code",
   "execution_count": 3,
   "metadata": {},
   "outputs": [
    {
     "name": "stdout",
     "output_type": "stream",
     "text": [
      "initializing spark\n",
      "[('spark.driver.memory', '24G'), ('spark.repl.local.jars', 'file:///home/brendanchambers/my_resources/mysql-connector-java-8.0.16/mysql-connector-java-8.0.16.jar'), ('spark.jars', '/home/brendanchambers/my_resources/mysql-connector-java-8.0.16/mysql-connector-java-8.0.16.jar'), ('spark.executor.id', 'driver'), ('spark.app.name', 'pyspark-shell'), ('spark.driver.port', '39408'), ('spark.rdd.compress', 'True'), ('spark.driver.extraClassPath', 'file:///home/brendanchambers/my_resources/mysql-connector-java-8.0.16/mysql-connector-java-8.0.16.jar'), ('spark.serializer.objectStreamReset', '100'), ('spark.driver.host', 'midway2-0385.rcc.local'), ('spark.master', 'local[*]'), ('spark.app.id', 'local-1565020824064'), ('spark.submit.deployMode', 'client'), ('spark.ui.showConsoleProgress', 'true')]\n"
     ]
    }
   ],
   "source": [
    "print('initializing spark')\n",
    "# init spark\n",
    "conf = SparkConf()\n",
    "conf = (conf.setMaster('local[*]')\n",
    "       .set('spark.driver.memory','24G')\n",
    "       .set(\"spark.jars\", \"/home/brendanchambers/my_resources/mysql-connector-java-8.0.16/mysql-connector-java-8.0.16.jar\"))        \n",
    "'''\n",
    ".set('spark.executor.memory','1G')  # 20\n",
    ".set('spark.driver.memory','1G')   # 40\n",
    ".set('spark.driver.maxResultSize','500M')  #.set('spark.storage.memoryFraction',0))  # this setting is now a legacy option\n",
    ".set('spark.python.worker.reuse', 'false')\n",
    ".set('spark.python.worker.memory','512m')\n",
    ".set('spark.executor.cores','1'))\n",
    "'''\n",
    "sc = SparkContext(conf=conf)\n",
    "#sc.addJar('home/brendanchambers/my_resources/mysql-connector-java-8.0.16/mysql-connector-java-8.0.16.jar')  # temp\n",
    "spark = SparkSession(sc)  # don't need this for vanilla RDDs\n",
    "\n",
    "print(sc._conf.getAll())"
   ]
  },
  {
   "cell_type": "code",
   "execution_count": 9,
   "metadata": {},
   "outputs": [
    {
     "name": "stdout",
     "output_type": "stream",
     "text": [
      "root\n",
      " |-- citing: integer (nullable = true)\n",
      " |-- referenced: integer (nullable = true)\n",
      "\n"
     ]
    }
   ],
   "source": [
    "# load in open citation dataset (citations)\n",
    "\n",
    "edgelist_schema = StructType(\n",
    "                        [StructField('citing', IntegerType(), True),\n",
    "                        StructField('referenced', IntegerType(), True)])\n",
    "\n",
    "\n",
    "edgelist = spark.read.csv(open_cite_path, \n",
    "                          header=True,\n",
    "                          schema=edgelist_schema)\n",
    "\n",
    "edgelist.printSchema()"
   ]
  },
  {
   "cell_type": "code",
   "execution_count": 8,
   "metadata": {},
   "outputs": [
    {
     "name": "stdout",
     "output_type": "stream",
     "text": [
      "root\n",
      " |-- pmid: integer (nullable = true)\n",
      " |-- year: integer (nullable = true)\n",
      " |-- human: string (nullable = true)\n",
      " |-- animal: string (nullable = true)\n",
      " |-- molcel: string (nullable = true)\n",
      " |-- xcoord: string (nullable = true)\n",
      " |-- ycoord: string (nullable = true)\n",
      " |-- approx_potential_translate: string (nullable = true)\n",
      " |-- cited_by_clin: string (nullable = true)\n",
      " |-- title: string (nullable = true)\n",
      " |-- authors: string (nullable = true)\n",
      " |-- journal: string (nullable = true)\n",
      " |-- article: string (nullable = true)\n",
      " |-- is_clinical: string (nullable = true)\n",
      " |-- estimated: string (nullable = true)\n",
      " |-- relative_citation_ratio: string (nullable = true)\n",
      "\n"
     ]
    }
   ],
   "source": [
    "# load in open citation dataset (metadata)\n",
    "\n",
    "metadata_schema = StructType([StructField('pmid', IntegerType(), True),\n",
    "                              StructField('year', IntegerType(), True),\n",
    "                              StructField('human', StringType(), True),\n",
    "                              StructField('animal', StringType(), True),\n",
    "                              StructField('molcel', StringType(), True),\n",
    "                              StructField('xcoord', StringType(), True),\n",
    "                              StructField('ycoord', StringType(), True),\n",
    "                              StructField('approx_potential_translate',StringType(), True),\n",
    "                              StructField('cited_by_clin', StringType(), True),\n",
    "                              StructField('title', StringType(), True),\n",
    "                              StructField('authors', StringType(), True),\n",
    "                              StructField('journal', StringType(), True),\n",
    "                              StructField('article', StringType(), True),\n",
    "                              StructField('is_clinical',StringType(), True),\n",
    "                              StructField('estimated',StringType(), True),\n",
    "                              StructField('relative_citation_ratio', StringType(), True)\n",
    "])\n",
    "metadata = spark.read.csv(metadata_path,\n",
    "                          header = True,\n",
    "                          schema = metadata_schema)\n",
    "\n",
    "\n",
    "\n",
    "# see schema\n",
    "metadata.printSchema()\n",
    "\n",
    "#print(edgelist.count())\n"
   ]
  },
  {
   "cell_type": "code",
   "execution_count": 10,
   "metadata": {},
   "outputs": [
    {
     "name": "stdout",
     "output_type": "stream",
     "text": [
      "elapsed time: \n"
     ]
    }
   ],
   "source": [
    "# create citations table\n",
    "#  note - no need to run this again, took like 2.5 hrs\n",
    "start_time = time.time()\n",
    "\n",
    "citations_rdd = edgelist.write.format('jdbc').options(\n",
    "                                    numPartitions=10,\n",
    "                                    rewriteBatchedStatements=False,\n",
    "                                    url=url,\n",
    "                                    dbtable='citations').mode('overwrite').save()\n",
    "end_time = time.time()\n",
    "print(\"elapsed time: \".format(end_time - start_time))\n"
   ]
  },
  {
   "cell_type": "code",
   "execution_count": 9,
   "metadata": {},
   "outputs": [
    {
     "name": "stdout",
     "output_type": "stream",
     "text": [
      "elapsed time: \n"
     ]
    }
   ],
   "source": [
    "# create metadata table\n",
    "start_time = time.time()\n",
    "metadata.write.format('jdbc').options(\n",
    "                                    numPartitions=4,\n",
    "                                    rewriteBatchedStatements=False,\n",
    "                                    url=url,\n",
    "                                    dbtable='metadata').mode('overwrite').save()\n",
    "end_time = time.time()\n",
    "print(\"elapsed time: \".format(end_time - start_time))"
   ]
  },
  {
   "cell_type": "code",
   "execution_count": 5,
   "metadata": {},
   "outputs": [
    {
     "name": "stdout",
     "output_type": "stream",
     "text": [
      "('pmid', 'int(11)', 'YES', '', None, '')\n",
      "('year', 'int(11)', 'YES', '', None, '')\n",
      "('human', 'text', 'YES', '', None, '')\n",
      "('animal', 'text', 'YES', '', None, '')\n",
      "('molcel', 'text', 'YES', '', None, '')\n",
      "('xcoord', 'text', 'YES', '', None, '')\n",
      "('ycoord', 'text', 'YES', '', None, '')\n",
      "('approx_potential_translate', 'text', 'YES', '', None, '')\n",
      "('cited_by_clin', 'text', 'YES', '', None, '')\n",
      "('title', 'text', 'YES', '', None, '')\n",
      "('authors', 'text', 'YES', '', None, '')\n",
      "('journal', 'text', 'YES', '', None, '')\n",
      "('article', 'text', 'YES', '', None, '')\n",
      "('is_clinical', 'text', 'YES', '', None, '')\n",
      "('estimated', 'text', 'YES', '', None, '')\n",
      "('relative_citation_ratio', 'text', 'YES', '', None, '')\n",
      "[(29590934,)]\n",
      "elapsed: 53.58090591430664\n"
     ]
    }
   ],
   "source": [
    "\n",
    "\n",
    "db = mysql.connect(**client_config)\n",
    "cursor = db.cursor()\n",
    "cursor.close()\n",
    "\n",
    "sql = \"USE test_pubmed;\"\n",
    "cursor = db.cursor()\n",
    "cursor.execute(sql)  # , multi=True)\n",
    "cursor.close()\n",
    "\n",
    "sql = \"DESCRIBE citations;\"\n",
    "cursor = db.cursor()\n",
    "cursor.execute(sql) # , multi=True)\n",
    "output = cursor.fetchall()\n",
    "for row in output:\n",
    "    print(row)\n",
    "cursor.close()\n",
    "\n",
    "start_time = time.time()\n",
    "sql = \"SELECT COUNT(*) FROM citations\"\n",
    "cursor = db.cursor()\n",
    "cursor.execute(sql)\n",
    "output = cursor.fetchall()\n",
    "print(output)\n",
    "end_time = time.time()\n",
    "print(\"elapsed: {}\".format(end_time - start_time))\n",
    "cursor.close()\n",
    "\n",
    "db.close()"
   ]
  },
  {
   "cell_type": "code",
   "execution_count": 18,
   "metadata": {},
   "outputs": [
    {
     "name": "stdout",
     "output_type": "stream",
     "text": [
      "elapsed time: 0.0006487369537353516\n",
      "(10037852, 10031166)\n",
      "(10037852, 10033149)\n",
      "(10037852, 10033898)\n",
      "(10037852, 9935586)\n",
      "(10037852, 9897399)\n",
      "(10037852, 9897220)\n",
      "(10037852, 9898169)\n",
      "(10037852, 10033221)\n",
      "elapsed time: 0.12197589874267578\n",
      "(10039315, 10037852)\n",
      "(10039316, 10037852)\n",
      "(10045892, 10037852)\n",
      "(9901154, 10037852)\n",
      "(9902627, 10037852)\n",
      "(9906101, 10037852)\n",
      "(9907020, 10037852)\n",
      "(9909798, 10037852)\n",
      "(9965160, 10037852)\n"
     ]
    }
   ],
   "source": [
    "# get baseline timing\n",
    "\n",
    "\n",
    "#   verify number of rows\n",
    "\n",
    "#   what is the primary key?   is there one?   check the schema\n",
    "#    currently the columns are BLOBs instead of unsigned int\n",
    "#    todo check the range of the pmids\n",
    "\n",
    "\n",
    "single_pmid = '10037852'  # are these text or ints\n",
    "\n",
    "#  try to select citing pmid   rows\n",
    "sql = \"SELECT * FROM citations WHERE citing = {}\".format(single_pmid)\n",
    "db = mysql.connect(**client_config)\n",
    "cursor = db.cursor()\n",
    "\n",
    "start_time = time.time()\n",
    "cursor.execute(sql)\n",
    "output = cursor.fetchall()\n",
    "print('elapsed time: {}'.format(time.time() - start_time))\n",
    "for row in output:\n",
    "    print(row)\n",
    "cursor.close()\n",
    "\n",
    "# try to select referenced pmid  rows\n",
    "sql = \"SELECT * FROM citations WHERE referenced = {}\".format(single_pmid)\n",
    "cursor = db.cursor()\n",
    "\n",
    "start_time = time.time()\n",
    "cursor.execute(sql)\n",
    "output = cursor.fetchall()\n",
    "print('elapsed time: {}'.format(time.time() - start_time))\n",
    "for row in output:\n",
    "    print(row)\n",
    "cursor.close()\n",
    "\n",
    "db.close()"
   ]
  },
  {
   "cell_type": "code",
   "execution_count": 11,
   "metadata": {},
   "outputs": [
    {
     "name": "stdout",
     "output_type": "stream",
     "text": [
      "elapsed time: 1370.728592157364\n"
     ]
    }
   ],
   "source": [
    "# add index  (todo should add all indices at the same time)\n",
    "#   https://dba.stackexchange.com/questions/141192/mysql-create-index-slowing-down\n",
    "sql = 'CREATE INDEX citing_index ON citations(citing);'  # 20 min\n",
    "cursor = db.cursor()\n",
    "start_time = time.time()\n",
    "cursor.execute(sql)\n",
    "end_time = time.time()\n",
    "print('elapsed time: {}'.format(end_time - start_time))\n",
    "cursor.close()\n",
    "\n",
    "db.close()"
   ]
  },
  {
   "cell_type": "code",
   "execution_count": null,
   "metadata": {},
   "outputs": [],
   "source": []
  },
  {
   "cell_type": "code",
   "execution_count": 12,
   "metadata": {},
   "outputs": [
    {
     "name": "stdout",
     "output_type": "stream",
     "text": [
      "elapsed time: 1465.5104358196259\n"
     ]
    }
   ],
   "source": [
    "# index the referenced pmids\n",
    "sql = 'CREATE INDEX referenced_index ON citations(referenced);'\n",
    "db = mysql.connect(**client_config)\n",
    "cursor = db.cursor()\n",
    "start_time = time.time()\n",
    "cursor.execute(sql)\n",
    "end_time = time.time()\n",
    "print('elapsed time: {}'.format(end_time - start_time))\n",
    "cursor.close()\n",
    "\n",
    "db.close()\n"
   ]
  },
  {
   "cell_type": "code",
   "execution_count": null,
   "metadata": {},
   "outputs": [],
   "source": []
  },
  {
   "cell_type": "code",
   "execution_count": 14,
   "metadata": {},
   "outputs": [
    {
     "name": "stdout",
     "output_type": "stream",
     "text": [
      "('citing', 'int(11)', 'YES', 'MUL', None, '')\n",
      "('referenced', 'int(11)', 'YES', 'MUL', None, '')\n"
     ]
    }
   ],
   "source": [
    "# describe again after adding index\n",
    "\n",
    "db = mysql.connect(**client_config)\n",
    "cursor = db.cursor()\n",
    "\n",
    "sql = \"DESCRIBE citations;\"\n",
    "cursor.execute(sql)\n",
    "output = cursor.fetchall()\n",
    "for row in output:\n",
    "    print(row)\n",
    "cursor.close()\n",
    "\n",
    "db.close()"
   ]
  },
  {
   "cell_type": "code",
   "execution_count": null,
   "metadata": {},
   "outputs": [],
   "source": []
  },
  {
   "cell_type": "code",
   "execution_count": null,
   "metadata": {},
   "outputs": [],
   "source": [
    "# index metadata and abstracts by year"
   ]
  },
  {
   "cell_type": "code",
   "execution_count": null,
   "metadata": {},
   "outputs": [],
   "source": []
  },
  {
   "cell_type": "code",
   "execution_count": null,
   "metadata": {},
   "outputs": [],
   "source": []
  },
  {
   "cell_type": "code",
   "execution_count": 7,
   "metadata": {},
   "outputs": [
    {
     "name": "stdout",
     "output_type": "stream",
     "text": [
      "elapsed time: 110.54393315315247\n"
     ]
    }
   ],
   "source": [
    "# add index for year column  in metadata\n",
    "sql = 'CREATE INDEX citing_index ON metadata(year);'  # 20 min\n",
    "db = mysql.connect(**client_config)\n",
    "cursor = db.cursor()\n",
    "start_time = time.time()\n",
    "cursor.execute(sql)\n",
    "print('elapsed time: {}'.format(time.time() - start_time))"
   ]
  },
  {
   "cell_type": "code",
   "execution_count": null,
   "metadata": {},
   "outputs": [],
   "source": []
  },
  {
   "cell_type": "code",
   "execution_count": 19,
   "metadata": {},
   "outputs": [],
   "source": [
    "sc.stop()"
   ]
  },
  {
   "cell_type": "code",
   "execution_count": null,
   "metadata": {},
   "outputs": [],
   "source": []
  }
 ],
 "metadata": {
  "kernelspec": {
   "display_name": "Python 3",
   "language": "python",
   "name": "python3"
  },
  "language_info": {
   "codemirror_mode": {
    "name": "ipython",
    "version": 3
   },
   "file_extension": ".py",
   "mimetype": "text/x-python",
   "name": "python",
   "nbconvert_exporter": "python",
   "pygments_lexer": "ipython3",
   "version": "3.7.3"
  }
 },
 "nbformat": 4,
 "nbformat_minor": 2
}
